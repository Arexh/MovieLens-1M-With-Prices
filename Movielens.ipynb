{
 "cells": [
  {
   "cell_type": "code",
   "execution_count": 1,
   "metadata": {},
   "outputs": [],
   "source": [
    "import tqdm\n",
    "import urllib\n",
    "import os.path\n",
    "import sqlite3\n",
    "import pandas as pd\n",
    "import re\n",
    "import numpy as np\n",
    "import requests\n",
    "import requests_random_user_agent\n",
    "import threading\n",
    "from w3lib.url import safe_url_string\n",
    "from urllib.parse import urlparse, urlunparse\n",
    "from bs4 import BeautifulSoup as bf\n",
    "\n",
    "\n",
    "AMAZON_URL = \"https://www.amazon.com/s?k={}&i=movies-tv\"\n",
    "AMAZON_URL_HEAD = \"https://www.amazon.com\"\n",
    "IMDB_URL =  \"https://www.imdb.com/title/tt{}/?ref_=fn_al_tt_1\"\n",
    "\n",
    "MOVIELENS_PATH = './'\n",
    "OUTPUT_CSV = \"./prices.csv\"\n",
    "DATABASE_PATH = \"./database.db\"\n",
    "REQUEST_TIMEOUT = 5.0"
   ]
  },
  {
   "cell_type": "markdown",
   "metadata": {},
   "source": [
    "### Load movies.csv and links.csv"
   ]
  },
  {
   "cell_type": "code",
   "execution_count": 2,
   "metadata": {},
   "outputs": [
    {
     "name": "stdout",
     "output_type": "stream",
     "text": [
      "  movieId                               title                        genres\n",
      "0       1                    Toy Story (1995)   Animation|Children's|Comedy\n",
      "1       2                      Jumanji (1995)  Adventure|Children's|Fantasy\n",
      "2       3             Grumpier Old Men (1995)                Comedy|Romance\n",
      "3       4            Waiting to Exhale (1995)                  Comedy|Drama\n",
      "4       5  Father of the Bride Part II (1995)                        Comedy\n"
     ]
    }
   ],
   "source": [
    "header = ['movieId', 'title', 'genres']\n",
    "movies_df = pd.read_csv(MOVIELENS_PATH + 'movies.dat', sep='::', dtype=str, engine='python', names=header)\n",
    "print(movies_df.head())"
   ]
  },
  {
   "cell_type": "code",
   "execution_count": 17,
   "metadata": {},
   "outputs": [
    {
     "data": {
      "text/plain": [
       "3883"
      ]
     },
     "execution_count": 17,
     "metadata": {},
     "output_type": "execute_result"
    }
   ],
   "source": [
    "movies_df.shape[0]"
   ]
  },
  {
   "cell_type": "markdown",
   "metadata": {},
   "source": [
    "### Create Database and Table\n",
    "\n",
    "Table structure: movieId (int)，imdbId (varchar30), title (varchar50), pageUrl (varchar300), price (double)"
   ]
  },
  {
   "cell_type": "code",
   "execution_count": 3,
   "metadata": {},
   "outputs": [],
   "source": [
    "database = sqlite3.connect(DATABASE_PATH, check_same_thread=False)\n",
    "cursor = database.cursor()\n",
    "cursor.execute('create table if not exists prices (movieId integer primary key, title varchar(50) NOT NULL, pageUrl varchar(300), price double)')\n",
    "database.commit()"
   ]
  },
  {
   "cell_type": "markdown",
   "metadata": {},
   "source": [
    "### Query exist tables"
   ]
  },
  {
   "cell_type": "code",
   "execution_count": 10,
   "metadata": {},
   "outputs": [
    {
     "name": "stdout",
     "output_type": "stream",
     "text": [
      "Current table:  [('prices',)]\n"
     ]
    }
   ],
   "source": [
    "cursor.execute(\"SELECT name FROM sqlite_master WHERE type='table';\")\n",
    "print(\"Current table: \", cursor.fetchall())"
   ]
  },
  {
   "cell_type": "markdown",
   "metadata": {},
   "source": [
    "### Query table structure"
   ]
  },
  {
   "cell_type": "code",
   "execution_count": 11,
   "metadata": {},
   "outputs": [
    {
     "name": "stdout",
     "output_type": "stream",
     "text": [
      "Table prices:  [(0, 'movieId', 'integer', 0, None, 1), (1, 'title', 'varchar(50)', 1, None, 0), (2, 'pageUrl', 'varchar(300)', 0, None, 0), (3, 'price', 'double', 0, None, 0)]\n"
     ]
    }
   ],
   "source": [
    "cursor.execute(\"PRAGMA table_info(prices)\")\n",
    "print(\"Table prices: \", cursor.fetchall())"
   ]
  },
  {
   "cell_type": "markdown",
   "metadata": {},
   "source": [
    "### Insert movie data if not exist"
   ]
  },
  {
   "cell_type": "code",
   "execution_count": 15,
   "metadata": {},
   "outputs": [
    {
     "name": "stderr",
     "output_type": "stream",
     "text": [
      "Processing row 3882: 100%|██████████| 3883/3883 [00:06<00:00, 598.67it/s]\n"
     ]
    }
   ],
   "source": [
    "row_num = movies_df.shape[0]\n",
    "pbar = tqdm.trange(row_num, position=0, leave=True)\n",
    "for i in pbar:\n",
    "    pbar.set_description(\"Processing row %d\" % i)\n",
    "    row_item = movies_df.iloc[i]\n",
    "    cursor.execute(\"SELECT * FROM prices WHERE movieId = ?;\", (int(row_item['movieId']),))\n",
    "    if len(cursor.fetchall()) == 0:\n",
    "        cursor.execute(\"INSERT INTO prices (movieId, title, pageUrl, price) VALUES (?, ?, NULL, NULL)\",\n",
    "                       (int(row_item['movieId']), row_item['title']))\n",
    "        database.commit()"
   ]
  },
  {
   "cell_type": "markdown",
   "metadata": {},
   "source": [
    "### Display first 5 data from database"
   ]
  },
  {
   "cell_type": "code",
   "execution_count": 18,
   "metadata": {},
   "outputs": [
    {
     "name": "stdout",
     "output_type": "stream",
     "text": [
      "[(1, 'Toy Story (1995)', None, None), (2, 'Jumanji (1995)', None, None), (3, 'Grumpier Old Men (1995)', None, None), (4, 'Waiting to Exhale (1995)', None, None), (5, 'Father of the Bride Part II (1995)', None, None), (6, 'Heat (1995)', None, None), (7, 'Sabrina (1995)', None, None), (8, 'Tom and Huck (1995)', None, None), (9, 'Sudden Death (1995)', None, None), (10, 'GoldenEye (1995)', None, None)]\n"
     ]
    }
   ],
   "source": [
    "cursor.execute(\"SELECT * FROM prices LIMIT 0, 10;\")\n",
    "print(cursor.fetchall())"
   ]
  },
  {
   "cell_type": "code",
   "execution_count": 4,
   "metadata": {},
   "outputs": [],
   "source": [
    "def getPageUrl(title):\n",
    "    url = AMAZON_URL.format(title.replace(\" \", \"+\"))\n",
    "    url = safe_url_string(url, encoding=\"utf-8\")\n",
    "    req = urllib.request.Request(url)\n",
    "    req.add_header('User-Agent', getRandomUserAgent())\n",
    "    html = urllib.request.urlopen(req, timeout=REQUEST_TIMEOUT)\n",
    "    obj = bf(html.read(),'html.parser')\n",
    "    firstItem = obj.body.find_all('div',class_=\"a-section a-spacing-medium\")[0]\n",
    "    aElement = firstItem.find_all('a', class_=\"a-link-normal a-text-normal\")[0]\n",
    "    pageUrl = AMAZON_URL_HEAD + aElement['href']\n",
    "    return pageUrl\n",
    "\n",
    "def getPageUrlFromIMDB(imdbId):\n",
    "    url = AMAZON_URL.format(title.replace(\" \", \"+\"))\n",
    "    req = urllib.request.Request(url)\n",
    "    req.add_header('User-Agent', getRandomUserAgent())\n",
    "    html = urllib.request.urlopen(req, timeout=REQUEST_TIMEOUT)\n",
    "    obj = bf(html.read(),'html.parser')\n",
    "    firstItem = obj.body.find_all('div',class_=\"a-section a-spacing-medium\")[0]\n",
    "    aElement = firstItem.find_all('a', class_=\"a-link-normal a-text-normal\")[0]\n",
    "    pageUrl = AMAZON_URL_HEAD + aElement['href']\n",
    "    return pageUrl\n",
    "\n",
    "def getMoviePrice(url):\n",
    "    req = urllib.request.Request(url)\n",
    "    req.add_header('User-Agent', getRandomUserAgent())\n",
    "    html = urllib.request.urlopen(req, timeout=REQUEST_TIMEOUT)\n",
    "    obj = bf(html.read(),'html.parser')\n",
    "    lst = [str(x) for x in obj.body.find_all('button') if 'Buy' in str(x)]\n",
    "    if len(lst) == 0:\n",
    "        d = obj.body.find('tr', id='priceblock_ourprice_row').find('span', id='priceblock_ourprice').contents\n",
    "        return float(str(d[0])[1:])\n",
    "    else:\n",
    "        return float(re.findall(r'(?<=\\$)\\d{1,3}(?:[.,]\\d{3})*(?:[.,]\\d{2})', lst[0])[0])\n",
    "\n",
    "def removeBrackets(title):\n",
    "    return title[:-7] + \" \" + title[-5:-1]\n",
    "\n",
    "def urlEncodeNonAscii(b):\n",
    "    return re.sub('[\\x80-\\xFF]', lambda c: '%%%02x' % ord(c.group(0)), b)\n",
    "\n",
    "def iriToUri(iri):\n",
    "    parts= urlparse(iri)\n",
    "    return urlunparse(\n",
    "        part.encode('idna') if parti==1 else urlEncodeNonAscii(part.encode('utf-8'))\n",
    "        for parti, part in enumerate(parts)\n",
    "    )\n",
    "\n",
    "def runGetPage(movie_list):\n",
    "    pbar = tqdm.tqdm(range(len(movie_list)), position=0, leave=True)\n",
    "    for i in pbar:\n",
    "        try:\n",
    "            pbar.set_description(\"Processing row %d\" % i)\n",
    "            m = movie_list[i]\n",
    "            movie_id = m[0]\n",
    "            movie_title = m[1]\n",
    "            page_url = m[2]\n",
    "            if page_url is None:\n",
    "                page_url = getPageUrl(removeBrackets(movie_title))\n",
    "                updatePageUrl(page_url, movie_id)\n",
    "        except KeyboardInterrupt:\n",
    "            sys.exit()\n",
    "            pass\n",
    "        except Exception as e:\n",
    "            print(\"Exception at row %d\" % i)\n",
    "            print(e)\n",
    "            continue\n",
    "\n",
    "def runGetPrice(movie_list):\n",
    "    pbar = tqdm.tqdm(range(len(movie_list)), position=0, leave=True)\n",
    "    for i in pbar:\n",
    "        try:\n",
    "            pbar.set_description(\"Processing row %d\" % i)\n",
    "            m = movie_list[i]\n",
    "            movie_id = m[0]\n",
    "            page_url = m[2]\n",
    "            movie_price = m[3]\n",
    "            if page_url is not None and movie_price is None:\n",
    "                price = getMoviePrice(page_url)\n",
    "                updatePrice(price, movie_id)\n",
    "        except KeyboardInterrupt:\n",
    "            sys.exit()\n",
    "            pass\n",
    "        except Exception as e:\n",
    "            print(\"Exception at row %d\" % i)\n",
    "            print(e)\n",
    "            continue\n",
    "            \n",
    "def getRandomUserAgent():\n",
    "    s = requests.Session()\n",
    "    return s.headers['User-Agent']\n",
    "\n",
    "def list_split(items, n):\n",
    "    return [items[i:i+n] for i in range(0, len(items), n)]\n",
    "\n",
    "lock = threading.Lock()\n",
    "\n",
    "def updatePageUrl(page_url, movie_id):\n",
    "    try:\n",
    "        lock.acquire(True)\n",
    "        cursor.execute(\"UPDATE prices SET pageUrl = ? WHERE movieId = ?;\", (page_url, movie_id))\n",
    "        database.commit()\n",
    "    finally:\n",
    "        lock.release()\n",
    "        \n",
    "def updatePrice(price, movie_id):\n",
    "    try:\n",
    "        lock.acquire(True)\n",
    "        cursor.execute(\"UPDATE prices SET price = ? WHERE movieId = ?;\", (price, movie_id))\n",
    "        database.commit()\n",
    "    finally:\n",
    "        lock.release()"
   ]
  },
  {
   "cell_type": "code",
   "execution_count": 99,
   "metadata": {},
   "outputs": [],
   "source": [
    "cursor.execute(\"UPDATE prices SET pageUrl = NULL WHERE imdbId = ?;\", (\"0112682\", ))\n",
    "database.commit()"
   ]
  },
  {
   "cell_type": "code",
   "execution_count": 20,
   "metadata": {},
   "outputs": [
    {
     "data": {
      "text/plain": [
       "'https://www.amazon.com/Grumpier-Old-Men-Jack-Lemmon/dp/B00AUOUG8W/ref=sr_1_1?dchild=1&keywords=Grumpier+Old+Men+1995&qid=1619358956&s=movies-tv&sr=1-1'"
      ]
     },
     "execution_count": 20,
     "metadata": {},
     "output_type": "execute_result"
    }
   ],
   "source": [
    "getPageUrl(removeBrackets(\"Grumpier Old Men (1995)\"))"
   ]
  },
  {
   "cell_type": "code",
   "execution_count": 9,
   "metadata": {},
   "outputs": [],
   "source": []
  },
  {
   "cell_type": "code",
   "execution_count": 122,
   "metadata": {},
   "outputs": [
    {
     "name": "stdout",
     "output_type": "stream",
     "text": [
      "[]\n"
     ]
    }
   ],
   "source": [
    "imdbId = \"0114709\"\n",
    "url = IMDB_URL.format(imdbId)\n",
    "req = urllib.request.Request(url)\n",
    "req.add_header('User-Agent', getRandomUserAgent())\n",
    "html = urllib.request.urlopen(req, timeout=REQUEST_TIMEOUT)\n",
    "obj = bf(html.read(),'html.parser')\n",
    "print(obj.body.find_all('button',class_=\"buybox__button\"))"
   ]
  },
  {
   "cell_type": "markdown",
   "metadata": {},
   "source": [
    "### Load data from database to Dataframe"
   ]
  },
  {
   "cell_type": "code",
   "execution_count": null,
   "metadata": {},
   "outputs": [
    {
     "name": "stderr",
     "output_type": "stream",
     "text": [
      "Processing 1:  77%|███████▋  | 20920/27278 [01:58<00:37, 170.03it/s]"
     ]
    }
   ],
   "source": [
    "output_df = pd.DataFrame(columns=['movieId', 'title', 'pageUrl', 'price'])\n",
    "cursor.execute(\"SELECT * FROM prices;\")\n",
    "pbar = tqdm.tqdm(cursor.fetchall(), position=0, leave=True)\n",
    "for row in pbar:\n",
    "    pbar.set_description(\"Processing %d\" % 1)\n",
    "    row_dict = {'movieId': row[0], 'title': row[1], 'pageUrl': row[2], 'price': row[3]}\n",
    "    output_df = output_df.append(row_dict, ignore_index=True)"
   ]
  },
  {
   "cell_type": "markdown",
   "metadata": {},
   "source": [
    "### Write into CSV file"
   ]
  },
  {
   "cell_type": "code",
   "execution_count": 121,
   "metadata": {},
   "outputs": [],
   "source": [
    "output_df.to_csv(OUTPUT_CSV, index=False)"
   ]
  },
  {
   "cell_type": "code",
   "execution_count": 116,
   "metadata": {},
   "outputs": [
    {
     "data": {
      "text/plain": [
       "'https://www.amazon.com/Jumanji-Robin-Williams/dp/B00BZBQ4GW/ref=sr_1_1?dchild=1&keywords=Jumanji+1995&qid=1619255969&s=movies-tv&sr=1-1'"
      ]
     },
     "execution_count": 116,
     "metadata": {},
     "output_type": "execute_result"
    }
   ],
   "source": [
    "getPageUrl('Jumanji 1995')"
   ]
  },
  {
   "cell_type": "code",
   "execution_count": 62,
   "metadata": {},
   "outputs": [
    {
     "name": "stdout",
     "output_type": "stream",
     "text": [
      "\u001b[33mWARNING: Keyring is skipped due to an exception: Failed to create the collection: Prompt dismissed..\u001b[0m\n",
      "\u001b[31mERROR: Could not find a version that satisfies the requirement urlparse (from versions: none)\u001b[0m\n",
      "\u001b[31mERROR: No matching distribution found for urlparse\u001b[0m\n"
     ]
    }
   ],
   "source": [
    "!pip3 install urlparse"
   ]
  },
  {
   "cell_type": "code",
   "execution_count": 92,
   "metadata": {},
   "outputs": [
    {
     "name": "stdout",
     "output_type": "stream",
     "text": [
      "http://example.org/%C3%91%C3%B6%C3%B1-%C3%85%C5%9E%C3%87%C4%B0%C4%B0/\n"
     ]
    }
   ],
   "source": [
    "from w3lib.url import safe_url_string\n",
    "url = safe_url_string('http://example.org/Ñöñ-ÅŞÇİİ/', encoding=\"utf-8\")\n",
    "print(url)"
   ]
  },
  {
   "cell_type": "raw",
   "metadata": {},
   "source": [
    "url"
   ]
  },
  {
   "cell_type": "code",
   "execution_count": 106,
   "metadata": {},
   "outputs": [
    {
     "name": "stdout",
     "output_type": "stream",
     "text": [
      "\u001b[33mWARNING: Keyring is skipped due to an exception: Failed to create the collection: Prompt dismissed..\u001b[0m\n",
      "Collecting requests-random-user-agent\n",
      "  Downloading requests_random_user_agent-2021.4.10-py3-none-any.whl (47 kB)\n",
      "\u001b[K     |████████████████████████████████| 47 kB 1.6 MB/s eta 0:00:01\n",
      "\u001b[?25hRequirement already satisfied: requests<3.0.0,>=2.0.1 in /home/ultraman/anaconda3/lib/python3.8/site-packages (from requests-random-user-agent) (2.24.0)\n",
      "Requirement already satisfied: chardet<4,>=3.0.2 in /home/ultraman/anaconda3/lib/python3.8/site-packages (from requests<3.0.0,>=2.0.1->requests-random-user-agent) (3.0.4)\n",
      "Requirement already satisfied: certifi>=2017.4.17 in /home/ultraman/anaconda3/lib/python3.8/site-packages (from requests<3.0.0,>=2.0.1->requests-random-user-agent) (2020.6.20)\n",
      "Requirement already satisfied: idna<3,>=2.5 in /home/ultraman/anaconda3/lib/python3.8/site-packages (from requests<3.0.0,>=2.0.1->requests-random-user-agent) (2.10)\n",
      "Requirement already satisfied: urllib3!=1.25.0,!=1.25.1,<1.26,>=1.21.1 in /home/ultraman/anaconda3/lib/python3.8/site-packages (from requests<3.0.0,>=2.0.1->requests-random-user-agent) (1.25.11)\n",
      "Installing collected packages: requests-random-user-agent\n",
      "Successfully installed requests-random-user-agent-2021.4.10\n"
     ]
    }
   ],
   "source": [
    "!pip install requests-random-user-agent"
   ]
  },
  {
   "cell_type": "code",
   "execution_count": 15,
   "metadata": {},
   "outputs": [
    {
     "name": "stdout",
     "output_type": "stream",
     "text": [
      "Collecting lxml\n",
      "  Downloading lxml-4.6.3-cp39-cp39-macosx_10_9_x86_64.whl (4.6 MB)\n",
      "\u001b[K     |████████████████████████████████| 4.6 MB 609 kB/s eta 0:00:01\n",
      "\u001b[?25hInstalling collected packages: lxml\n",
      "Successfully installed lxml-4.6.3\n"
     ]
    }
   ],
   "source": [
    "!pip3 install lxml"
   ]
  },
  {
   "cell_type": "code",
   "execution_count": 5,
   "metadata": {
    "tags": []
   },
   "outputs": [],
   "source": [
    "import threading\n",
    "import requests\n",
    "from lxml import etree\n",
    "from urllib import request\n",
    "import os\n",
    "\n",
    "import re\n",
    "\n",
    "class PageUrl(threading.Thread):\n",
    "    def __init__(self, l, *args, **kwargs):\n",
    "        super(PageUrl, self).__init__(*args,**kwargs)\n",
    "        self.l = l\n",
    "\n",
    "    def run(self):\n",
    "        runGetPage(self.l)\n",
    "        \n",
    "class Price(threading.Thread):\n",
    "    def __init__(self, l, *args, **kwargs):\n",
    "        super(Price, self).__init__(*args,**kwargs)\n",
    "        self.l = l\n",
    "\n",
    "    def run(self):\n",
    "        runGetPrice(self.l)"
   ]
  },
  {
   "cell_type": "code",
   "execution_count": 22,
   "metadata": {
    "collapsed": true,
    "jupyter": {
     "outputs_hidden": true
    },
    "tags": []
   },
   "outputs": [
    {
     "name": "stderr",
     "output_type": "stream",
     "text": [
      "Processing row 1:   0%|          | 0/3883 [00:00<?, ?it/s]"
     ]
    },
    {
     "name": "stdout",
     "output_type": "stream",
     "text": [
      "Exception at row 0\n",
      "'NoneType' object is not subscriptable\n"
     ]
    },
    {
     "name": "stderr",
     "output_type": "stream",
     "text": [
      "Processing row 248:   4%|▍         | 170/3883 [00:00<00:02, 1694.22it/s]"
     ]
    },
    {
     "name": "stdout",
     "output_type": "stream",
     "text": [
      "Exception at row 1\n",
      "'NoneType' object is not subscriptable\n",
      "Exception at row 2\n",
      "'NoneType' object is not subscriptable\n",
      "Exception at row 3\n",
      "'NoneType' object is not subscriptable\n",
      "Exception at row 4\n",
      "'NoneType' object is not subscriptable\n",
      "Exception at row 5\n",
      "'NoneType' object is not subscriptable\n",
      "Exception at row 6\n",
      "'NoneType' object is not subscriptable\n",
      "Exception at row 7\n",
      "'NoneType' object is not subscriptable\n",
      "Exception at row 8\n",
      "'NoneType' object is not subscriptable\n",
      "Exception at row 9\n",
      "'NoneType' object is not subscriptable\n",
      "Exception at row 10\n",
      "'NoneType' object is not subscriptable\n",
      "Exception at row 11\n",
      "'NoneType' object is not subscriptable\n",
      "Exception at row 12\n",
      "'NoneType' object is not subscriptable\n",
      "Exception at row 13\n",
      "'NoneType' object is not subscriptable\n",
      "Exception at row 14\n",
      "'NoneType' object is not subscriptable\n",
      "Exception at row 15\n",
      "'NoneType' object is not subscriptable\n",
      "Exception at row 16\n",
      "'NoneType' object is not subscriptable\n",
      "Exception at row 17\n",
      "'NoneType' object is not subscriptable\n",
      "Exception at row 18\n",
      "'NoneType' object is not subscriptable\n",
      "Exception at row 19\n",
      "'NoneType' object is not subscriptable\n",
      "Exception at row 20\n",
      "'NoneType' object is not subscriptable\n",
      "Exception at row 21\n",
      "'NoneType' object is not subscriptable\n",
      "Exception at row 22\n",
      "'NoneType' object is not subscriptable\n",
      "Exception at row 23\n",
      "'NoneType' object is not subscriptable\n",
      "Exception at row 24\n",
      "'NoneType' object is not subscriptable\n",
      "Exception at row 25\n",
      "'NoneType' object is not subscriptable\n",
      "Exception at row 26\n",
      "'NoneType' object is not subscriptable\n",
      "Exception at row 27\n",
      "'NoneType' object is not subscriptable\n",
      "Exception at row 28\n",
      "'NoneType' object is not subscriptable\n",
      "Exception at row 29\n",
      "'NoneType' object is not subscriptable\n",
      "Exception at row 30\n",
      "'NoneType' object is not subscriptable\n",
      "Exception at row 31\n",
      "'NoneType' object is not subscriptable\n",
      "Exception at row 32\n",
      "'NoneType' object is not subscriptable\n",
      "Exception at row 33\n",
      "'NoneType' object is not subscriptable\n",
      "Exception at row 34\n",
      "'NoneType' object is not subscriptable\n",
      "Exception at row 35\n",
      "'NoneType' object is not subscriptable\n",
      "Exception at row 36\n",
      "'NoneType' object is not subscriptable\n",
      "Exception at row 37\n",
      "'NoneType' object is not subscriptable\n",
      "Exception at row 38\n",
      "'NoneType' object is not subscriptable\n",
      "Exception at row 39\n",
      "'NoneType' object is not subscriptable\n",
      "Exception at row 40\n",
      "'NoneType' object is not subscriptable\n",
      "Exception at row 41\n",
      "'NoneType' object is not subscriptable\n",
      "Exception at row 42\n",
      "'NoneType' object is not subscriptable\n",
      "Exception at row 43\n",
      "'NoneType' object is not subscriptable\n",
      "Exception at row 44\n",
      "'NoneType' object is not subscriptable\n",
      "Exception at row 45\n",
      "'NoneType' object is not subscriptable\n",
      "Exception at row 46\n",
      "'NoneType' object is not subscriptable\n",
      "Exception at row 47\n",
      "'NoneType' object is not subscriptable\n",
      "Exception at row 48\n",
      "'NoneType' object is not subscriptable\n",
      "Exception at row 49\n",
      "'NoneType' object is not subscriptable\n",
      "Exception at row 50\n",
      "'NoneType' object is not subscriptable\n",
      "Exception at row 51\n",
      "'NoneType' object is not subscriptable\n",
      "Exception at row 52\n",
      "'NoneType' object is not subscriptable\n",
      "Exception at row 53\n",
      "'NoneType' object is not subscriptable\n",
      "Exception at row 54\n",
      "'NoneType' object is not subscriptable\n",
      "Exception at row 55\n",
      "'NoneType' object is not subscriptable\n",
      "Exception at row 56\n",
      "'NoneType' object is not subscriptable\n",
      "Exception at row 57\n",
      "'NoneType' object is not subscriptable\n",
      "Exception at row 58\n",
      "'NoneType' object is not subscriptable\n",
      "Exception at row 59\n",
      "'NoneType' object is not subscriptable\n",
      "Exception at row 60\n",
      "'NoneType' object is not subscriptable\n",
      "Exception at row 61\n",
      "'NoneType' object is not subscriptable\n",
      "Exception at row 62\n",
      "'NoneType' object is not subscriptable\n",
      "Exception at row 63\n",
      "'NoneType' object is not subscriptable\n",
      "Exception at row 64\n",
      "'NoneType' object is not subscriptable\n",
      "Exception at row 65\n",
      "'NoneType' object is not subscriptable\n",
      "Exception at row 66\n",
      "'NoneType' object is not subscriptable\n",
      "Exception at row 67\n",
      "'NoneType' object is not subscriptable\n",
      "Exception at row 68\n",
      "'NoneType' object is not subscriptable\n",
      "Exception at row 69\n",
      "'NoneType' object is not subscriptable\n",
      "Exception at row 70\n",
      "'NoneType' object is not subscriptable\n",
      "Exception at row 71\n",
      "'NoneType' object is not subscriptable\n",
      "Exception at row 72\n",
      "'NoneType' object is not subscriptable\n",
      "Exception at row 73\n",
      "'NoneType' object is not subscriptable\n",
      "Exception at row 74\n",
      "'NoneType' object is not subscriptable\n",
      "Exception at row 75\n",
      "'NoneType' object is not subscriptable\n",
      "Exception at row 76\n",
      "'NoneType' object is not subscriptable\n",
      "Exception at row 77\n",
      "'NoneType' object is not subscriptable\n",
      "Exception at row 78\n",
      "'NoneType' object is not subscriptable\n",
      "Exception at row 79\n",
      "'NoneType' object is not subscriptable\n",
      "Exception at row 80\n",
      "'NoneType' object is not subscriptable\n",
      "Exception at row 81\n",
      "'NoneType' object is not subscriptable\n",
      "Exception at row 82\n",
      "'NoneType' object is not subscriptable\n",
      "Exception at row 83\n",
      "'NoneType' object is not subscriptable\n",
      "Exception at row 84\n",
      "'NoneType' object is not subscriptable\n",
      "Exception at row 85\n",
      "'NoneType' object is not subscriptable\n",
      "Exception at row 86\n",
      "'NoneType' object is not subscriptable\n",
      "Exception at row 87\n",
      "'NoneType' object is not subscriptable\n",
      "Exception at row 88\n",
      "'NoneType' object is not subscriptable\n",
      "Exception at row 89\n",
      "'NoneType' object is not subscriptable\n",
      "Exception at row 90\n",
      "'NoneType' object is not subscriptable\n",
      "Exception at row 91\n",
      "'NoneType' object is not subscriptable\n",
      "Exception at row 92\n",
      "'NoneType' object is not subscriptable\n",
      "Exception at row 93\n",
      "'NoneType' object is not subscriptable\n",
      "Exception at row 94\n",
      "'NoneType' object is not subscriptable\n",
      "Exception at row 95\n",
      "'NoneType' object is not subscriptable\n",
      "Exception at row 96\n",
      "'NoneType' object is not subscriptable\n",
      "Exception at row 97\n",
      "'NoneType' object is not subscriptable\n",
      "Exception at row 98\n",
      "'NoneType' object is not subscriptable\n",
      "Exception at row 99\n",
      "'NoneType' object is not subscriptable\n",
      "Exception at row 100\n",
      "'NoneType' object is not subscriptable\n",
      "Exception at row 101\n",
      "'NoneType' object is not subscriptable\n",
      "Exception at row 102\n",
      "'NoneType' object is not subscriptable\n",
      "Exception at row 103\n",
      "'NoneType' object is not subscriptable\n",
      "Exception at row 104\n",
      "'NoneType' object is not subscriptable\n",
      "Exception at row 105\n",
      "'NoneType' object is not subscriptable\n",
      "Exception at row 106\n",
      "'NoneType' object is not subscriptable\n",
      "Exception at row 107\n",
      "'NoneType' object is not subscriptable\n",
      "Exception at row 108\n",
      "'NoneType' object is not subscriptable\n",
      "Exception at row 109\n",
      "'NoneType' object is not subscriptable\n",
      "Exception at row 110\n",
      "'NoneType' object is not subscriptable\n",
      "Exception at row 111\n",
      "'NoneType' object is not subscriptable\n",
      "Exception at row 112\n",
      "'NoneType' object is not subscriptable\n",
      "Exception at row 113\n",
      "'NoneType' object is not subscriptable\n",
      "Exception at row 114\n",
      "'NoneType' object is not subscriptable\n",
      "Exception at row 115\n",
      "'NoneType' object is not subscriptable\n",
      "Exception at row 116\n",
      "'NoneType' object is not subscriptable\n",
      "Exception at row 117\n",
      "'NoneType' object is not subscriptable\n",
      "Exception at row 118\n",
      "'NoneType' object is not subscriptable\n",
      "Exception at row 119\n",
      "'NoneType' object is not subscriptable\n",
      "Exception at row 120\n",
      "'NoneType' object is not subscriptable\n",
      "Exception at row 121\n",
      "'NoneType' object is not subscriptable\n",
      "Exception at row 122\n",
      "'NoneType' object is not subscriptable\n",
      "Exception at row 123\n",
      "'NoneType' object is not subscriptable\n",
      "Exception at row 124\n",
      "'NoneType' object is not subscriptable\n",
      "Exception at row 125\n",
      "'NoneType' object is not subscriptable\n",
      "Exception at row 126\n",
      "'NoneType' object is not subscriptable\n",
      "Exception at row 127\n",
      "'NoneType' object is not subscriptable\n",
      "Exception at row 128\n",
      "'NoneType' object is not subscriptable\n",
      "Exception at row 129\n",
      "'NoneType' object is not subscriptable\n",
      "Exception at row 130\n",
      "'NoneType' object is not subscriptable\n",
      "Exception at row 131\n",
      "'NoneType' object is not subscriptable\n",
      "Exception at row 132\n",
      "'NoneType' object is not subscriptable\n",
      "Exception at row 133\n",
      "'NoneType' object is not subscriptable\n",
      "Exception at row 134\n",
      "'NoneType' object is not subscriptable\n",
      "Exception at row 135\n",
      "'NoneType' object is not subscriptable\n",
      "Exception at row 136\n",
      "'NoneType' object is not subscriptable\n",
      "Exception at row 137\n",
      "'NoneType' object is not subscriptable\n",
      "Exception at row 138\n",
      "'NoneType' object is not subscriptable\n",
      "Exception at row 139\n",
      "'NoneType' object is not subscriptable\n",
      "Exception at row 140\n",
      "'NoneType' object is not subscriptable\n",
      "Exception at row 141\n",
      "'NoneType' object is not subscriptable\n",
      "Exception at row 142\n",
      "'NoneType' object is not subscriptable\n",
      "Exception at row 143\n",
      "'NoneType' object is not subscriptable\n",
      "Exception at row 144\n",
      "'NoneType' object is not subscriptable\n",
      "Exception at row 145\n",
      "'NoneType' object is not subscriptable\n",
      "Exception at row 146\n",
      "'NoneType' object is not subscriptable\n",
      "Exception at row 147\n",
      "'NoneType' object is not subscriptable\n",
      "Exception at row 148\n",
      "'NoneType' object is not subscriptable\n",
      "Exception at row 149\n",
      "'NoneType' object is not subscriptable\n",
      "Exception at row 150\n",
      "'NoneType' object is not subscriptable\n",
      "Exception at row 151\n",
      "'NoneType' object is not subscriptable\n",
      "Exception at row 152\n",
      "'NoneType' object is not subscriptable\n",
      "Exception at row 153\n",
      "'NoneType' object is not subscriptable\n",
      "Exception at row 154\n",
      "'NoneType' object is not subscriptable\n",
      "Exception at row 155\n",
      "'NoneType' object is not subscriptable\n",
      "Exception at row 156\n",
      "'NoneType' object is not subscriptable\n",
      "Exception at row 157\n",
      "'NoneType' object is not subscriptable\n",
      "Exception at row 158\n",
      "'NoneType' object is not subscriptable\n",
      "Exception at row 159\n",
      "'NoneType' object is not subscriptable\n",
      "Exception at row 160\n",
      "'NoneType' object is not subscriptable\n",
      "Exception at row 161\n",
      "'NoneType' object is not subscriptable\n",
      "Exception at row 162\n",
      "'NoneType' object is not subscriptable\n",
      "Exception at row 163\n",
      "'NoneType' object is not subscriptable\n",
      "Exception at row 164\n",
      "'NoneType' object is not subscriptable\n",
      "Exception at row 165\n",
      "'NoneType' object is not subscriptable\n",
      "Exception at row 166\n",
      "'NoneType' object is not subscriptable\n",
      "Exception at row 167\n",
      "'NoneType' object is not subscriptable\n",
      "Exception at row 168\n",
      "'NoneType' object is not subscriptable\n",
      "Exception at row 169\n",
      "'NoneType' object is not subscriptable\n",
      "Exception at row 170\n",
      "'NoneType' object is not subscriptable\n",
      "Exception at row 171\n",
      "'NoneType' object is not subscriptable\n",
      "Exception at row 172\n",
      "'NoneType' object is not subscriptable\n",
      "Exception at row 173\n",
      "'NoneType' object is not subscriptable\n",
      "Exception at row 174\n",
      "'NoneType' object is not subscriptable\n",
      "Exception at row 175\n",
      "'NoneType' object is not subscriptable\n",
      "Exception at row 176\n",
      "'NoneType' object is not subscriptable\n",
      "Exception at row 177\n",
      "'NoneType' object is not subscriptable\n",
      "Exception at row 178\n",
      "'NoneType' object is not subscriptable\n",
      "Exception at row 179\n",
      "'NoneType' object is not subscriptable\n",
      "Exception at row 180\n",
      "'NoneType' object is not subscriptable\n",
      "Exception at row 181\n",
      "'NoneType' object is not subscriptable\n",
      "Exception at row 182\n",
      "'NoneType' object is not subscriptable\n",
      "Exception at row 183\n",
      "'NoneType' object is not subscriptable\n",
      "Exception at row 184\n",
      "'NoneType' object is not subscriptable\n",
      "Exception at row 185\n",
      "'NoneType' object is not subscriptable\n",
      "Exception at row 186\n",
      "'NoneType' object is not subscriptable\n",
      "Exception at row 187\n",
      "'NoneType' object is not subscriptable\n",
      "Exception at row 188\n",
      "'NoneType' object is not subscriptable\n",
      "Exception at row 189\n",
      "'NoneType' object is not subscriptable\n",
      "Exception at row 190\n",
      "'NoneType' object is not subscriptable\n",
      "Exception at row 191\n",
      "'NoneType' object is not subscriptable\n",
      "Exception at row 192\n",
      "'NoneType' object is not subscriptable\n",
      "Exception at row 193\n",
      "'NoneType' object is not subscriptable\n",
      "Exception at row 194\n",
      "'NoneType' object is not subscriptable\n",
      "Exception at row 195\n",
      "'NoneType' object is not subscriptable\n",
      "Exception at row 196\n",
      "'NoneType' object is not subscriptable\n",
      "Exception at row 197\n",
      "'NoneType' object is not subscriptable\n",
      "Exception at row 198\n",
      "'NoneType' object is not subscriptable\n",
      "Exception at row 199\n",
      "'NoneType' object is not subscriptable\n",
      "Exception at row 200\n",
      "'NoneType' object is not subscriptable\n",
      "Exception at row 201\n",
      "'NoneType' object is not subscriptable\n",
      "Exception at row 202\n",
      "'NoneType' object is not subscriptable\n",
      "Exception at row 203\n",
      "'NoneType' object is not subscriptable\n",
      "Exception at row 204\n",
      "'NoneType' object is not subscriptable\n",
      "Exception at row 205\n",
      "'NoneType' object is not subscriptable\n",
      "Exception at row 206\n",
      "'NoneType' object is not subscriptable\n",
      "Exception at row 207\n",
      "'NoneType' object is not subscriptable\n",
      "Exception at row 208\n",
      "'NoneType' object is not subscriptable\n",
      "Exception at row 209\n",
      "'NoneType' object is not subscriptable\n",
      "Exception at row 210\n",
      "'NoneType' object is not subscriptable\n",
      "Exception at row 211\n",
      "'NoneType' object is not subscriptable\n",
      "Exception at row 212\n",
      "'NoneType' object is not subscriptable\n",
      "Exception at row 213\n",
      "'NoneType' object is not subscriptable\n",
      "Exception at row 214\n",
      "'NoneType' object is not subscriptable\n",
      "Exception at row 215\n",
      "'NoneType' object is not subscriptable\n",
      "Exception at row 216\n",
      "'NoneType' object is not subscriptable\n",
      "Exception at row 217\n",
      "'NoneType' object is not subscriptable\n",
      "Exception at row 218\n",
      "'NoneType' object is not subscriptable\n",
      "Exception at row 219\n",
      "'NoneType' object is not subscriptable\n",
      "Exception at row 220\n",
      "'NoneType' object is not subscriptable\n",
      "Exception at row 221\n",
      "'NoneType' object is not subscriptable\n",
      "Exception at row 222\n",
      "'NoneType' object is not subscriptable\n",
      "Exception at row 223\n",
      "'NoneType' object is not subscriptable\n",
      "Exception at row 224\n",
      "'NoneType' object is not subscriptable\n",
      "Exception at row 225\n",
      "'NoneType' object is not subscriptable\n",
      "Exception at row 226\n",
      "'NoneType' object is not subscriptable\n",
      "Exception at row 227\n",
      "'NoneType' object is not subscriptable\n",
      "Exception at row 228\n",
      "'NoneType' object is not subscriptable\n",
      "Exception at row 229\n",
      "'NoneType' object is not subscriptable\n",
      "Exception at row 230\n",
      "'NoneType' object is not subscriptable\n",
      "Exception at row 231\n",
      "'NoneType' object is not subscriptable\n",
      "Exception at row 232\n",
      "'NoneType' object is not subscriptable\n",
      "Exception at row 233\n",
      "'NoneType' object is not subscriptable\n",
      "Exception at row 234\n",
      "'NoneType' object is not subscriptable\n",
      "Exception at row 235\n",
      "'NoneType' object is not subscriptable\n",
      "Exception at row 236\n",
      "'NoneType' object is not subscriptable\n",
      "Exception at row 237\n",
      "'NoneType' object is not subscriptable\n",
      "Exception at row 238\n",
      "'NoneType' object is not subscriptable\n",
      "Exception at row 239\n",
      "'NoneType' object is not subscriptable\n",
      "Exception at row 240\n",
      "'NoneType' object is not subscriptable\n",
      "Exception at row 241\n",
      "'NoneType' object is not subscriptable\n",
      "Exception at row 242\n",
      "'NoneType' object is not subscriptable\n",
      "Exception at row 243\n",
      "'NoneType' object is not subscriptable\n",
      "Exception at row 244\n",
      "'NoneType' object is not subscriptable\n",
      "Exception at row 245\n",
      "'NoneType' object is not subscriptable\n",
      "Exception at row 246\n",
      "'NoneType' object is not subscriptable\n",
      "Exception at row 247\n",
      "'NoneType' object is not subscriptable\n",
      "Exception at row 248\n",
      "'NoneType' object is not subscriptable"
     ]
    },
    {
     "name": "stderr",
     "output_type": "stream",
     "text": [
      "Processing row 420:   9%|▉         | 340/3883 [00:00<00:03, 1121.16it/s]"
     ]
    },
    {
     "name": "stdout",
     "output_type": "stream",
     "text": [
      "\n",
      "Exception at row 249\n",
      "'NoneType' object is not subscriptable\n",
      "Exception at row 250\n",
      "'NoneType' object is not subscriptable\n",
      "Exception at row 251\n",
      "'NoneType' object is not subscriptable\n",
      "Exception at row 252\n",
      "'NoneType' object is not subscriptable\n",
      "Exception at row 253\n",
      "'NoneType' object is not subscriptable\n",
      "Exception at row 254\n",
      "'NoneType' object is not subscriptable\n",
      "Exception at row 255\n",
      "'NoneType' object is not subscriptable\n",
      "Exception at row 256\n",
      "'NoneType' object is not subscriptable\n",
      "Exception at row 257\n",
      "'NoneType' object is not subscriptable\n",
      "Exception at row 258\n",
      "'NoneType' object is not subscriptable\n",
      "Exception at row 259\n",
      "'NoneType' object is not subscriptable\n",
      "Exception at row 260\n",
      "'NoneType' object is not subscriptable\n",
      "Exception at row 261\n",
      "'NoneType' object is not subscriptable\n",
      "Exception at row 262\n",
      "'NoneType' object is not subscriptable\n",
      "Exception at row 263\n",
      "'NoneType' object is not subscriptable\n",
      "Exception at row 264\n",
      "'NoneType' object is not subscriptable\n",
      "Exception at row 265\n",
      "'NoneType' object is not subscriptable\n",
      "Exception at row 266\n",
      "'NoneType' object is not subscriptable\n",
      "Exception at row 267\n",
      "'NoneType' object is not subscriptable\n",
      "Exception at row 268\n",
      "'NoneType' object is not subscriptable\n",
      "Exception at row 269\n",
      "'NoneType' object is not subscriptable\n",
      "Exception at row 270\n",
      "'NoneType' object is not subscriptable\n",
      "Exception at row 271\n",
      "'NoneType' object is not subscriptable\n",
      "Exception at row 272\n",
      "'NoneType' object is not subscriptable\n",
      "Exception at row 273\n",
      "'NoneType' object is not subscriptable\n",
      "Exception at row 274\n",
      "'NoneType' object is not subscriptable\n",
      "Exception at row 275\n",
      "'NoneType' object is not subscriptable\n",
      "Exception at row 276\n",
      "'NoneType' object is not subscriptable\n",
      "Exception at row 277\n",
      "'NoneType' object is not subscriptable\n",
      "Exception at row 278\n",
      "'NoneType' object is not subscriptable\n",
      "Exception at row 279\n",
      "'NoneType' object is not subscriptable\n",
      "Exception at row 280\n",
      "'NoneType' object is not subscriptable\n",
      "Exception at row 281\n",
      "'NoneType' object is not subscriptable\n",
      "Exception at row 282\n",
      "'NoneType' object is not subscriptable\n",
      "Exception at row 283\n",
      "'NoneType' object is not subscriptable\n",
      "Exception at row 284\n",
      "'NoneType' object is not subscriptable\n",
      "Exception at row 285\n",
      "'NoneType' object is not subscriptable\n",
      "Exception at row 286\n",
      "'NoneType' object is not subscriptable\n",
      "Exception at row 287\n",
      "'NoneType' object is not subscriptable\n",
      "Exception at row 288\n",
      "'NoneType' object is not subscriptable\n",
      "Exception at row 289\n",
      "'NoneType' object is not subscriptable\n",
      "Exception at row 290\n",
      "'NoneType' object is not subscriptable\n",
      "Exception at row 291\n",
      "'NoneType' object is not subscriptable\n",
      "Exception at row 292\n",
      "'NoneType' object is not subscriptable\n",
      "Exception at row 293\n",
      "'NoneType' object is not subscriptable\n",
      "Exception at row 294\n",
      "'NoneType' object is not subscriptable\n",
      "Exception at row 295\n",
      "'NoneType' object is not subscriptable\n",
      "Exception at row 296\n",
      "'NoneType' object is not subscriptable\n",
      "Exception at row 297\n",
      "'NoneType' object is not subscriptable\n",
      "Exception at row 298\n",
      "'NoneType' object is not subscriptable\n",
      "Exception at row 299\n",
      "'NoneType' object is not subscriptable\n",
      "Exception at row 300\n",
      "'NoneType' object is not subscriptable\n",
      "Exception at row 301\n",
      "'NoneType' object is not subscriptable\n",
      "Exception at row 302\n",
      "'NoneType' object is not subscriptable\n",
      "Exception at row 303\n",
      "'NoneType' object is not subscriptable\n",
      "Exception at row 304\n",
      "'NoneType' object is not subscriptable\n",
      "Exception at row 305\n",
      "'NoneType' object is not subscriptable\n",
      "Exception at row 306\n",
      "'NoneType' object is not subscriptable\n",
      "Exception at row 307\n",
      "'NoneType' object is not subscriptable\n",
      "Exception at row 308\n",
      "'NoneType' object is not subscriptable\n",
      "Exception at row 309\n",
      "'NoneType' object is not subscriptable\n",
      "Exception at row 310\n",
      "'NoneType' object is not subscriptable\n",
      "Exception at row 311\n",
      "'NoneType' object is not subscriptable\n",
      "Exception at row 312\n",
      "'NoneType' object is not subscriptable\n",
      "Exception at row 313\n",
      "'NoneType' object is not subscriptable\n",
      "Exception at row 314\n",
      "'NoneType' object is not subscriptable\n",
      "Exception at row 315\n",
      "'NoneType' object is not subscriptable\n",
      "Exception at row 316\n",
      "'NoneType' object is not subscriptable\n",
      "Exception at row 317\n",
      "'NoneType' object is not subscriptable\n",
      "Exception at row 318\n",
      "'NoneType' object is not subscriptable\n",
      "Exception at row 319\n",
      "'NoneType' object is not subscriptable\n",
      "Exception at row 320\n",
      "'NoneType' object is not subscriptable\n",
      "Exception at row 321\n",
      "'NoneType' object is not subscriptable\n",
      "Exception at row 322\n",
      "'NoneType' object is not subscriptable\n",
      "Exception at row 323\n",
      "'NoneType' object is not subscriptable\n",
      "Exception at row 324\n",
      "'NoneType' object is not subscriptable\n",
      "Exception at row 325\n",
      "'NoneType' object is not subscriptable\n",
      "Exception at row 326\n",
      "'NoneType' object is not subscriptable\n",
      "Exception at row 327\n",
      "'NoneType' object is not subscriptable\n",
      "Exception at row 328\n",
      "'NoneType' object is not subscriptable\n",
      "Exception at row 329\n",
      "'NoneType' object is not subscriptable\n",
      "Exception at row 330\n",
      "'NoneType' object is not subscriptable\n",
      "Exception at row 331\n",
      "'NoneType' object is not subscriptable\n",
      "Exception at row 332\n",
      "'NoneType' object is not subscriptable\n",
      "Exception at row 333\n",
      "'NoneType' object is not subscriptable\n",
      "Exception at row 334\n",
      "'NoneType' object is not subscriptable\n",
      "Exception at row 335\n",
      "'NoneType' object is not subscriptable\n",
      "Exception at row 336\n",
      "'NoneType' object is not subscriptable\n",
      "Exception at row 337\n",
      "'NoneType' object is not subscriptable\n",
      "Exception at row 338\n",
      "'NoneType' object is not subscriptable\n",
      "Exception at row 339\n",
      "'NoneType' object is not subscriptable\n",
      "Exception at row 340\n",
      "'NoneType' object is not subscriptable\n",
      "Exception at row 341\n",
      "'NoneType' object is not subscriptable\n",
      "Exception at row 342\n",
      "'NoneType' object is not subscriptable\n",
      "Exception at row 343\n",
      "'NoneType' object is not subscriptable\n",
      "Exception at row 344\n",
      "'NoneType' object is not subscriptable\n",
      "Exception at row 345\n",
      "'NoneType' object is not subscriptable\n",
      "Exception at row 346\n",
      "'NoneType' object is not subscriptable\n",
      "Exception at row 347\n",
      "'NoneType' object is not subscriptable\n",
      "Exception at row 348\n",
      "'NoneType' object is not subscriptable\n",
      "Exception at row 349\n",
      "'NoneType' object is not subscriptable\n",
      "Exception at row 350\n",
      "'NoneType' object is not subscriptable\n",
      "Exception at row 351\n",
      "'NoneType' object is not subscriptable\n",
      "Exception at row 352\n",
      "'NoneType' object is not subscriptable\n",
      "Exception at row 353\n",
      "'NoneType' object is not subscriptable\n",
      "Exception at row 354\n",
      "'NoneType' object is not subscriptable\n",
      "Exception at row 355\n",
      "'NoneType' object is not subscriptable\n",
      "Exception at row 356\n",
      "'NoneType' object is not subscriptable\n",
      "Exception at row 357\n",
      "'NoneType' object is not subscriptable\n",
      "Exception at row 358\n",
      "'NoneType' object is not subscriptable\n",
      "Exception at row 359\n",
      "'NoneType' object is not subscriptable\n",
      "Exception at row 360\n",
      "'NoneType' object is not subscriptable\n",
      "Exception at row 361\n",
      "'NoneType' object is not subscriptable\n",
      "Exception at row 362\n",
      "'NoneType' object is not subscriptable\n",
      "Exception at row 363\n",
      "'NoneType' object is not subscriptable\n",
      "Exception at row 364\n",
      "'NoneType' object is not subscriptable\n",
      "Exception at row 365\n",
      "'NoneType' object is not subscriptable\n",
      "Exception at row 366\n",
      "'NoneType' object is not subscriptable\n",
      "Exception at row 367\n",
      "'NoneType' object is not subscriptable\n",
      "Exception at row 368\n",
      "'NoneType' object is not subscriptable\n",
      "Exception at row 369\n",
      "'NoneType' object is not subscriptable\n",
      "Exception at row 370\n",
      "'NoneType' object is not subscriptable\n",
      "Exception at row 371\n",
      "'NoneType' object is not subscriptable\n",
      "Exception at row 372\n",
      "'NoneType' object is not subscriptable\n",
      "Exception at row 373\n",
      "'NoneType' object is not subscriptable\n",
      "Exception at row 374\n",
      "'NoneType' object is not subscriptable\n",
      "Exception at row 375\n",
      "'NoneType' object is not subscriptable\n",
      "Exception at row 376\n",
      "'NoneType' object is not subscriptable\n",
      "Exception at row 377\n",
      "'NoneType' object is not subscriptable\n",
      "Exception at row 378\n",
      "'NoneType' object is not subscriptable\n",
      "Exception at row 379\n",
      "'NoneType' object is not subscriptable\n",
      "Exception at row 380\n",
      "'NoneType' object is not subscriptable\n",
      "Exception at row 381\n",
      "'NoneType' object is not subscriptable\n",
      "Exception at row 382\n",
      "'NoneType' object is not subscriptable\n",
      "Exception at row 383\n",
      "'NoneType' object is not subscriptable\n",
      "Exception at row 384\n",
      "'NoneType' object is not subscriptable\n",
      "Exception at row 385\n",
      "'NoneType' object is not subscriptable\n",
      "Exception at row 386\n",
      "'NoneType' object is not subscriptable\n",
      "Exception at row 387\n",
      "'NoneType' object is not subscriptable\n",
      "Exception at row 388\n",
      "'NoneType' object is not subscriptable\n",
      "Exception at row 389\n",
      "'NoneType' object is not subscriptable\n",
      "Exception at row 390\n",
      "'NoneType' object is not subscriptable\n",
      "Exception at row 391\n",
      "'NoneType' object is not subscriptable\n",
      "Exception at row 392\n",
      "'NoneType' object is not subscriptable\n",
      "Exception at row 393\n",
      "'NoneType' object is not subscriptable\n",
      "Exception at row 394\n",
      "'NoneType' object is not subscriptable\n",
      "Exception at row 395\n",
      "'NoneType' object is not subscriptable\n",
      "Exception at row 396\n",
      "'NoneType' object is not subscriptable\n",
      "Exception at row 397\n",
      "'NoneType' object is not subscriptable\n",
      "Exception at row 398\n",
      "'NoneType' object is not subscriptable\n",
      "Exception at row 399\n",
      "'NoneType' object is not subscriptable\n",
      "Exception at row 400\n",
      "'NoneType' object is not subscriptable\n",
      "Exception at row 401\n",
      "'NoneType' object is not subscriptable\n",
      "Exception at row 402\n",
      "'NoneType' object is not subscriptable\n",
      "Exception at row 403\n",
      "'NoneType' object is not subscriptable\n",
      "Exception at row 404\n",
      "'NoneType' object is not subscriptable\n",
      "Exception at row 405\n",
      "'NoneType' object is not subscriptable\n",
      "Exception at row 406\n",
      "'NoneType' object is not subscriptable\n",
      "Exception at row 407\n",
      "'NoneType' object is not subscriptable\n",
      "Exception at row 408\n",
      "'NoneType' object is not subscriptable\n",
      "Exception at row 409\n",
      "'NoneType' object is not subscriptable\n",
      "Exception at row 410\n",
      "'NoneType' object is not subscriptable\n",
      "Exception at row 411\n",
      "'NoneType' object is not subscriptable\n",
      "Exception at row 412\n",
      "'NoneType' object is not subscriptable\n",
      "Exception at row 413\n",
      "'NoneType' object is not subscriptable\n",
      "Exception at row 414\n",
      "'NoneType' object is not subscriptable\n",
      "Exception at row 415\n",
      "'NoneType' object is not subscriptable\n",
      "Exception at row 416\n",
      "'NoneType' object is not subscriptable\n",
      "Exception at row 417\n",
      "'NoneType' object is not subscriptable\n",
      "Exception at row 418\n",
      "'NoneType' object is not subscriptable\n",
      "Exception at row 419\n",
      "'NoneType' object is not subscriptable\n",
      "Exception at row 420"
     ]
    },
    {
     "name": "stderr",
     "output_type": "stream",
     "text": [
      "Processing row 637:  15%|█▍        | 567/3883 [00:00<00:03, 979.31it/s] "
     ]
    },
    {
     "name": "stdout",
     "output_type": "stream",
     "text": [
      "\n",
      "'NoneType' object is not subscriptable\n",
      "Exception at row 421\n",
      "'NoneType' object is not subscriptable\n",
      "Exception at row 422\n",
      "'NoneType' object is not subscriptable\n",
      "Exception at row 423\n",
      "'NoneType' object is not subscriptable\n",
      "Exception at row 424\n",
      "'NoneType' object is not subscriptable\n",
      "Exception at row 425\n",
      "'NoneType' object is not subscriptable\n",
      "Exception at row 426\n",
      "'NoneType' object is not subscriptable\n",
      "Exception at row 427\n",
      "'NoneType' object is not subscriptable\n",
      "Exception at row 428\n",
      "'NoneType' object is not subscriptable\n",
      "Exception at row 429\n",
      "'NoneType' object is not subscriptable\n",
      "Exception at row 430\n",
      "'NoneType' object is not subscriptable\n",
      "Exception at row 431\n",
      "'NoneType' object is not subscriptable\n",
      "Exception at row 432\n",
      "'NoneType' object is not subscriptable\n",
      "Exception at row 433\n",
      "'NoneType' object is not subscriptable\n",
      "Exception at row 434\n",
      "'NoneType' object is not subscriptable\n",
      "Exception at row 435\n",
      "'NoneType' object is not subscriptable\n",
      "Exception at row 436\n",
      "'NoneType' object is not subscriptable\n",
      "Exception at row 437\n",
      "'NoneType' object is not subscriptable\n",
      "Exception at row 438\n",
      "'NoneType' object is not subscriptable\n",
      "Exception at row 439\n",
      "'NoneType' object is not subscriptable\n",
      "Exception at row 440\n",
      "'NoneType' object is not subscriptable\n",
      "Exception at row 441\n",
      "'NoneType' object is not subscriptable\n",
      "Exception at row 442\n",
      "'NoneType' object is not subscriptable\n",
      "Exception at row 443\n",
      "'NoneType' object is not subscriptable\n",
      "Exception at row 444\n",
      "'NoneType' object is not subscriptable\n",
      "Exception at row 445\n",
      "'NoneType' object is not subscriptable\n",
      "Exception at row 446\n",
      "'NoneType' object is not subscriptable\n",
      "Exception at row 447\n",
      "'NoneType' object is not subscriptable\n",
      "Exception at row 448\n",
      "'NoneType' object is not subscriptable\n",
      "Exception at row 449\n",
      "'NoneType' object is not subscriptable\n",
      "Exception at row 450\n",
      "'NoneType' object is not subscriptable\n",
      "Exception at row 451\n",
      "'NoneType' object is not subscriptable\n",
      "Exception at row 452\n",
      "'NoneType' object is not subscriptable\n",
      "Exception at row 453\n",
      "'NoneType' object is not subscriptable\n",
      "Exception at row 454\n",
      "'NoneType' object is not subscriptable\n",
      "Exception at row 455\n",
      "'NoneType' object is not subscriptable\n",
      "Exception at row 456\n",
      "'NoneType' object is not subscriptable\n",
      "Exception at row 457\n",
      "'NoneType' object is not subscriptable\n",
      "Exception at row 458\n",
      "'NoneType' object is not subscriptable\n",
      "Exception at row 459\n",
      "'NoneType' object is not subscriptable\n",
      "Exception at row 460\n",
      "'NoneType' object is not subscriptable\n",
      "Exception at row 461\n",
      "'NoneType' object is not subscriptable\n",
      "Exception at row 462\n",
      "'NoneType' object is not subscriptable\n",
      "Exception at row 463\n",
      "'NoneType' object is not subscriptable\n",
      "Exception at row 464\n",
      "'NoneType' object is not subscriptable\n",
      "Exception at row 465\n",
      "'NoneType' object is not subscriptable\n",
      "Exception at row 466\n",
      "'NoneType' object is not subscriptable\n",
      "Exception at row 467\n",
      "'NoneType' object is not subscriptable\n",
      "Exception at row 468\n",
      "'NoneType' object is not subscriptable\n",
      "Exception at row 469\n",
      "'NoneType' object is not subscriptable\n",
      "Exception at row 470\n",
      "'NoneType' object is not subscriptable\n",
      "Exception at row 471\n",
      "'NoneType' object is not subscriptable\n",
      "Exception at row 472\n",
      "'NoneType' object is not subscriptable\n",
      "Exception at row 473\n",
      "'NoneType' object is not subscriptable\n",
      "Exception at row 474\n",
      "'NoneType' object is not subscriptable\n",
      "Exception at row 475\n",
      "'NoneType' object is not subscriptable\n",
      "Exception at row 476\n",
      "'NoneType' object is not subscriptable\n",
      "Exception at row 477\n",
      "'NoneType' object is not subscriptable\n",
      "Exception at row 478\n",
      "'NoneType' object is not subscriptable\n",
      "Exception at row 479\n",
      "'NoneType' object is not subscriptable\n",
      "Exception at row 480\n",
      "'NoneType' object is not subscriptable\n",
      "Exception at row 481\n",
      "'NoneType' object is not subscriptable\n",
      "Exception at row 482\n",
      "'NoneType' object is not subscriptable\n",
      "Exception at row 483\n",
      "'NoneType' object is not subscriptable\n",
      "Exception at row 484\n",
      "'NoneType' object is not subscriptable\n",
      "Exception at row 485\n",
      "'NoneType' object is not subscriptable\n",
      "Exception at row 486\n",
      "'NoneType' object is not subscriptable\n",
      "Exception at row 487\n",
      "'NoneType' object is not subscriptable\n",
      "Exception at row 488\n",
      "'NoneType' object is not subscriptable\n",
      "Exception at row 489\n",
      "'NoneType' object is not subscriptable\n",
      "Exception at row 490\n",
      "'NoneType' object is not subscriptable\n",
      "Exception at row 491\n",
      "'NoneType' object is not subscriptable\n",
      "Exception at row 492\n",
      "'NoneType' object is not subscriptable\n",
      "Exception at row 493\n",
      "'NoneType' object is not subscriptable\n",
      "Exception at row 494\n",
      "'NoneType' object is not subscriptable\n",
      "Exception at row 495\n",
      "'NoneType' object is not subscriptable\n",
      "Exception at row 496\n",
      "'NoneType' object is not subscriptable\n",
      "Exception at row 497\n",
      "'NoneType' object is not subscriptable\n",
      "Exception at row 498\n",
      "'NoneType' object is not subscriptable\n",
      "Exception at row 499\n",
      "'NoneType' object is not subscriptable\n",
      "Exception at row 500\n",
      "'NoneType' object is not subscriptable\n",
      "Exception at row 501\n",
      "'NoneType' object is not subscriptable\n",
      "Exception at row 502\n",
      "'NoneType' object is not subscriptable\n",
      "Exception at row 503\n",
      "'NoneType' object is not subscriptable\n",
      "Exception at row 504\n",
      "'NoneType' object is not subscriptable\n",
      "Exception at row 505\n",
      "'NoneType' object is not subscriptable\n",
      "Exception at row 506\n",
      "'NoneType' object is not subscriptable\n",
      "Exception at row 507\n",
      "'NoneType' object is not subscriptable\n",
      "Exception at row 508\n",
      "'NoneType' object is not subscriptable\n",
      "Exception at row 509\n",
      "'NoneType' object is not subscriptable\n",
      "Exception at row 510\n",
      "'NoneType' object is not subscriptable\n",
      "Exception at row 511\n",
      "'NoneType' object is not subscriptable\n",
      "Exception at row 512\n",
      "'NoneType' object is not subscriptable\n",
      "Exception at row 513\n",
      "'NoneType' object is not subscriptable\n",
      "Exception at row 514\n",
      "'NoneType' object is not subscriptable\n",
      "Exception at row 515\n",
      "'NoneType' object is not subscriptable\n",
      "Exception at row 516\n",
      "'NoneType' object is not subscriptable\n",
      "Exception at row 517\n",
      "'NoneType' object is not subscriptable\n",
      "Exception at row 518\n",
      "'NoneType' object is not subscriptable\n",
      "Exception at row 519\n",
      "'NoneType' object is not subscriptable\n",
      "Exception at row 520\n",
      "'NoneType' object is not subscriptable\n",
      "Exception at row 521\n",
      "'NoneType' object is not subscriptable\n",
      "Exception at row 522\n",
      "'NoneType' object is not subscriptable\n",
      "Exception at row 523\n",
      "'NoneType' object is not subscriptable\n",
      "Exception at row 524\n",
      "'NoneType' object is not subscriptable\n",
      "Exception at row 525\n",
      "'NoneType' object is not subscriptable\n",
      "Exception at row 526\n",
      "'NoneType' object is not subscriptable\n",
      "Exception at row 527\n",
      "'NoneType' object is not subscriptable\n",
      "Exception at row 528\n",
      "'NoneType' object is not subscriptable\n",
      "Exception at row 529\n",
      "'NoneType' object is not subscriptable\n",
      "Exception at row 530\n",
      "'NoneType' object is not subscriptable\n",
      "Exception at row 531\n",
      "'NoneType' object is not subscriptable\n",
      "Exception at row 532\n",
      "'NoneType' object is not subscriptable\n",
      "Exception at row 533\n",
      "'NoneType' object is not subscriptable\n",
      "Exception at row 534\n",
      "'NoneType' object is not subscriptable\n",
      "Exception at row 535\n",
      "'NoneType' object is not subscriptable\n",
      "Exception at row 536\n",
      "'NoneType' object is not subscriptable\n",
      "Exception at row 537\n",
      "'NoneType' object is not subscriptable\n",
      "Exception at row 538\n",
      "'NoneType' object is not subscriptable\n",
      "Exception at row 539\n",
      "'NoneType' object is not subscriptable\n",
      "Exception at row 540\n",
      "'NoneType' object is not subscriptable\n",
      "Exception at row 541\n",
      "'NoneType' object is not subscriptable\n",
      "Exception at row 542\n",
      "'NoneType' object is not subscriptable\n",
      "Exception at row 543\n",
      "'NoneType' object is not subscriptable\n",
      "Exception at row 544\n",
      "'NoneType' object is not subscriptable\n",
      "Exception at row 545\n",
      "'NoneType' object is not subscriptable\n",
      "Exception at row 546\n",
      "'NoneType' object is not subscriptable\n",
      "Exception at row 547\n",
      "'NoneType' object is not subscriptable\n",
      "Exception at row 548\n",
      "'NoneType' object is not subscriptable\n",
      "Exception at row 549\n",
      "'NoneType' object is not subscriptable\n",
      "Exception at row 550\n",
      "'NoneType' object is not subscriptable\n",
      "Exception at row 551\n",
      "'NoneType' object is not subscriptable\n",
      "Exception at row 552\n",
      "'NoneType' object is not subscriptable\n",
      "Exception at row 553\n",
      "'NoneType' object is not subscriptable\n",
      "Exception at row 554\n",
      "'NoneType' object is not subscriptable\n",
      "Exception at row 555\n",
      "'NoneType' object is not subscriptable\n",
      "Exception at row 556\n",
      "'NoneType' object is not subscriptable\n",
      "Exception at row 557\n",
      "'NoneType' object is not subscriptable\n",
      "Exception at row 558\n",
      "'NoneType' object is not subscriptable\n",
      "Exception at row 559\n",
      "'NoneType' object is not subscriptable\n",
      "Exception at row 560\n",
      "'NoneType' object is not subscriptable\n",
      "Exception at row 561\n",
      "'NoneType' object is not subscriptable\n",
      "Exception at row 562\n",
      "'NoneType' object is not subscriptable\n",
      "Exception at row 563\n",
      "'NoneType' object is not subscriptable\n",
      "Exception at row 564\n",
      "'NoneType' object is not subscriptable\n",
      "Exception at row 565\n",
      "'NoneType' object is not subscriptable\n",
      "Exception at row 566\n",
      "'NoneType' object is not subscriptable\n",
      "Exception at row 567\n",
      "'NoneType' object is not subscriptable\n",
      "Exception at row 568\n",
      "'NoneType' object is not subscriptable\n",
      "Exception at row 569\n",
      "'NoneType' object is not subscriptable\n",
      "Exception at row 570\n",
      "'NoneType' object is not subscriptable\n",
      "Exception at row 571\n",
      "'NoneType' object is not subscriptable\n",
      "Exception at row 572\n",
      "'NoneType' object is not subscriptable\n",
      "Exception at row 573\n",
      "'NoneType' object is not subscriptable\n",
      "Exception at row 574\n",
      "'NoneType' object is not subscriptable\n",
      "Exception at row 575\n",
      "'NoneType' object is not subscriptable\n",
      "Exception at row 576\n",
      "'NoneType' object is not subscriptable\n",
      "Exception at row 577\n",
      "'NoneType' object is not subscriptable\n",
      "Exception at row 578\n",
      "'NoneType' object is not subscriptable\n",
      "Exception at row 579\n",
      "'NoneType' object is not subscriptable\n",
      "Exception at row 580\n",
      "'NoneType' object is not subscriptable\n",
      "Exception at row 581\n",
      "'NoneType' object is not subscriptable\n",
      "Exception at row 582\n",
      "'NoneType' object is not subscriptable\n",
      "Exception at row 583\n",
      "'NoneType' object is not subscriptable\n",
      "Exception at row 584\n",
      "'NoneType' object is not subscriptable\n",
      "Exception at row 585\n",
      "'NoneType' object is not subscriptable\n",
      "Exception at row 586\n",
      "'NoneType' object is not subscriptable\n",
      "Exception at row 587\n",
      "'NoneType' object is not subscriptable\n",
      "Exception at row 588\n",
      "'NoneType' object is not subscriptable\n",
      "Exception at row 589\n",
      "'NoneType' object is not subscriptable\n",
      "Exception at row 590\n",
      "'NoneType' object is not subscriptable\n",
      "Exception at row 591\n",
      "'NoneType' object is not subscriptable\n",
      "Exception at row 592\n",
      "'NoneType' object is not subscriptable\n",
      "Exception at row 593\n",
      "'NoneType' object is not subscriptable\n",
      "Exception at row 594\n",
      "'NoneType' object is not subscriptable\n",
      "Exception at row 595\n",
      "'NoneType' object is not subscriptable\n",
      "Exception at row 596\n",
      "'NoneType' object is not subscriptable\n",
      "Exception at row 597\n",
      "'NoneType' object is not subscriptable\n",
      "Exception at row 598\n",
      "'NoneType' object is not subscriptable\n",
      "Exception at row 599\n",
      "'NoneType' object is not subscriptable\n",
      "Exception at row 600\n",
      "'NoneType' object is not subscriptable\n",
      "Exception at row 601\n",
      "'NoneType' object is not subscriptable\n",
      "Exception at row 602\n",
      "'NoneType' object is not subscriptable\n",
      "Exception at row 603\n",
      "'NoneType' object is not subscriptable\n",
      "Exception at row 604\n",
      "'NoneType' object is not subscriptable\n",
      "Exception at row 605\n",
      "'NoneType' object is not subscriptable\n",
      "Exception at row 606\n",
      "'NoneType' object is not subscriptable\n",
      "Exception at row 607\n",
      "'NoneType' object is not subscriptable\n",
      "Exception at row 608\n",
      "'NoneType' object is not subscriptable\n",
      "Exception at row 609\n",
      "'NoneType' object is not subscriptable\n",
      "Exception at row 610\n",
      "'NoneType' object is not subscriptable\n",
      "Exception at row 611\n",
      "'NoneType' object is not subscriptable\n",
      "Exception at row 612\n",
      "'NoneType' object is not subscriptable\n",
      "Exception at row 613\n",
      "'NoneType' object is not subscriptable\n",
      "Exception at row 614\n",
      "'NoneType' object is not subscriptable\n",
      "Exception at row 615\n",
      "'NoneType' object is not subscriptable\n",
      "Exception at row 616\n",
      "'NoneType' object is not subscriptable\n",
      "Exception at row 617\n",
      "'NoneType' object is not subscriptable\n",
      "Exception at row 618\n",
      "'NoneType' object is not subscriptable\n",
      "Exception at row 619\n",
      "'NoneType' object is not subscriptable\n",
      "Exception at row 620\n",
      "'NoneType' object is not subscriptable\n",
      "Exception at row 621\n",
      "'NoneType' object is not subscriptable\n",
      "Exception at row 622\n",
      "'NoneType' object is not subscriptable\n",
      "Exception at row 623\n",
      "'NoneType' object is not subscriptable\n",
      "Exception at row 624\n",
      "'NoneType' object is not subscriptable\n",
      "Exception at row 625\n",
      "'NoneType' object is not subscriptable\n",
      "Exception at row 626\n",
      "'NoneType' object is not subscriptable\n",
      "Exception at row 627\n",
      "'NoneType' object is not subscriptable\n",
      "Exception at row 628\n",
      "'NoneType' object is not subscriptable\n",
      "Exception at row 629\n",
      "'NoneType' object is not subscriptable\n",
      "Exception at row 630\n",
      "'NoneType' object is not subscriptable\n",
      "Exception at row 631\n",
      "'NoneType' object is not subscriptable\n",
      "Exception at row 632\n",
      "'NoneType' object is not subscriptable\n",
      "Exception at row 633\n",
      "'NoneType' object is not subscriptable\n",
      "Exception at row 634\n",
      "'NoneType' object is not subscriptable\n",
      "Exception at row 635\n",
      "'NoneType' object is not subscriptable\n",
      "Exception at row 636\n",
      "'NoneType' object is not subscriptable\n",
      "Exception at row 637\n",
      "'NoneType' object is not subscriptable\n"
     ]
    },
    {
     "name": "stderr",
     "output_type": "stream",
     "text": [
      "Processing row 870:  20%|█▉        | 770/3883 [00:00<00:03, 950.93it/s]"
     ]
    },
    {
     "name": "stdout",
     "output_type": "stream",
     "text": [
      "Exception at row 638\n",
      "'NoneType' object is not subscriptable\n",
      "Exception at row 639\n",
      "'NoneType' object is not subscriptable\n",
      "Exception at row 640\n",
      "'NoneType' object is not subscriptable\n",
      "Exception at row 641\n",
      "'NoneType' object is not subscriptable\n",
      "Exception at row 642\n",
      "'NoneType' object is not subscriptable\n",
      "Exception at row 643\n",
      "'NoneType' object is not subscriptable\n",
      "Exception at row 644\n",
      "'NoneType' object is not subscriptable\n",
      "Exception at row 645\n",
      "'NoneType' object is not subscriptable\n",
      "Exception at row 646\n",
      "'NoneType' object is not subscriptable\n",
      "Exception at row 647\n",
      "'NoneType' object is not subscriptable\n",
      "Exception at row 648\n",
      "'NoneType' object is not subscriptable\n",
      "Exception at row 649\n",
      "'NoneType' object is not subscriptable\n",
      "Exception at row 650\n",
      "'NoneType' object is not subscriptable\n",
      "Exception at row 651\n",
      "'NoneType' object is not subscriptable\n",
      "Exception at row 652\n",
      "'NoneType' object is not subscriptable\n",
      "Exception at row 653\n",
      "'NoneType' object is not subscriptable\n",
      "Exception at row 654\n",
      "'NoneType' object is not subscriptable\n",
      "Exception at row 655\n",
      "'NoneType' object is not subscriptable\n",
      "Exception at row 656\n",
      "'NoneType' object is not subscriptable\n",
      "Exception at row 657\n",
      "'NoneType' object is not subscriptable\n",
      "Exception at row 658\n",
      "'NoneType' object is not subscriptable\n",
      "Exception at row 659\n",
      "'NoneType' object is not subscriptable\n",
      "Exception at row 660\n",
      "'NoneType' object is not subscriptable\n",
      "Exception at row 661\n",
      "'NoneType' object is not subscriptable\n",
      "Exception at row 662\n",
      "'NoneType' object is not subscriptable\n",
      "Exception at row 663\n",
      "'NoneType' object is not subscriptable\n",
      "Exception at row 664\n",
      "'NoneType' object is not subscriptable\n",
      "Exception at row 665\n",
      "'NoneType' object is not subscriptable\n",
      "Exception at row 666\n",
      "'NoneType' object is not subscriptable\n",
      "Exception at row 667\n",
      "'NoneType' object is not subscriptable\n",
      "Exception at row 668\n",
      "'NoneType' object is not subscriptable\n",
      "Exception at row 669\n",
      "'NoneType' object is not subscriptable\n",
      "Exception at row 670\n",
      "'NoneType' object is not subscriptable\n",
      "Exception at row 671\n",
      "'NoneType' object is not subscriptable\n",
      "Exception at row 672\n",
      "'NoneType' object is not subscriptable\n",
      "Exception at row 673\n",
      "'NoneType' object is not subscriptable\n",
      "Exception at row 674\n",
      "'NoneType' object is not subscriptable\n",
      "Exception at row 675\n",
      "'NoneType' object is not subscriptable\n",
      "Exception at row 676\n",
      "'NoneType' object is not subscriptable\n",
      "Exception at row 677\n",
      "'NoneType' object is not subscriptable\n",
      "Exception at row 678\n",
      "'NoneType' object is not subscriptable\n",
      "Exception at row 679\n",
      "'NoneType' object is not subscriptable\n",
      "Exception at row 680\n",
      "'NoneType' object is not subscriptable\n",
      "Exception at row 681\n",
      "'NoneType' object is not subscriptable\n",
      "Exception at row 682\n",
      "'NoneType' object is not subscriptable\n",
      "Exception at row 683\n",
      "'NoneType' object is not subscriptable\n",
      "Exception at row 684\n",
      "'NoneType' object is not subscriptable\n",
      "Exception at row 685\n",
      "'NoneType' object is not subscriptable\n",
      "Exception at row 686\n",
      "'NoneType' object is not subscriptable\n",
      "Exception at row 687\n",
      "'NoneType' object is not subscriptable\n",
      "Exception at row 688\n",
      "'NoneType' object is not subscriptable\n",
      "Exception at row 689\n",
      "'NoneType' object is not subscriptable\n",
      "Exception at row 690\n",
      "'NoneType' object is not subscriptable\n",
      "Exception at row 691\n",
      "'NoneType' object is not subscriptable\n",
      "Exception at row 692\n",
      "'NoneType' object is not subscriptable\n",
      "Exception at row 693\n",
      "'NoneType' object is not subscriptable\n",
      "Exception at row 694\n",
      "'NoneType' object is not subscriptable\n",
      "Exception at row 695\n",
      "'NoneType' object is not subscriptable\n",
      "Exception at row 696\n",
      "'NoneType' object is not subscriptable\n",
      "Exception at row 697\n",
      "'NoneType' object is not subscriptable\n",
      "Exception at row 698\n",
      "'NoneType' object is not subscriptable\n",
      "Exception at row 699\n",
      "'NoneType' object is not subscriptable\n",
      "Exception at row 700\n",
      "'NoneType' object is not subscriptable\n",
      "Exception at row 701\n",
      "'NoneType' object is not subscriptable\n",
      "Exception at row 702\n",
      "'NoneType' object is not subscriptable\n",
      "Exception at row 703\n",
      "'NoneType' object is not subscriptable\n",
      "Exception at row 704\n",
      "'NoneType' object is not subscriptable\n",
      "Exception at row 705\n",
      "'NoneType' object is not subscriptable\n",
      "Exception at row 706\n",
      "'NoneType' object is not subscriptable\n",
      "Exception at row 707\n",
      "'NoneType' object is not subscriptable\n",
      "Exception at row 708\n",
      "'NoneType' object is not subscriptable\n",
      "Exception at row 709\n",
      "'NoneType' object is not subscriptable\n",
      "Exception at row 710\n",
      "'NoneType' object is not subscriptable\n",
      "Exception at row 711\n",
      "'NoneType' object is not subscriptable\n",
      "Exception at row 712\n",
      "'NoneType' object is not subscriptable\n",
      "Exception at row 713\n",
      "'NoneType' object is not subscriptable\n",
      "Exception at row 714\n",
      "'NoneType' object is not subscriptable\n",
      "Exception at row 715\n",
      "'NoneType' object is not subscriptable\n",
      "Exception at row 716\n",
      "'NoneType' object is not subscriptable\n",
      "Exception at row 717\n",
      "'NoneType' object is not subscriptable\n",
      "Exception at row 718\n",
      "'NoneType' object is not subscriptable\n",
      "Exception at row 719\n",
      "'NoneType' object is not subscriptable\n",
      "Exception at row 720\n",
      "'NoneType' object is not subscriptable\n",
      "Exception at row 721\n",
      "'NoneType' object is not subscriptable\n",
      "Exception at row 722\n",
      "'NoneType' object is not subscriptable\n",
      "Exception at row 723\n",
      "'NoneType' object is not subscriptable\n",
      "Exception at row 724\n",
      "'NoneType' object is not subscriptable\n",
      "Exception at row 725\n",
      "'NoneType' object is not subscriptable\n",
      "Exception at row 726\n",
      "'NoneType' object is not subscriptable\n",
      "Exception at row 727\n",
      "'NoneType' object is not subscriptable\n",
      "Exception at row 728\n",
      "'NoneType' object is not subscriptable\n",
      "Exception at row 729\n",
      "'NoneType' object is not subscriptable\n",
      "Exception at row 730\n",
      "'NoneType' object is not subscriptable\n",
      "Exception at row 731\n",
      "'NoneType' object is not subscriptable\n",
      "Exception at row 732\n",
      "'NoneType' object is not subscriptable\n",
      "Exception at row 733\n",
      "'NoneType' object is not subscriptable\n",
      "Exception at row 734\n",
      "'NoneType' object is not subscriptable\n",
      "Exception at row 735\n",
      "'NoneType' object is not subscriptable\n",
      "Exception at row 736\n",
      "'NoneType' object is not subscriptable\n",
      "Exception at row 737\n",
      "'NoneType' object is not subscriptable\n",
      "Exception at row 738\n",
      "'NoneType' object is not subscriptable\n",
      "Exception at row 739\n",
      "'NoneType' object is not subscriptable\n",
      "Exception at row 740\n",
      "'NoneType' object is not subscriptable\n",
      "Exception at row 741\n",
      "'NoneType' object is not subscriptable\n",
      "Exception at row 742\n",
      "'NoneType' object is not subscriptable\n",
      "Exception at row 743\n",
      "'NoneType' object is not subscriptable\n",
      "Exception at row 744\n",
      "'NoneType' object is not subscriptable\n",
      "Exception at row 745\n",
      "'NoneType' object is not subscriptable\n",
      "Exception at row 746\n",
      "'NoneType' object is not subscriptable\n",
      "Exception at row 747\n",
      "'NoneType' object is not subscriptable\n",
      "Exception at row 748\n",
      "'NoneType' object is not subscriptable\n",
      "Exception at row 749\n",
      "'NoneType' object is not subscriptable\n",
      "Exception at row 750\n",
      "'NoneType' object is not subscriptable\n",
      "Exception at row 751\n",
      "'NoneType' object is not subscriptable\n",
      "Exception at row 752\n",
      "'NoneType' object is not subscriptable\n",
      "Exception at row 753\n",
      "'NoneType' object is not subscriptable\n",
      "Exception at row 754\n",
      "'NoneType' object is not subscriptable\n",
      "Exception at row 755\n",
      "'NoneType' object is not subscriptable\n",
      "Exception at row 756\n",
      "'NoneType' object is not subscriptable\n",
      "Exception at row 757\n",
      "'NoneType' object is not subscriptable\n",
      "Exception at row 758\n",
      "'NoneType' object is not subscriptable\n",
      "Exception at row 759\n",
      "'NoneType' object is not subscriptable\n",
      "Exception at row 760\n",
      "'NoneType' object is not subscriptable\n",
      "Exception at row 761\n",
      "'NoneType' object is not subscriptable\n",
      "Exception at row 762\n",
      "'NoneType' object is not subscriptable\n",
      "Exception at row 763\n",
      "'NoneType' object is not subscriptable\n",
      "Exception at row 764\n",
      "'NoneType' object is not subscriptable\n",
      "Exception at row 765\n",
      "'NoneType' object is not subscriptable\n",
      "Exception at row 766\n",
      "'NoneType' object is not subscriptable\n",
      "Exception at row 767\n",
      "'NoneType' object is not subscriptable\n",
      "Exception at row 768\n",
      "'NoneType' object is not subscriptable\n",
      "Exception at row 769\n",
      "'NoneType' object is not subscriptable\n",
      "Exception at row 770\n",
      "'NoneType' object is not subscriptable\n",
      "Exception at row 771\n",
      "'NoneType' object is not subscriptable\n",
      "Exception at row 772\n",
      "'NoneType' object is not subscriptable\n",
      "Exception at row 773\n",
      "'NoneType' object is not subscriptable\n",
      "Exception at row 774\n",
      "'NoneType' object is not subscriptable\n",
      "Exception at row 775\n",
      "'NoneType' object is not subscriptable\n",
      "Exception at row 776\n",
      "'NoneType' object is not subscriptable\n",
      "Exception at row 777\n",
      "'NoneType' object is not subscriptable\n",
      "Exception at row 778\n",
      "'NoneType' object is not subscriptable\n",
      "Exception at row 779\n",
      "'NoneType' object is not subscriptable\n",
      "Exception at row 780\n",
      "'NoneType' object is not subscriptable\n",
      "Exception at row 781\n",
      "'NoneType' object is not subscriptable\n",
      "Exception at row 782\n",
      "'NoneType' object is not subscriptable\n",
      "Exception at row 783\n",
      "'NoneType' object is not subscriptable\n",
      "Exception at row 784\n",
      "'NoneType' object is not subscriptable\n",
      "Exception at row 785\n",
      "'NoneType' object is not subscriptable\n",
      "Exception at row 786\n",
      "'NoneType' object is not subscriptable\n",
      "Exception at row 787\n",
      "'NoneType' object is not subscriptable\n",
      "Exception at row 788\n",
      "'NoneType' object is not subscriptable\n",
      "Exception at row 789\n",
      "'NoneType' object is not subscriptable\n",
      "Exception at row 790\n",
      "'NoneType' object is not subscriptable\n",
      "Exception at row 791\n",
      "'NoneType' object is not subscriptable\n",
      "Exception at row 792\n",
      "'NoneType' object is not subscriptable\n",
      "Exception at row 793\n",
      "'NoneType' object is not subscriptable\n",
      "Exception at row 794\n",
      "'NoneType' object is not subscriptable\n",
      "Exception at row 795\n",
      "'NoneType' object is not subscriptable\n",
      "Exception at row 796\n",
      "'NoneType' object is not subscriptable\n",
      "Exception at row 797\n",
      "'NoneType' object is not subscriptable\n",
      "Exception at row 798\n",
      "'NoneType' object is not subscriptable\n",
      "Exception at row 799\n",
      "'NoneType' object is not subscriptable\n",
      "Exception at row 800\n",
      "'NoneType' object is not subscriptable\n",
      "Exception at row 801\n",
      "'NoneType' object is not subscriptable\n",
      "Exception at row 802\n",
      "'NoneType' object is not subscriptable\n",
      "Exception at row 803\n",
      "'NoneType' object is not subscriptable\n",
      "Exception at row 804\n",
      "'NoneType' object is not subscriptable\n",
      "Exception at row 805\n",
      "'NoneType' object is not subscriptable\n",
      "Exception at row 806\n",
      "'NoneType' object is not subscriptable\n",
      "Exception at row 807\n",
      "'NoneType' object is not subscriptable\n",
      "Exception at row 808\n",
      "'NoneType' object is not subscriptable\n",
      "Exception at row 809\n",
      "'NoneType' object is not subscriptable\n",
      "Exception at row 810\n",
      "'NoneType' object is not subscriptable\n",
      "Exception at row 811\n",
      "'NoneType' object is not subscriptable\n",
      "Exception at row 812\n",
      "'NoneType' object is not subscriptable\n",
      "Exception at row 813\n",
      "'NoneType' object is not subscriptable\n",
      "Exception at row 814\n",
      "'NoneType' object is not subscriptable\n",
      "Exception at row 815\n",
      "'NoneType' object is not subscriptable\n",
      "Exception at row 816\n",
      "'NoneType' object is not subscriptable\n",
      "Exception at row 817\n",
      "'NoneType' object is not subscriptable\n",
      "Exception at row 818\n",
      "'NoneType' object is not subscriptable\n",
      "Exception at row 819\n",
      "'NoneType' object is not subscriptable\n",
      "Exception at row 820\n",
      "'NoneType' object is not subscriptable\n",
      "Exception at row 821\n",
      "'NoneType' object is not subscriptable\n",
      "Exception at row 822\n",
      "'NoneType' object is not subscriptable\n",
      "Exception at row 823\n",
      "'NoneType' object is not subscriptable\n",
      "Exception at row 824\n",
      "'NoneType' object is not subscriptable\n",
      "Exception at row 825\n",
      "'NoneType' object is not subscriptable\n",
      "Exception at row 826\n",
      "'NoneType' object is not subscriptable\n",
      "Exception at row 827\n",
      "'NoneType' object is not subscriptable\n",
      "Exception at row 828\n",
      "'NoneType' object is not subscriptable\n",
      "Exception at row 829\n",
      "'NoneType' object is not subscriptable\n",
      "Exception at row 830\n",
      "'NoneType' object is not subscriptable\n",
      "Exception at row 831\n",
      "'NoneType' object is not subscriptable\n",
      "Exception at row 832\n",
      "'NoneType' object is not subscriptable\n",
      "Exception at row 833\n",
      "'NoneType' object is not subscriptable\n",
      "Exception at row 834\n",
      "'NoneType' object is not subscriptable\n",
      "Exception at row 835\n",
      "'NoneType' object is not subscriptable\n",
      "Exception at row 836\n",
      "'NoneType' object is not subscriptable\n",
      "Exception at row 837\n",
      "'NoneType' object is not subscriptable\n",
      "Exception at row 838\n",
      "'NoneType' object is not subscriptable\n",
      "Exception at row 839\n",
      "'NoneType' object is not subscriptable\n",
      "Exception at row 840\n",
      "'NoneType' object is not subscriptable\n",
      "Exception at row 841\n",
      "'NoneType' object is not subscriptable\n",
      "Exception at row 842\n",
      "'NoneType' object is not subscriptable\n",
      "Exception at row 843\n",
      "'NoneType' object is not subscriptable\n",
      "Exception at row 844\n",
      "'NoneType' object is not subscriptable\n",
      "Exception at row 845\n",
      "'NoneType' object is not subscriptable\n",
      "Exception at row 846\n",
      "'NoneType' object is not subscriptable\n",
      "Exception at row 847\n",
      "'NoneType' object is not subscriptable\n",
      "Exception at row 848\n",
      "'NoneType' object is not subscriptable\n",
      "Exception at row 849\n",
      "'NoneType' object is not subscriptable\n",
      "Exception at row 850\n",
      "'NoneType' object is not subscriptable\n",
      "Exception at row 851\n",
      "'NoneType' object is not subscriptable\n",
      "Exception at row 852\n",
      "'NoneType' object is not subscriptable\n",
      "Exception at row 853\n",
      "'NoneType' object is not subscriptable\n",
      "Exception at row 854\n",
      "'NoneType' object is not subscriptable\n",
      "Exception at row 855\n",
      "'NoneType' object is not subscriptable\n",
      "Exception at row 856\n",
      "'NoneType' object is not subscriptable\n",
      "Exception at row 857\n",
      "'NoneType' object is not subscriptable\n",
      "Exception at row 858\n",
      "'NoneType' object is not subscriptable\n",
      "Exception at row 859\n",
      "'NoneType' object is not subscriptable\n",
      "Exception at row 860\n",
      "'NoneType' object is not subscriptable\n",
      "Exception at row 861\n",
      "'NoneType' object is not subscriptable\n",
      "Exception at row 862\n",
      "'NoneType' object is not subscriptable\n",
      "Exception at row 863\n",
      "'NoneType' object is not subscriptable\n",
      "Exception at row 864\n",
      "'NoneType' object is not subscriptable\n",
      "Exception at row 865\n",
      "'NoneType' object is not subscriptable\n",
      "Exception at row 866\n",
      "'NoneType' object is not subscriptable\n",
      "Exception at row 867\n",
      "'NoneType' object is not subscriptable\n",
      "Exception at row 868\n",
      "'NoneType' object is not subscriptable\n",
      "Exception at row 869\n",
      "'NoneType' object is not subscriptable\n",
      "Exception at row 870\n",
      "'NoneType' object is not subscriptable\n"
     ]
    },
    {
     "name": "stderr",
     "output_type": "stream",
     "text": [
      "Processing row 1029:  25%|██▍       | 960/3883 [00:01<00:02, 1224.53it/s]"
     ]
    },
    {
     "name": "stdout",
     "output_type": "stream",
     "text": [
      "Exception at row 871\n",
      "'NoneType' object is not subscriptable\n",
      "Exception at row 872\n",
      "'NoneType' object is not subscriptable\n",
      "Exception at row 873\n",
      "'NoneType' object is not subscriptable\n",
      "Exception at row 874\n",
      "'NoneType' object is not subscriptable\n",
      "Exception at row 875\n",
      "'NoneType' object is not subscriptable\n",
      "Exception at row 876\n",
      "'NoneType' object is not subscriptable\n",
      "Exception at row 877\n",
      "'NoneType' object is not subscriptable\n",
      "Exception at row 878\n",
      "'NoneType' object is not subscriptable\n",
      "Exception at row 879\n",
      "'NoneType' object is not subscriptable\n",
      "Exception at row 880\n",
      "'NoneType' object is not subscriptable\n",
      "Exception at row 881\n",
      "'NoneType' object is not subscriptable\n",
      "Exception at row 882\n",
      "'NoneType' object is not subscriptable\n",
      "Exception at row 883\n",
      "'NoneType' object is not subscriptable\n",
      "Exception at row 884\n",
      "'NoneType' object is not subscriptable\n",
      "Exception at row 885\n",
      "'NoneType' object is not subscriptable\n",
      "Exception at row 886\n",
      "'NoneType' object is not subscriptable\n",
      "Exception at row 887\n",
      "'NoneType' object is not subscriptable\n",
      "Exception at row 888\n",
      "'NoneType' object is not subscriptable\n",
      "Exception at row 889\n",
      "'NoneType' object is not subscriptable\n",
      "Exception at row 890\n",
      "'NoneType' object is not subscriptable\n",
      "Exception at row 891\n",
      "'NoneType' object is not subscriptable\n",
      "Exception at row 892\n",
      "'NoneType' object is not subscriptable\n",
      "Exception at row 893\n",
      "'NoneType' object is not subscriptable\n",
      "Exception at row 894\n",
      "'NoneType' object is not subscriptable\n",
      "Exception at row 895\n",
      "'NoneType' object is not subscriptable\n",
      "Exception at row 896\n",
      "'NoneType' object is not subscriptable\n",
      "Exception at row 897\n",
      "'NoneType' object is not subscriptable\n",
      "Exception at row 898\n",
      "'NoneType' object is not subscriptable\n",
      "Exception at row 899\n",
      "'NoneType' object is not subscriptable\n",
      "Exception at row 900\n",
      "'NoneType' object is not subscriptable\n",
      "Exception at row 901\n",
      "'NoneType' object is not subscriptable\n",
      "Exception at row 902\n",
      "'NoneType' object is not subscriptable\n",
      "Exception at row 903\n",
      "'NoneType' object is not subscriptable\n",
      "Exception at row 904\n",
      "'NoneType' object is not subscriptable\n",
      "Exception at row 905\n",
      "'NoneType' object is not subscriptable\n",
      "Exception at row 906\n",
      "'NoneType' object is not subscriptable\n",
      "Exception at row 907\n",
      "'NoneType' object is not subscriptable\n",
      "Exception at row 908\n",
      "'NoneType' object is not subscriptable\n",
      "Exception at row 909\n",
      "'NoneType' object is not subscriptable\n",
      "Exception at row 910\n",
      "'NoneType' object is not subscriptable\n",
      "Exception at row 911\n",
      "'NoneType' object is not subscriptable\n",
      "Exception at row 912\n",
      "'NoneType' object is not subscriptable\n",
      "Exception at row 913\n",
      "'NoneType' object is not subscriptable\n",
      "Exception at row 914\n",
      "'NoneType' object is not subscriptable\n",
      "Exception at row 915\n",
      "'NoneType' object is not subscriptable\n",
      "Exception at row 916\n",
      "'NoneType' object is not subscriptable\n",
      "Exception at row 917\n",
      "'NoneType' object is not subscriptable\n",
      "Exception at row 918\n",
      "'NoneType' object is not subscriptable\n",
      "Exception at row 919\n",
      "'NoneType' object is not subscriptable\n",
      "Exception at row 920\n",
      "'NoneType' object is not subscriptable\n",
      "Exception at row 921\n",
      "'NoneType' object is not subscriptable\n",
      "Exception at row 922\n",
      "'NoneType' object is not subscriptable\n",
      "Exception at row 923\n",
      "'NoneType' object is not subscriptable\n",
      "Exception at row 924\n",
      "'NoneType' object is not subscriptable\n",
      "Exception at row 925\n",
      "'NoneType' object is not subscriptable\n",
      "Exception at row 926\n",
      "'NoneType' object is not subscriptable\n",
      "Exception at row 927\n",
      "'NoneType' object is not subscriptable\n",
      "Exception at row 928\n",
      "'NoneType' object is not subscriptable\n",
      "Exception at row 929\n",
      "'NoneType' object is not subscriptable\n",
      "Exception at row 930\n",
      "'NoneType' object is not subscriptable\n",
      "Exception at row 931\n",
      "'NoneType' object is not subscriptable\n",
      "Exception at row 932\n",
      "'NoneType' object is not subscriptable\n",
      "Exception at row 933\n",
      "'NoneType' object is not subscriptable\n",
      "Exception at row 934\n",
      "'NoneType' object is not subscriptable\n",
      "Exception at row 935\n",
      "'NoneType' object is not subscriptable\n",
      "Exception at row 936\n",
      "'NoneType' object is not subscriptable\n",
      "Exception at row 937\n",
      "'NoneType' object is not subscriptable\n",
      "Exception at row 938\n",
      "'NoneType' object is not subscriptable\n",
      "Exception at row 939\n",
      "'NoneType' object is not subscriptable\n",
      "Exception at row 940\n",
      "'NoneType' object is not subscriptable\n",
      "Exception at row 941\n",
      "'NoneType' object is not subscriptable\n",
      "Exception at row 942\n",
      "'NoneType' object is not subscriptable\n",
      "Exception at row 943\n",
      "'NoneType' object is not subscriptable\n",
      "Exception at row 944\n",
      "'NoneType' object is not subscriptable\n",
      "Exception at row 945\n",
      "'NoneType' object is not subscriptable\n",
      "Exception at row 946\n",
      "'NoneType' object is not subscriptable\n",
      "Exception at row 947\n",
      "'NoneType' object is not subscriptable\n",
      "Exception at row 948\n",
      "'NoneType' object is not subscriptable\n",
      "Exception at row 949\n",
      "'NoneType' object is not subscriptable\n",
      "Exception at row 950\n",
      "'NoneType' object is not subscriptable\n",
      "Exception at row 951\n",
      "'NoneType' object is not subscriptable\n",
      "Exception at row 952\n",
      "'NoneType' object is not subscriptable\n",
      "Exception at row 953\n",
      "'NoneType' object is not subscriptable\n",
      "Exception at row 954\n",
      "'NoneType' object is not subscriptable\n",
      "Exception at row 955\n",
      "'NoneType' object is not subscriptable\n",
      "Exception at row 956\n",
      "'NoneType' object is not subscriptable\n",
      "Exception at row 957\n",
      "'NoneType' object is not subscriptable\n",
      "Exception at row 958\n",
      "'NoneType' object is not subscriptable\n",
      "Exception at row 959\n",
      "'NoneType' object is not subscriptable\n",
      "Exception at row 960\n",
      "'NoneType' object is not subscriptable\n",
      "Exception at row 961\n",
      "'NoneType' object is not subscriptable\n",
      "Exception at row 962\n",
      "'NoneType' object is not subscriptable\n",
      "Exception at row 963\n",
      "'NoneType' object is not subscriptable\n",
      "Exception at row 964\n",
      "'NoneType' object is not subscriptable\n",
      "Exception at row 965\n",
      "'NoneType' object is not subscriptable\n",
      "Exception at row 966\n",
      "'NoneType' object is not subscriptable\n",
      "Exception at row 967\n",
      "'NoneType' object is not subscriptable\n",
      "Exception at row 968\n",
      "'NoneType' object is not subscriptable\n",
      "Exception at row 969\n",
      "'NoneType' object is not subscriptable\n",
      "Exception at row 970\n",
      "'NoneType' object is not subscriptable\n",
      "Exception at row 971\n",
      "'NoneType' object is not subscriptable\n",
      "Exception at row 972\n",
      "'NoneType' object is not subscriptable\n",
      "Exception at row 973\n",
      "'NoneType' object is not subscriptable\n",
      "Exception at row 974\n",
      "'NoneType' object is not subscriptable\n",
      "Exception at row 975\n",
      "'NoneType' object is not subscriptable\n",
      "Exception at row 976\n",
      "'NoneType' object is not subscriptable\n",
      "Exception at row 977\n",
      "'NoneType' object is not subscriptable\n",
      "Exception at row 978\n",
      "'NoneType' object is not subscriptable\n",
      "Exception at row 979\n",
      "'NoneType' object is not subscriptable\n",
      "Exception at row 980\n",
      "'NoneType' object is not subscriptable\n",
      "Exception at row 981\n",
      "'NoneType' object is not subscriptable\n",
      "Exception at row 982\n",
      "'NoneType' object is not subscriptable\n",
      "Exception at row 983\n",
      "'NoneType' object is not subscriptable\n",
      "Exception at row 984\n",
      "'NoneType' object is not subscriptable\n",
      "Exception at row 985\n",
      "'NoneType' object is not subscriptable\n",
      "Exception at row 986\n",
      "'NoneType' object is not subscriptable\n",
      "Exception at row 987\n",
      "'NoneType' object is not subscriptable\n",
      "Exception at row 988\n",
      "'NoneType' object is not subscriptable\n",
      "Exception at row 989\n",
      "'NoneType' object is not subscriptable\n",
      "Exception at row 990\n",
      "'NoneType' object is not subscriptable\n",
      "Exception at row 991\n",
      "'NoneType' object is not subscriptable\n",
      "Exception at row 992\n",
      "'NoneType' object is not subscriptable\n",
      "Exception at row 993\n",
      "'NoneType' object is not subscriptable\n",
      "Exception at row 994\n",
      "'NoneType' object is not subscriptable\n",
      "Exception at row 995\n",
      "'NoneType' object is not subscriptable\n",
      "Exception at row 996\n",
      "'NoneType' object is not subscriptable\n",
      "Exception at row 997\n",
      "'NoneType' object is not subscriptable\n",
      "Exception at row 998\n",
      "'NoneType' object is not subscriptable\n",
      "Exception at row 999\n",
      "'NoneType' object is not subscriptable\n",
      "Exception at row 1000\n",
      "'NoneType' object is not subscriptable\n",
      "Exception at row 1001\n",
      "'NoneType' object is not subscriptable\n",
      "Exception at row 1002\n",
      "'NoneType' object is not subscriptable\n",
      "Exception at row 1003\n",
      "'NoneType' object is not subscriptable\n",
      "Exception at row 1004\n",
      "'NoneType' object is not subscriptable\n",
      "Exception at row 1005\n",
      "'NoneType' object is not subscriptable\n",
      "Exception at row 1006\n",
      "'NoneType' object is not subscriptable\n",
      "Exception at row 1007\n",
      "'NoneType' object is not subscriptable\n",
      "Exception at row 1008\n",
      "'NoneType' object is not subscriptable\n",
      "Exception at row 1009\n",
      "'NoneType' object is not subscriptable\n",
      "Exception at row 1010\n",
      "'NoneType' object is not subscriptable\n",
      "Exception at row 1011\n",
      "'NoneType' object is not subscriptable\n",
      "Exception at row 1012\n",
      "'NoneType' object is not subscriptable\n",
      "Exception at row 1013\n",
      "'NoneType' object is not subscriptable\n",
      "Exception at row 1014\n",
      "'NoneType' object is not subscriptable\n",
      "Exception at row 1015\n",
      "'NoneType' object is not subscriptable\n",
      "Exception at row 1016\n",
      "'NoneType' object is not subscriptable\n",
      "Exception at row 1017\n",
      "'NoneType' object is not subscriptable\n",
      "Exception at row 1018\n",
      "'NoneType' object is not subscriptable\n",
      "Exception at row 1019\n",
      "'NoneType' object is not subscriptable\n",
      "Exception at row 1020\n",
      "'NoneType' object is not subscriptable\n",
      "Exception at row 1021\n",
      "'NoneType' object is not subscriptable\n",
      "Exception at row 1022\n",
      "'NoneType' object is not subscriptable\n",
      "Exception at row 1023\n",
      "'NoneType' object is not subscriptable\n",
      "Exception at row 1024\n",
      "'NoneType' object is not subscriptable\n",
      "Exception at row 1025\n",
      "'NoneType' object is not subscriptable\n",
      "Exception at row 1026\n",
      "'NoneType' object is not subscriptable\n",
      "Exception at row 1027\n",
      "'NoneType' object is not subscriptable\n",
      "Exception at row 1028\n",
      "'NoneType' object is not subscriptable\n"
     ]
    },
    {
     "name": "stderr",
     "output_type": "stream",
     "text": [
      "Processing row 1243:  31%|███       | 1196/3883 [00:01<00:02, 907.83it/s]"
     ]
    },
    {
     "name": "stdout",
     "output_type": "stream",
     "text": [
      "Exception at row 1029\n",
      "'NoneType' object is not subscriptable\n",
      "Exception at row 1030\n",
      "'NoneType' object is not subscriptable\n",
      "Exception at row 1031\n",
      "'NoneType' object is not subscriptable\n",
      "Exception at row 1032\n",
      "'NoneType' object is not subscriptable\n",
      "Exception at row 1033\n",
      "'NoneType' object is not subscriptable\n",
      "Exception at row 1034\n",
      "'NoneType' object is not subscriptable\n",
      "Exception at row 1035\n",
      "'NoneType' object is not subscriptable\n",
      "Exception at row 1036\n",
      "'NoneType' object is not subscriptable\n",
      "Exception at row 1037\n",
      "'NoneType' object is not subscriptable\n",
      "Exception at row 1038\n",
      "'NoneType' object is not subscriptable\n",
      "Exception at row 1039\n",
      "'NoneType' object is not subscriptable\n",
      "Exception at row 1040\n",
      "'NoneType' object is not subscriptable\n",
      "Exception at row 1041\n",
      "'NoneType' object is not subscriptable\n",
      "Exception at row 1042\n",
      "'NoneType' object is not subscriptable\n",
      "Exception at row 1043\n",
      "'NoneType' object is not subscriptable\n",
      "Exception at row 1044\n",
      "'NoneType' object is not subscriptable\n",
      "Exception at row 1045\n",
      "'NoneType' object is not subscriptable\n",
      "Exception at row 1046\n",
      "'NoneType' object is not subscriptable\n",
      "Exception at row 1047\n",
      "'NoneType' object is not subscriptable\n",
      "Exception at row 1048\n",
      "'NoneType' object is not subscriptable\n",
      "Exception at row 1049\n",
      "'NoneType' object is not subscriptable\n",
      "Exception at row 1050\n",
      "'NoneType' object is not subscriptable\n",
      "Exception at row 1051\n",
      "'NoneType' object is not subscriptable\n",
      "Exception at row 1052\n",
      "'NoneType' object is not subscriptable\n",
      "Exception at row 1053\n",
      "'NoneType' object is not subscriptable\n",
      "Exception at row 1054\n",
      "'NoneType' object is not subscriptable\n",
      "Exception at row 1055\n",
      "'NoneType' object is not subscriptable\n",
      "Exception at row 1056\n",
      "'NoneType' object is not subscriptable\n",
      "Exception at row 1057\n",
      "'NoneType' object is not subscriptable\n",
      "Exception at row 1058\n",
      "'NoneType' object is not subscriptable\n",
      "Exception at row 1059\n",
      "'NoneType' object is not subscriptable\n",
      "Exception at row 1060\n",
      "'NoneType' object is not subscriptable\n",
      "Exception at row 1061\n",
      "'NoneType' object is not subscriptable\n",
      "Exception at row 1062\n",
      "'NoneType' object is not subscriptable\n",
      "Exception at row 1063\n",
      "'NoneType' object is not subscriptable\n",
      "Exception at row 1064\n",
      "'NoneType' object is not subscriptable\n",
      "Exception at row 1065\n",
      "'NoneType' object is not subscriptable\n",
      "Exception at row 1066\n",
      "'NoneType' object is not subscriptable\n",
      "Exception at row 1067\n",
      "'NoneType' object is not subscriptable\n",
      "Exception at row 1068\n",
      "'NoneType' object is not subscriptable\n",
      "Exception at row 1069\n",
      "'NoneType' object is not subscriptable\n",
      "Exception at row 1070\n",
      "'NoneType' object is not subscriptable\n",
      "Exception at row 1071\n",
      "'NoneType' object is not subscriptable\n",
      "Exception at row 1072\n",
      "'NoneType' object is not subscriptable\n",
      "Exception at row 1073\n",
      "'NoneType' object is not subscriptable\n",
      "Exception at row 1074\n",
      "'NoneType' object is not subscriptable\n",
      "Exception at row 1075\n",
      "'NoneType' object is not subscriptable\n",
      "Exception at row 1076\n",
      "'NoneType' object is not subscriptable\n",
      "Exception at row 1077\n",
      "'NoneType' object is not subscriptable\n",
      "Exception at row 1078\n",
      "'NoneType' object is not subscriptable\n",
      "Exception at row 1079\n",
      "'NoneType' object is not subscriptable\n",
      "Exception at row 1080\n",
      "'NoneType' object is not subscriptable\n",
      "Exception at row 1081\n",
      "'NoneType' object is not subscriptable\n",
      "Exception at row 1082\n",
      "'NoneType' object is not subscriptable\n",
      "Exception at row 1083\n",
      "'NoneType' object is not subscriptable\n",
      "Exception at row 1084\n",
      "'NoneType' object is not subscriptable\n",
      "Exception at row 1085\n",
      "'NoneType' object is not subscriptable\n",
      "Exception at row 1086\n",
      "'NoneType' object is not subscriptable\n",
      "Exception at row 1087\n",
      "'NoneType' object is not subscriptable\n",
      "Exception at row 1088\n",
      "'NoneType' object is not subscriptable\n",
      "Exception at row 1089\n",
      "'NoneType' object is not subscriptable\n",
      "Exception at row 1090\n",
      "'NoneType' object is not subscriptable\n",
      "Exception at row 1091\n",
      "'NoneType' object is not subscriptable\n",
      "Exception at row 1092\n",
      "'NoneType' object is not subscriptable\n",
      "Exception at row 1093\n",
      "'NoneType' object is not subscriptable\n",
      "Exception at row 1094\n",
      "'NoneType' object is not subscriptable\n",
      "Exception at row 1095\n",
      "'NoneType' object is not subscriptable\n",
      "Exception at row 1096\n",
      "'NoneType' object is not subscriptable\n",
      "Exception at row 1097\n",
      "'NoneType' object is not subscriptable\n",
      "Exception at row 1098\n",
      "'NoneType' object is not subscriptable\n",
      "Exception at row 1099\n",
      "'NoneType' object is not subscriptable\n",
      "Exception at row 1100\n",
      "'NoneType' object is not subscriptable\n",
      "Exception at row 1101\n",
      "'NoneType' object is not subscriptable\n",
      "Exception at row 1102\n",
      "'NoneType' object is not subscriptable\n",
      "Exception at row 1103\n",
      "'NoneType' object is not subscriptable\n",
      "Exception at row 1104\n",
      "'NoneType' object is not subscriptable\n",
      "Exception at row 1105\n",
      "'NoneType' object is not subscriptable\n",
      "Exception at row 1106\n",
      "'NoneType' object is not subscriptable\n",
      "Exception at row 1107\n",
      "'NoneType' object is not subscriptable\n",
      "Exception at row 1108\n",
      "'NoneType' object is not subscriptable\n",
      "Exception at row 1109\n",
      "'NoneType' object is not subscriptable\n",
      "Exception at row 1110\n",
      "'NoneType' object is not subscriptable\n",
      "Exception at row 1111\n",
      "'NoneType' object is not subscriptable\n",
      "Exception at row 1112\n",
      "'NoneType' object is not subscriptable\n",
      "Exception at row 1113\n",
      "'NoneType' object is not subscriptable\n",
      "Exception at row 1114\n",
      "'NoneType' object is not subscriptable\n",
      "Exception at row 1115\n",
      "'NoneType' object is not subscriptable\n",
      "Exception at row 1116\n",
      "'NoneType' object is not subscriptable\n",
      "Exception at row 1117\n",
      "'NoneType' object is not subscriptable\n",
      "Exception at row 1118\n",
      "'NoneType' object is not subscriptable\n",
      "Exception at row 1119\n",
      "'NoneType' object is not subscriptable\n",
      "Exception at row 1120\n",
      "'NoneType' object is not subscriptable\n",
      "Exception at row 1121\n",
      "'NoneType' object is not subscriptable\n",
      "Exception at row 1122\n",
      "'NoneType' object is not subscriptable\n",
      "Exception at row 1123\n",
      "'NoneType' object is not subscriptable\n",
      "Exception at row 1124\n",
      "'NoneType' object is not subscriptable\n",
      "Exception at row 1125\n",
      "'NoneType' object is not subscriptable\n",
      "Exception at row 1126\n",
      "'NoneType' object is not subscriptable\n",
      "Exception at row 1127\n",
      "'NoneType' object is not subscriptable\n",
      "Exception at row 1128\n",
      "'NoneType' object is not subscriptable\n",
      "Exception at row 1129\n",
      "'NoneType' object is not subscriptable\n",
      "Exception at row 1130\n",
      "'NoneType' object is not subscriptable\n",
      "Exception at row 1131\n",
      "'NoneType' object is not subscriptable\n",
      "Exception at row 1132\n",
      "'NoneType' object is not subscriptable\n",
      "Exception at row 1133\n",
      "'NoneType' object is not subscriptable\n",
      "Exception at row 1134\n",
      "'NoneType' object is not subscriptable\n",
      "Exception at row 1135\n",
      "'NoneType' object is not subscriptable\n",
      "Exception at row 1136\n",
      "'NoneType' object is not subscriptable\n",
      "Exception at row 1137\n",
      "'NoneType' object is not subscriptable\n",
      "Exception at row 1138\n",
      "'NoneType' object is not subscriptable\n",
      "Exception at row 1139\n",
      "'NoneType' object is not subscriptable\n",
      "Exception at row 1140\n",
      "'NoneType' object is not subscriptable\n",
      "Exception at row 1141\n",
      "'NoneType' object is not subscriptable\n",
      "Exception at row 1142\n",
      "'NoneType' object is not subscriptable\n",
      "Exception at row 1143\n",
      "'NoneType' object is not subscriptable\n",
      "Exception at row 1144\n",
      "'NoneType' object is not subscriptable\n",
      "Exception at row 1145\n",
      "'NoneType' object is not subscriptable\n",
      "Exception at row 1146\n",
      "'NoneType' object is not subscriptable\n",
      "Exception at row 1147\n",
      "'NoneType' object is not subscriptable\n",
      "Exception at row 1148\n",
      "'NoneType' object is not subscriptable\n",
      "Exception at row 1149\n",
      "'NoneType' object is not subscriptable\n",
      "Exception at row 1150\n",
      "'NoneType' object is not subscriptable\n",
      "Exception at row 1151\n",
      "'NoneType' object is not subscriptable\n",
      "Exception at row 1152\n",
      "'NoneType' object is not subscriptable\n",
      "Exception at row 1153\n",
      "'NoneType' object is not subscriptable\n",
      "Exception at row 1154\n",
      "'NoneType' object is not subscriptable\n",
      "Exception at row 1155\n",
      "'NoneType' object is not subscriptable\n",
      "Exception at row 1156\n",
      "'NoneType' object is not subscriptable\n",
      "Exception at row 1157\n",
      "'NoneType' object is not subscriptable\n",
      "Exception at row 1158\n",
      "'NoneType' object is not subscriptable\n",
      "Exception at row 1159\n",
      "'NoneType' object is not subscriptable\n",
      "Exception at row 1160\n",
      "'NoneType' object is not subscriptable\n",
      "Exception at row 1161\n",
      "'NoneType' object is not subscriptable\n",
      "Exception at row 1162\n",
      "'NoneType' object is not subscriptable\n",
      "Exception at row 1163\n",
      "'NoneType' object is not subscriptable\n",
      "Exception at row 1164\n",
      "'NoneType' object is not subscriptable\n",
      "Exception at row 1165\n",
      "'NoneType' object is not subscriptable\n",
      "Exception at row 1166\n",
      "'NoneType' object is not subscriptable\n",
      "Exception at row 1167\n",
      "'NoneType' object is not subscriptable\n",
      "Exception at row 1168\n",
      "'NoneType' object is not subscriptable\n",
      "Exception at row 1169\n",
      "'NoneType' object is not subscriptable\n",
      "Exception at row 1170\n",
      "'NoneType' object is not subscriptable\n",
      "Exception at row 1171\n",
      "'NoneType' object is not subscriptable\n",
      "Exception at row 1172\n",
      "'NoneType' object is not subscriptable\n",
      "Exception at row 1173\n",
      "'NoneType' object is not subscriptable\n",
      "Exception at row 1174\n",
      "'NoneType' object is not subscriptable\n",
      "Exception at row 1175\n",
      "'NoneType' object is not subscriptable\n",
      "Exception at row 1176\n",
      "'NoneType' object is not subscriptable\n",
      "Exception at row 1177\n",
      "'NoneType' object is not subscriptable\n",
      "Exception at row 1178\n",
      "'NoneType' object is not subscriptable\n",
      "Exception at row 1179\n",
      "'NoneType' object is not subscriptable\n",
      "Exception at row 1180\n",
      "'NoneType' object is not subscriptable\n",
      "Exception at row 1181\n",
      "'NoneType' object is not subscriptable\n",
      "Exception at row 1182\n",
      "'NoneType' object is not subscriptable\n",
      "Exception at row 1183\n",
      "'NoneType' object is not subscriptable\n",
      "Exception at row 1184\n",
      "'NoneType' object is not subscriptable\n",
      "Exception at row 1185\n",
      "'NoneType' object is not subscriptable\n",
      "Exception at row 1186\n",
      "'NoneType' object is not subscriptable\n",
      "Exception at row 1187\n",
      "'NoneType' object is not subscriptable\n",
      "Exception at row 1188\n",
      "'NoneType' object is not subscriptable\n",
      "Exception at row 1189\n",
      "'NoneType' object is not subscriptable\n",
      "Exception at row 1190\n",
      "'NoneType' object is not subscriptable\n",
      "Exception at row 1191\n",
      "'NoneType' object is not subscriptable\n",
      "Exception at row 1192\n",
      "'NoneType' object is not subscriptable\n",
      "Exception at row 1193\n",
      "'NoneType' object is not subscriptable\n",
      "Exception at row 1194\n",
      "'NoneType' object is not subscriptable\n",
      "Exception at row 1195\n",
      "'NoneType' object is not subscriptable\n",
      "Exception at row 1196\n",
      "'NoneType' object is not subscriptable\n",
      "Exception at row 1197\n",
      "'NoneType' object is not subscriptable\n",
      "Exception at row 1198\n",
      "'NoneType' object is not subscriptable\n",
      "Exception at row 1199\n",
      "'NoneType' object is not subscriptable\n",
      "Exception at row 1200\n",
      "'NoneType' object is not subscriptable\n",
      "Exception at row 1201\n",
      "'NoneType' object is not subscriptable\n",
      "Exception at row 1202\n",
      "'NoneType' object is not subscriptable\n",
      "Exception at row 1203\n",
      "'NoneType' object is not subscriptable\n",
      "Exception at row 1204\n",
      "'NoneType' object is not subscriptable\n",
      "Exception at row 1205\n",
      "'NoneType' object is not subscriptable\n",
      "Exception at row 1206\n",
      "'NoneType' object is not subscriptable\n",
      "Exception at row 1207\n",
      "'NoneType' object is not subscriptable\n",
      "Exception at row 1208\n",
      "'NoneType' object is not subscriptable\n",
      "Exception at row 1209\n",
      "'NoneType' object is not subscriptable\n",
      "Exception at row 1210\n",
      "'NoneType' object is not subscriptable\n",
      "Exception at row 1211\n",
      "'NoneType' object is not subscriptable\n",
      "Exception at row 1212\n",
      "'NoneType' object is not subscriptable\n",
      "Exception at row 1213\n",
      "'NoneType' object is not subscriptable\n",
      "Exception at row 1214\n",
      "'NoneType' object is not subscriptable\n",
      "Exception at row 1215\n",
      "'NoneType' object is not subscriptable\n",
      "Exception at row 1216\n",
      "'NoneType' object is not subscriptable\n",
      "Exception at row 1217\n",
      "'NoneType' object is not subscriptable\n",
      "Exception at row 1218\n",
      "'NoneType' object is not subscriptable\n",
      "Exception at row 1219\n",
      "'NoneType' object is not subscriptable\n",
      "Exception at row 1220\n",
      "'NoneType' object is not subscriptable\n",
      "Exception at row 1221\n",
      "'NoneType' object is not subscriptable\n",
      "Exception at row 1222\n",
      "'NoneType' object is not subscriptable\n",
      "Exception at row 1223\n",
      "'NoneType' object is not subscriptable\n",
      "Exception at row 1224\n",
      "'NoneType' object is not subscriptable\n",
      "Exception at row 1225\n",
      "'NoneType' object is not subscriptable\n",
      "Exception at row 1226\n",
      "'NoneType' object is not subscriptable\n",
      "Exception at row 1227\n",
      "'NoneType' object is not subscriptable\n",
      "Exception at row 1228\n",
      "'NoneType' object is not subscriptable\n",
      "Exception at row 1229\n",
      "'NoneType' object is not subscriptable\n",
      "Exception at row 1230\n",
      "'NoneType' object is not subscriptable\n",
      "Exception at row 1231\n",
      "'NoneType' object is not subscriptable\n",
      "Exception at row 1232\n",
      "'NoneType' object is not subscriptable\n",
      "Exception at row 1233\n",
      "'NoneType' object is not subscriptable\n",
      "Exception at row 1234\n",
      "'NoneType' object is not subscriptable\n",
      "Exception at row 1235\n",
      "'NoneType' object is not subscriptable\n",
      "Exception at row 1236\n",
      "'NoneType' object is not subscriptable\n",
      "Exception at row 1237\n",
      "'NoneType' object is not subscriptable\n",
      "Exception at row 1238\n",
      "'NoneType' object is not subscriptable\n",
      "Exception at row 1239\n",
      "'NoneType' object is not subscriptable\n",
      "Exception at row 1240\n",
      "'NoneType' object is not subscriptable\n",
      "Exception at row 1241\n",
      "'NoneType' object is not subscriptable\n",
      "Exception at row 1242\n",
      "'NoneType' object is not subscriptable\n"
     ]
    },
    {
     "name": "stderr",
     "output_type": "stream",
     "text": [
      "Processing row 1389:  36%|███▌      | 1389/3883 [00:01<00:02, 892.49it/s]"
     ]
    },
    {
     "name": "stdout",
     "output_type": "stream",
     "text": [
      "Exception at row 1243\n",
      "'NoneType' object is not subscriptable\n",
      "Exception at row 1244\n",
      "'NoneType' object is not subscriptable\n",
      "Exception at row 1245\n",
      "'NoneType' object is not subscriptable\n",
      "Exception at row 1246\n",
      "'NoneType' object is not subscriptable\n",
      "Exception at row 1247\n",
      "'NoneType' object is not subscriptable\n",
      "Exception at row 1248\n",
      "'NoneType' object is not subscriptable\n",
      "Exception at row 1249\n",
      "'NoneType' object is not subscriptable\n",
      "Exception at row 1250\n",
      "'NoneType' object is not subscriptable\n",
      "Exception at row 1251\n",
      "'NoneType' object is not subscriptable\n",
      "Exception at row 1252\n",
      "'NoneType' object is not subscriptable\n",
      "Exception at row 1253\n",
      "'NoneType' object is not subscriptable\n",
      "Exception at row 1254\n",
      "'NoneType' object is not subscriptable\n",
      "Exception at row 1255\n",
      "'NoneType' object is not subscriptable\n",
      "Exception at row 1256\n",
      "'NoneType' object is not subscriptable\n",
      "Exception at row 1257\n",
      "'NoneType' object is not subscriptable\n",
      "Exception at row 1258\n",
      "'NoneType' object is not subscriptable\n",
      "Exception at row 1259\n",
      "'NoneType' object is not subscriptable\n",
      "Exception at row 1260\n",
      "'NoneType' object is not subscriptable\n",
      "Exception at row 1261\n",
      "'NoneType' object is not subscriptable\n",
      "Exception at row 1262\n",
      "'NoneType' object is not subscriptable\n",
      "Exception at row 1263\n",
      "'NoneType' object is not subscriptable\n",
      "Exception at row 1264\n",
      "'NoneType' object is not subscriptable\n",
      "Exception at row 1265\n",
      "'NoneType' object is not subscriptable\n",
      "Exception at row 1266\n",
      "'NoneType' object is not subscriptable\n",
      "Exception at row 1267\n",
      "'NoneType' object is not subscriptable\n",
      "Exception at row 1268\n",
      "'NoneType' object is not subscriptable\n",
      "Exception at row 1269\n",
      "'NoneType' object is not subscriptable\n",
      "Exception at row 1270\n",
      "'NoneType' object is not subscriptable\n",
      "Exception at row 1271\n",
      "'NoneType' object is not subscriptable\n",
      "Exception at row 1272\n",
      "'NoneType' object is not subscriptable\n",
      "Exception at row 1273\n",
      "'NoneType' object is not subscriptable\n",
      "Exception at row 1274\n",
      "'NoneType' object is not subscriptable\n",
      "Exception at row 1275\n",
      "'NoneType' object is not subscriptable\n",
      "Exception at row 1276\n",
      "'NoneType' object is not subscriptable\n",
      "Exception at row 1277\n",
      "'NoneType' object is not subscriptable\n",
      "Exception at row 1278\n",
      "'NoneType' object is not subscriptable\n",
      "Exception at row 1279\n",
      "'NoneType' object is not subscriptable\n",
      "Exception at row 1280\n",
      "'NoneType' object is not subscriptable\n",
      "Exception at row 1281\n",
      "'NoneType' object is not subscriptable\n",
      "Exception at row 1282\n",
      "'NoneType' object is not subscriptable\n",
      "Exception at row 1283\n",
      "'NoneType' object is not subscriptable\n",
      "Exception at row 1284\n",
      "'NoneType' object is not subscriptable\n",
      "Exception at row 1285\n",
      "'NoneType' object is not subscriptable\n",
      "Exception at row 1286\n",
      "'NoneType' object is not subscriptable\n",
      "Exception at row 1287\n",
      "'NoneType' object is not subscriptable\n",
      "Exception at row 1288\n",
      "'NoneType' object is not subscriptable\n",
      "Exception at row 1289\n",
      "'NoneType' object is not subscriptable\n",
      "Exception at row 1290\n",
      "'NoneType' object is not subscriptable\n",
      "Exception at row 1291\n",
      "'NoneType' object is not subscriptable\n",
      "Exception at row 1292\n",
      "'NoneType' object is not subscriptable\n",
      "Exception at row 1293\n",
      "'NoneType' object is not subscriptable\n",
      "Exception at row 1294\n",
      "'NoneType' object is not subscriptable\n",
      "Exception at row 1295\n",
      "'NoneType' object is not subscriptable\n",
      "Exception at row 1296\n",
      "'NoneType' object is not subscriptable\n",
      "Exception at row 1297\n",
      "'NoneType' object is not subscriptable\n",
      "Exception at row 1298\n",
      "'NoneType' object is not subscriptable\n",
      "Exception at row 1299\n",
      "'NoneType' object is not subscriptable\n",
      "Exception at row 1300\n",
      "'NoneType' object is not subscriptable\n",
      "Exception at row 1301\n",
      "'NoneType' object is not subscriptable\n",
      "Exception at row 1302\n",
      "'NoneType' object is not subscriptable\n",
      "Exception at row 1303\n",
      "'NoneType' object is not subscriptable\n",
      "Exception at row 1304\n",
      "'NoneType' object is not subscriptable\n",
      "Exception at row 1305\n",
      "'NoneType' object is not subscriptable\n",
      "Exception at row 1306\n",
      "'NoneType' object is not subscriptable\n",
      "Exception at row 1307\n",
      "'NoneType' object is not subscriptable\n",
      "Exception at row 1308\n",
      "'NoneType' object is not subscriptable\n",
      "Exception at row 1309\n",
      "'NoneType' object is not subscriptable\n",
      "Exception at row 1310\n",
      "'NoneType' object is not subscriptable\n",
      "Exception at row 1311\n",
      "'NoneType' object is not subscriptable\n",
      "Exception at row 1312\n",
      "'NoneType' object is not subscriptable\n",
      "Exception at row 1313\n",
      "'NoneType' object is not subscriptable\n",
      "Exception at row 1314\n",
      "'NoneType' object is not subscriptable\n",
      "Exception at row 1315\n",
      "'NoneType' object is not subscriptable\n",
      "Exception at row 1316\n",
      "'NoneType' object is not subscriptable\n",
      "Exception at row 1317\n",
      "'NoneType' object is not subscriptable\n",
      "Exception at row 1318\n",
      "'NoneType' object is not subscriptable\n",
      "Exception at row 1319\n",
      "'NoneType' object is not subscriptable\n",
      "Exception at row 1320\n",
      "'NoneType' object is not subscriptable\n",
      "Exception at row 1321\n",
      "'NoneType' object is not subscriptable\n",
      "Exception at row 1322\n",
      "'NoneType' object is not subscriptable\n",
      "Exception at row 1323\n",
      "'NoneType' object is not subscriptable\n",
      "Exception at row 1324\n",
      "'NoneType' object is not subscriptable\n",
      "Exception at row 1325\n",
      "'NoneType' object is not subscriptable\n",
      "Exception at row 1326\n",
      "'NoneType' object is not subscriptable\n",
      "Exception at row 1327\n",
      "'NoneType' object is not subscriptable\n",
      "Exception at row 1328\n",
      "'NoneType' object is not subscriptable\n",
      "Exception at row 1329\n",
      "'NoneType' object is not subscriptable\n",
      "Exception at row 1330\n",
      "'NoneType' object is not subscriptable\n",
      "Exception at row 1331\n",
      "'NoneType' object is not subscriptable\n",
      "Exception at row 1332\n",
      "'NoneType' object is not subscriptable\n",
      "Exception at row 1333\n",
      "'NoneType' object is not subscriptable\n",
      "Exception at row 1334\n",
      "'NoneType' object is not subscriptable\n",
      "Exception at row 1335\n",
      "'NoneType' object is not subscriptable\n",
      "Exception at row 1336\n",
      "'NoneType' object is not subscriptable\n",
      "Exception at row 1337\n",
      "'NoneType' object is not subscriptable\n",
      "Exception at row 1338\n",
      "'NoneType' object is not subscriptable\n",
      "Exception at row 1339\n",
      "'NoneType' object is not subscriptable\n",
      "Exception at row 1340\n",
      "'NoneType' object is not subscriptable\n",
      "Exception at row 1341\n",
      "'NoneType' object is not subscriptable\n",
      "Exception at row 1342\n",
      "'NoneType' object is not subscriptable\n",
      "Exception at row 1343\n",
      "'NoneType' object is not subscriptable\n",
      "Exception at row 1344\n",
      "'NoneType' object is not subscriptable\n",
      "Exception at row 1345\n",
      "'NoneType' object is not subscriptable\n",
      "Exception at row 1346\n",
      "'NoneType' object is not subscriptable\n",
      "Exception at row 1347\n",
      "'NoneType' object is not subscriptable\n",
      "Exception at row 1348\n",
      "'NoneType' object is not subscriptable\n",
      "Exception at row 1349\n",
      "'NoneType' object is not subscriptable\n",
      "Exception at row 1350\n",
      "'NoneType' object is not subscriptable\n",
      "Exception at row 1351\n",
      "'NoneType' object is not subscriptable\n",
      "Exception at row 1352\n",
      "'NoneType' object is not subscriptable\n",
      "Exception at row 1353\n",
      "'NoneType' object is not subscriptable\n",
      "Exception at row 1354\n",
      "'NoneType' object is not subscriptable\n",
      "Exception at row 1355\n",
      "'NoneType' object is not subscriptable\n",
      "Exception at row 1356\n",
      "'NoneType' object is not subscriptable\n",
      "Exception at row 1357\n",
      "'NoneType' object is not subscriptable\n",
      "Exception at row 1358\n",
      "'NoneType' object is not subscriptable\n",
      "Exception at row 1359\n",
      "'NoneType' object is not subscriptable\n",
      "Exception at row 1360\n",
      "'NoneType' object is not subscriptable\n",
      "Exception at row 1361\n",
      "'NoneType' object is not subscriptable\n",
      "Exception at row 1362\n",
      "'NoneType' object is not subscriptable\n",
      "Exception at row 1363\n",
      "'NoneType' object is not subscriptable\n",
      "Exception at row 1364\n",
      "'NoneType' object is not subscriptable\n",
      "Exception at row 1365\n",
      "'NoneType' object is not subscriptable\n",
      "Exception at row 1366\n",
      "'NoneType' object is not subscriptable\n",
      "Exception at row 1367\n",
      "'NoneType' object is not subscriptable\n",
      "Exception at row 1368\n",
      "'NoneType' object is not subscriptable\n",
      "Exception at row 1369\n",
      "'NoneType' object is not subscriptable\n",
      "Exception at row 1370\n",
      "'NoneType' object is not subscriptable\n",
      "Exception at row 1371\n",
      "'NoneType' object is not subscriptable\n",
      "Exception at row 1372\n",
      "'NoneType' object is not subscriptable\n",
      "Exception at row 1373\n",
      "'NoneType' object is not subscriptable\n",
      "Exception at row 1374\n",
      "'NoneType' object is not subscriptable\n",
      "Exception at row 1375\n",
      "'NoneType' object is not subscriptable\n",
      "Exception at row 1376\n",
      "'NoneType' object is not subscriptable\n",
      "Exception at row 1377\n",
      "'NoneType' object is not subscriptable\n",
      "Exception at row 1378\n",
      "'NoneType' object is not subscriptable\n",
      "Exception at row 1379\n",
      "'NoneType' object is not subscriptable\n",
      "Exception at row 1380\n",
      "'NoneType' object is not subscriptable\n",
      "Exception at row 1381\n",
      "'NoneType' object is not subscriptable\n",
      "Exception at row 1382\n",
      "'NoneType' object is not subscriptable\n",
      "Exception at row 1383\n",
      "'NoneType' object is not subscriptable\n",
      "Exception at row 1384\n",
      "'NoneType' object is not subscriptable\n",
      "Exception at row 1385\n",
      "'NoneType' object is not subscriptable\n",
      "Exception at row 1386\n",
      "'NoneType' object is not subscriptable\n",
      "Exception at row 1387\n",
      "'NoneType' object is not subscriptable\n",
      "Exception at row 1388\n",
      "'NoneType' object is not subscriptable\n"
     ]
    },
    {
     "name": "stderr",
     "output_type": "stream",
     "text": [
      "Processing row 1617:  38%|███▊      | 1493/3883 [00:01<00:02, 904.83it/s]"
     ]
    },
    {
     "name": "stdout",
     "output_type": "stream",
     "text": [
      "Exception at row 1389\n",
      "'NoneType' object is not subscriptable\n",
      "Exception at row 1390\n",
      "'NoneType' object is not subscriptable\n",
      "Exception at row 1391\n",
      "'NoneType' object is not subscriptable\n",
      "Exception at row 1392\n",
      "'NoneType' object is not subscriptable\n",
      "Exception at row 1393\n",
      "'NoneType' object is not subscriptable\n",
      "Exception at row 1394\n",
      "'NoneType' object is not subscriptable\n",
      "Exception at row 1395\n",
      "'NoneType' object is not subscriptable\n",
      "Exception at row 1396\n",
      "'NoneType' object is not subscriptable\n",
      "Exception at row 1397\n",
      "'NoneType' object is not subscriptable\n",
      "Exception at row 1398\n",
      "'NoneType' object is not subscriptable\n",
      "Exception at row 1399\n",
      "'NoneType' object is not subscriptable\n",
      "Exception at row 1400\n",
      "'NoneType' object is not subscriptable\n",
      "Exception at row 1401\n",
      "'NoneType' object is not subscriptable\n",
      "Exception at row 1402\n",
      "'NoneType' object is not subscriptable\n",
      "Exception at row 1403\n",
      "'NoneType' object is not subscriptable\n",
      "Exception at row 1404\n",
      "'NoneType' object is not subscriptable\n",
      "Exception at row 1405\n",
      "'NoneType' object is not subscriptable\n",
      "Exception at row 1406\n",
      "'NoneType' object is not subscriptable\n",
      "Exception at row 1407\n",
      "'NoneType' object is not subscriptable\n",
      "Exception at row 1408\n",
      "'NoneType' object is not subscriptable\n",
      "Exception at row 1409\n",
      "'NoneType' object is not subscriptable\n",
      "Exception at row 1410\n",
      "'NoneType' object is not subscriptable\n",
      "Exception at row 1411\n",
      "'NoneType' object is not subscriptable\n",
      "Exception at row 1412\n",
      "'NoneType' object is not subscriptable\n",
      "Exception at row 1413\n",
      "'NoneType' object is not subscriptable\n",
      "Exception at row 1414\n",
      "'NoneType' object is not subscriptable\n",
      "Exception at row 1415\n",
      "'NoneType' object is not subscriptable\n",
      "Exception at row 1416\n",
      "'NoneType' object is not subscriptable\n",
      "Exception at row 1417\n",
      "'NoneType' object is not subscriptable\n",
      "Exception at row 1418\n",
      "'NoneType' object is not subscriptable\n",
      "Exception at row 1419\n",
      "'NoneType' object is not subscriptable\n",
      "Exception at row 1420\n",
      "'NoneType' object is not subscriptable\n",
      "Exception at row 1421\n",
      "'NoneType' object is not subscriptable\n",
      "Exception at row 1422\n",
      "'NoneType' object is not subscriptable\n",
      "Exception at row 1423\n",
      "'NoneType' object is not subscriptable\n",
      "Exception at row 1424\n",
      "'NoneType' object is not subscriptable\n",
      "Exception at row 1425\n",
      "'NoneType' object is not subscriptable\n",
      "Exception at row 1426\n",
      "'NoneType' object is not subscriptable\n",
      "Exception at row 1427\n",
      "'NoneType' object is not subscriptable\n",
      "Exception at row 1428\n",
      "'NoneType' object is not subscriptable\n",
      "Exception at row 1429\n",
      "'NoneType' object is not subscriptable\n",
      "Exception at row 1430\n",
      "'NoneType' object is not subscriptable\n",
      "Exception at row 1431\n",
      "'NoneType' object is not subscriptable\n",
      "Exception at row 1432\n",
      "'NoneType' object is not subscriptable\n",
      "Exception at row 1433\n",
      "'NoneType' object is not subscriptable\n",
      "Exception at row 1434\n",
      "'NoneType' object is not subscriptable\n",
      "Exception at row 1435\n",
      "'NoneType' object is not subscriptable\n",
      "Exception at row 1436\n",
      "'NoneType' object is not subscriptable\n",
      "Exception at row 1437\n",
      "'NoneType' object is not subscriptable\n",
      "Exception at row 1438\n",
      "'NoneType' object is not subscriptable\n",
      "Exception at row 1439\n",
      "'NoneType' object is not subscriptable\n",
      "Exception at row 1440\n",
      "'NoneType' object is not subscriptable\n",
      "Exception at row 1441\n",
      "'NoneType' object is not subscriptable\n",
      "Exception at row 1442\n",
      "'NoneType' object is not subscriptable\n",
      "Exception at row 1443\n",
      "'NoneType' object is not subscriptable\n",
      "Exception at row 1444\n",
      "'NoneType' object is not subscriptable\n",
      "Exception at row 1445\n",
      "'NoneType' object is not subscriptable\n",
      "Exception at row 1446\n",
      "'NoneType' object is not subscriptable\n",
      "Exception at row 1447\n",
      "'NoneType' object is not subscriptable\n",
      "Exception at row 1448\n",
      "'NoneType' object is not subscriptable\n",
      "Exception at row 1449\n",
      "'NoneType' object is not subscriptable\n",
      "Exception at row 1450\n",
      "'NoneType' object is not subscriptable\n",
      "Exception at row 1451\n",
      "'NoneType' object is not subscriptable\n",
      "Exception at row 1452\n",
      "'NoneType' object is not subscriptable\n",
      "Exception at row 1453\n",
      "'NoneType' object is not subscriptable\n",
      "Exception at row 1454\n",
      "'NoneType' object is not subscriptable\n",
      "Exception at row 1455\n",
      "'NoneType' object is not subscriptable\n",
      "Exception at row 1456\n",
      "'NoneType' object is not subscriptable\n",
      "Exception at row 1457\n",
      "'NoneType' object is not subscriptable\n",
      "Exception at row 1458\n",
      "'NoneType' object is not subscriptable\n",
      "Exception at row 1459\n",
      "'NoneType' object is not subscriptable\n",
      "Exception at row 1460\n",
      "'NoneType' object is not subscriptable\n",
      "Exception at row 1461\n",
      "'NoneType' object is not subscriptable\n",
      "Exception at row 1462\n",
      "'NoneType' object is not subscriptable\n",
      "Exception at row 1463\n",
      "'NoneType' object is not subscriptable\n",
      "Exception at row 1464\n",
      "'NoneType' object is not subscriptable\n",
      "Exception at row 1465\n",
      "'NoneType' object is not subscriptable\n",
      "Exception at row 1466\n",
      "'NoneType' object is not subscriptable\n",
      "Exception at row 1467\n",
      "'NoneType' object is not subscriptable\n",
      "Exception at row 1468\n",
      "'NoneType' object is not subscriptable\n",
      "Exception at row 1469\n",
      "'NoneType' object is not subscriptable\n",
      "Exception at row 1470\n",
      "'NoneType' object is not subscriptable\n",
      "Exception at row 1471\n",
      "'NoneType' object is not subscriptable\n",
      "Exception at row 1472\n",
      "'NoneType' object is not subscriptable\n",
      "Exception at row 1473\n",
      "'NoneType' object is not subscriptable\n",
      "Exception at row 1474\n",
      "'NoneType' object is not subscriptable\n",
      "Exception at row 1475\n",
      "'NoneType' object is not subscriptable\n",
      "Exception at row 1476\n",
      "'NoneType' object is not subscriptable\n",
      "Exception at row 1477\n",
      "'NoneType' object is not subscriptable\n",
      "Exception at row 1478\n",
      "'NoneType' object is not subscriptable\n",
      "Exception at row 1479\n",
      "'NoneType' object is not subscriptable\n",
      "Exception at row 1480\n",
      "'NoneType' object is not subscriptable\n",
      "Exception at row 1481\n",
      "'NoneType' object is not subscriptable\n",
      "Exception at row 1482\n",
      "'NoneType' object is not subscriptable\n",
      "Exception at row 1483\n",
      "'NoneType' object is not subscriptable\n",
      "Exception at row 1484\n",
      "'NoneType' object is not subscriptable\n",
      "Exception at row 1485\n",
      "'NoneType' object is not subscriptable\n",
      "Exception at row 1486\n",
      "'NoneType' object is not subscriptable\n",
      "Exception at row 1487\n",
      "'NoneType' object is not subscriptable\n",
      "Exception at row 1488\n",
      "'NoneType' object is not subscriptable\n",
      "Exception at row 1489\n",
      "'NoneType' object is not subscriptable\n",
      "Exception at row 1490\n",
      "'NoneType' object is not subscriptable\n",
      "Exception at row 1491\n",
      "'NoneType' object is not subscriptable\n",
      "Exception at row 1492\n",
      "'NoneType' object is not subscriptable\n",
      "Exception at row 1493\n",
      "'NoneType' object is not subscriptable\n",
      "Exception at row 1494\n",
      "'NoneType' object is not subscriptable\n",
      "Exception at row 1495\n",
      "'NoneType' object is not subscriptable\n",
      "Exception at row 1496\n",
      "'NoneType' object is not subscriptable\n",
      "Exception at row 1497\n",
      "'NoneType' object is not subscriptable\n",
      "Exception at row 1498\n",
      "'NoneType' object is not subscriptable\n",
      "Exception at row 1499\n",
      "'NoneType' object is not subscriptable\n",
      "Exception at row 1500\n",
      "'NoneType' object is not subscriptable\n",
      "Exception at row 1501\n",
      "'NoneType' object is not subscriptable\n",
      "Exception at row 1502\n",
      "'NoneType' object is not subscriptable\n",
      "Exception at row 1503\n",
      "'NoneType' object is not subscriptable\n",
      "Exception at row 1504\n",
      "'NoneType' object is not subscriptable\n",
      "Exception at row 1505\n",
      "'NoneType' object is not subscriptable\n",
      "Exception at row 1506\n",
      "'NoneType' object is not subscriptable\n",
      "Exception at row 1507\n",
      "'NoneType' object is not subscriptable\n",
      "Exception at row 1508\n",
      "'NoneType' object is not subscriptable\n",
      "Exception at row 1509\n",
      "'NoneType' object is not subscriptable\n",
      "Exception at row 1510\n",
      "'NoneType' object is not subscriptable\n",
      "Exception at row 1511\n",
      "'NoneType' object is not subscriptable\n",
      "Exception at row 1512\n",
      "'NoneType' object is not subscriptable\n",
      "Exception at row 1513\n",
      "'NoneType' object is not subscriptable\n",
      "Exception at row 1514\n",
      "'NoneType' object is not subscriptable\n",
      "Exception at row 1515\n",
      "'NoneType' object is not subscriptable\n",
      "Exception at row 1516\n",
      "'NoneType' object is not subscriptable\n",
      "Exception at row 1517\n",
      "'NoneType' object is not subscriptable\n",
      "Exception at row 1518\n",
      "'NoneType' object is not subscriptable\n",
      "Exception at row 1519\n",
      "'NoneType' object is not subscriptable\n",
      "Exception at row 1520\n",
      "'NoneType' object is not subscriptable\n",
      "Exception at row 1521\n",
      "'NoneType' object is not subscriptable\n",
      "Exception at row 1522\n",
      "'NoneType' object is not subscriptable\n",
      "Exception at row 1523\n",
      "'NoneType' object is not subscriptable\n",
      "Exception at row 1524\n",
      "'NoneType' object is not subscriptable\n",
      "Exception at row 1525\n",
      "'NoneType' object is not subscriptable\n",
      "Exception at row 1526\n",
      "'NoneType' object is not subscriptable\n",
      "Exception at row 1527\n",
      "'NoneType' object is not subscriptable\n",
      "Exception at row 1528\n",
      "'NoneType' object is not subscriptable\n",
      "Exception at row 1529\n",
      "'NoneType' object is not subscriptable\n",
      "Exception at row 1530\n",
      "'NoneType' object is not subscriptable\n",
      "Exception at row 1531\n",
      "'NoneType' object is not subscriptable\n",
      "Exception at row 1532\n",
      "'NoneType' object is not subscriptable\n",
      "Exception at row 1533\n",
      "'NoneType' object is not subscriptable\n",
      "Exception at row 1534\n",
      "'NoneType' object is not subscriptable\n",
      "Exception at row 1535\n",
      "'NoneType' object is not subscriptable\n",
      "Exception at row 1536\n",
      "'NoneType' object is not subscriptable\n",
      "Exception at row 1537\n",
      "'NoneType' object is not subscriptable\n",
      "Exception at row 1538\n",
      "'NoneType' object is not subscriptable\n",
      "Exception at row 1539\n",
      "'NoneType' object is not subscriptable\n",
      "Exception at row 1540\n",
      "'NoneType' object is not subscriptable\n",
      "Exception at row 1541\n",
      "'NoneType' object is not subscriptable\n",
      "Exception at row 1542\n",
      "'NoneType' object is not subscriptable\n",
      "Exception at row 1543\n",
      "'NoneType' object is not subscriptable\n",
      "Exception at row 1544\n",
      "'NoneType' object is not subscriptable\n",
      "Exception at row 1545\n",
      "'NoneType' object is not subscriptable\n",
      "Exception at row 1546\n",
      "'NoneType' object is not subscriptable\n",
      "Exception at row 1547\n",
      "'NoneType' object is not subscriptable\n",
      "Exception at row 1548\n",
      "'NoneType' object is not subscriptable\n",
      "Exception at row 1549\n",
      "'NoneType' object is not subscriptable\n",
      "Exception at row 1550\n",
      "'NoneType' object is not subscriptable\n",
      "Exception at row 1551\n",
      "'NoneType' object is not subscriptable\n",
      "Exception at row 1552\n",
      "'NoneType' object is not subscriptable\n",
      "Exception at row 1553\n",
      "'NoneType' object is not subscriptable\n",
      "Exception at row 1554\n",
      "'NoneType' object is not subscriptable\n",
      "Exception at row 1555\n",
      "'NoneType' object is not subscriptable\n",
      "Exception at row 1556\n",
      "'NoneType' object is not subscriptable\n",
      "Exception at row 1557\n",
      "'NoneType' object is not subscriptable\n",
      "Exception at row 1558\n",
      "'NoneType' object is not subscriptable\n",
      "Exception at row 1559\n",
      "'NoneType' object is not subscriptable\n",
      "Exception at row 1560\n",
      "'NoneType' object is not subscriptable\n",
      "Exception at row 1561\n",
      "'NoneType' object is not subscriptable\n",
      "Exception at row 1562\n",
      "'NoneType' object is not subscriptable\n",
      "Exception at row 1563\n",
      "'NoneType' object is not subscriptable\n",
      "Exception at row 1564\n",
      "'NoneType' object is not subscriptable\n",
      "Exception at row 1565\n",
      "'NoneType' object is not subscriptable\n",
      "Exception at row 1566\n",
      "'NoneType' object is not subscriptable\n",
      "Exception at row 1567\n",
      "'NoneType' object is not subscriptable\n",
      "Exception at row 1568\n",
      "'NoneType' object is not subscriptable\n",
      "Exception at row 1569\n",
      "'NoneType' object is not subscriptable\n",
      "Exception at row 1570\n",
      "'NoneType' object is not subscriptable\n",
      "Exception at row 1571\n",
      "'NoneType' object is not subscriptable\n",
      "Exception at row 1572\n",
      "'NoneType' object is not subscriptable\n",
      "Exception at row 1573\n",
      "'NoneType' object is not subscriptable\n",
      "Exception at row 1574\n",
      "'NoneType' object is not subscriptable\n",
      "Exception at row 1575\n",
      "'NoneType' object is not subscriptable\n",
      "Exception at row 1576\n",
      "'NoneType' object is not subscriptable\n",
      "Exception at row 1577\n",
      "'NoneType' object is not subscriptable\n",
      "Exception at row 1578\n",
      "'NoneType' object is not subscriptable\n",
      "Exception at row 1579\n",
      "'NoneType' object is not subscriptable\n",
      "Exception at row 1580\n",
      "'NoneType' object is not subscriptable\n",
      "Exception at row 1581\n",
      "'NoneType' object is not subscriptable\n",
      "Exception at row 1582\n",
      "'NoneType' object is not subscriptable\n",
      "Exception at row 1583\n",
      "'NoneType' object is not subscriptable\n",
      "Exception at row 1584\n",
      "'NoneType' object is not subscriptable\n",
      "Exception at row 1585\n",
      "'NoneType' object is not subscriptable\n",
      "Exception at row 1586\n",
      "'NoneType' object is not subscriptable\n",
      "Exception at row 1587\n",
      "'NoneType' object is not subscriptable\n",
      "Exception at row 1588\n",
      "'NoneType' object is not subscriptable\n",
      "Exception at row 1589\n",
      "'NoneType' object is not subscriptable\n",
      "Exception at row 1590\n",
      "'NoneType' object is not subscriptable\n",
      "Exception at row 1591\n",
      "'NoneType' object is not subscriptable\n",
      "Exception at row 1592\n",
      "'NoneType' object is not subscriptable\n",
      "Exception at row 1593\n",
      "'NoneType' object is not subscriptable\n",
      "Exception at row 1594\n",
      "'NoneType' object is not subscriptable\n",
      "Exception at row 1595\n",
      "'NoneType' object is not subscriptable\n",
      "Exception at row 1596\n",
      "'NoneType' object is not subscriptable\n",
      "Exception at row 1597\n",
      "'NoneType' object is not subscriptable\n",
      "Exception at row 1598\n",
      "'NoneType' object is not subscriptable\n",
      "Exception at row 1599\n",
      "'NoneType' object is not subscriptable\n",
      "Exception at row 1600\n",
      "'NoneType' object is not subscriptable\n",
      "Exception at row 1601\n",
      "'NoneType' object is not subscriptable\n",
      "Exception at row 1602\n",
      "'NoneType' object is not subscriptable\n",
      "Exception at row 1603\n",
      "'NoneType' object is not subscriptable\n",
      "Exception at row 1604\n",
      "'NoneType' object is not subscriptable\n",
      "Exception at row 1605\n",
      "'NoneType' object is not subscriptable\n",
      "Exception at row 1606\n",
      "'NoneType' object is not subscriptable\n",
      "Exception at row 1607\n",
      "'NoneType' object is not subscriptable\n",
      "Exception at row 1608\n",
      "'NoneType' object is not subscriptable\n",
      "Exception at row 1609\n",
      "'NoneType' object is not subscriptable\n",
      "Exception at row 1610\n",
      "'NoneType' object is not subscriptable\n",
      "Exception at row 1611\n",
      "'NoneType' object is not subscriptable\n",
      "Exception at row 1612\n",
      "'NoneType' object is not subscriptable\n",
      "Exception at row 1613\n",
      "'NoneType' object is not subscriptable\n",
      "Exception at row 1614\n",
      "'NoneType' object is not subscriptable\n",
      "Exception at row 1615\n",
      "'NoneType' object is not subscriptable\n",
      "Exception at row 1616\n",
      "'NoneType' object is not subscriptable\n"
     ]
    },
    {
     "name": "stderr",
     "output_type": "stream",
     "text": [
      "Processing row 1817:  45%|████▍     | 1742/3883 [00:01<00:02, 866.59it/s]"
     ]
    },
    {
     "name": "stdout",
     "output_type": "stream",
     "text": [
      "Exception at row 1617\n",
      "'NoneType' object is not subscriptable\n",
      "Exception at row 1618\n",
      "'NoneType' object is not subscriptable\n",
      "Exception at row 1619\n",
      "'NoneType' object is not subscriptable\n",
      "Exception at row 1620\n",
      "'NoneType' object is not subscriptable\n",
      "Exception at row 1621\n",
      "'NoneType' object is not subscriptable\n",
      "Exception at row 1622\n",
      "'NoneType' object is not subscriptable\n",
      "Exception at row 1623\n",
      "'NoneType' object is not subscriptable\n",
      "Exception at row 1624\n",
      "'NoneType' object is not subscriptable\n",
      "Exception at row 1625\n",
      "'NoneType' object is not subscriptable\n",
      "Exception at row 1626\n",
      "'NoneType' object is not subscriptable\n",
      "Exception at row 1627\n",
      "'NoneType' object is not subscriptable\n",
      "Exception at row 1628\n",
      "'NoneType' object is not subscriptable\n",
      "Exception at row 1629\n",
      "'NoneType' object is not subscriptable\n",
      "Exception at row 1630\n",
      "'NoneType' object is not subscriptable\n",
      "Exception at row 1631\n",
      "'NoneType' object is not subscriptable\n",
      "Exception at row 1632\n",
      "'NoneType' object is not subscriptable\n",
      "Exception at row 1633\n",
      "'NoneType' object is not subscriptable\n",
      "Exception at row 1634\n",
      "'NoneType' object is not subscriptable\n",
      "Exception at row 1635\n",
      "'NoneType' object is not subscriptable\n",
      "Exception at row 1636\n",
      "'NoneType' object is not subscriptable\n",
      "Exception at row 1637\n",
      "'NoneType' object is not subscriptable\n",
      "Exception at row 1638\n",
      "'NoneType' object is not subscriptable\n",
      "Exception at row 1639\n",
      "'NoneType' object is not subscriptable\n",
      "Exception at row 1640\n",
      "'NoneType' object is not subscriptable\n",
      "Exception at row 1641\n",
      "'NoneType' object is not subscriptable\n",
      "Exception at row 1642\n",
      "'NoneType' object is not subscriptable\n",
      "Exception at row 1643\n",
      "'NoneType' object is not subscriptable\n",
      "Exception at row 1644\n",
      "'NoneType' object is not subscriptable\n",
      "Exception at row 1645\n",
      "'NoneType' object is not subscriptable\n",
      "Exception at row 1646\n",
      "'NoneType' object is not subscriptable\n",
      "Exception at row 1647\n",
      "'NoneType' object is not subscriptable\n",
      "Exception at row 1648\n",
      "'NoneType' object is not subscriptable\n",
      "Exception at row 1649\n",
      "'NoneType' object is not subscriptable\n",
      "Exception at row 1650\n",
      "'NoneType' object is not subscriptable\n",
      "Exception at row 1651\n",
      "'NoneType' object is not subscriptable\n",
      "Exception at row 1652\n",
      "'NoneType' object is not subscriptable\n",
      "Exception at row 1653\n",
      "'NoneType' object is not subscriptable\n",
      "Exception at row 1654\n",
      "'NoneType' object is not subscriptable\n",
      "Exception at row 1655\n",
      "'NoneType' object is not subscriptable\n",
      "Exception at row 1656\n",
      "'NoneType' object is not subscriptable\n",
      "Exception at row 1657\n",
      "'NoneType' object is not subscriptable\n",
      "Exception at row 1658\n",
      "'NoneType' object is not subscriptable\n",
      "Exception at row 1659\n",
      "'NoneType' object is not subscriptable\n",
      "Exception at row 1660\n",
      "'NoneType' object is not subscriptable\n",
      "Exception at row 1661\n",
      "'NoneType' object is not subscriptable\n",
      "Exception at row 1662\n",
      "'NoneType' object is not subscriptable\n",
      "Exception at row 1663\n",
      "'NoneType' object is not subscriptable\n",
      "Exception at row 1664\n",
      "'NoneType' object is not subscriptable\n",
      "Exception at row 1665\n",
      "'NoneType' object is not subscriptable\n",
      "Exception at row 1666\n",
      "'NoneType' object is not subscriptable\n",
      "Exception at row 1667\n",
      "'NoneType' object is not subscriptable\n",
      "Exception at row 1668\n",
      "'NoneType' object is not subscriptable\n",
      "Exception at row 1669\n",
      "'NoneType' object is not subscriptable\n",
      "Exception at row 1670\n",
      "'NoneType' object is not subscriptable\n",
      "Exception at row 1671\n",
      "'NoneType' object is not subscriptable\n",
      "Exception at row 1672\n",
      "'NoneType' object is not subscriptable\n",
      "Exception at row 1673\n",
      "'NoneType' object is not subscriptable\n",
      "Exception at row 1674\n",
      "'NoneType' object is not subscriptable\n",
      "Exception at row 1675\n",
      "'NoneType' object is not subscriptable\n",
      "Exception at row 1676\n",
      "'NoneType' object is not subscriptable\n",
      "Exception at row 1677\n",
      "'NoneType' object is not subscriptable\n",
      "Exception at row 1678\n",
      "'NoneType' object is not subscriptable\n",
      "Exception at row 1679\n",
      "'NoneType' object is not subscriptable\n",
      "Exception at row 1680\n",
      "'NoneType' object is not subscriptable\n",
      "Exception at row 1681\n",
      "'NoneType' object is not subscriptable\n",
      "Exception at row 1682\n",
      "'NoneType' object is not subscriptable\n",
      "Exception at row 1683\n",
      "'NoneType' object is not subscriptable\n",
      "Exception at row 1684\n",
      "'NoneType' object is not subscriptable\n",
      "Exception at row 1685\n",
      "'NoneType' object is not subscriptable\n",
      "Exception at row 1686\n",
      "'NoneType' object is not subscriptable\n",
      "Exception at row 1687\n",
      "'NoneType' object is not subscriptable\n",
      "Exception at row 1688\n",
      "'NoneType' object is not subscriptable\n",
      "Exception at row 1689\n",
      "'NoneType' object is not subscriptable\n",
      "Exception at row 1690\n",
      "'NoneType' object is not subscriptable\n",
      "Exception at row 1691\n",
      "'NoneType' object is not subscriptable\n",
      "Exception at row 1692\n",
      "'NoneType' object is not subscriptable\n",
      "Exception at row 1693\n",
      "'NoneType' object is not subscriptable\n",
      "Exception at row 1694\n",
      "'NoneType' object is not subscriptable\n",
      "Exception at row 1695\n",
      "'NoneType' object is not subscriptable\n",
      "Exception at row 1696\n",
      "'NoneType' object is not subscriptable\n",
      "Exception at row 1697\n",
      "'NoneType' object is not subscriptable\n",
      "Exception at row 1698\n",
      "'NoneType' object is not subscriptable\n",
      "Exception at row 1699\n",
      "'NoneType' object is not subscriptable\n",
      "Exception at row 1700\n",
      "'NoneType' object is not subscriptable\n",
      "Exception at row 1701\n",
      "'NoneType' object is not subscriptable\n",
      "Exception at row 1702\n",
      "'NoneType' object is not subscriptable\n",
      "Exception at row 1703\n",
      "'NoneType' object is not subscriptable\n",
      "Exception at row 1704\n",
      "'NoneType' object is not subscriptable\n",
      "Exception at row 1705\n",
      "'NoneType' object is not subscriptable\n",
      "Exception at row 1706\n",
      "'NoneType' object is not subscriptable\n",
      "Exception at row 1707\n",
      "'NoneType' object is not subscriptable\n",
      "Exception at row 1708\n",
      "'NoneType' object is not subscriptable\n",
      "Exception at row 1709\n",
      "'NoneType' object is not subscriptable\n",
      "Exception at row 1710\n",
      "'NoneType' object is not subscriptable\n",
      "Exception at row 1711\n",
      "'NoneType' object is not subscriptable\n",
      "Exception at row 1712\n",
      "'NoneType' object is not subscriptable\n",
      "Exception at row 1713\n",
      "'NoneType' object is not subscriptable\n",
      "Exception at row 1714\n",
      "'NoneType' object is not subscriptable\n",
      "Exception at row 1715\n",
      "'NoneType' object is not subscriptable\n",
      "Exception at row 1716\n",
      "'NoneType' object is not subscriptable\n",
      "Exception at row 1717\n",
      "'NoneType' object is not subscriptable\n",
      "Exception at row 1718\n",
      "'NoneType' object is not subscriptable\n",
      "Exception at row 1719\n",
      "'NoneType' object is not subscriptable\n",
      "Exception at row 1720\n",
      "'NoneType' object is not subscriptable\n",
      "Exception at row 1721\n",
      "'NoneType' object is not subscriptable\n",
      "Exception at row 1722\n",
      "'NoneType' object is not subscriptable\n",
      "Exception at row 1723\n",
      "'NoneType' object is not subscriptable\n",
      "Exception at row 1724\n",
      "'NoneType' object is not subscriptable\n",
      "Exception at row 1725\n",
      "'NoneType' object is not subscriptable\n",
      "Exception at row 1726\n",
      "'NoneType' object is not subscriptable\n",
      "Exception at row 1727\n",
      "'NoneType' object is not subscriptable\n",
      "Exception at row 1728\n",
      "'NoneType' object is not subscriptable\n",
      "Exception at row 1729\n",
      "'NoneType' object is not subscriptable\n",
      "Exception at row 1730\n",
      "'NoneType' object is not subscriptable\n",
      "Exception at row 1731\n",
      "'NoneType' object is not subscriptable\n",
      "Exception at row 1732\n",
      "'NoneType' object is not subscriptable\n",
      "Exception at row 1733\n",
      "'NoneType' object is not subscriptable\n",
      "Exception at row 1734\n",
      "'NoneType' object is not subscriptable\n",
      "Exception at row 1735\n",
      "'NoneType' object is not subscriptable\n",
      "Exception at row 1736\n",
      "'NoneType' object is not subscriptable\n",
      "Exception at row 1737\n",
      "'NoneType' object is not subscriptable\n",
      "Exception at row 1738\n",
      "'NoneType' object is not subscriptable\n",
      "Exception at row 1739\n",
      "'NoneType' object is not subscriptable\n",
      "Exception at row 1740\n",
      "'NoneType' object is not subscriptable\n",
      "Exception at row 1741\n",
      "'NoneType' object is not subscriptable\n",
      "Exception at row 1742\n",
      "'NoneType' object is not subscriptable\n",
      "Exception at row 1743\n",
      "'NoneType' object is not subscriptable\n",
      "Exception at row 1744\n",
      "'NoneType' object is not subscriptable\n",
      "Exception at row 1745\n",
      "'NoneType' object is not subscriptable\n",
      "Exception at row 1746\n",
      "'NoneType' object is not subscriptable\n",
      "Exception at row 1747\n",
      "'NoneType' object is not subscriptable\n",
      "Exception at row 1748\n",
      "'NoneType' object is not subscriptable\n",
      "Exception at row 1749\n",
      "'NoneType' object is not subscriptable\n",
      "Exception at row 1750\n",
      "'NoneType' object is not subscriptable\n",
      "Exception at row 1751\n",
      "'NoneType' object is not subscriptable\n",
      "Exception at row 1752\n",
      "'NoneType' object is not subscriptable\n",
      "Exception at row 1753\n",
      "'NoneType' object is not subscriptable\n",
      "Exception at row 1754\n",
      "'NoneType' object is not subscriptable\n",
      "Exception at row 1755\n",
      "'NoneType' object is not subscriptable\n",
      "Exception at row 1756\n",
      "'NoneType' object is not subscriptable\n",
      "Exception at row 1757\n",
      "'NoneType' object is not subscriptable\n",
      "Exception at row 1758\n",
      "'NoneType' object is not subscriptable\n",
      "Exception at row 1759\n",
      "'NoneType' object is not subscriptable\n",
      "Exception at row 1760\n",
      "'NoneType' object is not subscriptable\n",
      "Exception at row 1761\n",
      "'NoneType' object is not subscriptable\n",
      "Exception at row 1762\n",
      "'NoneType' object is not subscriptable\n",
      "Exception at row 1763\n",
      "'NoneType' object is not subscriptable\n",
      "Exception at row 1764\n",
      "'NoneType' object is not subscriptable\n",
      "Exception at row 1765\n",
      "'NoneType' object is not subscriptable\n",
      "Exception at row 1766\n",
      "'NoneType' object is not subscriptable\n",
      "Exception at row 1767\n",
      "'NoneType' object is not subscriptable\n",
      "Exception at row 1768\n",
      "'NoneType' object is not subscriptable\n",
      "Exception at row 1769\n",
      "'NoneType' object is not subscriptable\n",
      "Exception at row 1770\n",
      "'NoneType' object is not subscriptable\n",
      "Exception at row 1771\n",
      "'NoneType' object is not subscriptable\n",
      "Exception at row 1772\n",
      "'NoneType' object is not subscriptable\n",
      "Exception at row 1773\n",
      "'NoneType' object is not subscriptable\n",
      "Exception at row 1774\n",
      "'NoneType' object is not subscriptable\n",
      "Exception at row 1775\n",
      "'NoneType' object is not subscriptable\n",
      "Exception at row 1776\n",
      "'NoneType' object is not subscriptable\n",
      "Exception at row 1777\n",
      "'NoneType' object is not subscriptable\n",
      "Exception at row 1778\n",
      "'NoneType' object is not subscriptable\n",
      "Exception at row 1779\n",
      "'NoneType' object is not subscriptable\n",
      "Exception at row 1780\n",
      "'NoneType' object is not subscriptable\n",
      "Exception at row 1781\n",
      "'NoneType' object is not subscriptable\n",
      "Exception at row 1782\n",
      "'NoneType' object is not subscriptable\n",
      "Exception at row 1783\n",
      "'NoneType' object is not subscriptable\n",
      "Exception at row 1784\n",
      "'NoneType' object is not subscriptable\n",
      "Exception at row 1785\n",
      "'NoneType' object is not subscriptable\n",
      "Exception at row 1786\n",
      "'NoneType' object is not subscriptable\n",
      "Exception at row 1787\n",
      "'NoneType' object is not subscriptable\n",
      "Exception at row 1788\n",
      "'NoneType' object is not subscriptable\n",
      "Exception at row 1789\n",
      "'NoneType' object is not subscriptable\n",
      "Exception at row 1790\n",
      "'NoneType' object is not subscriptable\n",
      "Exception at row 1791\n",
      "'NoneType' object is not subscriptable\n",
      "Exception at row 1792\n",
      "'NoneType' object is not subscriptable\n",
      "Exception at row 1793\n",
      "'NoneType' object is not subscriptable\n",
      "Exception at row 1794\n",
      "'NoneType' object is not subscriptable\n",
      "Exception at row 1795\n",
      "'NoneType' object is not subscriptable\n",
      "Exception at row 1796\n",
      "'NoneType' object is not subscriptable\n",
      "Exception at row 1797\n",
      "'NoneType' object is not subscriptable\n",
      "Exception at row 1798\n",
      "'NoneType' object is not subscriptable\n",
      "Exception at row 1799\n",
      "'NoneType' object is not subscriptable\n",
      "Exception at row 1800\n",
      "'NoneType' object is not subscriptable\n",
      "Exception at row 1801\n",
      "'NoneType' object is not subscriptable\n",
      "Exception at row 1802\n",
      "'NoneType' object is not subscriptable\n",
      "Exception at row 1803\n",
      "'NoneType' object is not subscriptable\n",
      "Exception at row 1804\n",
      "'NoneType' object is not subscriptable\n",
      "Exception at row 1805\n",
      "'NoneType' object is not subscriptable\n",
      "Exception at row 1806\n",
      "'NoneType' object is not subscriptable\n",
      "Exception at row 1807\n",
      "'NoneType' object is not subscriptable\n",
      "Exception at row 1808\n",
      "'NoneType' object is not subscriptable\n",
      "Exception at row 1809\n",
      "'NoneType' object is not subscriptable\n",
      "Exception at row 1810\n",
      "'NoneType' object is not subscriptable\n",
      "Exception at row 1811\n",
      "'NoneType' object is not subscriptable\n",
      "Exception at row 1812\n",
      "'NoneType' object is not subscriptable\n",
      "Exception at row 1813\n",
      "'NoneType' object is not subscriptable\n",
      "Exception at row 1814\n",
      "'NoneType' object is not subscriptable\n",
      "Exception at row 1815\n",
      "'NoneType' object is not subscriptable\n",
      "Exception at row 1816\n",
      "'NoneType' object is not subscriptable\n"
     ]
    },
    {
     "name": "stderr",
     "output_type": "stream",
     "text": [
      "Processing row 2033:  51%|█████▏    | 1991/3883 [00:02<00:01, 990.80it/s]"
     ]
    },
    {
     "name": "stdout",
     "output_type": "stream",
     "text": [
      "Exception at row 1817\n",
      "'NoneType' object is not subscriptable\n",
      "Exception at row 1818\n",
      "'NoneType' object is not subscriptable\n",
      "Exception at row 1819\n",
      "'NoneType' object is not subscriptable\n",
      "Exception at row 1820\n",
      "'NoneType' object is not subscriptable\n",
      "Exception at row 1821\n",
      "'NoneType' object is not subscriptable\n",
      "Exception at row 1822\n",
      "'NoneType' object is not subscriptable\n",
      "Exception at row 1823\n",
      "'NoneType' object is not subscriptable\n",
      "Exception at row 1824\n",
      "'NoneType' object is not subscriptable\n",
      "Exception at row 1825\n",
      "'NoneType' object is not subscriptable\n",
      "Exception at row 1826\n",
      "'NoneType' object is not subscriptable\n",
      "Exception at row 1827\n",
      "'NoneType' object is not subscriptable\n",
      "Exception at row 1828\n",
      "'NoneType' object is not subscriptable\n",
      "Exception at row 1829\n",
      "'NoneType' object is not subscriptable\n",
      "Exception at row 1830\n",
      "'NoneType' object is not subscriptable\n",
      "Exception at row 1831\n",
      "'NoneType' object is not subscriptable\n",
      "Exception at row 1832\n",
      "'NoneType' object is not subscriptable\n",
      "Exception at row 1833\n",
      "'NoneType' object is not subscriptable\n",
      "Exception at row 1834\n",
      "'NoneType' object is not subscriptable\n",
      "Exception at row 1835\n",
      "'NoneType' object is not subscriptable\n",
      "Exception at row 1836\n",
      "'NoneType' object is not subscriptable\n",
      "Exception at row 1837\n",
      "'NoneType' object is not subscriptable\n",
      "Exception at row 1838\n",
      "'NoneType' object is not subscriptable\n",
      "Exception at row 1839\n",
      "'NoneType' object is not subscriptable\n",
      "Exception at row 1840\n",
      "'NoneType' object is not subscriptable\n",
      "Exception at row 1841\n",
      "'NoneType' object is not subscriptable\n",
      "Exception at row 1842\n",
      "'NoneType' object is not subscriptable\n",
      "Exception at row 1843\n",
      "'NoneType' object is not subscriptable\n",
      "Exception at row 1844\n",
      "'NoneType' object is not subscriptable\n",
      "Exception at row 1845\n",
      "'NoneType' object is not subscriptable\n",
      "Exception at row 1846\n",
      "'NoneType' object is not subscriptable\n",
      "Exception at row 1847\n",
      "'NoneType' object is not subscriptable\n",
      "Exception at row 1848\n",
      "'NoneType' object is not subscriptable\n",
      "Exception at row 1849\n",
      "'NoneType' object is not subscriptable\n",
      "Exception at row 1850\n",
      "'NoneType' object is not subscriptable\n",
      "Exception at row 1851\n",
      "'NoneType' object is not subscriptable\n",
      "Exception at row 1852\n",
      "'NoneType' object is not subscriptable\n",
      "Exception at row 1853\n",
      "'NoneType' object is not subscriptable\n",
      "Exception at row 1854\n",
      "'NoneType' object is not subscriptable\n",
      "Exception at row 1855\n",
      "'NoneType' object is not subscriptable\n",
      "Exception at row 1856\n",
      "'NoneType' object is not subscriptable\n",
      "Exception at row 1857\n",
      "'NoneType' object is not subscriptable\n",
      "Exception at row 1858\n",
      "'NoneType' object is not subscriptable\n",
      "Exception at row 1859\n",
      "'NoneType' object is not subscriptable\n",
      "Exception at row 1860\n",
      "'NoneType' object is not subscriptable\n",
      "Exception at row 1861\n",
      "'NoneType' object is not subscriptable\n",
      "Exception at row 1862\n",
      "'NoneType' object is not subscriptable\n",
      "Exception at row 1863\n",
      "'NoneType' object is not subscriptable\n",
      "Exception at row 1864\n",
      "'NoneType' object is not subscriptable\n",
      "Exception at row 1865\n",
      "'NoneType' object is not subscriptable\n",
      "Exception at row 1866\n",
      "'NoneType' object is not subscriptable\n",
      "Exception at row 1867\n",
      "'NoneType' object is not subscriptable\n",
      "Exception at row 1868\n",
      "'NoneType' object is not subscriptable\n",
      "Exception at row 1869\n",
      "'NoneType' object is not subscriptable\n",
      "Exception at row 1870\n",
      "'NoneType' object is not subscriptable\n",
      "Exception at row 1871\n",
      "'NoneType' object is not subscriptable\n",
      "Exception at row 1872\n",
      "'NoneType' object is not subscriptable\n",
      "Exception at row 1873\n",
      "'NoneType' object is not subscriptable\n",
      "Exception at row 1874\n",
      "'NoneType' object is not subscriptable\n",
      "Exception at row 1875\n",
      "'NoneType' object is not subscriptable\n",
      "Exception at row 1876\n",
      "'NoneType' object is not subscriptable\n",
      "Exception at row 1877\n",
      "'NoneType' object is not subscriptable\n",
      "Exception at row 1878\n",
      "'NoneType' object is not subscriptable\n",
      "Exception at row 1879\n",
      "'NoneType' object is not subscriptable\n",
      "Exception at row 1880\n",
      "'NoneType' object is not subscriptable\n",
      "Exception at row 1881\n",
      "'NoneType' object is not subscriptable\n",
      "Exception at row 1882\n",
      "'NoneType' object is not subscriptable\n",
      "Exception at row 1883\n",
      "'NoneType' object is not subscriptable\n",
      "Exception at row 1884\n",
      "'NoneType' object is not subscriptable\n",
      "Exception at row 1885\n",
      "'NoneType' object is not subscriptable\n",
      "Exception at row 1886\n",
      "'NoneType' object is not subscriptable\n",
      "Exception at row 1887\n",
      "'NoneType' object is not subscriptable\n",
      "Exception at row 1888\n",
      "'NoneType' object is not subscriptable\n",
      "Exception at row 1889\n",
      "'NoneType' object is not subscriptable\n",
      "Exception at row 1890\n",
      "'NoneType' object is not subscriptable\n",
      "Exception at row 1891\n",
      "'NoneType' object is not subscriptable\n",
      "Exception at row 1892\n",
      "'NoneType' object is not subscriptable\n",
      "Exception at row 1893\n",
      "'NoneType' object is not subscriptable\n",
      "Exception at row 1894\n",
      "'NoneType' object is not subscriptable\n",
      "Exception at row 1895\n",
      "'NoneType' object is not subscriptable\n",
      "Exception at row 1896\n",
      "'NoneType' object is not subscriptable\n",
      "Exception at row 1897\n",
      "'NoneType' object is not subscriptable\n",
      "Exception at row 1898\n",
      "'NoneType' object is not subscriptable\n",
      "Exception at row 1899\n",
      "'NoneType' object is not subscriptable\n",
      "Exception at row 1900\n",
      "'NoneType' object is not subscriptable\n",
      "Exception at row 1901\n",
      "'NoneType' object is not subscriptable\n",
      "Exception at row 1902\n",
      "'NoneType' object is not subscriptable\n",
      "Exception at row 1903\n",
      "'NoneType' object is not subscriptable\n",
      "Exception at row 1904\n",
      "'NoneType' object is not subscriptable\n",
      "Exception at row 1905\n",
      "'NoneType' object is not subscriptable\n",
      "Exception at row 1906\n",
      "'NoneType' object is not subscriptable\n",
      "Exception at row 1907\n",
      "'NoneType' object is not subscriptable\n",
      "Exception at row 1908\n",
      "'NoneType' object is not subscriptable\n",
      "Exception at row 1909\n",
      "'NoneType' object is not subscriptable\n",
      "Exception at row 1910\n",
      "'NoneType' object is not subscriptable\n",
      "Exception at row 1911\n",
      "'NoneType' object is not subscriptable\n",
      "Exception at row 1912\n",
      "'NoneType' object is not subscriptable\n",
      "Exception at row 1913\n",
      "'NoneType' object is not subscriptable\n",
      "Exception at row 1914\n",
      "'NoneType' object is not subscriptable\n",
      "Exception at row 1915\n",
      "'NoneType' object is not subscriptable\n",
      "Exception at row 1916\n",
      "'NoneType' object is not subscriptable\n",
      "Exception at row 1917\n",
      "'NoneType' object is not subscriptable\n",
      "Exception at row 1918\n",
      "'NoneType' object is not subscriptable\n",
      "Exception at row 1919\n",
      "'NoneType' object is not subscriptable\n",
      "Exception at row 1920\n",
      "'NoneType' object is not subscriptable\n",
      "Exception at row 1921\n",
      "'NoneType' object is not subscriptable\n",
      "Exception at row 1922\n",
      "'NoneType' object is not subscriptable\n",
      "Exception at row 1923\n",
      "'NoneType' object is not subscriptable\n",
      "Exception at row 1924\n",
      "'NoneType' object is not subscriptable\n",
      "Exception at row 1925\n",
      "'NoneType' object is not subscriptable\n",
      "Exception at row 1926\n",
      "'NoneType' object is not subscriptable\n",
      "Exception at row 1927\n",
      "'NoneType' object is not subscriptable\n",
      "Exception at row 1928\n",
      "'NoneType' object is not subscriptable\n",
      "Exception at row 1929\n",
      "'NoneType' object is not subscriptable\n",
      "Exception at row 1930\n",
      "'NoneType' object is not subscriptable\n",
      "Exception at row 1931\n",
      "'NoneType' object is not subscriptable\n",
      "Exception at row 1932\n",
      "'NoneType' object is not subscriptable\n",
      "Exception at row 1933\n",
      "'NoneType' object is not subscriptable\n",
      "Exception at row 1934\n",
      "'NoneType' object is not subscriptable\n",
      "Exception at row 1935\n",
      "'NoneType' object is not subscriptable\n",
      "Exception at row 1936\n",
      "'NoneType' object is not subscriptable\n",
      "Exception at row 1937\n",
      "'NoneType' object is not subscriptable\n",
      "Exception at row 1938\n",
      "'NoneType' object is not subscriptable\n",
      "Exception at row 1939\n",
      "'NoneType' object is not subscriptable\n",
      "Exception at row 1940\n",
      "'NoneType' object is not subscriptable\n",
      "Exception at row 1941\n",
      "'NoneType' object is not subscriptable\n",
      "Exception at row 1942\n",
      "'NoneType' object is not subscriptable\n",
      "Exception at row 1943\n",
      "'NoneType' object is not subscriptable\n",
      "Exception at row 1944\n",
      "'NoneType' object is not subscriptable\n",
      "Exception at row 1945\n",
      "'NoneType' object is not subscriptable\n",
      "Exception at row 1946\n",
      "'NoneType' object is not subscriptable\n",
      "Exception at row 1947\n",
      "'NoneType' object is not subscriptable\n",
      "Exception at row 1948\n",
      "'NoneType' object is not subscriptable\n",
      "Exception at row 1949\n",
      "'NoneType' object is not subscriptable\n",
      "Exception at row 1950\n",
      "'NoneType' object is not subscriptable\n",
      "Exception at row 1951\n",
      "'NoneType' object is not subscriptable\n",
      "Exception at row 1952\n",
      "'NoneType' object is not subscriptable\n",
      "Exception at row 1953\n",
      "'NoneType' object is not subscriptable\n",
      "Exception at row 1954\n",
      "'NoneType' object is not subscriptable\n",
      "Exception at row 1955\n",
      "'NoneType' object is not subscriptable\n",
      "Exception at row 1956\n",
      "'NoneType' object is not subscriptable\n",
      "Exception at row 1957\n",
      "'NoneType' object is not subscriptable\n",
      "Exception at row 1958\n",
      "'NoneType' object is not subscriptable\n",
      "Exception at row 1959\n",
      "'NoneType' object is not subscriptable\n",
      "Exception at row 1960\n",
      "'NoneType' object is not subscriptable\n",
      "Exception at row 1961\n",
      "'NoneType' object is not subscriptable\n",
      "Exception at row 1962\n",
      "'NoneType' object is not subscriptable\n",
      "Exception at row 1963\n",
      "'NoneType' object is not subscriptable\n",
      "Exception at row 1964\n",
      "'NoneType' object is not subscriptable\n",
      "Exception at row 1965\n",
      "'NoneType' object is not subscriptable\n",
      "Exception at row 1966\n",
      "'NoneType' object is not subscriptable\n",
      "Exception at row 1967\n",
      "'NoneType' object is not subscriptable\n",
      "Exception at row 1968\n",
      "'NoneType' object is not subscriptable\n",
      "Exception at row 1969\n",
      "'NoneType' object is not subscriptable\n",
      "Exception at row 1970\n",
      "'NoneType' object is not subscriptable\n",
      "Exception at row 1971\n",
      "'NoneType' object is not subscriptable\n",
      "Exception at row 1972\n",
      "'NoneType' object is not subscriptable\n",
      "Exception at row 1973\n",
      "'NoneType' object is not subscriptable\n",
      "Exception at row 1974\n",
      "'NoneType' object is not subscriptable\n",
      "Exception at row 1975\n",
      "'NoneType' object is not subscriptable\n",
      "Exception at row 1976\n",
      "'NoneType' object is not subscriptable\n",
      "Exception at row 1977\n",
      "'NoneType' object is not subscriptable\n",
      "Exception at row 1978\n",
      "'NoneType' object is not subscriptable\n",
      "Exception at row 1979\n",
      "'NoneType' object is not subscriptable\n",
      "Exception at row 1980\n",
      "'NoneType' object is not subscriptable\n",
      "Exception at row 1981\n",
      "'NoneType' object is not subscriptable\n",
      "Exception at row 1982\n",
      "'NoneType' object is not subscriptable\n",
      "Exception at row 1983\n",
      "'NoneType' object is not subscriptable\n",
      "Exception at row 1984\n",
      "'NoneType' object is not subscriptable\n",
      "Exception at row 1985\n",
      "'NoneType' object is not subscriptable\n",
      "Exception at row 1986\n",
      "'NoneType' object is not subscriptable\n",
      "Exception at row 1987\n",
      "'NoneType' object is not subscriptable\n",
      "Exception at row 1988\n",
      "'NoneType' object is not subscriptable\n",
      "Exception at row 1989\n",
      "'NoneType' object is not subscriptable\n",
      "Exception at row 1990\n",
      "'NoneType' object is not subscriptable\n",
      "Exception at row 1991\n",
      "'NoneType' object is not subscriptable\n",
      "Exception at row 1992\n",
      "'NoneType' object is not subscriptable\n",
      "Exception at row 1993\n",
      "'NoneType' object is not subscriptable\n",
      "Exception at row 1994\n",
      "'NoneType' object is not subscriptable\n",
      "Exception at row 1995\n",
      "'NoneType' object is not subscriptable\n",
      "Exception at row 1996\n",
      "'NoneType' object is not subscriptable\n",
      "Exception at row 1997\n",
      "'NoneType' object is not subscriptable\n",
      "Exception at row 1998\n",
      "'NoneType' object is not subscriptable\n",
      "Exception at row 1999\n",
      "'NoneType' object is not subscriptable\n",
      "Exception at row 2000\n",
      "'NoneType' object is not subscriptable\n",
      "Exception at row 2001\n",
      "'NoneType' object is not subscriptable\n",
      "Exception at row 2002\n",
      "'NoneType' object is not subscriptable\n",
      "Exception at row 2003\n",
      "'NoneType' object is not subscriptable\n",
      "Exception at row 2004\n",
      "'NoneType' object is not subscriptable\n",
      "Exception at row 2005\n",
      "'NoneType' object is not subscriptable\n",
      "Exception at row 2006\n",
      "'NoneType' object is not subscriptable\n",
      "Exception at row 2007\n",
      "'NoneType' object is not subscriptable\n",
      "Exception at row 2008\n",
      "'NoneType' object is not subscriptable\n",
      "Exception at row 2009\n",
      "'NoneType' object is not subscriptable\n",
      "Exception at row 2010\n",
      "'NoneType' object is not subscriptable\n",
      "Exception at row 2011\n",
      "'NoneType' object is not subscriptable\n",
      "Exception at row 2012\n",
      "'NoneType' object is not subscriptable\n",
      "Exception at row 2013\n",
      "'NoneType' object is not subscriptable\n",
      "Exception at row 2014\n",
      "'NoneType' object is not subscriptable\n",
      "Exception at row 2015\n",
      "'NoneType' object is not subscriptable\n",
      "Exception at row 2016\n",
      "'NoneType' object is not subscriptable\n",
      "Exception at row 2017\n",
      "'NoneType' object is not subscriptable\n",
      "Exception at row 2018\n",
      "'NoneType' object is not subscriptable\n",
      "Exception at row 2019\n",
      "'NoneType' object is not subscriptable\n",
      "Exception at row 2020\n",
      "'NoneType' object is not subscriptable\n",
      "Exception at row 2021\n",
      "'NoneType' object is not subscriptable\n",
      "Exception at row 2022\n",
      "'NoneType' object is not subscriptable\n",
      "Exception at row 2023\n",
      "'NoneType' object is not subscriptable\n",
      "Exception at row 2024\n",
      "'NoneType' object is not subscriptable\n",
      "Exception at row 2025\n",
      "'NoneType' object is not subscriptable\n",
      "Exception at row 2026\n",
      "'NoneType' object is not subscriptable\n",
      "Exception at row 2027\n",
      "'NoneType' object is not subscriptable\n",
      "Exception at row 2028\n",
      "'NoneType' object is not subscriptable\n",
      "Exception at row 2029\n",
      "'NoneType' object is not subscriptable\n",
      "Exception at row 2030\n",
      "'NoneType' object is not subscriptable\n",
      "Exception at row 2031\n",
      "'NoneType' object is not subscriptable\n",
      "Exception at row 2032\n",
      "'NoneType' object is not subscriptable\n",
      "Exception at row 2033\n",
      "'NoneType' object is not subscriptable\n"
     ]
    },
    {
     "name": "stderr",
     "output_type": "stream",
     "text": [
      "Processing row 2239:  54%|█████▍    | 2116/3883 [00:02<00:01, 1037.47it/s]"
     ]
    },
    {
     "name": "stdout",
     "output_type": "stream",
     "text": [
      "Exception at row 2034\n",
      "'NoneType' object is not subscriptable\n",
      "Exception at row 2035\n",
      "'NoneType' object is not subscriptable\n",
      "Exception at row 2036\n",
      "'NoneType' object is not subscriptable\n",
      "Exception at row 2037\n",
      "'NoneType' object is not subscriptable\n",
      "Exception at row 2038\n",
      "'NoneType' object is not subscriptable\n",
      "Exception at row 2039\n",
      "'NoneType' object is not subscriptable\n",
      "Exception at row 2040\n",
      "'NoneType' object is not subscriptable\n",
      "Exception at row 2041\n",
      "'NoneType' object is not subscriptable\n",
      "Exception at row 2042\n",
      "'NoneType' object is not subscriptable\n",
      "Exception at row 2043\n",
      "'NoneType' object is not subscriptable\n",
      "Exception at row 2044\n",
      "'NoneType' object is not subscriptable\n",
      "Exception at row 2045\n",
      "'NoneType' object is not subscriptable\n",
      "Exception at row 2046\n",
      "'NoneType' object is not subscriptable\n",
      "Exception at row 2047\n",
      "'NoneType' object is not subscriptable\n",
      "Exception at row 2048\n",
      "'NoneType' object is not subscriptable\n",
      "Exception at row 2049\n",
      "'NoneType' object is not subscriptable\n",
      "Exception at row 2050\n",
      "'NoneType' object is not subscriptable\n",
      "Exception at row 2051\n",
      "'NoneType' object is not subscriptable\n",
      "Exception at row 2052\n",
      "'NoneType' object is not subscriptable\n",
      "Exception at row 2053\n",
      "'NoneType' object is not subscriptable\n",
      "Exception at row 2054\n",
      "'NoneType' object is not subscriptable\n",
      "Exception at row 2055\n",
      "'NoneType' object is not subscriptable\n",
      "Exception at row 2056\n",
      "'NoneType' object is not subscriptable\n",
      "Exception at row 2057\n",
      "'NoneType' object is not subscriptable\n",
      "Exception at row 2058\n",
      "'NoneType' object is not subscriptable\n",
      "Exception at row 2059\n",
      "'NoneType' object is not subscriptable\n",
      "Exception at row 2060\n",
      "'NoneType' object is not subscriptable\n",
      "Exception at row 2061\n",
      "'NoneType' object is not subscriptable\n",
      "Exception at row 2062\n",
      "'NoneType' object is not subscriptable\n",
      "Exception at row 2063\n",
      "'NoneType' object is not subscriptable\n",
      "Exception at row 2064\n",
      "'NoneType' object is not subscriptable\n",
      "Exception at row 2065\n",
      "'NoneType' object is not subscriptable\n",
      "Exception at row 2066\n",
      "'NoneType' object is not subscriptable\n",
      "Exception at row 2067\n",
      "'NoneType' object is not subscriptable\n",
      "Exception at row 2068\n",
      "'NoneType' object is not subscriptable\n",
      "Exception at row 2069\n",
      "'NoneType' object is not subscriptable\n",
      "Exception at row 2070\n",
      "'NoneType' object is not subscriptable\n",
      "Exception at row 2071\n",
      "'NoneType' object is not subscriptable\n",
      "Exception at row 2072\n",
      "'NoneType' object is not subscriptable\n",
      "Exception at row 2073\n",
      "'NoneType' object is not subscriptable\n",
      "Exception at row 2074\n",
      "'NoneType' object is not subscriptable\n",
      "Exception at row 2075\n",
      "'NoneType' object is not subscriptable\n",
      "Exception at row 2076\n",
      "'NoneType' object is not subscriptable\n",
      "Exception at row 2077\n",
      "'NoneType' object is not subscriptable\n",
      "Exception at row 2078\n",
      "'NoneType' object is not subscriptable\n",
      "Exception at row 2079\n",
      "'NoneType' object is not subscriptable\n",
      "Exception at row 2080\n",
      "'NoneType' object is not subscriptable\n",
      "Exception at row 2081\n",
      "'NoneType' object is not subscriptable\n",
      "Exception at row 2082\n",
      "'NoneType' object is not subscriptable\n",
      "Exception at row 2083\n",
      "'NoneType' object is not subscriptable\n",
      "Exception at row 2084\n",
      "'NoneType' object is not subscriptable\n",
      "Exception at row 2085\n",
      "'NoneType' object is not subscriptable\n",
      "Exception at row 2086\n",
      "'NoneType' object is not subscriptable\n",
      "Exception at row 2087\n",
      "'NoneType' object is not subscriptable\n",
      "Exception at row 2088\n",
      "'NoneType' object is not subscriptable\n",
      "Exception at row 2089\n",
      "'NoneType' object is not subscriptable\n",
      "Exception at row 2090\n",
      "'NoneType' object is not subscriptable\n",
      "Exception at row 2091\n",
      "'NoneType' object is not subscriptable\n",
      "Exception at row 2092\n",
      "'NoneType' object is not subscriptable\n",
      "Exception at row 2093\n",
      "'NoneType' object is not subscriptable\n",
      "Exception at row 2094\n",
      "'NoneType' object is not subscriptable\n",
      "Exception at row 2095\n",
      "'NoneType' object is not subscriptable\n",
      "Exception at row 2096\n",
      "'NoneType' object is not subscriptable\n",
      "Exception at row 2097\n",
      "'NoneType' object is not subscriptable\n",
      "Exception at row 2098\n",
      "'NoneType' object is not subscriptable\n",
      "Exception at row 2099\n",
      "'NoneType' object is not subscriptable\n",
      "Exception at row 2100\n",
      "'NoneType' object is not subscriptable\n",
      "Exception at row 2101\n",
      "'NoneType' object is not subscriptable\n",
      "Exception at row 2102\n",
      "'NoneType' object is not subscriptable\n",
      "Exception at row 2103\n",
      "'NoneType' object is not subscriptable\n",
      "Exception at row 2104\n",
      "'NoneType' object is not subscriptable\n",
      "Exception at row 2105\n",
      "'NoneType' object is not subscriptable\n",
      "Exception at row 2106\n",
      "'NoneType' object is not subscriptable\n",
      "Exception at row 2107\n",
      "'NoneType' object is not subscriptable\n",
      "Exception at row 2108\n",
      "'NoneType' object is not subscriptable\n",
      "Exception at row 2109\n",
      "'NoneType' object is not subscriptable\n",
      "Exception at row 2110\n",
      "'NoneType' object is not subscriptable\n",
      "Exception at row 2111\n",
      "'NoneType' object is not subscriptable\n",
      "Exception at row 2112\n",
      "'NoneType' object is not subscriptable\n",
      "Exception at row 2113\n",
      "'NoneType' object is not subscriptable\n",
      "Exception at row 2114\n",
      "'NoneType' object is not subscriptable\n",
      "Exception at row 2115\n",
      "'NoneType' object is not subscriptable\n",
      "Exception at row 2116\n",
      "'NoneType' object is not subscriptable\n",
      "Exception at row 2117\n",
      "'NoneType' object is not subscriptable\n",
      "Exception at row 2118\n",
      "'NoneType' object is not subscriptable\n",
      "Exception at row 2119\n",
      "'NoneType' object is not subscriptable\n",
      "Exception at row 2120\n",
      "'NoneType' object is not subscriptable\n",
      "Exception at row 2121\n",
      "'NoneType' object is not subscriptable\n",
      "Exception at row 2122\n",
      "'NoneType' object is not subscriptable\n",
      "Exception at row 2123\n",
      "'NoneType' object is not subscriptable\n",
      "Exception at row 2124\n",
      "'NoneType' object is not subscriptable\n",
      "Exception at row 2125\n",
      "'NoneType' object is not subscriptable\n",
      "Exception at row 2126\n",
      "'NoneType' object is not subscriptable\n",
      "Exception at row 2127\n",
      "'NoneType' object is not subscriptable\n",
      "Exception at row 2128\n",
      "'NoneType' object is not subscriptable\n",
      "Exception at row 2129\n",
      "'NoneType' object is not subscriptable\n",
      "Exception at row 2130\n",
      "'NoneType' object is not subscriptable\n",
      "Exception at row 2131\n",
      "'NoneType' object is not subscriptable\n",
      "Exception at row 2132\n",
      "'NoneType' object is not subscriptable\n",
      "Exception at row 2133\n",
      "'NoneType' object is not subscriptable\n",
      "Exception at row 2134\n",
      "'NoneType' object is not subscriptable\n",
      "Exception at row 2135\n",
      "'NoneType' object is not subscriptable\n",
      "Exception at row 2136\n",
      "'NoneType' object is not subscriptable\n",
      "Exception at row 2137\n",
      "'NoneType' object is not subscriptable\n",
      "Exception at row 2138\n",
      "'NoneType' object is not subscriptable\n",
      "Exception at row 2139\n",
      "'NoneType' object is not subscriptable\n",
      "Exception at row 2140\n",
      "'NoneType' object is not subscriptable\n",
      "Exception at row 2141\n",
      "'NoneType' object is not subscriptable\n",
      "Exception at row 2142\n",
      "'NoneType' object is not subscriptable\n",
      "Exception at row 2143\n",
      "'NoneType' object is not subscriptable\n",
      "Exception at row 2144\n",
      "'NoneType' object is not subscriptable\n",
      "Exception at row 2145\n",
      "'NoneType' object is not subscriptable\n",
      "Exception at row 2146\n",
      "'NoneType' object is not subscriptable\n",
      "Exception at row 2147\n",
      "'NoneType' object is not subscriptable\n",
      "Exception at row 2148\n",
      "'NoneType' object is not subscriptable\n",
      "Exception at row 2149\n",
      "'NoneType' object is not subscriptable\n",
      "Exception at row 2150\n",
      "'NoneType' object is not subscriptable\n",
      "Exception at row 2151\n",
      "'NoneType' object is not subscriptable\n",
      "Exception at row 2152\n",
      "'NoneType' object is not subscriptable\n",
      "Exception at row 2153\n",
      "'NoneType' object is not subscriptable\n",
      "Exception at row 2154\n",
      "'NoneType' object is not subscriptable\n",
      "Exception at row 2155\n",
      "'NoneType' object is not subscriptable\n",
      "Exception at row 2156\n",
      "'NoneType' object is not subscriptable\n",
      "Exception at row 2157\n",
      "'NoneType' object is not subscriptable\n",
      "Exception at row 2158\n",
      "'NoneType' object is not subscriptable\n",
      "Exception at row 2159\n",
      "'NoneType' object is not subscriptable\n",
      "Exception at row 2160\n",
      "'NoneType' object is not subscriptable\n",
      "Exception at row 2161\n",
      "'NoneType' object is not subscriptable\n",
      "Exception at row 2162\n",
      "'NoneType' object is not subscriptable\n",
      "Exception at row 2163\n",
      "'NoneType' object is not subscriptable\n",
      "Exception at row 2164\n",
      "'NoneType' object is not subscriptable\n",
      "Exception at row 2165\n",
      "'NoneType' object is not subscriptable\n",
      "Exception at row 2166\n",
      "'NoneType' object is not subscriptable\n",
      "Exception at row 2167\n",
      "'NoneType' object is not subscriptable\n",
      "Exception at row 2168\n",
      "'NoneType' object is not subscriptable\n",
      "Exception at row 2169\n",
      "'NoneType' object is not subscriptable\n",
      "Exception at row 2170\n",
      "'NoneType' object is not subscriptable\n",
      "Exception at row 2171\n",
      "'NoneType' object is not subscriptable\n",
      "Exception at row 2172\n",
      "'NoneType' object is not subscriptable\n",
      "Exception at row 2173\n",
      "'NoneType' object is not subscriptable\n",
      "Exception at row 2174\n",
      "'NoneType' object is not subscriptable\n",
      "Exception at row 2175\n",
      "'NoneType' object is not subscriptable\n",
      "Exception at row 2176\n",
      "'NoneType' object is not subscriptable\n",
      "Exception at row 2177\n",
      "'NoneType' object is not subscriptable\n",
      "Exception at row 2178\n",
      "'NoneType' object is not subscriptable\n",
      "Exception at row 2179\n",
      "'NoneType' object is not subscriptable\n",
      "Exception at row 2180\n",
      "'NoneType' object is not subscriptable\n",
      "Exception at row 2181\n",
      "'NoneType' object is not subscriptable\n",
      "Exception at row 2182\n",
      "'NoneType' object is not subscriptable\n",
      "Exception at row 2183\n",
      "'NoneType' object is not subscriptable\n",
      "Exception at row 2184\n",
      "'NoneType' object is not subscriptable\n",
      "Exception at row 2185\n",
      "'NoneType' object is not subscriptable\n",
      "Exception at row 2186\n",
      "'NoneType' object is not subscriptable\n",
      "Exception at row 2187\n",
      "'NoneType' object is not subscriptable\n",
      "Exception at row 2188\n",
      "'NoneType' object is not subscriptable\n",
      "Exception at row 2189\n",
      "'NoneType' object is not subscriptable\n",
      "Exception at row 2190\n",
      "'NoneType' object is not subscriptable\n",
      "Exception at row 2191\n",
      "'NoneType' object is not subscriptable\n",
      "Exception at row 2192\n",
      "'NoneType' object is not subscriptable\n",
      "Exception at row 2193\n",
      "'NoneType' object is not subscriptable\n",
      "Exception at row 2194\n",
      "'NoneType' object is not subscriptable\n",
      "Exception at row 2195\n",
      "'NoneType' object is not subscriptable\n",
      "Exception at row 2196\n",
      "'NoneType' object is not subscriptable\n",
      "Exception at row 2197\n",
      "'NoneType' object is not subscriptable\n",
      "Exception at row 2198\n",
      "'NoneType' object is not subscriptable\n",
      "Exception at row 2199\n",
      "'NoneType' object is not subscriptable\n",
      "Exception at row 2200\n",
      "'NoneType' object is not subscriptable\n",
      "Exception at row 2201\n",
      "'NoneType' object is not subscriptable\n",
      "Exception at row 2202\n",
      "'NoneType' object is not subscriptable\n",
      "Exception at row 2203\n",
      "'NoneType' object is not subscriptable\n",
      "Exception at row 2204\n",
      "'NoneType' object is not subscriptable\n",
      "Exception at row 2205\n",
      "'NoneType' object is not subscriptable\n",
      "Exception at row 2206\n",
      "'NoneType' object is not subscriptable\n",
      "Exception at row 2207\n",
      "'NoneType' object is not subscriptable\n",
      "Exception at row 2208\n",
      "'NoneType' object is not subscriptable\n",
      "Exception at row 2209\n",
      "'NoneType' object is not subscriptable\n",
      "Exception at row 2210\n",
      "'NoneType' object is not subscriptable\n",
      "Exception at row 2211\n",
      "'NoneType' object is not subscriptable\n",
      "Exception at row 2212\n",
      "'NoneType' object is not subscriptable\n",
      "Exception at row 2213\n",
      "'NoneType' object is not subscriptable\n",
      "Exception at row 2214\n",
      "'NoneType' object is not subscriptable\n",
      "Exception at row 2215\n",
      "'NoneType' object is not subscriptable\n",
      "Exception at row 2216\n",
      "'NoneType' object is not subscriptable\n",
      "Exception at row 2217\n",
      "'NoneType' object is not subscriptable\n",
      "Exception at row 2218\n",
      "'NoneType' object is not subscriptable\n",
      "Exception at row 2219\n",
      "'NoneType' object is not subscriptable\n",
      "Exception at row 2220\n",
      "'NoneType' object is not subscriptable\n",
      "Exception at row 2221\n",
      "'NoneType' object is not subscriptable\n",
      "Exception at row 2222\n",
      "'NoneType' object is not subscriptable\n",
      "Exception at row 2223\n",
      "'NoneType' object is not subscriptable\n",
      "Exception at row 2224\n",
      "'NoneType' object is not subscriptable\n",
      "Exception at row 2225\n",
      "'NoneType' object is not subscriptable\n",
      "Exception at row 2226\n",
      "'NoneType' object is not subscriptable\n",
      "Exception at row 2227\n",
      "'NoneType' object is not subscriptable\n",
      "Exception at row 2228\n",
      "'NoneType' object is not subscriptable\n",
      "Exception at row 2229\n",
      "'NoneType' object is not subscriptable\n",
      "Exception at row 2230\n",
      "'NoneType' object is not subscriptable\n",
      "Exception at row 2231\n",
      "'NoneType' object is not subscriptable\n",
      "Exception at row 2232\n",
      "'NoneType' object is not subscriptable\n",
      "Exception at row 2233\n",
      "'NoneType' object is not subscriptable\n",
      "Exception at row 2234\n",
      "'NoneType' object is not subscriptable\n",
      "Exception at row 2235\n",
      "'NoneType' object is not subscriptable\n",
      "Exception at row 2236\n",
      "'NoneType' object is not subscriptable\n",
      "Exception at row 2237\n",
      "'NoneType' object is not subscriptable\n",
      "Exception at row 2238\n",
      "'NoneType' object is not subscriptable\n",
      "Exception at row 2239"
     ]
    },
    {
     "name": "stderr",
     "output_type": "stream",
     "text": [
      "Processing row 2438:  61%|██████    | 2364/3883 [00:02<00:01, 1001.35it/s]"
     ]
    },
    {
     "name": "stdout",
     "output_type": "stream",
     "text": [
      "\n",
      "'NoneType' object is not subscriptable\n",
      "Exception at row 2240\n",
      "'NoneType' object is not subscriptable\n",
      "Exception at row 2241\n",
      "'NoneType' object is not subscriptable\n",
      "Exception at row 2242\n",
      "'NoneType' object is not subscriptable\n",
      "Exception at row 2243\n",
      "'NoneType' object is not subscriptable\n",
      "Exception at row 2244\n",
      "'NoneType' object is not subscriptable\n",
      "Exception at row 2245\n",
      "'NoneType' object is not subscriptable\n",
      "Exception at row 2246\n",
      "'NoneType' object is not subscriptable\n",
      "Exception at row 2247\n",
      "'NoneType' object is not subscriptable\n",
      "Exception at row 2248\n",
      "'NoneType' object is not subscriptable\n",
      "Exception at row 2249\n",
      "'NoneType' object is not subscriptable\n",
      "Exception at row 2250\n",
      "'NoneType' object is not subscriptable\n",
      "Exception at row 2251\n",
      "'NoneType' object is not subscriptable\n",
      "Exception at row 2252\n",
      "'NoneType' object is not subscriptable\n",
      "Exception at row 2253\n",
      "'NoneType' object is not subscriptable\n",
      "Exception at row 2254\n",
      "'NoneType' object is not subscriptable\n",
      "Exception at row 2255\n",
      "'NoneType' object is not subscriptable\n",
      "Exception at row 2256\n",
      "'NoneType' object is not subscriptable\n",
      "Exception at row 2257\n",
      "'NoneType' object is not subscriptable\n",
      "Exception at row 2258\n",
      "'NoneType' object is not subscriptable\n",
      "Exception at row 2259\n",
      "'NoneType' object is not subscriptable\n",
      "Exception at row 2260\n",
      "'NoneType' object is not subscriptable\n",
      "Exception at row 2261\n",
      "'NoneType' object is not subscriptable\n",
      "Exception at row 2262\n",
      "'NoneType' object is not subscriptable\n",
      "Exception at row 2263\n",
      "'NoneType' object is not subscriptable\n",
      "Exception at row 2264\n",
      "'NoneType' object is not subscriptable\n",
      "Exception at row 2265\n",
      "'NoneType' object is not subscriptable\n",
      "Exception at row 2266\n",
      "'NoneType' object is not subscriptable\n",
      "Exception at row 2267\n",
      "'NoneType' object is not subscriptable\n",
      "Exception at row 2268\n",
      "'NoneType' object is not subscriptable\n",
      "Exception at row 2269\n",
      "'NoneType' object is not subscriptable\n",
      "Exception at row 2270\n",
      "'NoneType' object is not subscriptable\n",
      "Exception at row 2271\n",
      "'NoneType' object is not subscriptable\n",
      "Exception at row 2272\n",
      "'NoneType' object is not subscriptable\n",
      "Exception at row 2273\n",
      "'NoneType' object is not subscriptable\n",
      "Exception at row 2274\n",
      "'NoneType' object is not subscriptable\n",
      "Exception at row 2275\n",
      "'NoneType' object is not subscriptable\n",
      "Exception at row 2276\n",
      "'NoneType' object is not subscriptable\n",
      "Exception at row 2277\n",
      "'NoneType' object is not subscriptable\n",
      "Exception at row 2278\n",
      "'NoneType' object is not subscriptable\n",
      "Exception at row 2279\n",
      "'NoneType' object is not subscriptable\n",
      "Exception at row 2280\n",
      "'NoneType' object is not subscriptable\n",
      "Exception at row 2281\n",
      "'NoneType' object is not subscriptable\n",
      "Exception at row 2282\n",
      "'NoneType' object is not subscriptable\n",
      "Exception at row 2283\n",
      "'NoneType' object is not subscriptable\n",
      "Exception at row 2284\n",
      "'NoneType' object is not subscriptable\n",
      "Exception at row 2285\n",
      "'NoneType' object is not subscriptable\n",
      "Exception at row 2286\n",
      "'NoneType' object is not subscriptable\n",
      "Exception at row 2287\n",
      "'NoneType' object is not subscriptable\n",
      "Exception at row 2288\n",
      "'NoneType' object is not subscriptable\n",
      "Exception at row 2289\n",
      "'NoneType' object is not subscriptable\n",
      "Exception at row 2290\n",
      "'NoneType' object is not subscriptable\n",
      "Exception at row 2291\n",
      "'NoneType' object is not subscriptable\n",
      "Exception at row 2292\n",
      "'NoneType' object is not subscriptable\n",
      "Exception at row 2293\n",
      "'NoneType' object is not subscriptable\n",
      "Exception at row 2294\n",
      "'NoneType' object is not subscriptable\n",
      "Exception at row 2295\n",
      "'NoneType' object is not subscriptable\n",
      "Exception at row 2296\n",
      "'NoneType' object is not subscriptable\n",
      "Exception at row 2297\n",
      "'NoneType' object is not subscriptable\n",
      "Exception at row 2298\n",
      "'NoneType' object is not subscriptable\n",
      "Exception at row 2299\n",
      "'NoneType' object is not subscriptable\n",
      "Exception at row 2300\n",
      "'NoneType' object is not subscriptable\n",
      "Exception at row 2301\n",
      "'NoneType' object is not subscriptable\n",
      "Exception at row 2302\n",
      "'NoneType' object is not subscriptable\n",
      "Exception at row 2303\n",
      "'NoneType' object is not subscriptable\n",
      "Exception at row 2304\n",
      "'NoneType' object is not subscriptable\n",
      "Exception at row 2305\n",
      "'NoneType' object is not subscriptable\n",
      "Exception at row 2306\n",
      "'NoneType' object is not subscriptable\n",
      "Exception at row 2307\n",
      "'NoneType' object is not subscriptable\n",
      "Exception at row 2308\n",
      "'NoneType' object is not subscriptable\n",
      "Exception at row 2309\n",
      "'NoneType' object is not subscriptable\n",
      "Exception at row 2310\n",
      "'NoneType' object is not subscriptable\n",
      "Exception at row 2311\n",
      "'NoneType' object is not subscriptable\n",
      "Exception at row 2312\n",
      "'NoneType' object is not subscriptable\n",
      "Exception at row 2313\n",
      "'NoneType' object is not subscriptable\n",
      "Exception at row 2314\n",
      "'NoneType' object is not subscriptable\n",
      "Exception at row 2315\n",
      "'NoneType' object is not subscriptable\n",
      "Exception at row 2316\n",
      "'NoneType' object is not subscriptable\n",
      "Exception at row 2317\n",
      "'NoneType' object is not subscriptable\n",
      "Exception at row 2318\n",
      "'NoneType' object is not subscriptable\n",
      "Exception at row 2319\n",
      "'NoneType' object is not subscriptable\n",
      "Exception at row 2320\n",
      "'NoneType' object is not subscriptable\n",
      "Exception at row 2321\n",
      "'NoneType' object is not subscriptable\n",
      "Exception at row 2322\n",
      "'NoneType' object is not subscriptable\n",
      "Exception at row 2323\n",
      "'NoneType' object is not subscriptable\n",
      "Exception at row 2324\n",
      "'NoneType' object is not subscriptable\n",
      "Exception at row 2325\n",
      "'NoneType' object is not subscriptable\n",
      "Exception at row 2326\n",
      "'NoneType' object is not subscriptable\n",
      "Exception at row 2327\n",
      "'NoneType' object is not subscriptable\n",
      "Exception at row 2328\n",
      "'NoneType' object is not subscriptable\n",
      "Exception at row 2329\n",
      "'NoneType' object is not subscriptable\n",
      "Exception at row 2330\n",
      "'NoneType' object is not subscriptable\n",
      "Exception at row 2331\n",
      "'NoneType' object is not subscriptable\n",
      "Exception at row 2332\n",
      "'NoneType' object is not subscriptable\n",
      "Exception at row 2333\n",
      "'NoneType' object is not subscriptable\n",
      "Exception at row 2334\n",
      "'NoneType' object is not subscriptable\n",
      "Exception at row 2335\n",
      "'NoneType' object is not subscriptable\n",
      "Exception at row 2336\n",
      "'NoneType' object is not subscriptable\n",
      "Exception at row 2337\n",
      "'NoneType' object is not subscriptable\n",
      "Exception at row 2338\n",
      "'NoneType' object is not subscriptable\n",
      "Exception at row 2339\n",
      "'NoneType' object is not subscriptable\n",
      "Exception at row 2340\n",
      "'NoneType' object is not subscriptable\n",
      "Exception at row 2341\n",
      "'NoneType' object is not subscriptable\n",
      "Exception at row 2342\n",
      "'NoneType' object is not subscriptable\n",
      "Exception at row 2343\n",
      "'NoneType' object is not subscriptable\n",
      "Exception at row 2344\n",
      "'NoneType' object is not subscriptable\n",
      "Exception at row 2345\n",
      "'NoneType' object is not subscriptable\n",
      "Exception at row 2346\n",
      "'NoneType' object is not subscriptable\n",
      "Exception at row 2347\n",
      "'NoneType' object is not subscriptable\n",
      "Exception at row 2348\n",
      "'NoneType' object is not subscriptable\n",
      "Exception at row 2349\n",
      "'NoneType' object is not subscriptable\n",
      "Exception at row 2350\n",
      "'NoneType' object is not subscriptable\n",
      "Exception at row 2351\n",
      "'NoneType' object is not subscriptable\n",
      "Exception at row 2352\n",
      "'NoneType' object is not subscriptable\n",
      "Exception at row 2353\n",
      "'NoneType' object is not subscriptable\n",
      "Exception at row 2354\n",
      "'NoneType' object is not subscriptable\n",
      "Exception at row 2355\n",
      "'NoneType' object is not subscriptable\n",
      "Exception at row 2356\n",
      "'NoneType' object is not subscriptable\n",
      "Exception at row 2357\n",
      "'NoneType' object is not subscriptable\n",
      "Exception at row 2358\n",
      "'NoneType' object is not subscriptable\n",
      "Exception at row 2359\n",
      "'NoneType' object is not subscriptable\n",
      "Exception at row 2360\n",
      "'NoneType' object is not subscriptable\n",
      "Exception at row 2361\n",
      "'NoneType' object is not subscriptable\n",
      "Exception at row 2362\n",
      "'NoneType' object is not subscriptable\n",
      "Exception at row 2363\n",
      "'NoneType' object is not subscriptable\n",
      "Exception at row 2364\n",
      "'NoneType' object is not subscriptable\n",
      "Exception at row 2365\n",
      "'NoneType' object is not subscriptable\n",
      "Exception at row 2366\n",
      "'NoneType' object is not subscriptable\n",
      "Exception at row 2367\n",
      "'NoneType' object is not subscriptable\n",
      "Exception at row 2368\n",
      "'NoneType' object is not subscriptable\n",
      "Exception at row 2369\n",
      "'NoneType' object is not subscriptable\n",
      "Exception at row 2370\n",
      "'NoneType' object is not subscriptable\n",
      "Exception at row 2371\n",
      "'NoneType' object is not subscriptable\n",
      "Exception at row 2372\n",
      "'NoneType' object is not subscriptable\n",
      "Exception at row 2373\n",
      "'NoneType' object is not subscriptable\n",
      "Exception at row 2374\n",
      "'NoneType' object is not subscriptable\n",
      "Exception at row 2375\n",
      "'NoneType' object is not subscriptable\n",
      "Exception at row 2376\n",
      "'NoneType' object is not subscriptable\n",
      "Exception at row 2377\n",
      "'NoneType' object is not subscriptable\n",
      "Exception at row 2378\n",
      "'NoneType' object is not subscriptable\n",
      "Exception at row 2379\n",
      "'NoneType' object is not subscriptable\n",
      "Exception at row 2380\n",
      "'NoneType' object is not subscriptable\n",
      "Exception at row 2381\n",
      "'NoneType' object is not subscriptable\n",
      "Exception at row 2382\n",
      "'NoneType' object is not subscriptable\n",
      "Exception at row 2383\n",
      "'NoneType' object is not subscriptable\n",
      "Exception at row 2384\n",
      "'NoneType' object is not subscriptable\n",
      "Exception at row 2385\n",
      "'NoneType' object is not subscriptable\n",
      "Exception at row 2386\n",
      "'NoneType' object is not subscriptable\n",
      "Exception at row 2387\n",
      "'NoneType' object is not subscriptable\n",
      "Exception at row 2388\n",
      "'NoneType' object is not subscriptable\n",
      "Exception at row 2389\n",
      "'NoneType' object is not subscriptable\n",
      "Exception at row 2390\n",
      "'NoneType' object is not subscriptable\n",
      "Exception at row 2391\n",
      "'NoneType' object is not subscriptable\n",
      "Exception at row 2392\n",
      "'NoneType' object is not subscriptable\n",
      "Exception at row 2393\n",
      "'NoneType' object is not subscriptable\n",
      "Exception at row 2394\n",
      "'NoneType' object is not subscriptable\n",
      "Exception at row 2395\n",
      "'NoneType' object is not subscriptable\n",
      "Exception at row 2396\n",
      "'NoneType' object is not subscriptable\n",
      "Exception at row 2397\n",
      "'NoneType' object is not subscriptable\n",
      "Exception at row 2398\n",
      "'NoneType' object is not subscriptable\n",
      "Exception at row 2399\n",
      "'NoneType' object is not subscriptable\n",
      "Exception at row 2400\n",
      "'NoneType' object is not subscriptable\n",
      "Exception at row 2401\n",
      "'NoneType' object is not subscriptable\n",
      "Exception at row 2402\n",
      "'NoneType' object is not subscriptable\n",
      "Exception at row 2403\n",
      "'NoneType' object is not subscriptable\n",
      "Exception at row 2404\n",
      "'NoneType' object is not subscriptable\n",
      "Exception at row 2405\n",
      "'NoneType' object is not subscriptable\n",
      "Exception at row 2406\n",
      "'NoneType' object is not subscriptable\n",
      "Exception at row 2407\n",
      "'NoneType' object is not subscriptable\n",
      "Exception at row 2408\n",
      "'NoneType' object is not subscriptable\n",
      "Exception at row 2409\n",
      "'NoneType' object is not subscriptable\n",
      "Exception at row 2410\n",
      "'NoneType' object is not subscriptable\n",
      "Exception at row 2411\n",
      "'NoneType' object is not subscriptable\n",
      "Exception at row 2412\n",
      "'NoneType' object is not subscriptable\n",
      "Exception at row 2413\n",
      "'NoneType' object is not subscriptable\n",
      "Exception at row 2414\n",
      "'NoneType' object is not subscriptable\n",
      "Exception at row 2415\n",
      "'NoneType' object is not subscriptable\n",
      "Exception at row 2416\n",
      "'NoneType' object is not subscriptable\n",
      "Exception at row 2417\n",
      "'NoneType' object is not subscriptable\n",
      "Exception at row 2418\n",
      "'NoneType' object is not subscriptable\n",
      "Exception at row 2419\n",
      "'NoneType' object is not subscriptable\n",
      "Exception at row 2420\n",
      "'NoneType' object is not subscriptable\n",
      "Exception at row 2421\n",
      "'NoneType' object is not subscriptable\n",
      "Exception at row 2422\n",
      "'NoneType' object is not subscriptable\n",
      "Exception at row 2423\n",
      "'NoneType' object is not subscriptable\n",
      "Exception at row 2424\n",
      "'NoneType' object is not subscriptable\n",
      "Exception at row 2425\n",
      "'NoneType' object is not subscriptable\n",
      "Exception at row 2426\n",
      "'NoneType' object is not subscriptable\n",
      "Exception at row 2427\n",
      "'NoneType' object is not subscriptable\n",
      "Exception at row 2428\n",
      "'NoneType' object is not subscriptable\n",
      "Exception at row 2429\n",
      "'NoneType' object is not subscriptable\n",
      "Exception at row 2430\n",
      "'NoneType' object is not subscriptable\n",
      "Exception at row 2431\n",
      "'NoneType' object is not subscriptable\n",
      "Exception at row 2432\n",
      "'NoneType' object is not subscriptable\n",
      "Exception at row 2433\n",
      "'NoneType' object is not subscriptable\n",
      "Exception at row 2434\n",
      "'NoneType' object is not subscriptable\n",
      "Exception at row 2435\n",
      "'NoneType' object is not subscriptable\n",
      "Exception at row 2436\n",
      "'NoneType' object is not subscriptable\n",
      "Exception at row 2437\n",
      "'NoneType' object is not subscriptable\n",
      "Exception at row 2438"
     ]
    },
    {
     "name": "stderr",
     "output_type": "stream",
     "text": [
      "Processing row 2619:  66%|██████▋   | 2573/3883 [00:02<00:01, 911.90it/s] "
     ]
    },
    {
     "name": "stdout",
     "output_type": "stream",
     "text": [
      "\n",
      "'NoneType' object is not subscriptable\n",
      "Exception at row 2439\n",
      "'NoneType' object is not subscriptable\n",
      "Exception at row 2440\n",
      "'NoneType' object is not subscriptable\n",
      "Exception at row 2441\n",
      "'NoneType' object is not subscriptable\n",
      "Exception at row 2442\n",
      "'NoneType' object is not subscriptable\n",
      "Exception at row 2443\n",
      "'NoneType' object is not subscriptable\n",
      "Exception at row 2444\n",
      "'NoneType' object is not subscriptable\n",
      "Exception at row 2445\n",
      "'NoneType' object is not subscriptable\n",
      "Exception at row 2446\n",
      "'NoneType' object is not subscriptable\n",
      "Exception at row 2447\n",
      "'NoneType' object is not subscriptable\n",
      "Exception at row 2448\n",
      "'NoneType' object is not subscriptable\n",
      "Exception at row 2449\n",
      "'NoneType' object is not subscriptable\n",
      "Exception at row 2450\n",
      "'NoneType' object is not subscriptable\n",
      "Exception at row 2451\n",
      "'NoneType' object is not subscriptable\n",
      "Exception at row 2452\n",
      "'NoneType' object is not subscriptable\n",
      "Exception at row 2453\n",
      "'NoneType' object is not subscriptable\n",
      "Exception at row 2454\n",
      "'NoneType' object is not subscriptable\n",
      "Exception at row 2455\n",
      "'NoneType' object is not subscriptable\n",
      "Exception at row 2456\n",
      "'NoneType' object is not subscriptable\n",
      "Exception at row 2457\n",
      "'NoneType' object is not subscriptable\n",
      "Exception at row 2458\n",
      "'NoneType' object is not subscriptable\n",
      "Exception at row 2459\n",
      "'NoneType' object is not subscriptable\n",
      "Exception at row 2460\n",
      "'NoneType' object is not subscriptable\n",
      "Exception at row 2461\n",
      "'NoneType' object is not subscriptable\n",
      "Exception at row 2462\n",
      "'NoneType' object is not subscriptable\n",
      "Exception at row 2463\n",
      "'NoneType' object is not subscriptable\n",
      "Exception at row 2464\n",
      "'NoneType' object is not subscriptable\n",
      "Exception at row 2465\n",
      "'NoneType' object is not subscriptable\n",
      "Exception at row 2466\n",
      "'NoneType' object is not subscriptable\n",
      "Exception at row 2467\n",
      "'NoneType' object is not subscriptable\n",
      "Exception at row 2468\n",
      "'NoneType' object is not subscriptable\n",
      "Exception at row 2469\n",
      "'NoneType' object is not subscriptable\n",
      "Exception at row 2470\n",
      "'NoneType' object is not subscriptable\n",
      "Exception at row 2471\n",
      "'NoneType' object is not subscriptable\n",
      "Exception at row 2472\n",
      "'NoneType' object is not subscriptable\n",
      "Exception at row 2473\n",
      "'NoneType' object is not subscriptable\n",
      "Exception at row 2474\n",
      "'NoneType' object is not subscriptable\n",
      "Exception at row 2475\n",
      "'NoneType' object is not subscriptable\n",
      "Exception at row 2476\n",
      "'NoneType' object is not subscriptable\n",
      "Exception at row 2477\n",
      "'NoneType' object is not subscriptable\n",
      "Exception at row 2478\n",
      "'NoneType' object is not subscriptable\n",
      "Exception at row 2479\n",
      "'NoneType' object is not subscriptable\n",
      "Exception at row 2480\n",
      "'NoneType' object is not subscriptable\n",
      "Exception at row 2481\n",
      "'NoneType' object is not subscriptable\n",
      "Exception at row 2482\n",
      "'NoneType' object is not subscriptable\n",
      "Exception at row 2483\n",
      "'NoneType' object is not subscriptable\n",
      "Exception at row 2484\n",
      "'NoneType' object is not subscriptable\n",
      "Exception at row 2485\n",
      "'NoneType' object is not subscriptable\n",
      "Exception at row 2486\n",
      "'NoneType' object is not subscriptable\n",
      "Exception at row 2487\n",
      "'NoneType' object is not subscriptable\n",
      "Exception at row 2488\n",
      "'NoneType' object is not subscriptable\n",
      "Exception at row 2489\n",
      "'NoneType' object is not subscriptable\n",
      "Exception at row 2490\n",
      "'NoneType' object is not subscriptable\n",
      "Exception at row 2491\n",
      "'NoneType' object is not subscriptable\n",
      "Exception at row 2492\n",
      "'NoneType' object is not subscriptable\n",
      "Exception at row 2493\n",
      "'NoneType' object is not subscriptable\n",
      "Exception at row 2494\n",
      "'NoneType' object is not subscriptable\n",
      "Exception at row 2495\n",
      "'NoneType' object is not subscriptable\n",
      "Exception at row 2496\n",
      "'NoneType' object is not subscriptable\n",
      "Exception at row 2497\n",
      "'NoneType' object is not subscriptable\n",
      "Exception at row 2498\n",
      "'NoneType' object is not subscriptable\n",
      "Exception at row 2499\n",
      "'NoneType' object is not subscriptable\n",
      "Exception at row 2500\n",
      "'NoneType' object is not subscriptable\n",
      "Exception at row 2501\n",
      "'NoneType' object is not subscriptable\n",
      "Exception at row 2502\n",
      "'NoneType' object is not subscriptable\n",
      "Exception at row 2503\n",
      "'NoneType' object is not subscriptable\n",
      "Exception at row 2504\n",
      "'NoneType' object is not subscriptable\n",
      "Exception at row 2505\n",
      "'NoneType' object is not subscriptable\n",
      "Exception at row 2506\n",
      "'NoneType' object is not subscriptable\n",
      "Exception at row 2507\n",
      "'NoneType' object is not subscriptable\n",
      "Exception at row 2508\n",
      "'NoneType' object is not subscriptable\n",
      "Exception at row 2509\n",
      "'NoneType' object is not subscriptable\n",
      "Exception at row 2510\n",
      "'NoneType' object is not subscriptable\n",
      "Exception at row 2511\n",
      "'NoneType' object is not subscriptable\n",
      "Exception at row 2512\n",
      "'NoneType' object is not subscriptable\n",
      "Exception at row 2513\n",
      "'NoneType' object is not subscriptable\n",
      "Exception at row 2514\n",
      "'NoneType' object is not subscriptable\n",
      "Exception at row 2515\n",
      "'NoneType' object is not subscriptable\n",
      "Exception at row 2516\n",
      "'NoneType' object is not subscriptable\n",
      "Exception at row 2517\n",
      "'NoneType' object is not subscriptable\n",
      "Exception at row 2518\n",
      "'NoneType' object is not subscriptable\n",
      "Exception at row 2519\n",
      "'NoneType' object is not subscriptable\n",
      "Exception at row 2520\n",
      "'NoneType' object is not subscriptable\n",
      "Exception at row 2521\n",
      "'NoneType' object is not subscriptable\n",
      "Exception at row 2522\n",
      "'NoneType' object is not subscriptable\n",
      "Exception at row 2523\n",
      "'NoneType' object is not subscriptable\n",
      "Exception at row 2524\n",
      "'NoneType' object is not subscriptable\n",
      "Exception at row 2525\n",
      "'NoneType' object is not subscriptable\n",
      "Exception at row 2526\n",
      "'NoneType' object is not subscriptable\n",
      "Exception at row 2527\n",
      "'NoneType' object is not subscriptable\n",
      "Exception at row 2528\n",
      "'NoneType' object is not subscriptable\n",
      "Exception at row 2529\n",
      "'NoneType' object is not subscriptable\n",
      "Exception at row 2530\n",
      "'NoneType' object is not subscriptable\n",
      "Exception at row 2531\n",
      "'NoneType' object is not subscriptable\n",
      "Exception at row 2532\n",
      "'NoneType' object is not subscriptable\n",
      "Exception at row 2533\n",
      "'NoneType' object is not subscriptable\n",
      "Exception at row 2534\n",
      "'NoneType' object is not subscriptable\n",
      "Exception at row 2535\n",
      "'NoneType' object is not subscriptable\n",
      "Exception at row 2536\n",
      "'NoneType' object is not subscriptable\n",
      "Exception at row 2537\n",
      "'NoneType' object is not subscriptable\n",
      "Exception at row 2538\n",
      "'NoneType' object is not subscriptable\n",
      "Exception at row 2539\n",
      "'NoneType' object is not subscriptable\n",
      "Exception at row 2540\n",
      "'NoneType' object is not subscriptable\n",
      "Exception at row 2541\n",
      "'NoneType' object is not subscriptable\n",
      "Exception at row 2542\n",
      "'NoneType' object is not subscriptable\n",
      "Exception at row 2543\n",
      "'NoneType' object is not subscriptable\n",
      "Exception at row 2544\n",
      "'NoneType' object is not subscriptable\n",
      "Exception at row 2545\n",
      "'NoneType' object is not subscriptable\n",
      "Exception at row 2546\n",
      "'NoneType' object is not subscriptable\n",
      "Exception at row 2547\n",
      "'NoneType' object is not subscriptable\n",
      "Exception at row 2548\n",
      "'NoneType' object is not subscriptable\n",
      "Exception at row 2549\n",
      "'NoneType' object is not subscriptable\n",
      "Exception at row 2550\n",
      "'NoneType' object is not subscriptable\n",
      "Exception at row 2551\n",
      "'NoneType' object is not subscriptable\n",
      "Exception at row 2552\n",
      "'NoneType' object is not subscriptable\n",
      "Exception at row 2553\n",
      "'NoneType' object is not subscriptable\n",
      "Exception at row 2554\n",
      "'NoneType' object is not subscriptable\n",
      "Exception at row 2555\n",
      "'NoneType' object is not subscriptable\n",
      "Exception at row 2556\n",
      "'NoneType' object is not subscriptable\n",
      "Exception at row 2557\n",
      "'NoneType' object is not subscriptable\n",
      "Exception at row 2558\n",
      "'NoneType' object is not subscriptable\n",
      "Exception at row 2559\n",
      "'NoneType' object is not subscriptable\n",
      "Exception at row 2560\n",
      "'NoneType' object is not subscriptable\n",
      "Exception at row 2561\n",
      "'NoneType' object is not subscriptable\n",
      "Exception at row 2562\n",
      "'NoneType' object is not subscriptable\n",
      "Exception at row 2563\n",
      "'NoneType' object is not subscriptable\n",
      "Exception at row 2564\n",
      "'NoneType' object is not subscriptable\n",
      "Exception at row 2565\n",
      "'NoneType' object is not subscriptable\n",
      "Exception at row 2566\n",
      "'NoneType' object is not subscriptable\n",
      "Exception at row 2567\n",
      "'NoneType' object is not subscriptable\n",
      "Exception at row 2568\n",
      "'NoneType' object is not subscriptable\n",
      "Exception at row 2569\n",
      "'NoneType' object is not subscriptable\n",
      "Exception at row 2570\n",
      "'NoneType' object is not subscriptable\n",
      "Exception at row 2571\n",
      "'NoneType' object is not subscriptable\n",
      "Exception at row 2572\n",
      "'NoneType' object is not subscriptable\n",
      "Exception at row 2573\n",
      "'NoneType' object is not subscriptable\n",
      "Exception at row 2574\n",
      "'NoneType' object is not subscriptable\n",
      "Exception at row 2575\n",
      "'NoneType' object is not subscriptable\n",
      "Exception at row 2576\n",
      "'NoneType' object is not subscriptable\n",
      "Exception at row 2577\n",
      "'NoneType' object is not subscriptable\n",
      "Exception at row 2578\n",
      "'NoneType' object is not subscriptable\n",
      "Exception at row 2579\n",
      "'NoneType' object is not subscriptable\n",
      "Exception at row 2580\n",
      "'NoneType' object is not subscriptable\n",
      "Exception at row 2581\n",
      "'NoneType' object is not subscriptable\n",
      "Exception at row 2582\n",
      "'NoneType' object is not subscriptable\n",
      "Exception at row 2583\n",
      "'NoneType' object is not subscriptable\n",
      "Exception at row 2584\n",
      "'NoneType' object is not subscriptable\n",
      "Exception at row 2585\n",
      "'NoneType' object is not subscriptable\n",
      "Exception at row 2586\n",
      "'NoneType' object is not subscriptable\n",
      "Exception at row 2587\n",
      "'NoneType' object is not subscriptable\n",
      "Exception at row 2588\n",
      "'NoneType' object is not subscriptable\n",
      "Exception at row 2589\n",
      "'NoneType' object is not subscriptable\n",
      "Exception at row 2590\n",
      "'NoneType' object is not subscriptable\n",
      "Exception at row 2591\n",
      "'NoneType' object is not subscriptable\n",
      "Exception at row 2592\n",
      "'NoneType' object is not subscriptable\n",
      "Exception at row 2593\n",
      "'NoneType' object is not subscriptable\n",
      "Exception at row 2594\n",
      "'NoneType' object is not subscriptable\n",
      "Exception at row 2595\n",
      "'NoneType' object is not subscriptable\n",
      "Exception at row 2596\n",
      "'NoneType' object is not subscriptable\n",
      "Exception at row 2597\n",
      "'NoneType' object is not subscriptable\n",
      "Exception at row 2598\n",
      "'NoneType' object is not subscriptable\n",
      "Exception at row 2599\n",
      "'NoneType' object is not subscriptable\n",
      "Exception at row 2600\n",
      "'NoneType' object is not subscriptable\n",
      "Exception at row 2601\n",
      "'NoneType' object is not subscriptable\n",
      "Exception at row 2602\n",
      "'NoneType' object is not subscriptable\n",
      "Exception at row 2603\n",
      "'NoneType' object is not subscriptable\n",
      "Exception at row 2604\n",
      "'NoneType' object is not subscriptable\n",
      "Exception at row 2605\n",
      "'NoneType' object is not subscriptable\n",
      "Exception at row 2606\n",
      "'NoneType' object is not subscriptable\n",
      "Exception at row 2607\n",
      "'NoneType' object is not subscriptable\n",
      "Exception at row 2608\n",
      "'NoneType' object is not subscriptable\n",
      "Exception at row 2609\n",
      "'NoneType' object is not subscriptable\n",
      "Exception at row 2610\n",
      "'NoneType' object is not subscriptable\n",
      "Exception at row 2611\n",
      "'NoneType' object is not subscriptable\n",
      "Exception at row 2612\n",
      "'NoneType' object is not subscriptable\n",
      "Exception at row 2613\n",
      "'NoneType' object is not subscriptable\n",
      "Exception at row 2614\n",
      "'NoneType' object is not subscriptable\n",
      "Exception at row 2615\n",
      "'NoneType' object is not subscriptable\n",
      "Exception at row 2616\n",
      "'NoneType' object is not subscriptable\n",
      "Exception at row 2617\n",
      "'NoneType' object is not subscriptable\n",
      "Exception at row 2618\n",
      "'NoneType' object is not subscriptable\n"
     ]
    },
    {
     "name": "stderr",
     "output_type": "stream",
     "text": [
      "Processing row 2861:  71%|███████   | 2738/3883 [00:02<00:01, 1066.20it/s]"
     ]
    },
    {
     "name": "stdout",
     "output_type": "stream",
     "text": [
      "Exception at row 2619\n",
      "'NoneType' object is not subscriptable\n",
      "Exception at row 2620\n",
      "'NoneType' object is not subscriptable\n",
      "Exception at row 2621\n",
      "'NoneType' object is not subscriptable\n",
      "Exception at row 2622\n",
      "'NoneType' object is not subscriptable\n",
      "Exception at row 2623\n",
      "'NoneType' object is not subscriptable\n",
      "Exception at row 2624\n",
      "'NoneType' object is not subscriptable\n",
      "Exception at row 2625\n",
      "'NoneType' object is not subscriptable\n",
      "Exception at row 2626\n",
      "'NoneType' object is not subscriptable\n",
      "Exception at row 2627\n",
      "'NoneType' object is not subscriptable\n",
      "Exception at row 2628\n",
      "'NoneType' object is not subscriptable\n",
      "Exception at row 2629\n",
      "'NoneType' object is not subscriptable\n",
      "Exception at row 2630\n",
      "'NoneType' object is not subscriptable\n",
      "Exception at row 2631\n",
      "'NoneType' object is not subscriptable\n",
      "Exception at row 2632\n",
      "'NoneType' object is not subscriptable\n",
      "Exception at row 2633\n",
      "'NoneType' object is not subscriptable\n",
      "Exception at row 2634\n",
      "'NoneType' object is not subscriptable\n",
      "Exception at row 2635\n",
      "'NoneType' object is not subscriptable\n",
      "Exception at row 2636\n",
      "'NoneType' object is not subscriptable\n",
      "Exception at row 2637\n",
      "'NoneType' object is not subscriptable\n",
      "Exception at row 2638\n",
      "'NoneType' object is not subscriptable\n",
      "Exception at row 2639\n",
      "'NoneType' object is not subscriptable\n",
      "Exception at row 2640\n",
      "'NoneType' object is not subscriptable\n",
      "Exception at row 2641\n",
      "'NoneType' object is not subscriptable\n",
      "Exception at row 2642\n",
      "'NoneType' object is not subscriptable\n",
      "Exception at row 2643\n",
      "'NoneType' object is not subscriptable\n",
      "Exception at row 2644\n",
      "'NoneType' object is not subscriptable\n",
      "Exception at row 2645\n",
      "'NoneType' object is not subscriptable\n",
      "Exception at row 2646\n",
      "'NoneType' object is not subscriptable\n",
      "Exception at row 2647\n",
      "'NoneType' object is not subscriptable\n",
      "Exception at row 2648\n",
      "'NoneType' object is not subscriptable\n",
      "Exception at row 2649\n",
      "'NoneType' object is not subscriptable\n",
      "Exception at row 2650\n",
      "'NoneType' object is not subscriptable\n",
      "Exception at row 2651\n",
      "'NoneType' object is not subscriptable\n",
      "Exception at row 2652\n",
      "'NoneType' object is not subscriptable\n",
      "Exception at row 2653\n",
      "'NoneType' object is not subscriptable\n",
      "Exception at row 2654\n",
      "'NoneType' object is not subscriptable\n",
      "Exception at row 2655\n",
      "'NoneType' object is not subscriptable\n",
      "Exception at row 2656\n",
      "'NoneType' object is not subscriptable\n",
      "Exception at row 2657\n",
      "'NoneType' object is not subscriptable\n",
      "Exception at row 2658\n",
      "'NoneType' object is not subscriptable\n",
      "Exception at row 2659\n",
      "'NoneType' object is not subscriptable\n",
      "Exception at row 2660\n",
      "'NoneType' object is not subscriptable\n",
      "Exception at row 2661\n",
      "'NoneType' object is not subscriptable\n",
      "Exception at row 2662\n",
      "'NoneType' object is not subscriptable\n",
      "Exception at row 2663\n",
      "'NoneType' object is not subscriptable\n",
      "Exception at row 2664\n",
      "'NoneType' object is not subscriptable\n",
      "Exception at row 2665\n",
      "'NoneType' object is not subscriptable\n",
      "Exception at row 2666\n",
      "'NoneType' object is not subscriptable\n",
      "Exception at row 2667\n",
      "'NoneType' object is not subscriptable\n",
      "Exception at row 2668\n",
      "'NoneType' object is not subscriptable\n",
      "Exception at row 2669\n",
      "'NoneType' object is not subscriptable\n",
      "Exception at row 2670\n",
      "'NoneType' object is not subscriptable\n",
      "Exception at row 2671\n",
      "'NoneType' object is not subscriptable\n",
      "Exception at row 2672\n",
      "'NoneType' object is not subscriptable\n",
      "Exception at row 2673\n",
      "'NoneType' object is not subscriptable\n",
      "Exception at row 2674\n",
      "'NoneType' object is not subscriptable\n",
      "Exception at row 2675\n",
      "'NoneType' object is not subscriptable\n",
      "Exception at row 2676\n",
      "'NoneType' object is not subscriptable\n",
      "Exception at row 2677\n",
      "'NoneType' object is not subscriptable\n",
      "Exception at row 2678\n",
      "'NoneType' object is not subscriptable\n",
      "Exception at row 2679\n",
      "'NoneType' object is not subscriptable\n",
      "Exception at row 2680\n",
      "'NoneType' object is not subscriptable\n",
      "Exception at row 2681\n",
      "'NoneType' object is not subscriptable\n",
      "Exception at row 2682\n",
      "'NoneType' object is not subscriptable\n",
      "Exception at row 2683\n",
      "'NoneType' object is not subscriptable\n",
      "Exception at row 2684\n",
      "'NoneType' object is not subscriptable\n",
      "Exception at row 2685\n",
      "'NoneType' object is not subscriptable\n",
      "Exception at row 2686\n",
      "'NoneType' object is not subscriptable\n",
      "Exception at row 2687\n",
      "'NoneType' object is not subscriptable\n",
      "Exception at row 2688\n",
      "'NoneType' object is not subscriptable\n",
      "Exception at row 2689\n",
      "'NoneType' object is not subscriptable\n",
      "Exception at row 2690\n",
      "'NoneType' object is not subscriptable\n",
      "Exception at row 2691\n",
      "'NoneType' object is not subscriptable\n",
      "Exception at row 2692\n",
      "'NoneType' object is not subscriptable\n",
      "Exception at row 2693\n",
      "'NoneType' object is not subscriptable\n",
      "Exception at row 2694\n",
      "'NoneType' object is not subscriptable\n",
      "Exception at row 2695\n",
      "'NoneType' object is not subscriptable\n",
      "Exception at row 2696\n",
      "'NoneType' object is not subscriptable\n",
      "Exception at row 2697\n",
      "'NoneType' object is not subscriptable\n",
      "Exception at row 2698\n",
      "'NoneType' object is not subscriptable\n",
      "Exception at row 2699\n",
      "'NoneType' object is not subscriptable\n",
      "Exception at row 2700\n",
      "'NoneType' object is not subscriptable\n",
      "Exception at row 2701\n",
      "'NoneType' object is not subscriptable\n",
      "Exception at row 2702\n",
      "'NoneType' object is not subscriptable\n",
      "Exception at row 2703\n",
      "'NoneType' object is not subscriptable\n",
      "Exception at row 2704\n",
      "'NoneType' object is not subscriptable\n",
      "Exception at row 2705\n",
      "'NoneType' object is not subscriptable\n",
      "Exception at row 2706\n",
      "'NoneType' object is not subscriptable\n",
      "Exception at row 2707\n",
      "'NoneType' object is not subscriptable\n",
      "Exception at row 2708\n",
      "'NoneType' object is not subscriptable\n",
      "Exception at row 2709\n",
      "'NoneType' object is not subscriptable\n",
      "Exception at row 2710\n",
      "'NoneType' object is not subscriptable\n",
      "Exception at row 2711\n",
      "'NoneType' object is not subscriptable\n",
      "Exception at row 2712\n",
      "'NoneType' object is not subscriptable\n",
      "Exception at row 2713\n",
      "'NoneType' object is not subscriptable\n",
      "Exception at row 2714\n",
      "'NoneType' object is not subscriptable\n",
      "Exception at row 2715\n",
      "'NoneType' object is not subscriptable\n",
      "Exception at row 2716\n",
      "'NoneType' object is not subscriptable\n",
      "Exception at row 2717\n",
      "'NoneType' object is not subscriptable\n",
      "Exception at row 2718\n",
      "'NoneType' object is not subscriptable\n",
      "Exception at row 2719\n",
      "'NoneType' object is not subscriptable\n",
      "Exception at row 2720\n",
      "'NoneType' object is not subscriptable\n",
      "Exception at row 2721\n",
      "'NoneType' object is not subscriptable\n",
      "Exception at row 2722\n",
      "'NoneType' object is not subscriptable\n",
      "Exception at row 2723\n",
      "'NoneType' object is not subscriptable\n",
      "Exception at row 2724\n",
      "'NoneType' object is not subscriptable\n",
      "Exception at row 2725\n",
      "'NoneType' object is not subscriptable\n",
      "Exception at row 2726\n",
      "'NoneType' object is not subscriptable\n",
      "Exception at row 2727\n",
      "'NoneType' object is not subscriptable\n",
      "Exception at row 2728\n",
      "'NoneType' object is not subscriptable\n",
      "Exception at row 2729\n",
      "'NoneType' object is not subscriptable\n",
      "Exception at row 2730\n",
      "'NoneType' object is not subscriptable\n",
      "Exception at row 2731\n",
      "'NoneType' object is not subscriptable\n",
      "Exception at row 2732\n",
      "'NoneType' object is not subscriptable\n",
      "Exception at row 2733\n",
      "'NoneType' object is not subscriptable\n",
      "Exception at row 2734\n",
      "'NoneType' object is not subscriptable\n",
      "Exception at row 2735\n",
      "'NoneType' object is not subscriptable\n",
      "Exception at row 2736\n",
      "'NoneType' object is not subscriptable\n",
      "Exception at row 2737\n",
      "'NoneType' object is not subscriptable\n",
      "Exception at row 2738\n",
      "'NoneType' object is not subscriptable\n",
      "Exception at row 2739\n",
      "'NoneType' object is not subscriptable\n",
      "Exception at row 2740\n",
      "'NoneType' object is not subscriptable\n",
      "Exception at row 2741\n",
      "'NoneType' object is not subscriptable\n",
      "Exception at row 2742\n",
      "'NoneType' object is not subscriptable\n",
      "Exception at row 2743\n",
      "'NoneType' object is not subscriptable\n",
      "Exception at row 2744\n",
      "'NoneType' object is not subscriptable\n",
      "Exception at row 2745\n",
      "'NoneType' object is not subscriptable\n",
      "Exception at row 2746\n",
      "'NoneType' object is not subscriptable\n",
      "Exception at row 2747\n",
      "'NoneType' object is not subscriptable\n",
      "Exception at row 2748\n",
      "'NoneType' object is not subscriptable\n",
      "Exception at row 2749\n",
      "'NoneType' object is not subscriptable\n",
      "Exception at row 2750\n",
      "'NoneType' object is not subscriptable\n",
      "Exception at row 2751\n",
      "'NoneType' object is not subscriptable\n",
      "Exception at row 2752\n",
      "'NoneType' object is not subscriptable\n",
      "Exception at row 2753\n",
      "'NoneType' object is not subscriptable\n",
      "Exception at row 2754\n",
      "'NoneType' object is not subscriptable\n",
      "Exception at row 2755\n",
      "'NoneType' object is not subscriptable\n",
      "Exception at row 2756\n",
      "'NoneType' object is not subscriptable\n",
      "Exception at row 2757\n",
      "'NoneType' object is not subscriptable\n",
      "Exception at row 2758\n",
      "'NoneType' object is not subscriptable\n",
      "Exception at row 2759\n",
      "'NoneType' object is not subscriptable\n",
      "Exception at row 2760\n",
      "'NoneType' object is not subscriptable\n",
      "Exception at row 2761\n",
      "'NoneType' object is not subscriptable\n",
      "Exception at row 2762\n",
      "'NoneType' object is not subscriptable\n",
      "Exception at row 2763\n",
      "'NoneType' object is not subscriptable\n",
      "Exception at row 2764\n",
      "'NoneType' object is not subscriptable\n",
      "Exception at row 2765\n",
      "'NoneType' object is not subscriptable\n",
      "Exception at row 2766\n",
      "'NoneType' object is not subscriptable\n",
      "Exception at row 2767\n",
      "'NoneType' object is not subscriptable\n",
      "Exception at row 2768\n",
      "'NoneType' object is not subscriptable\n",
      "Exception at row 2769\n",
      "'NoneType' object is not subscriptable\n",
      "Exception at row 2770\n",
      "'NoneType' object is not subscriptable\n",
      "Exception at row 2771\n",
      "'NoneType' object is not subscriptable\n",
      "Exception at row 2772\n",
      "'NoneType' object is not subscriptable\n",
      "Exception at row 2773\n",
      "'NoneType' object is not subscriptable\n",
      "Exception at row 2774\n",
      "'NoneType' object is not subscriptable\n",
      "Exception at row 2775\n",
      "'NoneType' object is not subscriptable\n",
      "Exception at row 2776\n",
      "'NoneType' object is not subscriptable\n",
      "Exception at row 2777\n",
      "'NoneType' object is not subscriptable\n",
      "Exception at row 2778\n",
      "'NoneType' object is not subscriptable\n",
      "Exception at row 2779\n",
      "'NoneType' object is not subscriptable\n",
      "Exception at row 2780\n",
      "'NoneType' object is not subscriptable\n",
      "Exception at row 2781\n",
      "'NoneType' object is not subscriptable\n",
      "Exception at row 2782\n",
      "'NoneType' object is not subscriptable\n",
      "Exception at row 2783\n",
      "'NoneType' object is not subscriptable\n",
      "Exception at row 2784\n",
      "'NoneType' object is not subscriptable\n",
      "Exception at row 2785\n",
      "'NoneType' object is not subscriptable\n",
      "Exception at row 2786\n",
      "'NoneType' object is not subscriptable\n",
      "Exception at row 2787\n",
      "'NoneType' object is not subscriptable\n",
      "Exception at row 2788\n",
      "'NoneType' object is not subscriptable\n",
      "Exception at row 2789\n",
      "'NoneType' object is not subscriptable\n",
      "Exception at row 2790\n",
      "'NoneType' object is not subscriptable\n",
      "Exception at row 2791\n",
      "'NoneType' object is not subscriptable\n",
      "Exception at row 2792\n",
      "'NoneType' object is not subscriptable\n",
      "Exception at row 2793\n",
      "'NoneType' object is not subscriptable\n",
      "Exception at row 2794\n",
      "'NoneType' object is not subscriptable\n",
      "Exception at row 2795\n",
      "'NoneType' object is not subscriptable\n",
      "Exception at row 2796\n",
      "'NoneType' object is not subscriptable\n",
      "Exception at row 2797\n",
      "'NoneType' object is not subscriptable\n",
      "Exception at row 2798\n",
      "'NoneType' object is not subscriptable\n",
      "Exception at row 2799\n",
      "'NoneType' object is not subscriptable\n",
      "Exception at row 2800\n",
      "'NoneType' object is not subscriptable\n",
      "Exception at row 2801\n",
      "'NoneType' object is not subscriptable\n",
      "Exception at row 2802\n",
      "'NoneType' object is not subscriptable\n",
      "Exception at row 2803\n",
      "'NoneType' object is not subscriptable\n",
      "Exception at row 2804\n",
      "'NoneType' object is not subscriptable\n",
      "Exception at row 2805\n",
      "'NoneType' object is not subscriptable\n",
      "Exception at row 2806\n",
      "'NoneType' object is not subscriptable\n",
      "Exception at row 2807\n",
      "'NoneType' object is not subscriptable\n",
      "Exception at row 2808\n",
      "'NoneType' object is not subscriptable\n",
      "Exception at row 2809\n",
      "'NoneType' object is not subscriptable\n",
      "Exception at row 2810\n",
      "'NoneType' object is not subscriptable\n",
      "Exception at row 2811\n",
      "'NoneType' object is not subscriptable\n",
      "Exception at row 2812\n",
      "'NoneType' object is not subscriptable\n",
      "Exception at row 2813\n",
      "'NoneType' object is not subscriptable\n",
      "Exception at row 2814\n",
      "'NoneType' object is not subscriptable\n",
      "Exception at row 2815\n",
      "'NoneType' object is not subscriptable\n",
      "Exception at row 2816\n",
      "'NoneType' object is not subscriptable\n",
      "Exception at row 2817\n",
      "'NoneType' object is not subscriptable\n",
      "Exception at row 2818\n",
      "'NoneType' object is not subscriptable\n",
      "Exception at row 2819\n",
      "'NoneType' object is not subscriptable\n",
      "Exception at row 2820\n",
      "'NoneType' object is not subscriptable\n",
      "Exception at row 2821\n",
      "'NoneType' object is not subscriptable\n",
      "Exception at row 2822\n",
      "'NoneType' object is not subscriptable\n",
      "Exception at row 2823\n",
      "'NoneType' object is not subscriptable\n",
      "Exception at row 2824\n",
      "'NoneType' object is not subscriptable\n",
      "Exception at row 2825\n",
      "'NoneType' object is not subscriptable\n",
      "Exception at row 2826\n",
      "'NoneType' object is not subscriptable\n",
      "Exception at row 2827\n",
      "'NoneType' object is not subscriptable\n",
      "Exception at row 2828\n",
      "'NoneType' object is not subscriptable\n",
      "Exception at row 2829\n",
      "'NoneType' object is not subscriptable\n",
      "Exception at row 2830\n",
      "'NoneType' object is not subscriptable\n",
      "Exception at row 2831\n",
      "'NoneType' object is not subscriptable\n",
      "Exception at row 2832\n",
      "'NoneType' object is not subscriptable\n",
      "Exception at row 2833\n",
      "'NoneType' object is not subscriptable\n",
      "Exception at row 2834\n",
      "'NoneType' object is not subscriptable\n",
      "Exception at row 2835\n",
      "'NoneType' object is not subscriptable\n",
      "Exception at row 2836\n",
      "'NoneType' object is not subscriptable\n",
      "Exception at row 2837\n",
      "'NoneType' object is not subscriptable\n",
      "Exception at row 2838\n",
      "'NoneType' object is not subscriptable\n",
      "Exception at row 2839\n",
      "'NoneType' object is not subscriptable\n",
      "Exception at row 2840\n",
      "'NoneType' object is not subscriptable\n",
      "Exception at row 2841\n",
      "'NoneType' object is not subscriptable\n",
      "Exception at row 2842\n",
      "'NoneType' object is not subscriptable\n",
      "Exception at row 2843\n",
      "'NoneType' object is not subscriptable\n",
      "Exception at row 2844\n",
      "'NoneType' object is not subscriptable\n",
      "Exception at row 2845\n",
      "'NoneType' object is not subscriptable\n",
      "Exception at row 2846\n",
      "'NoneType' object is not subscriptable\n",
      "Exception at row 2847\n",
      "'NoneType' object is not subscriptable\n",
      "Exception at row 2848\n",
      "'NoneType' object is not subscriptable\n",
      "Exception at row 2849\n",
      "'NoneType' object is not subscriptable\n",
      "Exception at row 2850\n",
      "'NoneType' object is not subscriptable\n",
      "Exception at row 2851\n",
      "'NoneType' object is not subscriptable\n",
      "Exception at row 2852\n",
      "'NoneType' object is not subscriptable\n",
      "Exception at row 2853\n",
      "'NoneType' object is not subscriptable\n",
      "Exception at row 2854\n",
      "'NoneType' object is not subscriptable\n",
      "Exception at row 2855\n",
      "'NoneType' object is not subscriptable\n",
      "Exception at row 2856\n",
      "'NoneType' object is not subscriptable\n",
      "Exception at row 2857\n",
      "'NoneType' object is not subscriptable\n",
      "Exception at row 2858\n",
      "'NoneType' object is not subscriptable\n",
      "Exception at row 2859\n",
      "'NoneType' object is not subscriptable\n",
      "Exception at row 2860\n",
      "'NoneType' object is not subscriptable\n",
      "Exception at row 2861\n"
     ]
    },
    {
     "name": "stderr",
     "output_type": "stream",
     "text": [
      "Processing row 3003:  77%|███████▋  | 2987/3883 [00:03<00:00, 1017.53it/s]IOPub message rate exceeded.\n",
      "The Jupyter server will temporarily stop sending output\n",
      "to the client in order to avoid crashing it.\n",
      "To change this limit, set the config variable\n",
      "`--ServerApp.iopub_msg_rate_limit`.\n",
      "\n",
      "Current values:\n",
      "ServerApp.iopub_msg_rate_limit=1000.0 (msgs/sec)\n",
      "ServerApp.rate_limit_window=3.0 (secs)\n",
      "\n",
      "Processing row 3857:  98%|█████████▊| 3793/3883 [00:03<00:00, 1270.30it/s]"
     ]
    },
    {
     "name": "stdout",
     "output_type": "stream",
     "text": [
      "'NoneType' object is not subscriptable\n",
      "Exception at row 3577\n",
      "'NoneType' object is not subscriptable\n",
      "Exception at row 3578\n",
      "'NoneType' object is not subscriptable\n",
      "Exception at row 3579\n",
      "'NoneType' object is not subscriptable\n",
      "Exception at row 3580\n",
      "'NoneType' object is not subscriptable\n",
      "Exception at row 3581\n",
      "'NoneType' object is not subscriptable\n",
      "Exception at row 3582\n",
      "'NoneType' object is not subscriptable\n",
      "Exception at row 3583\n",
      "'NoneType' object is not subscriptable\n",
      "Exception at row 3584\n",
      "'NoneType' object is not subscriptable\n",
      "Exception at row 3585\n",
      "'NoneType' object is not subscriptable\n",
      "Exception at row 3586\n",
      "'NoneType' object is not subscriptable\n",
      "Exception at row 3587\n",
      "'NoneType' object is not subscriptable\n",
      "Exception at row 3588\n",
      "'NoneType' object is not subscriptable\n",
      "Exception at row 3589\n",
      "'NoneType' object is not subscriptable\n",
      "Exception at row 3590\n",
      "'NoneType' object is not subscriptable\n",
      "Exception at row 3591\n",
      "'NoneType' object is not subscriptable\n",
      "Exception at row 3592\n",
      "'NoneType' object is not subscriptable\n",
      "Exception at row 3593\n",
      "'NoneType' object is not subscriptable\n",
      "Exception at row 3594\n",
      "'NoneType' object is not subscriptable\n",
      "Exception at row 3595\n",
      "'NoneType' object is not subscriptable\n",
      "Exception at row 3596\n",
      "'NoneType' object is not subscriptable\n",
      "Exception at row 3597\n",
      "'NoneType' object is not subscriptable\n",
      "Exception at row 3598\n",
      "'NoneType' object is not subscriptable\n",
      "Exception at row 3599\n",
      "'NoneType' object is not subscriptable\n",
      "Exception at row 3600\n",
      "'NoneType' object is not subscriptable\n",
      "Exception at row 3601\n",
      "'NoneType' object is not subscriptable\n",
      "Exception at row 3602\n",
      "'NoneType' object is not subscriptable\n",
      "Exception at row 3603\n",
      "'NoneType' object is not subscriptable\n",
      "Exception at row 3604\n",
      "'NoneType' object is not subscriptable\n",
      "Exception at row 3605\n",
      "'NoneType' object is not subscriptable\n",
      "Exception at row 3606\n",
      "'NoneType' object is not subscriptable\n",
      "Exception at row 3607\n",
      "'NoneType' object is not subscriptable\n",
      "Exception at row 3608\n",
      "'NoneType' object is not subscriptable\n",
      "Exception at row 3609\n",
      "'NoneType' object is not subscriptable\n",
      "Exception at row 3610\n",
      "'NoneType' object is not subscriptable\n",
      "Exception at row 3611\n",
      "'NoneType' object is not subscriptable\n",
      "Exception at row 3612\n",
      "'NoneType' object is not subscriptable\n",
      "Exception at row 3613\n",
      "'NoneType' object is not subscriptable\n",
      "Exception at row 3614\n",
      "'NoneType' object is not subscriptable\n",
      "Exception at row 3615\n",
      "'NoneType' object is not subscriptable\n",
      "Exception at row 3616\n",
      "'NoneType' object is not subscriptable\n",
      "Exception at row 3617\n",
      "'NoneType' object is not subscriptable\n",
      "Exception at row 3618\n",
      "'NoneType' object is not subscriptable\n",
      "Exception at row 3619\n",
      "'NoneType' object is not subscriptable\n",
      "Exception at row 3620\n",
      "'NoneType' object is not subscriptable\n",
      "Exception at row 3621\n",
      "'NoneType' object is not subscriptable\n",
      "Exception at row 3622\n",
      "'NoneType' object is not subscriptable\n",
      "Exception at row 3623\n",
      "'NoneType' object is not subscriptable\n",
      "Exception at row 3624\n",
      "'NoneType' object is not subscriptable\n",
      "Exception at row 3625\n",
      "'NoneType' object is not subscriptable\n",
      "Exception at row 3626\n",
      "'NoneType' object is not subscriptable\n",
      "Exception at row 3627\n",
      "'NoneType' object is not subscriptable\n",
      "Exception at row 3628\n",
      "'NoneType' object is not subscriptable\n",
      "Exception at row 3629\n",
      "'NoneType' object is not subscriptable\n",
      "Exception at row 3630\n",
      "'NoneType' object is not subscriptable\n",
      "Exception at row 3631\n",
      "'NoneType' object is not subscriptable\n",
      "Exception at row 3632\n",
      "'NoneType' object is not subscriptable\n",
      "Exception at row 3633\n",
      "'NoneType' object is not subscriptable\n",
      "Exception at row 3634\n",
      "'NoneType' object is not subscriptable\n",
      "Exception at row 3635\n",
      "'NoneType' object is not subscriptable\n",
      "Exception at row 3636\n",
      "'NoneType' object is not subscriptable\n",
      "Exception at row 3637\n",
      "'NoneType' object is not subscriptable\n",
      "Exception at row 3638\n",
      "'NoneType' object is not subscriptable\n",
      "Exception at row 3639\n",
      "'NoneType' object is not subscriptable\n",
      "Exception at row 3640\n",
      "'NoneType' object is not subscriptable\n",
      "Exception at row 3641\n",
      "'NoneType' object is not subscriptable\n",
      "Exception at row 3642\n",
      "'NoneType' object is not subscriptable\n",
      "Exception at row 3643\n",
      "'NoneType' object is not subscriptable\n",
      "Exception at row 3644\n",
      "'NoneType' object is not subscriptable\n",
      "Exception at row 3645\n",
      "'NoneType' object is not subscriptable\n",
      "Exception at row 3646\n",
      "'NoneType' object is not subscriptable\n",
      "Exception at row 3647\n",
      "'NoneType' object is not subscriptable\n",
      "Exception at row 3648\n",
      "'NoneType' object is not subscriptable\n",
      "Exception at row 3649\n",
      "'NoneType' object is not subscriptable\n",
      "Exception at row 3650\n",
      "'NoneType' object is not subscriptable\n",
      "Exception at row 3651\n",
      "'NoneType' object is not subscriptable\n",
      "Exception at row 3652\n",
      "'NoneType' object is not subscriptable\n",
      "Exception at row 3653\n",
      "'NoneType' object is not subscriptable\n",
      "Exception at row 3654\n",
      "'NoneType' object is not subscriptable\n",
      "Exception at row 3655\n",
      "'NoneType' object is not subscriptable\n",
      "Exception at row 3656\n",
      "'NoneType' object is not subscriptable\n",
      "Exception at row 3657\n",
      "'NoneType' object is not subscriptable\n",
      "Exception at row 3658\n",
      "'NoneType' object is not subscriptable\n",
      "Exception at row 3659\n",
      "'NoneType' object is not subscriptable\n",
      "Exception at row 3660\n",
      "'NoneType' object is not subscriptable\n",
      "Exception at row 3661\n",
      "'NoneType' object is not subscriptable\n",
      "Exception at row 3662\n",
      "'NoneType' object is not subscriptable\n",
      "Exception at row 3663\n",
      "'NoneType' object is not subscriptable\n",
      "Exception at row 3664\n",
      "'NoneType' object is not subscriptable\n",
      "Exception at row 3665\n",
      "'NoneType' object is not subscriptable\n",
      "Exception at row 3666\n",
      "'NoneType' object is not subscriptable\n",
      "Exception at row 3667\n",
      "'NoneType' object is not subscriptable\n",
      "Exception at row 3668\n",
      "'NoneType' object is not subscriptable\n",
      "Exception at row 3669\n",
      "'NoneType' object is not subscriptable\n",
      "Exception at row 3670\n",
      "'NoneType' object is not subscriptable\n",
      "Exception at row 3671\n",
      "'NoneType' object is not subscriptable\n",
      "Exception at row 3672\n",
      "'NoneType' object is not subscriptable\n",
      "Exception at row 3673\n",
      "'NoneType' object is not subscriptable\n",
      "Exception at row 3674\n",
      "'NoneType' object is not subscriptable\n",
      "Exception at row 3675\n",
      "'NoneType' object is not subscriptable\n",
      "Exception at row 3676\n",
      "'NoneType' object is not subscriptable\n",
      "Exception at row 3677\n",
      "'NoneType' object is not subscriptable\n",
      "Exception at row 3678\n",
      "'NoneType' object is not subscriptable\n",
      "Exception at row 3679\n",
      "'NoneType' object is not subscriptable\n",
      "Exception at row 3680\n",
      "'NoneType' object is not subscriptable\n",
      "Exception at row 3681\n",
      "'NoneType' object is not subscriptable\n",
      "Exception at row 3682\n",
      "'NoneType' object is not subscriptable\n",
      "Exception at row 3683\n",
      "'NoneType' object is not subscriptable\n",
      "Exception at row 3684\n",
      "'NoneType' object is not subscriptable\n",
      "Exception at row 3685\n",
      "'NoneType' object is not subscriptable\n",
      "Exception at row 3686\n",
      "'NoneType' object is not subscriptable\n",
      "Exception at row 3687\n",
      "'NoneType' object is not subscriptable\n",
      "Exception at row 3688\n",
      "'NoneType' object is not subscriptable\n",
      "Exception at row 3689\n",
      "'NoneType' object is not subscriptable\n",
      "Exception at row 3690\n",
      "'NoneType' object is not subscriptable\n",
      "Exception at row 3691\n",
      "'NoneType' object is not subscriptable\n",
      "Exception at row 3692\n",
      "'NoneType' object is not subscriptable\n",
      "Exception at row 3693\n",
      "'NoneType' object is not subscriptable\n",
      "Exception at row 3694\n",
      "'NoneType' object is not subscriptable\n",
      "Exception at row 3695\n",
      "'NoneType' object is not subscriptable\n",
      "Exception at row 3696\n",
      "'NoneType' object is not subscriptable\n",
      "Exception at row 3697\n",
      "'NoneType' object is not subscriptable\n",
      "Exception at row 3698\n",
      "'NoneType' object is not subscriptable\n",
      "Exception at row 3699\n",
      "'NoneType' object is not subscriptable\n",
      "Exception at row 3700\n",
      "'NoneType' object is not subscriptable\n",
      "Exception at row 3701\n",
      "'NoneType' object is not subscriptable\n",
      "Exception at row 3702\n",
      "'NoneType' object is not subscriptable\n",
      "Exception at row 3703\n",
      "'NoneType' object is not subscriptable\n",
      "Exception at row 3704\n",
      "'NoneType' object is not subscriptable\n",
      "Exception at row 3705\n",
      "'NoneType' object is not subscriptable\n",
      "Exception at row 3706\n",
      "'NoneType' object is not subscriptable\n",
      "Exception at row 3707\n",
      "'NoneType' object is not subscriptable\n",
      "Exception at row 3708\n",
      "'NoneType' object is not subscriptable\n",
      "Exception at row 3709\n",
      "'NoneType' object is not subscriptable\n",
      "Exception at row 3710\n",
      "'NoneType' object is not subscriptable\n",
      "Exception at row 3711\n",
      "'NoneType' object is not subscriptable\n",
      "Exception at row 3712\n",
      "'NoneType' object is not subscriptable\n",
      "Exception at row 3713\n",
      "'NoneType' object is not subscriptable\n",
      "Exception at row 3714\n",
      "'NoneType' object is not subscriptable\n",
      "Exception at row 3715\n",
      "'NoneType' object is not subscriptable\n",
      "Exception at row 3716\n",
      "'NoneType' object is not subscriptable\n",
      "Exception at row 3717\n",
      "'NoneType' object is not subscriptable\n",
      "Exception at row 3718\n",
      "'NoneType' object is not subscriptable\n",
      "Exception at row 3719\n",
      "'NoneType' object is not subscriptable\n",
      "Exception at row 3720\n",
      "'NoneType' object is not subscriptable\n",
      "Exception at row 3721\n",
      "'NoneType' object is not subscriptable\n",
      "Exception at row 3722\n",
      "'NoneType' object is not subscriptable\n",
      "Exception at row 3723\n",
      "'NoneType' object is not subscriptable\n",
      "Exception at row 3724\n",
      "'NoneType' object is not subscriptable\n",
      "Exception at row 3725\n",
      "'NoneType' object is not subscriptable\n",
      "Exception at row 3726\n",
      "'NoneType' object is not subscriptable\n",
      "Exception at row 3727\n",
      "'NoneType' object is not subscriptable\n",
      "Exception at row 3728\n",
      "'NoneType' object is not subscriptable\n",
      "Exception at row 3729\n",
      "'NoneType' object is not subscriptable\n",
      "Exception at row 3730\n",
      "'NoneType' object is not subscriptable\n",
      "Exception at row 3731\n",
      "'NoneType' object is not subscriptable\n",
      "Exception at row 3732\n",
      "'NoneType' object is not subscriptable\n",
      "Exception at row 3733\n",
      "'NoneType' object is not subscriptable\n",
      "Exception at row 3734\n",
      "'NoneType' object is not subscriptable\n",
      "Exception at row 3735\n",
      "'NoneType' object is not subscriptable\n",
      "Exception at row 3736\n",
      "'NoneType' object is not subscriptable\n",
      "Exception at row 3737\n",
      "'NoneType' object is not subscriptable\n",
      "Exception at row 3738\n",
      "'NoneType' object is not subscriptable\n",
      "Exception at row 3739\n",
      "'NoneType' object is not subscriptable\n",
      "Exception at row 3740\n",
      "'NoneType' object is not subscriptable\n",
      "Exception at row 3741\n",
      "'NoneType' object is not subscriptable\n",
      "Exception at row 3742\n",
      "'NoneType' object is not subscriptable\n",
      "Exception at row 3743\n",
      "'NoneType' object is not subscriptable\n",
      "Exception at row 3744\n",
      "'NoneType' object is not subscriptable\n",
      "Exception at row 3745\n",
      "'NoneType' object is not subscriptable\n",
      "Exception at row 3746\n",
      "'NoneType' object is not subscriptable\n",
      "Exception at row 3747\n",
      "'NoneType' object is not subscriptable\n",
      "Exception at row 3748\n",
      "'NoneType' object is not subscriptable\n",
      "Exception at row 3749\n",
      "'NoneType' object is not subscriptable\n",
      "Exception at row 3750\n",
      "'NoneType' object is not subscriptable\n",
      "Exception at row 3751\n",
      "'NoneType' object is not subscriptable\n",
      "Exception at row 3752\n",
      "'NoneType' object is not subscriptable\n",
      "Exception at row 3753\n",
      "'NoneType' object is not subscriptable\n",
      "Exception at row 3754\n",
      "'NoneType' object is not subscriptable\n",
      "Exception at row 3755\n",
      "'NoneType' object is not subscriptable\n",
      "Exception at row 3756\n",
      "'NoneType' object is not subscriptable\n",
      "Exception at row 3757\n",
      "'NoneType' object is not subscriptable\n",
      "Exception at row 3758\n",
      "'NoneType' object is not subscriptable\n",
      "Exception at row 3759\n",
      "'NoneType' object is not subscriptable\n",
      "Exception at row 3760\n",
      "'NoneType' object is not subscriptable\n",
      "Exception at row 3761\n",
      "'NoneType' object is not subscriptable\n",
      "Exception at row 3762\n",
      "'NoneType' object is not subscriptable\n",
      "Exception at row 3763\n",
      "'NoneType' object is not subscriptable\n",
      "Exception at row 3764\n",
      "'NoneType' object is not subscriptable\n",
      "Exception at row 3765\n",
      "'NoneType' object is not subscriptable\n",
      "Exception at row 3766\n",
      "'NoneType' object is not subscriptable\n",
      "Exception at row 3767\n",
      "'NoneType' object is not subscriptable\n",
      "Exception at row 3768\n",
      "'NoneType' object is not subscriptable\n",
      "Exception at row 3769\n",
      "'NoneType' object is not subscriptable\n",
      "Exception at row 3770\n",
      "'NoneType' object is not subscriptable\n",
      "Exception at row 3771\n",
      "'NoneType' object is not subscriptable\n",
      "Exception at row 3772\n",
      "'NoneType' object is not subscriptable\n",
      "Exception at row 3773\n",
      "'NoneType' object is not subscriptable\n",
      "Exception at row 3774\n",
      "'NoneType' object is not subscriptable\n",
      "Exception at row 3775\n",
      "'NoneType' object is not subscriptable\n",
      "Exception at row 3776\n",
      "'NoneType' object is not subscriptable\n",
      "Exception at row 3777\n",
      "'NoneType' object is not subscriptable\n",
      "Exception at row 3778\n",
      "'NoneType' object is not subscriptable\n",
      "Exception at row 3779\n",
      "'NoneType' object is not subscriptable\n",
      "Exception at row 3780\n",
      "'NoneType' object is not subscriptable\n",
      "Exception at row 3781\n",
      "'NoneType' object is not subscriptable\n",
      "Exception at row 3782\n",
      "'NoneType' object is not subscriptable\n",
      "Exception at row 3783\n",
      "'NoneType' object is not subscriptable\n",
      "Exception at row 3784\n",
      "'NoneType' object is not subscriptable\n",
      "Exception at row 3785\n",
      "'NoneType' object is not subscriptable\n",
      "Exception at row 3786\n",
      "'NoneType' object is not subscriptable\n",
      "Exception at row 3787\n",
      "'NoneType' object is not subscriptable\n",
      "Exception at row 3788\n",
      "'NoneType' object is not subscriptable\n",
      "Exception at row 3789\n",
      "'NoneType' object is not subscriptable\n",
      "Exception at row 3790\n",
      "'NoneType' object is not subscriptable\n",
      "Exception at row 3791\n",
      "'NoneType' object is not subscriptable\n",
      "Exception at row 3792\n",
      "'NoneType' object is not subscriptable\n",
      "Exception at row 3793\n",
      "'NoneType' object is not subscriptable\n",
      "Exception at row 3794\n",
      "'NoneType' object is not subscriptable\n",
      "Exception at row 3795\n",
      "'NoneType' object is not subscriptable\n",
      "Exception at row 3796\n",
      "'NoneType' object is not subscriptable\n",
      "Exception at row 3797\n",
      "'NoneType' object is not subscriptable\n",
      "Exception at row 3798\n",
      "'NoneType' object is not subscriptable\n",
      "Exception at row 3799\n",
      "'NoneType' object is not subscriptable\n",
      "Exception at row 3800\n",
      "'NoneType' object is not subscriptable\n",
      "Exception at row 3801\n",
      "'NoneType' object is not subscriptable\n",
      "Exception at row 3802\n",
      "'NoneType' object is not subscriptable\n",
      "Exception at row 3803\n",
      "'NoneType' object is not subscriptable\n",
      "Exception at row 3804\n",
      "'NoneType' object is not subscriptable\n",
      "Exception at row 3805\n",
      "'NoneType' object is not subscriptable\n",
      "Exception at row 3806\n",
      "'NoneType' object is not subscriptable\n",
      "Exception at row 3807\n",
      "'NoneType' object is not subscriptable\n",
      "Exception at row 3808\n",
      "'NoneType' object is not subscriptable\n",
      "Exception at row 3809\n",
      "'NoneType' object is not subscriptable\n",
      "Exception at row 3810\n",
      "'NoneType' object is not subscriptable\n",
      "Exception at row 3811\n",
      "'NoneType' object is not subscriptable\n",
      "Exception at row 3812\n",
      "'NoneType' object is not subscriptable\n",
      "Exception at row 3813\n",
      "'NoneType' object is not subscriptable\n",
      "Exception at row 3814\n",
      "'NoneType' object is not subscriptable\n",
      "Exception at row 3815\n",
      "'NoneType' object is not subscriptable\n",
      "Exception at row 3816\n",
      "'NoneType' object is not subscriptable\n",
      "Exception at row 3817\n",
      "'NoneType' object is not subscriptable\n",
      "Exception at row 3818\n",
      "'NoneType' object is not subscriptable\n",
      "Exception at row 3819\n",
      "'NoneType' object is not subscriptable\n",
      "Exception at row 3820\n",
      "'NoneType' object is not subscriptable\n",
      "Exception at row 3821\n",
      "'NoneType' object is not subscriptable\n",
      "Exception at row 3822\n",
      "'NoneType' object is not subscriptable\n",
      "Exception at row 3823\n",
      "'NoneType' object is not subscriptable\n",
      "Exception at row 3824\n",
      "'NoneType' object is not subscriptable\n",
      "Exception at row 3825\n",
      "'NoneType' object is not subscriptable\n",
      "Exception at row 3826\n",
      "'NoneType' object is not subscriptable\n",
      "Exception at row 3827\n",
      "'NoneType' object is not subscriptable\n",
      "Exception at row 3828\n",
      "'NoneType' object is not subscriptable\n",
      "Exception at row 3829\n",
      "'NoneType' object is not subscriptable\n",
      "Exception at row 3830\n",
      "'NoneType' object is not subscriptable\n",
      "Exception at row 3831\n",
      "'NoneType' object is not subscriptable\n",
      "Exception at row 3832\n",
      "'NoneType' object is not subscriptable\n",
      "Exception at row 3833\n",
      "'NoneType' object is not subscriptable\n",
      "Exception at row 3834\n",
      "'NoneType' object is not subscriptable\n",
      "Exception at row 3835\n",
      "'NoneType' object is not subscriptable\n",
      "Exception at row 3836\n",
      "'NoneType' object is not subscriptable\n",
      "Exception at row 3837\n",
      "'NoneType' object is not subscriptable\n",
      "Exception at row 3838\n",
      "'NoneType' object is not subscriptable\n",
      "Exception at row 3839\n",
      "'NoneType' object is not subscriptable\n",
      "Exception at row 3840\n",
      "'NoneType' object is not subscriptable\n",
      "Exception at row 3841\n",
      "'NoneType' object is not subscriptable\n",
      "Exception at row 3842\n",
      "'NoneType' object is not subscriptable\n",
      "Exception at row 3843\n",
      "'NoneType' object is not subscriptable\n",
      "Exception at row 3844\n",
      "'NoneType' object is not subscriptable\n",
      "Exception at row 3845\n",
      "'NoneType' object is not subscriptable\n",
      "Exception at row 3846\n",
      "'NoneType' object is not subscriptable\n",
      "Exception at row 3847\n",
      "'NoneType' object is not subscriptable\n",
      "Exception at row 3848\n",
      "'NoneType' object is not subscriptable\n",
      "Exception at row 3849\n",
      "'NoneType' object is not subscriptable\n",
      "Exception at row 3850\n",
      "'NoneType' object is not subscriptable\n",
      "Exception at row 3851\n",
      "'NoneType' object is not subscriptable\n",
      "Exception at row 3852\n",
      "'NoneType' object is not subscriptable\n",
      "Exception at row 3853\n",
      "'NoneType' object is not subscriptable\n",
      "Exception at row 3854\n",
      "'NoneType' object is not subscriptable\n",
      "Exception at row 3855\n",
      "'NoneType' object is not subscriptable\n",
      "Exception at row 3856\n",
      "'NoneType' object is not subscriptable\n"
     ]
    },
    {
     "name": "stderr",
     "output_type": "stream",
     "text": [
      "Processing row 3882: 100%|██████████| 3883/3883 [00:03<00:00, 1022.59it/s]\n"
     ]
    },
    {
     "name": "stdout",
     "output_type": "stream",
     "text": [
      "Exception at row 3857\n",
      "'NoneType' object is not subscriptable\n",
      "Exception at row 3858\n",
      "'NoneType' object is not subscriptable\n",
      "Exception at row 3859\n",
      "'NoneType' object is not subscriptable\n",
      "Exception at row 3860\n",
      "'NoneType' object is not subscriptable\n",
      "Exception at row 3861\n",
      "'NoneType' object is not subscriptable\n",
      "Exception at row 3862\n",
      "'NoneType' object is not subscriptable\n",
      "Exception at row 3863\n",
      "'NoneType' object is not subscriptable\n",
      "Exception at row 3864\n",
      "'NoneType' object is not subscriptable\n",
      "Exception at row 3865\n",
      "'NoneType' object is not subscriptable\n",
      "Exception at row 3866\n",
      "'NoneType' object is not subscriptable\n",
      "Exception at row 3867\n",
      "'NoneType' object is not subscriptable\n",
      "Exception at row 3868\n",
      "'NoneType' object is not subscriptable\n",
      "Exception at row 3869\n",
      "'NoneType' object is not subscriptable\n",
      "Exception at row 3870\n",
      "'NoneType' object is not subscriptable\n",
      "Exception at row 3871\n",
      "'NoneType' object is not subscriptable\n",
      "Exception at row 3872\n",
      "'NoneType' object is not subscriptable\n",
      "Exception at row 3873\n",
      "'NoneType' object is not subscriptable\n",
      "Exception at row 3874\n",
      "'NoneType' object is not subscriptable\n",
      "Exception at row 3875\n",
      "'NoneType' object is not subscriptable\n",
      "Exception at row 3876\n",
      "'NoneType' object is not subscriptable\n",
      "Exception at row 3877\n",
      "'NoneType' object is not subscriptable\n",
      "Exception at row 3878\n",
      "'NoneType' object is not subscriptable\n",
      "Exception at row 3879\n",
      "'NoneType' object is not subscriptable\n",
      "Exception at row 3880\n",
      "'NoneType' object is not subscriptable\n",
      "Exception at row 3881\n",
      "'NoneType' object is not subscriptable\n",
      "Exception at row 3882\n",
      "'NoneType' object is not subscriptable\n"
     ]
    }
   ],
   "source": [
    "cursor.execute(\"SELECT * FROM prices;\")\n",
    "movie_list = cursor.fetchall()\n",
    "PageUrl(movie_list).start()"
   ]
  },
  {
   "cell_type": "code",
   "execution_count": 6,
   "metadata": {
    "tags": []
   },
   "outputs": [],
   "source": [
    "cursor.execute(\"SELECT * FROM prices;\")\n",
    "movie_list = cursor.fetchall()\n",
    "WORKERS_NUM = 5\n",
    "split_list = np.array_split(movie_list, 5)"
   ]
  },
  {
   "cell_type": "code",
   "execution_count": 7,
   "metadata": {
    "tags": []
   },
   "outputs": [
    {
     "name": "stderr",
     "output_type": "stream",
     "text": [
      "Processing row 16:   2%|▏         | 16/777 [00:17<18:23,  1.45s/it]"
     ]
    }
   ],
   "source": [
    "for i in range(WORKERS_NUM):\n",
    "    t = PageUrl(split_list[i])\n",
    "    t.start()"
   ]
  },
  {
   "cell_type": "code",
   "execution_count": 21,
   "metadata": {
    "tags": []
   },
   "outputs": [
    {
     "data": {
      "text/plain": [
       "612"
      ]
     },
     "execution_count": 21,
     "metadata": {},
     "output_type": "execute_result"
    }
   ],
   "source": [
    "cursor.execute('SELECT * FROM prices WHERE pageUrl IS NOT NULL')\n",
    "len(cursor.fetchall())"
   ]
  },
  {
   "cell_type": "code",
   "execution_count": 6,
   "metadata": {},
   "outputs": [
    {
     "data": {
      "text/plain": [
       "27278"
      ]
     },
     "execution_count": 6,
     "metadata": {},
     "output_type": "execute_result"
    }
   ],
   "source": [
    "cursor.execute('SELECT * FROM prices')\n",
    "len(cursor.fetchall())"
   ]
  },
  {
   "cell_type": "code",
   "execution_count": 58,
   "metadata": {
    "collapsed": true,
    "jupyter": {
     "outputs_hidden": true
    },
    "tags": []
   },
   "outputs": [
    {
     "name": "stderr",
     "output_type": "stream",
     "text": [
      "Processing row 2912:  53%|█████▎    | 2912/5455 [1:07:56<1:03:31,  1.50s/it]"
     ]
    },
    {
     "name": "stdout",
     "output_type": "stream",
     "text": [
      "Exception at row 2911\n",
      "'NoneType' object has no attribute 'find'\n"
     ]
    },
    {
     "data": {
      "text/plain": [
       "26475"
      ]
     },
     "execution_count": 58,
     "metadata": {},
     "output_type": "execute_result"
    },
    {
     "name": "stderr",
     "output_type": "stream",
     "text": [
      "Processing row 3681:  67%|██████▋   | 3681/5456 [1:07:57<56:59,  1.93s/it]"
     ]
    },
    {
     "name": "stdout",
     "output_type": "stream",
     "text": [
      "Exception at row 3680\n",
      "'NoneType' object has no attribute 'find'\n"
     ]
    },
    {
     "name": "stderr",
     "output_type": "stream",
     "text": [
      "Processing row 3682:  67%|██████▋   | 3682/5456 [1:07:57<42:10,  1.43s/it]"
     ]
    },
    {
     "name": "stdout",
     "output_type": "stream",
     "text": [
      "Exception at row 3681\n",
      "'NoneType' object has no attribute 'find'\n"
     ]
    },
    {
     "name": "stderr",
     "output_type": "stream",
     "text": [
      "Processing row 2914:  53%|█████▎    | 2913/5455 [1:07:58<1:06:35,  1.57s/it]"
     ]
    },
    {
     "name": "stdout",
     "output_type": "stream",
     "text": [
      "Exception at row 2912\n",
      "'NoneType' object has no attribute 'find'\n"
     ]
    },
    {
     "name": "stderr",
     "output_type": "stream",
     "text": [
      "Processing row 2915:  53%|█████▎    | 2915/5455 [1:07:58<48:19,  1.14s/it]  "
     ]
    },
    {
     "name": "stdout",
     "output_type": "stream",
     "text": [
      "Exception at row 2914\n",
      "'NoneType' object has no attribute 'find'\n"
     ]
    },
    {
     "name": "stderr",
     "output_type": "stream",
     "text": [
      "Processing row 3683:  68%|██████▊   | 3683/5456 [1:07:59<45:31,  1.54s/it]"
     ]
    },
    {
     "name": "stdout",
     "output_type": "stream",
     "text": [
      "Exception at row 3682\n",
      "'NoneType' object has no attribute 'find'\n"
     ]
    },
    {
     "name": "stderr",
     "output_type": "stream",
     "text": [
      "Processing row 3684:  68%|██████▊   | 3684/5456 [1:07:59<34:35,  1.17s/it]"
     ]
    },
    {
     "name": "stdout",
     "output_type": "stream",
     "text": [
      "Exception at row 3683\n",
      "'NoneType' object has no attribute 'find'\n",
      "Exception at row 4019\n",
      "'NoneType' object has no attribute 'find'\n"
     ]
    },
    {
     "name": "stderr",
     "output_type": "stream",
     "text": [
      "Processing row 4022:  74%|███████▎  | 4021/5456 [1:07:59<22:52,  1.05it/s]"
     ]
    },
    {
     "name": "stdout",
     "output_type": "stream",
     "text": [
      "Exception at row 4020\n",
      "'NoneType' object has no attribute 'find'\n"
     ]
    },
    {
     "name": "stderr",
     "output_type": "stream",
     "text": [
      "Processing row 3123:  57%|█████▋    | 3123/5456 [1:08:00<1:26:26,  2.22s/it]"
     ]
    },
    {
     "name": "stdout",
     "output_type": "stream",
     "text": [
      "Exception at row 3230\n",
      "'NoneType' object has no attribute 'find'\n",
      "Exception at row 3122\n",
      "'NoneType' object has no attribute 'find'\n"
     ]
    },
    {
     "name": "stderr",
     "output_type": "stream",
     "text": [
      "Processing row 4023:  74%|███████▎  | 4023/5456 [1:08:01<21:18,  1.12it/s]"
     ]
    },
    {
     "name": "stdout",
     "output_type": "stream",
     "text": [
      "Exception at row 4022\n",
      "'NoneType' object has no attribute 'find'\n"
     ]
    },
    {
     "name": "stderr",
     "output_type": "stream",
     "text": [
      "Processing row 3233:  59%|█████▉    | 3232/5455 [1:08:01<1:42:09,  2.76s/it]"
     ]
    },
    {
     "name": "stdout",
     "output_type": "stream",
     "text": [
      "Exception at row 2915\n",
      "'NoneType' object has no attribute 'find'\n",
      "Exception at row 3231\n",
      "'NoneType' object has no attribute 'find'\n"
     ]
    },
    {
     "name": "stderr",
     "output_type": "stream",
     "text": [
      "Processing row 3685:  68%|██████▊   | 3685/5456 [1:08:02<55:54,  1.89s/it]t]"
     ]
    },
    {
     "name": "stdout",
     "output_type": "stream",
     "text": [
      "Exception at row 3125\n",
      "'NoneType' object has no attribute 'find'\n",
      "Exception at row 3684\n",
      "'NoneType' object has no attribute 'find'\n"
     ]
    },
    {
     "name": "stderr",
     "output_type": "stream",
     "text": [
      "Processing row 4029:  74%|███████▍  | 4024/5456 [1:08:03<34:04,  1.43s/it]"
     ]
    },
    {
     "name": "stdout",
     "output_type": "stream",
     "text": [
      "Exception at row 4023\n",
      "'NoneType' object has no attribute 'find'\n"
     ]
    },
    {
     "name": "stderr",
     "output_type": "stream",
     "text": [
      "Processing row 4031:  74%|███████▍  | 4030/5456 [1:08:04<24:04,  1.01s/it]"
     ]
    },
    {
     "name": "stdout",
     "output_type": "stream",
     "text": [
      "Exception at row 4029\n",
      "'NoneType' object has no attribute 'find'\n"
     ]
    },
    {
     "name": "stderr",
     "output_type": "stream",
     "text": [
      "Processing row 3234:  59%|█████▉    | 3234/5455 [1:08:04<1:26:31,  2.34s/it]"
     ]
    },
    {
     "name": "stdout",
     "output_type": "stream",
     "text": [
      "Exception at row 3233\n",
      "'NoneType' object has no attribute 'find'\n"
     ]
    },
    {
     "name": "stderr",
     "output_type": "stream",
     "text": [
      "Processing row 3127:  57%|█████▋    | 3127/5456 [1:08:05<1:14:20,  1.92s/it]"
     ]
    },
    {
     "name": "stdout",
     "output_type": "stream",
     "text": [
      "Exception at row 3126\n",
      "'NoneType' object has no attribute 'find'\n"
     ]
    },
    {
     "name": "stderr",
     "output_type": "stream",
     "text": [
      "Processing row 2918:  53%|█████▎    | 2918/5455 [1:08:05<1:15:21,  1.78s/it]"
     ]
    },
    {
     "name": "stdout",
     "output_type": "stream",
     "text": [
      "Exception at row 4031\n",
      "'NoneType' object has no attribute 'find'\n",
      "Exception at row 2917\n",
      "'NoneType' object has no attribute 'find'\n"
     ]
    },
    {
     "name": "stderr",
     "output_type": "stream",
     "text": [
      "Processing row 2919:  54%|█████▎    | 2919/5455 [1:08:06<57:00,  1.35s/it]  "
     ]
    },
    {
     "name": "stdout",
     "output_type": "stream",
     "text": [
      "Exception at row 3685\n",
      "'NoneType' object has no attribute 'find'\n",
      "Exception at row 2918\n",
      "'NoneType' object has no attribute 'find'\n"
     ]
    },
    {
     "name": "stderr",
     "output_type": "stream",
     "text": [
      "Processing row 2921:  54%|█████▎    | 2920/5455 [1:08:06<43:09,  1.02s/it]  "
     ]
    },
    {
     "name": "stdout",
     "output_type": "stream",
     "text": [
      "Exception at row 3686\n",
      "'NoneType' object has no attribute 'find'\n",
      "Exception at row 2919\n",
      "'NoneType' object has no attribute 'find'\n"
     ]
    },
    {
     "name": "stderr",
     "output_type": "stream",
     "text": [
      "Processing row 2922:  54%|█████▎    | 2922/5455 [1:08:06<31:50,  1.33it/s]"
     ]
    },
    {
     "name": "stdout",
     "output_type": "stream",
     "text": [
      "Exception at row 2921\n",
      "'NoneType' object has no attribute 'find'\n"
     ]
    },
    {
     "name": "stderr",
     "output_type": "stream",
     "text": [
      "Processing row 4034:  74%|███████▍  | 4033/5456 [1:08:07<27:05,  1.14s/it]t]"
     ]
    },
    {
     "name": "stdout",
     "output_type": "stream",
     "text": [
      "Exception at row 3127\n",
      "'NoneType' object has no attribute 'find'\n",
      "Exception at row 4032\n",
      "'NoneType' object has no attribute 'find'\n"
     ]
    },
    {
     "name": "stderr",
     "output_type": "stream",
     "text": [
      "Processing row 3129:  57%|█████▋    | 3129/5456 [1:08:07<55:35,  1.43s/it]  "
     ]
    },
    {
     "name": "stdout",
     "output_type": "stream",
     "text": [
      "Exception at row 3235\n",
      "'NoneType' object has no attribute 'find'\n",
      "Exception at row 3128\n",
      "'NoneType' object has no attribute 'find'\n"
     ]
    },
    {
     "name": "stderr",
     "output_type": "stream",
     "text": [
      "Processing row 3130:  57%|█████▋    | 3130/5456 [1:08:07<42:00,  1.08s/it]  "
     ]
    },
    {
     "name": "stdout",
     "output_type": "stream",
     "text": [
      "Exception at row 3236\n",
      "'NoneType' object has no attribute 'find'\n",
      "Exception at row 3129\n",
      "'NoneType' object has no attribute 'find'\n"
     ]
    },
    {
     "name": "stderr",
     "output_type": "stream",
     "text": [
      "Processing row 3238:  59%|█████▉    | 3238/5455 [1:08:07<38:02,  1.03s/it]"
     ]
    },
    {
     "name": "stdout",
     "output_type": "stream",
     "text": [
      "Exception at row 3237\n",
      "'NoneType' object has no attribute 'find'\n"
     ]
    },
    {
     "name": "stderr",
     "output_type": "stream",
     "text": [
      "Processing row 2923:  54%|█████▎    | 2923/5455 [1:08:08<43:31,  1.03s/it]"
     ]
    },
    {
     "name": "stdout",
     "output_type": "stream",
     "text": [
      "Exception at row 2922\n",
      "'NoneType' object has no attribute 'find'\n"
     ]
    },
    {
     "name": "stderr",
     "output_type": "stream",
     "text": [
      "Processing row 3131:  57%|█████▋    | 3131/5456 [1:08:09<46:26,  1.20s/it]"
     ]
    },
    {
     "name": "stdout",
     "output_type": "stream",
     "text": [
      "Exception at row 3130\n",
      "'NoneType' object has no attribute 'find'\n"
     ]
    },
    {
     "name": "stderr",
     "output_type": "stream",
     "text": [
      "Processing row 3132:  57%|█████▋    | 3132/5456 [1:08:09<35:29,  1.09it/s]"
     ]
    },
    {
     "name": "stdout",
     "output_type": "stream",
     "text": [
      "Exception at row 3131\n",
      "'NoneType' object has no attribute 'find'\n"
     ]
    },
    {
     "name": "stderr",
     "output_type": "stream",
     "text": [
      "Processing row 3134:  57%|█████▋    | 3133/5456 [1:08:09<27:53,  1.39it/s]"
     ]
    },
    {
     "name": "stdout",
     "output_type": "stream",
     "text": [
      "Exception at row 3132\n",
      "'NoneType' object has no attribute 'find'\n"
     ]
    },
    {
     "name": "stderr",
     "output_type": "stream",
     "text": [
      "Processing row 2924:  54%|█████▎    | 2924/5455 [1:08:10<55:00,  1.30s/it]"
     ]
    },
    {
     "name": "stdout",
     "output_type": "stream",
     "text": [
      "Exception at row 2923\n",
      "'NoneType' object has no attribute 'find'\n"
     ]
    },
    {
     "name": "stderr",
     "output_type": "stream",
     "text": [
      "Processing row 2925:  54%|█████▎    | 2925/5455 [1:08:10<42:01,  1.00it/s]"
     ]
    },
    {
     "name": "stdout",
     "output_type": "stream",
     "text": [
      "Exception at row 2924\n",
      "'NoneType' object has no attribute 'find'\n"
     ]
    },
    {
     "name": "stderr",
     "output_type": "stream",
     "text": [
      "Processing row 2927:  54%|█████▎    | 2926/5455 [1:08:10<32:41,  1.29it/s]"
     ]
    },
    {
     "name": "stdout",
     "output_type": "stream",
     "text": [
      "Exception at row 2925\n",
      "'NoneType' object has no attribute 'find'\n"
     ]
    },
    {
     "name": "stderr",
     "output_type": "stream",
     "text": [
      "Processing row 2928:  54%|█████▎    | 2928/5455 [1:08:11<24:28,  1.72it/s]"
     ]
    },
    {
     "name": "stdout",
     "output_type": "stream",
     "text": [
      "Exception at row 2927\n",
      "'NoneType' object has no attribute 'find'\n"
     ]
    },
    {
     "name": "stderr",
     "output_type": "stream",
     "text": [
      "Processing row 2929:  54%|█████▎    | 2929/5455 [1:08:11<20:21,  2.07it/s]"
     ]
    },
    {
     "name": "stdout",
     "output_type": "stream",
     "text": [
      "Exception at row 2928\n",
      "'NoneType' object has no attribute 'find'\n"
     ]
    },
    {
     "name": "stderr",
     "output_type": "stream",
     "text": [
      "Processing row 2930:  54%|█████▎    | 2930/5455 [1:08:11<17:31,  2.40it/s]"
     ]
    },
    {
     "name": "stdout",
     "output_type": "stream",
     "text": [
      "Exception at row 2929\n",
      "'NoneType' object has no attribute 'find'\n"
     ]
    },
    {
     "name": "stderr",
     "output_type": "stream",
     "text": [
      "Processing row 4036:  74%|███████▍  | 4035/5456 [1:08:11<35:18,  1.49s/it]"
     ]
    },
    {
     "name": "stdout",
     "output_type": "stream",
     "text": [
      "Exception at row 4034\n",
      "'NoneType' object has no attribute 'find'\n"
     ]
    },
    {
     "name": "stderr",
     "output_type": "stream",
     "text": [
      "Processing row 4038:  74%|███████▍  | 4037/5456 [1:08:12<26:46,  1.13s/it]"
     ]
    },
    {
     "name": "stdout",
     "output_type": "stream",
     "text": [
      "Exception at row 4036\n",
      "'NoneType' object has no attribute 'find'\n"
     ]
    },
    {
     "name": "stderr",
     "output_type": "stream",
     "text": [
      "Processing row 4039:  74%|███████▍  | 4039/5456 [1:08:12<20:05,  1.18it/s]t]"
     ]
    },
    {
     "name": "stdout",
     "output_type": "stream",
     "text": [
      "Exception at row 3238\n",
      "'NoneType' object has no attribute 'find'\n",
      "Exception at row 3689\n",
      "'NoneType' object has no attribute 'find'\n",
      "Exception at row 4038\n",
      "'NoneType' object has no attribute 'find'\n"
     ]
    },
    {
     "name": "stderr",
     "output_type": "stream",
     "text": [
      "Processing row 3241:  59%|█████▉    | 3241/5455 [1:08:13<57:29,  1.56s/it]  "
     ]
    },
    {
     "name": "stdout",
     "output_type": "stream",
     "text": [
      "Exception at row 3240\n",
      "'NoneType' object has no attribute 'find'\n"
     ]
    },
    {
     "name": "stderr",
     "output_type": "stream",
     "text": [
      "Processing row 3244:  59%|█████▉    | 3242/5455 [1:08:13<43:06,  1.17s/it]"
     ]
    },
    {
     "name": "stdout",
     "output_type": "stream",
     "text": [
      "Exception at row 3241\n",
      "'NoneType' object has no attribute 'find'\n"
     ]
    },
    {
     "name": "stderr",
     "output_type": "stream",
     "text": [
      "Processing row 3245:  59%|█████▉    | 3245/5455 [1:08:13<31:05,  1.18it/s]"
     ]
    }
   ],
   "source": [
    "cursor.execute('SELECT * FROM prices WHERE pageUrl IS NOT NULL')\n",
    "len(cursor.fetchall())"
   ]
  },
  {
   "cell_type": "code",
   "execution_count": 23,
   "metadata": {},
   "outputs": [
    {
     "data": {
      "text/plain": [
       "6.99"
      ]
     },
     "execution_count": 23,
     "metadata": {},
     "output_type": "execute_result"
    }
   ],
   "source": [
    "getMoviePrice(\"https://www.amazon.com/Superbad-Unrated-Jonah-Hill/dp/B00EFCHT08/ref=sr_1_1?dchild=1&keywords=Superbad+2007&qid=1619260061&s=movies-tv&sr=1-1\")"
   ]
  },
  {
   "cell_type": "code",
   "execution_count": 46,
   "metadata": {},
   "outputs": [],
   "source": [
    "lst = [str(x) for x in obj.body.find_all('button') if 'Buy' in ]"
   ]
  },
  {
   "cell_type": "code",
   "execution_count": 58,
   "metadata": {},
   "outputs": [
    {
     "data": {
      "text/plain": [
       "['6.99']"
      ]
     },
     "execution_count": 58,
     "metadata": {},
     "output_type": "execute_result"
    }
   ],
   "source": [
    "re.findall(r'(?<=\\$)\\d{1,3}(?:[.,]\\d{3})*(?:[.,]\\d{2})', \"$6.99\")"
   ]
  },
  {
   "cell_type": "code",
   "execution_count": 9,
   "metadata": {},
   "outputs": [],
   "source": [
    "cursor.execute(\"SELECT * FROM prices WHERE price IS NULL;\")\n",
    "movie_list = cursor.fetchall()\n",
    "WORKERS_NUM = 5\n",
    "split_list = np.array_split(movie_list, 5)"
   ]
  },
  {
   "cell_type": "code",
   "execution_count": 10,
   "metadata": {
    "collapsed": true,
    "jupyter": {
     "outputs_hidden": true
    },
    "tags": []
   },
   "outputs": [
    {
     "name": "stderr",
     "output_type": "stream",
     "text": [
      "Processing row 3:   0%|          | 3/3168 [00:01<30:30,  1.73it/s]t]"
     ]
    },
    {
     "name": "stdout",
     "output_type": "stream",
     "text": [
      "Exception at row 0\n",
      "'NoneType' object has no attribute 'find'\n",
      "Exception at row 2\n",
      "'NoneType' object has no attribute 'find'\n"
     ]
    },
    {
     "name": "stderr",
     "output_type": "stream",
     "text": [
      "Processing row 1:   0%|          | 1/3169 [00:02<2:17:07,  2.60s/it]"
     ]
    },
    {
     "name": "stdout",
     "output_type": "stream",
     "text": [
      "Exception at row 0\n",
      "'NoneType' object has no attribute 'find'\n"
     ]
    },
    {
     "name": "stderr",
     "output_type": "stream",
     "text": [
      "Processing row 4:   0%|          | 4/3168 [00:03<47:43,  1.11it/s]"
     ]
    },
    {
     "name": "stdout",
     "output_type": "stream",
     "text": [
      "Exception at row 3\n",
      "'NoneType' object has no attribute 'find'\n"
     ]
    },
    {
     "name": "stderr",
     "output_type": "stream",
     "text": [
      "Processing row 2:   0%|          | 2/3169 [00:05<2:15:44,  2.57s/it]"
     ]
    },
    {
     "name": "stdout",
     "output_type": "stream",
     "text": [
      "Exception at row 1\n",
      "'NoneType' object has no attribute 'find'\n"
     ]
    },
    {
     "name": "stderr",
     "output_type": "stream",
     "text": [
      "Processing row 1:   0%|          | 1/3168 [00:05<4:52:41,  5.55s/it]"
     ]
    },
    {
     "name": "stdout",
     "output_type": "stream",
     "text": [
      "Exception at row 0\n",
      "'NoneType' object has no attribute 'find'\n"
     ]
    },
    {
     "name": "stderr",
     "output_type": "stream",
     "text": [
      "Processing row 5:   0%|          | 5/3168 [00:05<1:13:01,  1.39s/it]"
     ]
    },
    {
     "name": "stdout",
     "output_type": "stream",
     "text": [
      "Exception at row 4\n",
      "'NoneType' object has no attribute 'find'\n"
     ]
    },
    {
     "name": "stderr",
     "output_type": "stream",
     "text": [
      "Processing row 3:   0%|          | 3/3169 [00:07<2:15:26,  2.57s/it]"
     ]
    },
    {
     "name": "stdout",
     "output_type": "stream",
     "text": [
      "Exception at row 2\n",
      "could not convert string to float: '7.99 - $24.99'\n",
      "Exception at row 2\n",
      "'NoneType' object has no attribute 'find'\n"
     ]
    },
    {
     "name": "stderr",
     "output_type": "stream",
     "text": [
      "Processing row 4:   0%|          | 4/3168 [00:09<2:09:10,  2.45s/it]"
     ]
    },
    {
     "name": "stdout",
     "output_type": "stream",
     "text": [
      "Exception at row 1\n",
      "'NoneType' object has no attribute 'find'\n",
      "Exception at row 3\n",
      "'NoneType' object has no attribute 'find'\n"
     ]
    },
    {
     "name": "stderr",
     "output_type": "stream",
     "text": [
      "Processing row 6:   0%|          | 6/3168 [00:12<2:29:33,  2.84s/it]"
     ]
    },
    {
     "name": "stdout",
     "output_type": "stream",
     "text": [
      "Exception at row 5\n",
      "'NoneType' object has no attribute 'find'\n"
     ]
    },
    {
     "name": "stderr",
     "output_type": "stream",
     "text": [
      "Processing row 6:   0%|          | 5/3168 [00:12<2:11:14,  2.49s/it]"
     ]
    },
    {
     "name": "stdout",
     "output_type": "stream",
     "text": [
      "Exception at row 4\n",
      "'NoneType' object has no attribute 'find'\n"
     ]
    },
    {
     "name": "stderr",
     "output_type": "stream",
     "text": [
      "Processing row 4:   0%|          | 4/3169 [00:13<3:04:51,  3.50s/it]"
     ]
    },
    {
     "name": "stdout",
     "output_type": "stream",
     "text": [
      "Exception at row 3\n",
      "'NoneType' object has no attribute 'find'\n"
     ]
    },
    {
     "name": "stderr",
     "output_type": "stream",
     "text": [
      "Processing row 3:   0%|          | 3/3168 [00:14<3:26:10,  3.91s/it]"
     ]
    },
    {
     "name": "stdout",
     "output_type": "stream",
     "text": [
      "Exception at row 2\n",
      "'NoneType' object has no attribute 'find'\n"
     ]
    },
    {
     "name": "stderr",
     "output_type": "stream",
     "text": [
      "Processing row 7:   0%|          | 7/3168 [00:14<2:24:22,  2.74s/it]"
     ]
    },
    {
     "name": "stdout",
     "output_type": "stream",
     "text": [
      "Exception at row 6\n",
      "'NoneType' object has no attribute 'find'\n"
     ]
    },
    {
     "name": "stderr",
     "output_type": "stream",
     "text": [
      "Processing row 7:   0%|          | 7/3168 [00:15<1:59:49,  2.27s/it]"
     ]
    },
    {
     "name": "stdout",
     "output_type": "stream",
     "text": [
      "Exception at row 6\n",
      "'NoneType' object has no attribute 'find'\n"
     ]
    },
    {
     "name": "stderr",
     "output_type": "stream",
     "text": [
      "Processing row 4:   0%|          | 4/3168 [00:17<3:12:21,  3.65s/it]"
     ]
    },
    {
     "name": "stdout",
     "output_type": "stream",
     "text": [
      "Exception at row 3\n",
      "'NoneType' object has no attribute 'find'\n"
     ]
    },
    {
     "name": "stderr",
     "output_type": "stream",
     "text": [
      "Processing row 4:   0%|          | 4/3168 [00:18<4:02:44,  4.60s/it]"
     ]
    },
    {
     "name": "stdout",
     "output_type": "stream",
     "text": [
      "Exception at row 3\n",
      "'NoneType' object has no attribute 'find'\n"
     ]
    },
    {
     "name": "stderr",
     "output_type": "stream",
     "text": [
      "Processing row 5:   0%|          | 5/3168 [00:18<2:38:13,  3.00s/it]"
     ]
    },
    {
     "name": "stdout",
     "output_type": "stream",
     "text": [
      "Exception at row 4\n",
      "'NoneType' object has no attribute 'find'\n"
     ]
    },
    {
     "name": "stderr",
     "output_type": "stream",
     "text": [
      "Processing row 8:   0%|          | 8/3168 [00:20<2:29:45,  2.84s/it]"
     ]
    },
    {
     "name": "stdout",
     "output_type": "stream",
     "text": [
      "Exception at row 7\n",
      "'NoneType' object has no attribute 'find'\n"
     ]
    },
    {
     "name": "stderr",
     "output_type": "stream",
     "text": [
      "Processing row 5:   0%|          | 5/3169 [00:20<4:08:44,  4.72s/it]"
     ]
    },
    {
     "name": "stdout",
     "output_type": "stream",
     "text": [
      "Exception at row 7\n",
      "'NoneType' object has no attribute 'find'\n",
      "Exception at row 4\n",
      "'NoneType' object has no attribute 'find'\n"
     ]
    },
    {
     "name": "stderr",
     "output_type": "stream",
     "text": [
      "Processing row 5:   0%|          | 5/3168 [00:21<3:45:39,  4.28s/it]"
     ]
    },
    {
     "name": "stdout",
     "output_type": "stream",
     "text": [
      "Exception at row 4\n",
      "'NoneType' object has no attribute 'find'\n"
     ]
    }
   ],
   "source": [
    "for i in range(WORKERS_NUM):\n",
    "    t = Price(split_list[i])\n",
    "    t.start()"
   ]
  },
  {
   "cell_type": "code",
   "execution_count": 49,
   "metadata": {},
   "outputs": [
    {
     "data": {
      "text/plain": [
       "'<button class=\"_1ovr-S _15Ikr8 _20uSE4 _2X_Irl tvod-button av-button\" type=\"submit\"><span class=\"_36qUej\">Buy <span class=\"dv-conditional-linebreak\"><br/></span><strong>HD</strong> $6.99</span></button>'"
      ]
     },
     "execution_count": 49,
     "metadata": {},
     "output_type": "execute_result"
    }
   ],
   "source": []
  },
  {
   "cell_type": "code",
   "execution_count": 21,
   "metadata": {
    "collapsed": true,
    "jupyter": {
     "outputs_hidden": true
    },
    "tags": []
   },
   "outputs": [
    {
     "data": {
      "text/plain": [
       "11524"
      ]
     },
     "execution_count": 21,
     "metadata": {},
     "output_type": "execute_result"
    },
    {
     "name": "stderr",
     "output_type": "stream",
     "text": [
      "Processing row 238:   8%|▊         | 238/3168 [07:04<1:33:55,  1.92s/it]"
     ]
    },
    {
     "name": "stdout",
     "output_type": "stream",
     "text": [
      "Exception at row 237\n",
      "'NoneType' object has no attribute 'find'\n"
     ]
    },
    {
     "name": "stderr",
     "output_type": "stream",
     "text": [
      "Processing row 234:   7%|▋         | 234/3169 [07:04<1:25:38,  1.75s/it]"
     ]
    },
    {
     "name": "stdout",
     "output_type": "stream",
     "text": [
      "Exception at row 233\n",
      "'NoneType' object has no attribute 'find'\n"
     ]
    },
    {
     "name": "stderr",
     "output_type": "stream",
     "text": [
      "Processing row 206:   7%|▋         | 206/3168 [07:05<1:46:48,  2.16s/it]"
     ]
    },
    {
     "name": "stdout",
     "output_type": "stream",
     "text": [
      "Exception at row 270\n",
      "'NoneType' object has no attribute 'find'\n",
      "Exception at row 271\n",
      "'NoneType' object has no attribute 'find'\n",
      "Exception at row 205\n",
      "'NoneType' object has no attribute 'find'\n"
     ]
    },
    {
     "name": "stderr",
     "output_type": "stream",
     "text": [
      "Processing row 239:   8%|▊         | 239/3168 [07:06<1:40:48,  2.06s/it]"
     ]
    },
    {
     "name": "stdout",
     "output_type": "stream",
     "text": [
      "Exception at row 238\n",
      "'NoneType' object has no attribute 'find'\n"
     ]
    },
    {
     "name": "stderr",
     "output_type": "stream",
     "text": [
      "Processing row 237:   7%|▋         | 237/3169 [07:07<1:04:26,  1.32s/it]"
     ]
    },
    {
     "name": "stdout",
     "output_type": "stream",
     "text": [
      "Exception at row 272\n",
      "'NoneType' object has no attribute 'find'\n",
      "Exception at row 239\n",
      "'NoneType' object has no attribute 'find'\n"
     ]
    },
    {
     "name": "stderr",
     "output_type": "stream",
     "text": [
      "Processing row 272:   9%|▊         | 272/3168 [07:07<1:37:15,  2.02s/it]"
     ]
    },
    {
     "name": "stdout",
     "output_type": "stream",
     "text": [
      "Exception at row 271\n",
      "'NoneType' object has no attribute 'find'\n"
     ]
    },
    {
     "name": "stderr",
     "output_type": "stream",
     "text": [
      "Processing row 207:   7%|▋         | 207/3168 [07:07<1:48:36,  2.20s/it]"
     ]
    },
    {
     "name": "stdout",
     "output_type": "stream",
     "text": [
      "Exception at row 206\n",
      "'NoneType' object has no attribute 'find'\n"
     ]
    },
    {
     "name": "stderr",
     "output_type": "stream",
     "text": [
      "Processing row 273:   9%|▊         | 273/3168 [07:08<1:20:09,  1.66s/it]"
     ]
    },
    {
     "name": "stdout",
     "output_type": "stream",
     "text": [
      "Exception at row 272\n",
      "'NoneType' object has no attribute 'find'\n"
     ]
    },
    {
     "name": "stderr",
     "output_type": "stream",
     "text": [
      "Processing row 274:   9%|▊         | 274/3168 [07:08<1:33:50,  1.95s/it]"
     ]
    },
    {
     "name": "stdout",
     "output_type": "stream",
     "text": [
      "Exception at row 273\n",
      "'NoneType' object has no attribute 'find'\n"
     ]
    },
    {
     "name": "stderr",
     "output_type": "stream",
     "text": [
      "Processing row 208:   7%|▋         | 208/3168 [07:09<1:42:09,  2.07s/it]"
     ]
    },
    {
     "name": "stdout",
     "output_type": "stream",
     "text": [
      "Exception at row 241\n",
      "'NoneType' object has no attribute 'find'\n",
      "Exception at row 237\n",
      "'NoneType' object has no attribute 'find'\n",
      "Exception at row 207\n",
      "'NoneType' object has no attribute 'find'\n"
     ]
    },
    {
     "name": "stderr",
     "output_type": "stream",
     "text": [
      "Processing row 274:   9%|▊         | 274/3168 [07:09<1:15:50,  1.57s/it]"
     ]
    },
    {
     "name": "stdout",
     "output_type": "stream",
     "text": [
      "Exception at row 273\n",
      "'NoneType' object has no attribute 'find'\n"
     ]
    },
    {
     "name": "stderr",
     "output_type": "stream",
     "text": [
      "Processing row 275:   9%|▊         | 275/3168 [07:09<1:18:59,  1.64s/it]"
     ]
    },
    {
     "name": "stdout",
     "output_type": "stream",
     "text": [
      "Exception at row 274\n",
      "'NoneType' object has no attribute 'find'\n"
     ]
    },
    {
     "name": "stderr",
     "output_type": "stream",
     "text": [
      "Processing row 239:   8%|▊         | 239/3169 [07:10<1:08:37,  1.41s/it]"
     ]
    },
    {
     "name": "stdout",
     "output_type": "stream",
     "text": [
      "Exception at row 238\n",
      "'NoneType' object has no attribute 'find'\n"
     ]
    },
    {
     "name": "stderr",
     "output_type": "stream",
     "text": [
      "Processing row 209:   7%|▋         | 209/3168 [07:10<1:32:06,  1.87s/it]"
     ]
    },
    {
     "name": "stdout",
     "output_type": "stream",
     "text": [
      "Exception at row 242\n",
      "'NoneType' object has no attribute 'find'\n",
      "Exception at row 208\n",
      "'NoneType' object has no attribute 'find'\n"
     ]
    },
    {
     "name": "stderr",
     "output_type": "stream",
     "text": [
      "Processing row 275:   9%|▊         | 275/3168 [07:11<1:13:28,  1.52s/it]"
     ]
    },
    {
     "name": "stdout",
     "output_type": "stream",
     "text": [
      "Exception at row 274\n",
      "'NoneType' object has no attribute 'find'\n"
     ]
    },
    {
     "name": "stderr",
     "output_type": "stream",
     "text": [
      "Processing row 244:   8%|▊         | 244/3168 [07:11<1:02:40,  1.29s/it]"
     ]
    },
    {
     "name": "stdout",
     "output_type": "stream",
     "text": [
      "Exception at row 243\n",
      "'NoneType' object has no attribute 'find'\n",
      "Exception at row 209\n",
      "'NoneType' object has no attribute 'find'\n"
     ]
    },
    {
     "name": "stderr",
     "output_type": "stream",
     "text": [
      "Processing row 240:   8%|▊         | 240/3169 [07:12<1:10:44,  1.45s/it]"
     ]
    },
    {
     "name": "stdout",
     "output_type": "stream",
     "text": [
      "Exception at row 239\n",
      "'NoneType' object has no attribute 'find'\n"
     ]
    },
    {
     "name": "stderr",
     "output_type": "stream",
     "text": [
      "Processing row 277:   9%|▊         | 276/3168 [07:13<1:22:49,  1.72s/it]"
     ]
    },
    {
     "name": "stdout",
     "output_type": "stream",
     "text": [
      "Exception at row 275\n",
      "'NoneType' object has no attribute 'find'\n"
     ]
    },
    {
     "name": "stderr",
     "output_type": "stream",
     "text": [
      "Processing row 241:   8%|▊         | 241/3169 [07:13<1:11:32,  1.47s/it]"
     ]
    },
    {
     "name": "stdout",
     "output_type": "stream",
     "text": [
      "Exception at row 240\n",
      "'NoneType' object has no attribute 'find'\n"
     ]
    },
    {
     "name": "stderr",
     "output_type": "stream",
     "text": [
      "Processing row 211:   7%|▋         | 211/3168 [07:13<1:26:18,  1.75s/it]"
     ]
    },
    {
     "name": "stdout",
     "output_type": "stream",
     "text": [
      "Exception at row 210\n",
      "'NoneType' object has no attribute 'find'\n"
     ]
    },
    {
     "name": "stderr",
     "output_type": "stream",
     "text": [
      "Processing row 245:   8%|▊         | 245/3168 [07:14<1:21:56,  1.68s/it]"
     ]
    },
    {
     "name": "stdout",
     "output_type": "stream",
     "text": [
      "Exception at row 244\n",
      "'NoneType' object has no attribute 'find'\n"
     ]
    },
    {
     "name": "stderr",
     "output_type": "stream",
     "text": [
      "Processing row 278:   9%|▉         | 278/3168 [07:14<1:08:58,  1.43s/it]"
     ]
    },
    {
     "name": "stdout",
     "output_type": "stream",
     "text": [
      "Exception at row 241\n",
      "'NoneType' object has no attribute 'find'\n"
     ]
    },
    {
     "name": "stderr",
     "output_type": "stream",
     "text": [
      "Processing row 243:   8%|▊         | 243/3169 [07:15<1:03:44,  1.31s/it]"
     ]
    },
    {
     "name": "stdout",
     "output_type": "stream",
     "text": [
      "Exception at row 276Exception at row 211\n",
      "'NoneType' object has no attribute 'find'\n",
      "\n",
      "'NoneType' object has no attribute 'find'\n"
     ]
    },
    {
     "name": "stderr",
     "output_type": "stream",
     "text": [
      "Processing row 279:   9%|▉         | 279/3168 [07:16<1:07:28,  1.40s/it]"
     ]
    },
    {
     "name": "stdout",
     "output_type": "stream",
     "text": [
      "Exception at row 245\n",
      "'NoneType' object has no attribute 'find'\n",
      "Exception at row 278\n",
      "'NoneType' object has no attribute 'find'\n"
     ]
    },
    {
     "name": "stderr",
     "output_type": "stream",
     "text": [
      "Processing row 278:   9%|▉         | 278/3168 [07:17<1:37:22,  2.02s/it]"
     ]
    },
    {
     "name": "stdout",
     "output_type": "stream",
     "text": [
      "Exception at row 277\n",
      "'NoneType' object has no attribute 'find'\n"
     ]
    },
    {
     "name": "stderr",
     "output_type": "stream",
     "text": [
      "Processing row 280:   9%|▉         | 280/3168 [07:18<1:15:27,  1.57s/it]"
     ]
    },
    {
     "name": "stdout",
     "output_type": "stream",
     "text": [
      "Exception at row 279\n",
      "'NoneType' object has no attribute 'find'\n"
     ]
    },
    {
     "name": "stderr",
     "output_type": "stream",
     "text": [
      "Processing row 279:   9%|▉         | 279/3168 [07:18<1:24:43,  1.76s/it]"
     ]
    },
    {
     "name": "stdout",
     "output_type": "stream",
     "text": [
      "Exception at row 278\n",
      "'NoneType' object has no attribute 'find'\n"
     ]
    },
    {
     "name": "stderr",
     "output_type": "stream",
     "text": [
      "Processing row 280:   9%|▉         | 280/3168 [07:19<1:13:49,  1.53s/it]"
     ]
    },
    {
     "name": "stdout",
     "output_type": "stream",
     "text": [
      "Exception at row 213\n",
      "'NoneType' object has no attribute 'find'\n",
      "Exception at row 279\n",
      "'NoneType' object has no attribute 'find'\n"
     ]
    },
    {
     "name": "stderr",
     "output_type": "stream",
     "text": [
      "Processing row 281:   9%|▉         | 281/3168 [07:20<1:22:42,  1.72s/it]"
     ]
    },
    {
     "name": "stdout",
     "output_type": "stream",
     "text": [
      "Exception at row 280\n",
      "'NoneType' object has no attribute 'find'\n"
     ]
    },
    {
     "name": "stderr",
     "output_type": "stream",
     "text": [
      "Processing row 246:   8%|▊         | 246/3169 [07:20<1:09:09,  1.42s/it]"
     ]
    },
    {
     "name": "stdout",
     "output_type": "stream",
     "text": [
      "Exception at row 245\n",
      "'NoneType' object has no attribute 'find'\n"
     ]
    },
    {
     "name": "stderr",
     "output_type": "stream",
     "text": [
      "Processing row 282:   9%|▉         | 282/3168 [07:21<1:16:55,  1.60s/it]"
     ]
    },
    {
     "name": "stdout",
     "output_type": "stream",
     "text": [
      "Exception at row 214\n",
      "'NoneType' object has no attribute 'find'\n",
      "Exception at row 281\n",
      "'NoneType' object has no attribute 'find'\n"
     ]
    },
    {
     "name": "stderr",
     "output_type": "stream",
     "text": [
      "Processing row 283:   9%|▉         | 283/3168 [07:22<1:08:05,  1.42s/it]"
     ]
    },
    {
     "name": "stdout",
     "output_type": "stream",
     "text": [
      "Exception at row 281\n",
      "'NoneType' object has no attribute 'find'\n",
      "Exception at row 282\n",
      "'NoneType' object has no attribute 'find'\n"
     ]
    },
    {
     "name": "stderr",
     "output_type": "stream",
     "text": [
      "Processing row 285:   9%|▉         | 283/3168 [07:22<56:04,  1.17s/it]  "
     ]
    },
    {
     "name": "stdout",
     "output_type": "stream",
     "text": [
      "Exception at row 282\n",
      "'NoneType' object has no attribute 'find'\n"
     ]
    },
    {
     "name": "stderr",
     "output_type": "stream",
     "text": [
      "Processing row 250:   8%|▊         | 250/3168 [07:23<1:33:07,  1.91s/it]"
     ]
    },
    {
     "name": "stdout",
     "output_type": "stream",
     "text": [
      "Exception at row 249\n",
      "'NoneType' object has no attribute 'find'\n"
     ]
    },
    {
     "name": "stderr",
     "output_type": "stream",
     "text": [
      "Processing row 248:   8%|▊         | 248/3169 [07:24<1:20:51,  1.66s/it]"
     ]
    },
    {
     "name": "stdout",
     "output_type": "stream",
     "text": [
      "Exception at row 283\n",
      "Exception at row 215'NoneType' object has no attribute 'find'\n",
      "\n",
      "'NoneType' object has no attribute 'find'\n",
      "Exception at row 247\n",
      "'NoneType' object has no attribute 'find'\n"
     ]
    },
    {
     "name": "stderr",
     "output_type": "stream",
     "text": [
      "Processing row 249:   8%|▊         | 249/3169 [07:25<1:09:36,  1.43s/it]"
     ]
    },
    {
     "name": "stdout",
     "output_type": "stream",
     "text": [
      "Exception at row 284\n",
      "'NoneType' object has no attribute 'find'\n",
      "Exception at row 248\n",
      "'NoneType' object has no attribute 'find'\n"
     ]
    },
    {
     "name": "stderr",
     "output_type": "stream",
     "text": [
      "Processing row 218:   7%|▋         | 217/3168 [07:25<1:40:38,  2.05s/it]"
     ]
    },
    {
     "name": "stdout",
     "output_type": "stream",
     "text": [
      "Exception at row 250\n",
      "'NoneType' object has no attribute 'find'\n",
      "Exception at row 216\n",
      "'NoneType' object has no attribute 'find'\n"
     ]
    },
    {
     "name": "stderr",
     "output_type": "stream",
     "text": [
      "Processing row 287:   9%|▉         | 287/3168 [07:29<1:46:55,  2.23s/it]"
     ]
    },
    {
     "name": "stdout",
     "output_type": "stream",
     "text": [
      "Exception at row 286\n",
      "<urlopen error timed out>\n"
     ]
    },
    {
     "name": "stderr",
     "output_type": "stream",
     "text": [
      "Processing row 250:   8%|▊         | 250/3169 [07:30<2:01:56,  2.51s/it]"
     ]
    },
    {
     "name": "stdout",
     "output_type": "stream",
     "text": [
      "Exception at row 285\n",
      "<urlopen error timed out>\n",
      "Exception at row 249\n",
      "<urlopen error timed out>\n"
     ]
    },
    {
     "name": "stderr",
     "output_type": "stream",
     "text": [
      "Processing row 220:   7%|▋         | 219/3168 [07:30<1:47:23,  2.18s/it]"
     ]
    },
    {
     "name": "stdout",
     "output_type": "stream",
     "text": [
      "Exception at row 251\n",
      "<urlopen error timed out>\n",
      "Exception at row 218\n",
      "<urlopen error timed out>\n"
     ]
    },
    {
     "name": "stderr",
     "output_type": "stream",
     "text": [
      "Processing row 288:   9%|▉         | 288/3168 [07:34<2:26:59,  3.06s/it]"
     ]
    },
    {
     "name": "stdout",
     "output_type": "stream",
     "text": [
      "Exception at row 287\n",
      "<urlopen error timed out>\n"
     ]
    },
    {
     "name": "stderr",
     "output_type": "stream",
     "text": [
      "Processing row 251:   8%|▊         | 251/3169 [07:35<2:38:34,  3.26s/it]"
     ]
    },
    {
     "name": "stdout",
     "output_type": "stream",
     "text": [
      "Exception at row 286\n",
      "<urlopen error timed out>\n",
      "Exception at row 250\n",
      "<urlopen error timed out>\n"
     ]
    },
    {
     "name": "stderr",
     "output_type": "stream",
     "text": [
      "Processing row 221:   7%|▋         | 221/3168 [07:35<1:52:05,  2.28s/it]"
     ]
    },
    {
     "name": "stdout",
     "output_type": "stream",
     "text": [
      "Exception at row 252\n",
      "<urlopen error timed out>\n",
      "Exception at row 220\n",
      "<urlopen error timed out>\n"
     ]
    },
    {
     "name": "stderr",
     "output_type": "stream",
     "text": [
      "Processing row 289:   9%|▉         | 289/3168 [07:39<2:55:07,  3.65s/it]"
     ]
    },
    {
     "name": "stdout",
     "output_type": "stream",
     "text": [
      "Exception at row 288\n",
      "<urlopen error timed out>\n"
     ]
    },
    {
     "name": "stderr",
     "output_type": "stream",
     "text": [
      "Processing row 252:   8%|▊         | 252/3169 [07:40<3:04:09,  3.79s/it]"
     ]
    },
    {
     "name": "stdout",
     "output_type": "stream",
     "text": [
      "Exception at row 287\n",
      "<urlopen error timed out>\n",
      "Exception at row 251\n",
      "<urlopen error timed out>\n"
     ]
    },
    {
     "name": "stderr",
     "output_type": "stream",
     "text": [
      "Processing row 222:   7%|▋         | 222/3168 [07:40<2:32:21,  3.10s/it]"
     ]
    },
    {
     "name": "stdout",
     "output_type": "stream",
     "text": [
      "Exception at row 253\n",
      "<urlopen error timed out>\n",
      "Exception at row 221\n",
      "<urlopen error timed out>\n"
     ]
    },
    {
     "name": "stderr",
     "output_type": "stream",
     "text": [
      "Processing row 290:   9%|▉         | 290/3168 [07:44<3:14:58,  4.06s/it]"
     ]
    },
    {
     "name": "stdout",
     "output_type": "stream",
     "text": [
      "Exception at row 289\n",
      "<urlopen error timed out>\n"
     ]
    },
    {
     "name": "stderr",
     "output_type": "stream",
     "text": [
      "Processing row 253:   8%|▊         | 253/3169 [07:45<3:22:05,  4.16s/it]"
     ]
    },
    {
     "name": "stdout",
     "output_type": "stream",
     "text": [
      "Exception at row 288\n",
      "<urlopen error timed out>\n",
      "Exception at row 252\n",
      "<urlopen error timed out>\n"
     ]
    },
    {
     "name": "stderr",
     "output_type": "stream",
     "text": [
      "Processing row 223:   7%|▋         | 223/3168 [07:45<3:00:32,  3.68s/it]"
     ]
    },
    {
     "name": "stdout",
     "output_type": "stream",
     "text": [
      "Exception at row 254\n",
      "<urlopen error timed out>\n",
      "Exception at row 222\n",
      "<urlopen error timed out>\n"
     ]
    },
    {
     "name": "stderr",
     "output_type": "stream",
     "text": [
      "Processing row 291:   9%|▉         | 291/3168 [07:49<3:28:40,  4.35s/it]"
     ]
    },
    {
     "name": "stdout",
     "output_type": "stream",
     "text": [
      "Exception at row 290\n",
      "<urlopen error timed out>\n"
     ]
    },
    {
     "name": "stderr",
     "output_type": "stream",
     "text": [
      "Processing row 254:   8%|▊         | 254/3169 [07:50<3:34:35,  4.42s/it]"
     ]
    },
    {
     "name": "stdout",
     "output_type": "stream",
     "text": [
      "Exception at row 289\n",
      "<urlopen error timed out>\n",
      "Exception at row 253\n",
      "<urlopen error timed out>\n"
     ]
    },
    {
     "name": "stderr",
     "output_type": "stream",
     "text": [
      "Processing row 224:   7%|▋         | 224/3168 [07:51<3:20:15,  4.08s/it]"
     ]
    },
    {
     "name": "stdout",
     "output_type": "stream",
     "text": [
      "Exception at row 255\n",
      "<urlopen error timed out>\n",
      "Exception at row 223\n",
      "<urlopen error timed out>\n"
     ]
    },
    {
     "name": "stderr",
     "output_type": "stream",
     "text": [
      "Processing row 292:   9%|▉         | 292/3168 [07:54<3:38:16,  4.55s/it]"
     ]
    },
    {
     "name": "stdout",
     "output_type": "stream",
     "text": [
      "Exception at row 291\n",
      "<urlopen error timed out>\n"
     ]
    },
    {
     "name": "stderr",
     "output_type": "stream",
     "text": [
      "Processing row 255:   8%|▊         | 255/3169 [07:55<3:43:18,  4.60s/it]"
     ]
    },
    {
     "name": "stdout",
     "output_type": "stream",
     "text": [
      "Exception at row 290\n",
      "<urlopen error timed out>\n",
      "Exception at row 254\n",
      "<urlopen error timed out>\n"
     ]
    },
    {
     "name": "stderr",
     "output_type": "stream",
     "text": [
      "Processing row 225:   7%|▋         | 225/3168 [07:56<3:34:00,  4.36s/it]"
     ]
    },
    {
     "name": "stdout",
     "output_type": "stream",
     "text": [
      "Exception at row 256\n",
      "<urlopen error timed out>\n",
      "Exception at row 224\n",
      "<urlopen error timed out>\n"
     ]
    },
    {
     "name": "stderr",
     "output_type": "stream",
     "text": [
      "Processing row 293:   9%|▉         | 293/3168 [07:59<3:44:52,  4.69s/it]"
     ]
    },
    {
     "name": "stdout",
     "output_type": "stream",
     "text": [
      "Exception at row 292\n",
      "<urlopen error timed out>\n"
     ]
    },
    {
     "name": "stderr",
     "output_type": "stream",
     "text": [
      "Processing row 256:   8%|▊         | 256/3169 [08:00<3:49:23,  4.72s/it]"
     ]
    },
    {
     "name": "stdout",
     "output_type": "stream",
     "text": [
      "Exception at row 292\n",
      "<urlopen error timed out>\n",
      "Exception at row 255\n",
      "<urlopen error timed out>\n"
     ]
    },
    {
     "name": "stderr",
     "output_type": "stream",
     "text": [
      "Processing row 226:   7%|▋         | 226/3168 [08:01<3:43:36,  4.56s/it]"
     ]
    },
    {
     "name": "stdout",
     "output_type": "stream",
     "text": [
      "Exception at row 257\n",
      "<urlopen error timed out>\n",
      "Exception at row 225\n",
      "<urlopen error timed out>\n"
     ]
    },
    {
     "name": "stderr",
     "output_type": "stream",
     "text": [
      "Processing row 294:   9%|▉         | 294/3168 [08:04<3:49:27,  4.79s/it]"
     ]
    },
    {
     "name": "stdout",
     "output_type": "stream",
     "text": [
      "Exception at row 293\n",
      "<urlopen error timed out>\n"
     ]
    },
    {
     "name": "stderr",
     "output_type": "stream",
     "text": [
      "Processing row 257:   8%|▊         | 257/3169 [08:05<3:53:32,  4.81s/it]"
     ]
    },
    {
     "name": "stdout",
     "output_type": "stream",
     "text": [
      "Exception at row 293\n",
      "<urlopen error timed out>\n",
      "Exception at row 256\n",
      "<urlopen error timed out>\n"
     ]
    },
    {
     "name": "stderr",
     "output_type": "stream",
     "text": [
      "Processing row 227:   7%|▋         | 227/3168 [08:06<3:50:14,  4.70s/it]"
     ]
    },
    {
     "name": "stdout",
     "output_type": "stream",
     "text": [
      "Exception at row 258\n",
      "<urlopen error timed out>\n",
      "Exception at row 226\n",
      "<urlopen error timed out>\n"
     ]
    },
    {
     "name": "stderr",
     "output_type": "stream",
     "text": [
      "Processing row 295:   9%|▉         | 295/3168 [08:09<3:52:37,  4.86s/it]"
     ]
    },
    {
     "name": "stdout",
     "output_type": "stream",
     "text": [
      "Exception at row 294\n",
      "<urlopen error timed out>\n"
     ]
    },
    {
     "name": "stderr",
     "output_type": "stream",
     "text": [
      "Processing row 258:   8%|▊         | 258/3169 [08:10<3:56:28,  4.87s/it]"
     ]
    },
    {
     "name": "stdout",
     "output_type": "stream",
     "text": [
      "Exception at row 294\n",
      "<urlopen error timed out>\n",
      "Exception at row 257\n",
      "<urlopen error timed out>\n"
     ]
    },
    {
     "name": "stderr",
     "output_type": "stream",
     "text": [
      "Processing row 228:   7%|▋         | 228/3168 [08:11<3:54:57,  4.80s/it]"
     ]
    },
    {
     "name": "stdout",
     "output_type": "stream",
     "text": [
      "Exception at row 259\n",
      "<urlopen error timed out>\n",
      "Exception at row 227\n",
      "<urlopen error timed out>\n"
     ]
    }
   ],
   "source": [
    "cursor.execute('SELECT * FROM prices WHERE price IS NOT NULL')\n",
    "len(cursor.fetchall())"
   ]
  },
  {
   "cell_type": "code",
   "execution_count": 5,
   "metadata": {
    "tags": []
   },
   "outputs": [
    {
     "data": {
      "text/plain": [
       "9.99"
      ]
     },
     "execution_count": 5,
     "metadata": {},
     "output_type": "execute_result"
    }
   ],
   "source": [
    "url = \"https://www.amazon.com/Johnny-Cash-Live-Montreux-1994/dp/B003OBFVJW/ref=sr_1_1?dchild=1&keywords=Blue+Sky+1994&qid=1619257244&s=movies-tv&sr=1-1\"\n",
    "getMoviePrice(url)"
   ]
  },
  {
   "cell_type": "code",
   "execution_count": 65,
   "metadata": {
    "collapsed": true,
    "jupyter": {
     "outputs_hidden": true
    },
    "tags": []
   },
   "outputs": [
    {
     "data": {
      "text/plain": [
       "'Citizen Gangster 2011'"
      ]
     },
     "execution_count": 65,
     "metadata": {},
     "output_type": "execute_result"
    },
    {
     "name": "stderr",
     "output_type": "stream",
     "text": [
      "Processing row 4775:  88%|████████▊ | 4775/5455 [1:47:44<26:06,  2.30s/it]"
     ]
    },
    {
     "name": "stdout",
     "output_type": "stream",
     "text": [
      "Exception at row 4774\n",
      "'NoneType' object has no attribute 'find'\n"
     ]
    },
    {
     "name": "stderr",
     "output_type": "stream",
     "text": [
      "Processing row 4744:  87%|████████▋ | 4743/5456 [1:47:44<32:30,  2.74s/it]"
     ]
    },
    {
     "name": "stdout",
     "output_type": "stream",
     "text": [
      "Exception at row 4742\n",
      "'NoneType' object has no attribute 'find'\n"
     ]
    },
    {
     "name": "stderr",
     "output_type": "stream",
     "text": [
      "Processing row 5378:  99%|█████████▊| 5378/5456 [1:47:45<02:54,  2.24s/it]"
     ]
    },
    {
     "name": "stdout",
     "output_type": "stream",
     "text": [
      "Exception at row 4859\n",
      "'NoneType' object has no attribute 'find'\n"
     ]
    },
    {
     "name": "stderr",
     "output_type": "stream",
     "text": [
      "Processing row 4776:  88%|████████▊ | 4776/5455 [1:47:46<25:39,  2.27s/it]"
     ]
    },
    {
     "name": "stdout",
     "output_type": "stream",
     "text": [
      "Exception at row 4775\n",
      "'NoneType' object has no attribute 'find'\n"
     ]
    },
    {
     "name": "stderr",
     "output_type": "stream",
     "text": [
      "Processing row 4745:  87%|████████▋ | 4745/5456 [1:47:47<26:33,  2.24s/it]"
     ]
    },
    {
     "name": "stdout",
     "output_type": "stream",
     "text": [
      "Exception at row 4744\n",
      "'NoneType' object has no attribute 'find'\n"
     ]
    },
    {
     "name": "stderr",
     "output_type": "stream",
     "text": [
      "Processing row 4778:  88%|████████▊ | 4778/5455 [1:47:49<20:52,  1.85s/it]"
     ]
    },
    {
     "name": "stdout",
     "output_type": "stream",
     "text": [
      "Exception at row 4777\n",
      "'NoneType' object has no attribute 'find'\n"
     ]
    },
    {
     "name": "stderr",
     "output_type": "stream",
     "text": [
      "Processing row 5380:  99%|█████████▊| 5380/5456 [1:47:50<02:51,  2.26s/it]"
     ]
    },
    {
     "name": "stdout",
     "output_type": "stream",
     "text": [
      "Exception at row 5379\n",
      "'NoneType' object has no attribute 'find'\n"
     ]
    },
    {
     "name": "stderr",
     "output_type": "stream",
     "text": [
      "Processing row 4861:  89%|████████▉ | 4861/5455 [1:47:51<32:58,  3.33s/it]"
     ]
    },
    {
     "name": "stdout",
     "output_type": "stream",
     "text": [
      "Exception at row 4860\n",
      "'NoneType' object has no attribute 'find'\n"
     ]
    },
    {
     "name": "stderr",
     "output_type": "stream",
     "text": [
      "Processing row 4747:  87%|████████▋ | 4747/5456 [1:47:52<29:11,  2.47s/it]"
     ]
    },
    {
     "name": "stdout",
     "output_type": "stream",
     "text": [
      "Exception at row 4778\n",
      "'NoneType' object has no attribute 'find'\n"
     ]
    },
    {
     "name": "stderr",
     "output_type": "stream",
     "text": [
      "Processing row 4749:  87%|████████▋ | 4748/5456 [1:47:53<25:39,  2.17s/it]"
     ]
    },
    {
     "name": "stdout",
     "output_type": "stream",
     "text": [
      "Exception at row 4779\n",
      "'NoneType' object has no attribute 'find'\n"
     ]
    },
    {
     "name": "stderr",
     "output_type": "stream",
     "text": [
      "Processing row 4750:  87%|████████▋ | 4750/5456 [1:47:56<22:13,  1.89s/it]"
     ]
    },
    {
     "name": "stdout",
     "output_type": "stream",
     "text": [
      "Exception at row 4749\n",
      "'NoneType' object has no attribute 'find'\n"
     ]
    },
    {
     "name": "stderr",
     "output_type": "stream",
     "text": [
      "Processing row 5383:  99%|█████████▊| 5383/5456 [1:47:56<02:40,  2.20s/it]"
     ]
    },
    {
     "name": "stdout",
     "output_type": "stream",
     "text": [
      "Exception at row 5382\n",
      "'NoneType' object has no attribute 'find'\n"
     ]
    },
    {
     "name": "stderr",
     "output_type": "stream",
     "text": [
      "Processing row 4782:  88%|████████▊ | 4782/5455 [1:47:56<20:08,  1.80s/it]"
     ]
    },
    {
     "name": "stdout",
     "output_type": "stream",
     "text": [
      "Exception at row 4781\n",
      "'NoneType' object has no attribute 'find'\n"
     ]
    },
    {
     "name": "stderr",
     "output_type": "stream",
     "text": [
      "Processing row 5383:  99%|█████████▊| 5384/5456 [1:47:58<02:32,  2.12s/it]"
     ]
    },
    {
     "name": "stdout",
     "output_type": "stream",
     "text": [
      "Exception at row 4862\n",
      "'NoneType' object has no attribute 'find'\n"
     ]
    },
    {
     "name": "stderr",
     "output_type": "stream",
     "text": [
      "Processing row 4751:  87%|████████▋ | 4751/5456 [1:47:58<23:48,  2.03s/it]"
     ]
    },
    {
     "name": "stdout",
     "output_type": "stream",
     "text": [
      "Exception at row 4750\n",
      "'NoneType' object has no attribute 'find'\n"
     ]
    },
    {
     "name": "stderr",
     "output_type": "stream",
     "text": [
      "Processing row 4783:  88%|████████▊ | 4783/5455 [1:47:59<23:16,  2.08s/it]"
     ]
    },
    {
     "name": "stdout",
     "output_type": "stream",
     "text": [
      "Exception at row 4782\n",
      "'NoneType' object has no attribute 'find'\n"
     ]
    },
    {
     "name": "stderr",
     "output_type": "stream",
     "text": [
      "Processing row 4865:  89%|████████▉ | 4864/5455 [1:48:00<29:55,  3.04s/it]"
     ]
    },
    {
     "name": "stdout",
     "output_type": "stream",
     "text": [
      "Exception at row 4863\n",
      "'NoneType' object has no attribute 'find'\n"
     ]
    },
    {
     "name": "stderr",
     "output_type": "stream",
     "text": [
      "Processing row 5385:  99%|█████████▊| 5386/5456 [1:48:02<02:28,  2.12s/it]"
     ]
    },
    {
     "name": "stdout",
     "output_type": "stream",
     "text": [
      "Exception at row 4865\n",
      "'NoneType' object has no attribute 'find'\n",
      "Exception at row 5385\n",
      "'NoneType' object has no attribute 'find'\n"
     ]
    },
    {
     "name": "stderr",
     "output_type": "stream",
     "text": [
      "Processing row 4753:  87%|████████▋ | 4753/5456 [1:48:03<26:44,  2.28s/it]"
     ]
    },
    {
     "name": "stdout",
     "output_type": "stream",
     "text": [
      "Exception at row 4752\n",
      "'NoneType' object has no attribute 'find'\n"
     ]
    },
    {
     "name": "stderr",
     "output_type": "stream",
     "text": [
      "Processing row 4868:  89%|████████▉ | 4868/5455 [1:48:04<19:27,  1.99s/it]"
     ]
    },
    {
     "name": "stdout",
     "output_type": "stream",
     "text": [
      "Exception at row 4867\n",
      "'NoneType' object has no attribute 'find'\n"
     ]
    },
    {
     "name": "stderr",
     "output_type": "stream",
     "text": [
      "Processing row 4788:  88%|████████▊ | 4788/5455 [1:48:07<21:27,  1.93s/it]"
     ]
    },
    {
     "name": "stdout",
     "output_type": "stream",
     "text": [
      "Exception at row 4787\n",
      "'NoneType' object has no attribute 'find'\n"
     ]
    },
    {
     "name": "stderr",
     "output_type": "stream",
     "text": [
      "Processing row 4755:  87%|████████▋ | 4755/5456 [1:48:07<25:01,  2.14s/it]"
     ]
    },
    {
     "name": "stdout",
     "output_type": "stream",
     "text": [
      "Exception at row 4754\n",
      "'NoneType' object has no attribute 'find'\n"
     ]
    },
    {
     "name": "stderr",
     "output_type": "stream",
     "text": [
      "Processing row 5389:  99%|█████████▉| 5389/5456 [1:48:09<02:33,  2.29s/it]"
     ]
    },
    {
     "name": "stdout",
     "output_type": "stream",
     "text": [
      "Exception at row 5388\n",
      "'NoneType' object has no attribute 'find'\n"
     ]
    },
    {
     "name": "stderr",
     "output_type": "stream",
     "text": [
      "Processing row 4758:  87%|████████▋ | 4756/5456 [1:48:10<28:29,  2.44s/it]"
     ]
    },
    {
     "name": "stdout",
     "output_type": "stream",
     "text": [
      "Exception at row 4755\n",
      "'NoneType' object has no attribute 'find'\n"
     ]
    },
    {
     "name": "stderr",
     "output_type": "stream",
     "text": [
      "Processing row 5390:  99%|█████████▉| 5390/5456 [1:48:11<02:33,  2.33s/it]"
     ]
    },
    {
     "name": "stdout",
     "output_type": "stream",
     "text": [
      "Exception at row 5389\n",
      "'NoneType' object has no attribute 'find'\n"
     ]
    },
    {
     "name": "stderr",
     "output_type": "stream",
     "text": [
      "Processing row 4872:  89%|████████▉ | 4872/5455 [1:48:14<28:44,  2.96s/it]"
     ]
    },
    {
     "name": "stdout",
     "output_type": "stream",
     "text": [
      "Exception at row 4871\n",
      "'NoneType' object has no attribute 'find'\n"
     ]
    },
    {
     "name": "stderr",
     "output_type": "stream",
     "text": [
      "Processing row 5391:  99%|█████████▉| 5391/5456 [1:48:15<02:52,  2.65s/it]"
     ]
    },
    {
     "name": "stdout",
     "output_type": "stream",
     "text": [
      "Exception at row 5390\n",
      "'NoneType' object has no attribute 'find'Exception at row 4759\n",
      "'NoneType' object has no attribute 'find'\n",
      "\n"
     ]
    },
    {
     "name": "stderr",
     "output_type": "stream",
     "text": [
      "Processing row 4790:  88%|████████▊ | 4790/5455 [1:48:15<33:13,  3.00s/it]"
     ]
    },
    {
     "name": "stdout",
     "output_type": "stream",
     "text": [
      "Exception at row 4789\n",
      "could not convert string to float: '17.94 - $19.99'\n"
     ]
    },
    {
     "name": "stderr",
     "output_type": "stream",
     "text": [
      "Processing row 5392:  99%|█████████▉| 5392/5456 [1:48:17<02:42,  2.54s/it]"
     ]
    },
    {
     "name": "stdout",
     "output_type": "stream",
     "text": [
      "Exception at row 5391\n",
      "'NoneType' object has no attribute 'find'\n"
     ]
    },
    {
     "name": "stderr",
     "output_type": "stream",
     "text": [
      "Processing row 4762:  87%|████████▋ | 4761/5456 [1:48:18<26:26,  2.28s/it]"
     ]
    },
    {
     "name": "stdout",
     "output_type": "stream",
     "text": [
      "Exception at row 4760\n",
      "could not convert string to float: '9.89 - $18.99'\n"
     ]
    },
    {
     "name": "stderr",
     "output_type": "stream",
     "text": [
      "Processing row 4873:  89%|████████▉ | 4873/5455 [1:48:18<31:26,  3.24s/it]"
     ]
    },
    {
     "name": "stdout",
     "output_type": "stream",
     "text": [
      "Exception at row 4872\n",
      "'NoneType' object has no attribute 'find'\n"
     ]
    },
    {
     "name": "stderr",
     "output_type": "stream",
     "text": [
      "Processing row 4791:  88%|████████▊ | 4791/5455 [1:48:19<34:40,  3.13s/it]"
     ]
    },
    {
     "name": "stdout",
     "output_type": "stream",
     "text": [
      "Exception at row 4790\n",
      "'NoneType' object has no attribute 'find'\n"
     ]
    },
    {
     "name": "stderr",
     "output_type": "stream",
     "text": [
      "Processing row 5394:  99%|█████████▉| 5393/5456 [1:48:19<02:33,  2.44s/it]"
     ]
    },
    {
     "name": "stdout",
     "output_type": "stream",
     "text": [
      "Exception at row 5392\n",
      "'NoneType' object has no attribute 'find'\n"
     ]
    },
    {
     "name": "stderr",
     "output_type": "stream",
     "text": [
      "Processing row 4764:  87%|████████▋ | 4764/5456 [1:48:23<24:05,  2.09s/it]"
     ]
    },
    {
     "name": "stdout",
     "output_type": "stream",
     "text": [
      "Exception at row 4763\n",
      "'NoneType' object has no attribute 'find'\n"
     ]
    },
    {
     "name": "stderr",
     "output_type": "stream",
     "text": [
      "Processing row 4875:  89%|████████▉ | 4875/5455 [1:48:24<28:41,  2.97s/it]"
     ]
    },
    {
     "name": "stdout",
     "output_type": "stream",
     "text": [
      "Exception at row 4874\n",
      "'NoneType' object has no attribute 'find'\n"
     ]
    },
    {
     "name": "stderr",
     "output_type": "stream",
     "text": [
      "Processing row 5397:  99%|█████████▉| 5397/5456 [1:48:24<01:45,  1.78s/it]"
     ]
    },
    {
     "name": "stdout",
     "output_type": "stream",
     "text": [
      "Exception at row 5396\n",
      "'NoneType' object has no attribute 'find'\n"
     ]
    },
    {
     "name": "stderr",
     "output_type": "stream",
     "text": [
      "Processing row 4794:  88%|████████▊ | 4793/5455 [1:48:25<34:03,  3.09s/it]"
     ]
    },
    {
     "name": "stdout",
     "output_type": "stream",
     "text": [
      "Exception at row 4792\n",
      "'NoneType' object has no attribute 'find'\n"
     ]
    },
    {
     "name": "stderr",
     "output_type": "stream",
     "text": [
      "Processing row 4765:  87%|████████▋ | 4765/5456 [1:48:25<24:56,  2.17s/it]"
     ]
    },
    {
     "name": "stdout",
     "output_type": "stream",
     "text": [
      "Exception at row 4764\n",
      "'NoneType' object has no attribute 'find'\n"
     ]
    },
    {
     "name": "stderr",
     "output_type": "stream",
     "text": [
      "Processing row 5399:  99%|█████████▉| 5399/5456 [1:48:27<01:35,  1.68s/it]"
     ]
    },
    {
     "name": "stdout",
     "output_type": "stream",
     "text": [
      "Exception at row 4875\n",
      "'NoneType' object has no attribute 'find'\n",
      "Exception at row 5398\n",
      "'NoneType' object has no attribute 'find'\n"
     ]
    },
    {
     "name": "stderr",
     "output_type": "stream",
     "text": [
      "Processing row 4878:  89%|████████▉ | 4878/5455 [1:48:28<22:48,  2.37s/it]"
     ]
    },
    {
     "name": "stdout",
     "output_type": "stream",
     "text": [
      "Exception at row 4765\n",
      "could not convert string to float: '19.99 - $21.99'\n",
      "Exception at row 4877\n",
      "'NoneType' object has no attribute 'find'\n"
     ]
    },
    {
     "name": "stderr",
     "output_type": "stream",
     "text": [
      "Processing row 4797:  88%|████████▊ | 4797/5455 [1:48:30<22:08,  2.02s/it]"
     ]
    },
    {
     "name": "stdout",
     "output_type": "stream",
     "text": [
      "Exception at row 4796\n",
      "'NoneType' object has no attribute 'find'\n"
     ]
    },
    {
     "name": "stderr",
     "output_type": "stream",
     "text": [
      "Processing row 4879:  89%|████████▉ | 4879/5455 [1:48:30<21:06,  2.20s/it]"
     ]
    },
    {
     "name": "stdout",
     "output_type": "stream",
     "text": [
      "Exception at row 4878\n",
      "'NoneType' object has no attribute 'find'\n"
     ]
    },
    {
     "name": "stderr",
     "output_type": "stream",
     "text": [
      "Processing row 4767:  87%|████████▋ | 4767/5456 [1:48:31<27:53,  2.43s/it]"
     ]
    },
    {
     "name": "stdout",
     "output_type": "stream",
     "text": [
      "Exception at row 4766\n",
      "'NoneType' object has no attribute 'find'\n"
     ]
    },
    {
     "name": "stderr",
     "output_type": "stream",
     "text": [
      "Processing row 4798:  88%|████████▊ | 4798/5455 [1:48:31<20:05,  1.83s/it]"
     ]
    },
    {
     "name": "stdout",
     "output_type": "stream",
     "text": [
      "Exception at row 4797\n",
      "'NoneType' object has no attribute 'find'\n"
     ]
    },
    {
     "name": "stderr",
     "output_type": "stream",
     "text": [
      "Processing row 4881:  89%|████████▉ | 4880/5455 [1:48:32<18:47,  1.96s/it]"
     ]
    },
    {
     "name": "stdout",
     "output_type": "stream",
     "text": [
      "Exception at row 4879\n",
      "'NoneType' object has no attribute 'find'\n"
     ]
    },
    {
     "name": "stderr",
     "output_type": "stream",
     "text": [
      "Processing row 4769:  87%|████████▋ | 4768/5456 [1:48:32<24:33,  2.14s/it]"
     ]
    },
    {
     "name": "stdout",
     "output_type": "stream",
     "text": [
      "Exception at row 4767\n",
      "'NoneType' object has no attribute 'find'\n"
     ]
    },
    {
     "name": "stderr",
     "output_type": "stream",
     "text": [
      "Processing row 4771:  87%|████████▋ | 4770/5456 [1:48:34<20:39,  1.81s/it]"
     ]
    },
    {
     "name": "stdout",
     "output_type": "stream",
     "text": [
      "Exception at row 4769\n",
      "'NoneType' object has no attribute 'find'\n"
     ]
    },
    {
     "name": "stderr",
     "output_type": "stream",
     "text": [
      "Processing row 5404:  99%|█████████▉| 5404/5456 [1:48:35<01:20,  1.54s/it]"
     ]
    },
    {
     "name": "stdout",
     "output_type": "stream",
     "text": [
      "Exception at row 5403\n",
      "'NoneType' object has no attribute 'find'\n"
     ]
    },
    {
     "name": "stderr",
     "output_type": "stream",
     "text": [
      "Processing row 4801:  88%|████████▊ | 4801/5455 [1:48:36<18:09,  1.67s/it]"
     ]
    },
    {
     "name": "stdout",
     "output_type": "stream",
     "text": [
      "Exception at row 4800\n",
      "'NoneType' object has no attribute 'find'\n"
     ]
    },
    {
     "name": "stderr",
     "output_type": "stream",
     "text": [
      "Processing row 4772:  87%|████████▋ | 4772/5456 [1:48:37<18:50,  1.65s/it]"
     ]
    },
    {
     "name": "stdout",
     "output_type": "stream",
     "text": [
      "Exception at row 4771\n",
      "'NoneType' object has no attribute 'find'\n"
     ]
    },
    {
     "name": "stderr",
     "output_type": "stream",
     "text": [
      "Processing row 4802:  88%|████████▊ | 4802/5455 [1:48:37<16:48,  1.54s/it]"
     ]
    },
    {
     "name": "stdout",
     "output_type": "stream",
     "text": [
      "Exception at row 4801\n",
      "'NoneType' object has no attribute 'find'\n"
     ]
    },
    {
     "name": "stderr",
     "output_type": "stream",
     "text": [
      "Processing row 5407:  99%|█████████▉| 5407/5456 [1:48:38<01:03,  1.30s/it]"
     ]
    },
    {
     "name": "stdout",
     "output_type": "stream",
     "text": [
      "Exception at row 5406\n",
      "'NoneType' object has no attribute 'find'\n"
     ]
    },
    {
     "name": "stderr",
     "output_type": "stream",
     "text": [
      "Processing row 4884:  90%|████████▉ | 4884/5455 [1:48:41<21:42,  2.28s/it]"
     ]
    },
    {
     "name": "stdout",
     "output_type": "stream",
     "text": [
      "Exception at row 4883\n",
      "'NoneType' object has no attribute 'find'\n"
     ]
    },
    {
     "name": "stderr",
     "output_type": "stream",
     "text": [
      "Processing row 4804:  88%|████████▊ | 4804/5455 [1:48:41<18:39,  1.72s/it]"
     ]
    },
    {
     "name": "stdout",
     "output_type": "stream",
     "text": [
      "Exception at row 4803\n",
      "'NoneType' object has no attribute 'find'\n"
     ]
    },
    {
     "name": "stderr",
     "output_type": "stream",
     "text": [
      "Processing row 5408:  99%|█████████▉| 5408/5456 [1:48:42<01:41,  2.11s/it]"
     ]
    },
    {
     "name": "stdout",
     "output_type": "stream",
     "text": [
      "Exception at row 5407\n",
      "'NoneType' object has no attribute 'find'\n"
     ]
    },
    {
     "name": "stderr",
     "output_type": "stream",
     "text": [
      "Processing row 4774:  88%|████████▊ | 4774/5456 [1:48:43<28:08,  2.48s/it]"
     ]
    },
    {
     "name": "stdout",
     "output_type": "stream",
     "text": [
      "Exception at row 4773\n",
      "'NoneType' object has no attribute 'find'\n"
     ]
    },
    {
     "name": "stderr",
     "output_type": "stream",
     "text": [
      "Processing row 4805:  88%|████████▊ | 4805/5455 [1:48:45<24:19,  2.25s/it]"
     ]
    },
    {
     "name": "stdout",
     "output_type": "stream",
     "text": [
      "Exception at row 4804\n",
      "'NoneType' object has no attribute 'find'\n"
     ]
    },
    {
     "name": "stderr",
     "output_type": "stream",
     "text": [
      "Processing row 4806:  88%|████████▊ | 4806/5455 [1:48:47<24:36,  2.27s/it]"
     ]
    },
    {
     "name": "stdout",
     "output_type": "stream",
     "text": [
      "Exception at row 4805\n",
      "'NoneType' object has no attribute 'find'\n"
     ]
    },
    {
     "name": "stderr",
     "output_type": "stream",
     "text": [
      "Processing row 5410:  99%|█████████▉| 5410/5456 [1:48:48<01:59,  2.59s/it]"
     ]
    },
    {
     "name": "stdout",
     "output_type": "stream",
     "text": [
      "Exception at row 5409\n",
      "'NoneType' object has no attribute 'find'\n"
     ]
    },
    {
     "name": "stderr",
     "output_type": "stream",
     "text": [
      "Processing row 4885:  90%|████████▉ | 4885/5455 [1:48:49<39:17,  4.14s/it]"
     ]
    },
    {
     "name": "stdout",
     "output_type": "stream",
     "text": [
      "Exception at row 4774\n",
      "The read operation timed out\n",
      "Exception at row 4884\n",
      "The read operation timed out\n"
     ]
    },
    {
     "name": "stderr",
     "output_type": "stream",
     "text": [
      "Processing row 5411:  99%|█████████▉| 5411/5456 [1:48:51<02:08,  2.85s/it]"
     ]
    },
    {
     "name": "stdout",
     "output_type": "stream",
     "text": [
      "Exception at row 5410\n",
      "'NoneType' object has no attribute 'find'\n"
     ]
    },
    {
     "name": "stderr",
     "output_type": "stream",
     "text": [
      "Processing row 5412:  99%|█████████▉| 5412/5456 [1:48:53<01:46,  2.43s/it]"
     ]
    },
    {
     "name": "stdout",
     "output_type": "stream",
     "text": [
      "Exception at row 5411\n",
      "'NoneType' object has no attribute 'find'\n"
     ]
    },
    {
     "name": "stderr",
     "output_type": "stream",
     "text": [
      "Processing row 4887:  90%|████████▉ | 4887/5455 [1:48:54<29:48,  3.15s/it]"
     ]
    },
    {
     "name": "stdout",
     "output_type": "stream",
     "text": [
      "Exception at row 4775\n",
      "'NoneType' object has no attribute 'find'\n"
     ]
    },
    {
     "name": "stderr",
     "output_type": "stream",
     "text": [
      "Processing row 5413:  99%|█████████▉| 5413/5456 [1:48:56<01:50,  2.57s/it]"
     ]
    },
    {
     "name": "stdout",
     "output_type": "stream",
     "text": [
      "Exception at row 5412\n",
      "'NoneType' object has no attribute 'find'\n"
     ]
    },
    {
     "name": "stderr",
     "output_type": "stream",
     "text": [
      "Processing row 4811:  88%|████████▊ | 4811/5455 [1:48:56<19:42,  1.84s/it]"
     ]
    },
    {
     "name": "stdout",
     "output_type": "stream",
     "text": [
      "Exception at row 4810\n",
      "'NoneType' object has no attribute 'find'\n"
     ]
    },
    {
     "name": "stderr",
     "output_type": "stream",
     "text": [
      "Processing row 5415:  99%|█████████▉| 5414/5456 [1:48:57<01:33,  2.24s/it]"
     ]
    },
    {
     "name": "stdout",
     "output_type": "stream",
     "text": [
      "Exception at row 4887\n",
      "'NoneType' object has no attribute 'find'\n",
      "Exception at row 5413\n",
      "'NoneType' object has no attribute 'find'\n"
     ]
    },
    {
     "name": "stderr",
     "output_type": "stream",
     "text": [
      "Processing row 4812:  88%|████████▊ | 4812/5455 [1:48:58<21:50,  2.04s/it]"
     ]
    },
    {
     "name": "stdout",
     "output_type": "stream",
     "text": [
      "Exception at row 4889\n",
      "'NoneType' object has no attribute 'find'\n",
      "Exception at row 4811\n",
      "'NoneType' object has no attribute 'find'\n"
     ]
    },
    {
     "name": "stderr",
     "output_type": "stream",
     "text": [
      "Processing row 5416:  99%|█████████▉| 5416/5456 [1:48:59<01:11,  1.79s/it]"
     ]
    },
    {
     "name": "stdout",
     "output_type": "stream",
     "text": [
      "Exception at row 5415\n",
      "'NoneType' object has no attribute 'find'\n"
     ]
    },
    {
     "name": "stderr",
     "output_type": "stream",
     "text": [
      "Processing row 5417:  99%|█████████▉| 5417/5456 [1:49:00<01:06,  1.69s/it]"
     ]
    },
    {
     "name": "stdout",
     "output_type": "stream",
     "text": [
      "Exception at row 5416\n",
      "'NoneType' object has no attribute 'find'\n"
     ]
    },
    {
     "name": "stderr",
     "output_type": "stream",
     "text": [
      "Processing row 4813:  88%|████████▊ | 4813/5455 [1:49:01<24:40,  2.31s/it]"
     ]
    },
    {
     "name": "stdout",
     "output_type": "stream",
     "text": [
      "Exception at row 4891\n",
      "'NoneType' object has no attribute 'find'\n",
      "Exception at row 4812\n",
      "'NoneType' object has no attribute 'find'\n"
     ]
    },
    {
     "name": "stderr",
     "output_type": "stream",
     "text": [
      "Processing row 4778:  88%|████████▊ | 4778/5456 [1:49:02<45:06,  3.99s/it]"
     ]
    },
    {
     "name": "stdout",
     "output_type": "stream",
     "text": [
      "Exception at row 4777\n",
      "'NoneType' object has no attribute 'find'\n"
     ]
    },
    {
     "name": "stderr",
     "output_type": "stream",
     "text": [
      "Processing row 4893:  90%|████████▉ | 4893/5455 [1:49:03<18:09,  1.94s/it]"
     ]
    },
    {
     "name": "stdout",
     "output_type": "stream",
     "text": [
      "Exception at row 4778\n",
      "'NoneType' object has no attribute 'find'\n"
     ]
    },
    {
     "name": "stderr",
     "output_type": "stream",
     "text": [
      "Processing row 5420:  99%|█████████▉| 5419/5456 [1:49:03<01:00,  1.65s/it]"
     ]
    },
    {
     "name": "stdout",
     "output_type": "stream",
     "text": [
      "Exception at row 5418\n",
      "'NoneType' object has no attribute 'find'\n"
     ]
    },
    {
     "name": "stderr",
     "output_type": "stream",
     "text": [
      "Processing row 4814:  88%|████████▊ | 4814/5455 [1:49:04<25:30,  2.39s/it]"
     ]
    },
    {
     "name": "stdout",
     "output_type": "stream",
     "text": [
      "Exception at row 4813\n",
      "'NoneType' object has no attribute 'find'\n"
     ]
    },
    {
     "name": "stderr",
     "output_type": "stream",
     "text": [
      "Processing row 4895:  90%|████████▉ | 4894/5455 [1:49:05<18:08,  1.94s/it]"
     ]
    },
    {
     "name": "stdout",
     "output_type": "stream",
     "text": [
      "Exception at row 4893\n",
      "'NoneType' object has no attribute 'find'\n"
     ]
    },
    {
     "name": "stderr",
     "output_type": "stream",
     "text": [
      "Processing row 5421:  99%|█████████▉| 5421/5456 [1:49:05<00:50,  1.45s/it]"
     ]
    },
    {
     "name": "stdout",
     "output_type": "stream",
     "text": [
      "Exception at row 5420\n",
      "'NoneType' object has no attribute 'find'\n"
     ]
    },
    {
     "name": "stderr",
     "output_type": "stream",
     "text": [
      "Processing row 4815:  88%|████████▊ | 4815/5455 [1:49:06<25:06,  2.35s/it]"
     ]
    },
    {
     "name": "stdout",
     "output_type": "stream",
     "text": [
      "Exception at row 4779\n",
      "'NoneType' object has no attribute 'find'\n"
     ]
    },
    {
     "name": "stderr",
     "output_type": "stream",
     "text": [
      "Processing row 5422:  99%|█████████▉| 5422/5456 [1:49:06<00:47,  1.39s/it]"
     ]
    },
    {
     "name": "stdout",
     "output_type": "stream",
     "text": [
      "Exception at row 5421\n",
      "'NoneType' object has no attribute 'find'\n"
     ]
    },
    {
     "name": "stderr",
     "output_type": "stream",
     "text": [
      "Processing row 4897:  90%|████████▉ | 4896/5455 [1:49:07<15:41,  1.68s/it]"
     ]
    },
    {
     "name": "stdout",
     "output_type": "stream",
     "text": [
      "Exception at row 4895\n",
      "'NoneType' object has no attribute 'find'\n"
     ]
    },
    {
     "name": "stderr",
     "output_type": "stream",
     "text": [
      "Processing row 4897:  90%|████████▉ | 4898/5455 [1:49:10<15:19,  1.65s/it]"
     ]
    },
    {
     "name": "stdout",
     "output_type": "stream",
     "text": [
      "Exception at row 4815\n",
      "'NoneType' object has no attribute 'find'\n",
      "Exception at row 4780\n",
      "'NoneType' object has no attribute 'find'\n",
      "Exception at row 4897\n",
      "'NoneType' object has no attribute 'find'\n"
     ]
    },
    {
     "name": "stderr",
     "output_type": "stream",
     "text": [
      "Processing row 4817:  88%|████████▊ | 4817/5455 [1:49:11<24:56,  2.35s/it]"
     ]
    },
    {
     "name": "stdout",
     "output_type": "stream",
     "text": [
      "Exception at row 4816\n",
      "'NoneType' object has no attribute 'find'\n"
     ]
    },
    {
     "name": "stderr",
     "output_type": "stream",
     "text": [
      "Processing row 4900:  90%|████████▉ | 4900/5455 [1:49:13<13:13,  1.43s/it]"
     ]
    },
    {
     "name": "stdout",
     "output_type": "stream",
     "text": [
      "Exception at row 4899\n",
      "'NoneType' object has no attribute 'find'\n"
     ]
    },
    {
     "name": "stderr",
     "output_type": "stream",
     "text": [
      "Processing row 4818:  88%|████████▊ | 4818/5455 [1:49:14<25:56,  2.44s/it]"
     ]
    },
    {
     "name": "stdout",
     "output_type": "stream",
     "text": [
      "Exception at row 4781\n",
      "'NoneType' object has no attribute 'find'\n",
      "Exception at row 4817\n",
      "'NoneType' object has no attribute 'find'\n"
     ]
    },
    {
     "name": "stderr",
     "output_type": "stream",
     "text": [
      "Processing row 4901:  90%|████████▉ | 4901/5455 [1:49:14<12:51,  1.39s/it]"
     ]
    },
    {
     "name": "stdout",
     "output_type": "stream",
     "text": [
      "Exception at row 4900\n",
      "'NoneType' object has no attribute 'find'\n"
     ]
    },
    {
     "name": "stderr",
     "output_type": "stream",
     "text": [
      "Processing row 5423:  99%|█████████▉| 5423/5456 [1:49:15<01:56,  3.52s/it]"
     ]
    },
    {
     "name": "stdout",
     "output_type": "stream",
     "text": [
      "Exception at row 5422\n",
      "'NoneType' object has no attribute 'find'\n"
     ]
    },
    {
     "name": "stderr",
     "output_type": "stream",
     "text": [
      "Processing row 5424:  99%|█████████▉| 5424/5456 [1:49:15<01:21,  2.54s/it]"
     ]
    },
    {
     "name": "stdout",
     "output_type": "stream",
     "text": [
      "Exception at row 5423\n",
      "'NoneType' object has no attribute 'find'\n"
     ]
    },
    {
     "name": "stderr",
     "output_type": "stream",
     "text": [
      "Processing row 4903:  90%|████████▉ | 4902/5455 [1:49:16<13:00,  1.41s/it]"
     ]
    },
    {
     "name": "stdout",
     "output_type": "stream",
     "text": [
      "Exception at row 4901\n",
      "'NoneType' object has no attribute 'find'\n"
     ]
    },
    {
     "name": "stderr",
     "output_type": "stream",
     "text": [
      "Processing row 4819:  88%|████████▊ | 4819/5455 [1:49:17<27:38,  2.61s/it]"
     ]
    },
    {
     "name": "stdout",
     "output_type": "stream",
     "text": [
      "Exception at row 4818\n",
      "'NoneType' object has no attribute 'find'\n"
     ]
    },
    {
     "name": "stderr",
     "output_type": "stream",
     "text": [
      "Processing row 4782:  88%|████████▊ | 4783/5456 [1:49:17<38:40,  3.45s/it]"
     ]
    },
    {
     "name": "stdout",
     "output_type": "stream",
     "text": [
      "Exception at row 4819\n",
      "'NoneType' object has no attribute 'find'\n",
      "Exception at row 4782\n",
      "'NoneType' object has no attribute 'find'\n"
     ]
    },
    {
     "name": "stderr",
     "output_type": "stream",
     "text": [
      "Processing row 4904:  90%|████████▉ | 4904/5455 [1:49:17<11:34,  1.26s/it]"
     ]
    },
    {
     "name": "stdout",
     "output_type": "stream",
     "text": [
      "Exception at row 4903\n",
      "'NoneType' object has no attribute 'find'\n"
     ]
    },
    {
     "name": "stderr",
     "output_type": "stream",
     "text": [
      "Processing row 4821:  88%|████████▊ | 4821/5455 [1:49:18<15:49,  1.50s/it]"
     ]
    },
    {
     "name": "stdout",
     "output_type": "stream",
     "text": [
      "Exception at row 4783\n",
      "'NoneType' object has no attribute 'find'\n",
      "Exception at row 4820\n",
      "'NoneType' object has no attribute 'find'\n"
     ]
    },
    {
     "name": "stderr",
     "output_type": "stream",
     "text": [
      "Processing row 4905:  90%|████████▉ | 4905/5455 [1:49:18<09:57,  1.09s/it]"
     ]
    },
    {
     "name": "stdout",
     "output_type": "stream",
     "text": [
      "Exception at row 4904\n",
      "'NoneType' object has no attribute 'find'\n"
     ]
    },
    {
     "name": "stderr",
     "output_type": "stream",
     "text": [
      "Processing row 4906:  90%|████████▉ | 4906/5455 [1:49:18<07:42,  1.19it/s]"
     ]
    },
    {
     "name": "stdout",
     "output_type": "stream",
     "text": [
      "Exception at row 4905\n",
      "'NoneType' object has no attribute 'find'\n"
     ]
    },
    {
     "name": "stderr",
     "output_type": "stream",
     "text": [
      "Processing row 5425:  99%|█████████▉| 5425/5456 [1:49:19<01:28,  2.86s/it]"
     ]
    },
    {
     "name": "stdout",
     "output_type": "stream",
     "text": [
      "Exception at row 4906\n",
      "'NoneType' object has no attribute 'find'\n"
     ]
    },
    {
     "name": "stderr",
     "output_type": "stream",
     "text": [
      "Processing row 4822:  88%|████████▊ | 4822/5455 [1:49:19<15:51,  1.50s/it]"
     ]
    },
    {
     "name": "stdout",
     "output_type": "stream",
     "text": [
      "Exception at row 5425\n",
      "'NoneType' object has no attribute 'find'\n"
     ]
    },
    {
     "name": "stderr",
     "output_type": "stream",
     "text": [
      "Processing row 4787:  88%|████████▊ | 4786/5456 [1:49:20<24:10,  2.17s/it]"
     ]
    },
    {
     "name": "stdout",
     "output_type": "stream",
     "text": [
      "Exception at row 4907\n",
      "'NoneType' object has no attribute 'find'\n"
     ]
    },
    {
     "name": "stderr",
     "output_type": "stream",
     "text": [
      "Processing row 5428:  99%|█████████▉| 5427/5456 [1:49:21<00:54,  1.89s/it]"
     ]
    },
    {
     "name": "stdout",
     "output_type": "stream",
     "text": [
      "Exception at row 5426\n",
      "'NoneType' object has no attribute 'find'\n"
     ]
    },
    {
     "name": "stderr",
     "output_type": "stream",
     "text": [
      "Processing row 5429: 100%|█████████▉| 5429/5456 [1:49:21<00:37,  1.37s/it]"
     ]
    },
    {
     "name": "stdout",
     "output_type": "stream",
     "text": [
      "Exception at row 5428\n",
      "'NoneType' object has no attribute 'find'\n"
     ]
    },
    {
     "name": "stderr",
     "output_type": "stream",
     "text": [
      "Processing row 4788:  88%|████████▊ | 4788/5456 [1:49:22<19:25,  1.74s/it]"
     ]
    },
    {
     "name": "stdout",
     "output_type": "stream",
     "text": [
      "Exception at row 4787\n",
      "'NoneType' object has no attribute 'find'\n"
     ]
    },
    {
     "name": "stderr",
     "output_type": "stream",
     "text": [
      "Processing row 5430: 100%|█████████▉| 5430/5456 [1:49:22<00:37,  1.44s/it]"
     ]
    },
    {
     "name": "stdout",
     "output_type": "stream",
     "text": [
      "Exception at row 5429\n",
      "'NoneType' object has no attribute 'find'\n"
     ]
    },
    {
     "name": "stderr",
     "output_type": "stream",
     "text": [
      "Processing row 5433: 100%|█████████▉| 5432/5456 [1:49:23<00:19,  1.21it/s]"
     ]
    },
    {
     "name": "stdout",
     "output_type": "stream",
     "text": [
      "Exception at row 5430Exception at row 4908\n",
      "'NoneType' object has no attribute 'find'\n",
      "'NoneType' object has no attribute 'find'\n",
      "\n",
      "Exception at row 4822\n",
      "'NoneType' object has no attribute 'find'\n"
     ]
    },
    {
     "name": "stderr",
     "output_type": "stream",
     "text": [
      "Processing row 5434: 100%|█████████▉| 5434/5456 [1:49:23<00:13,  1.60it/s]"
     ]
    },
    {
     "name": "stdout",
     "output_type": "stream",
     "text": [
      "Exception at row 4823Exception at row 5433\n",
      "'NoneType' object has no attribute 'find'\n",
      "\n",
      "'NoneType' object has no attribute 'find'\n"
     ]
    },
    {
     "name": "stderr",
     "output_type": "stream",
     "text": [
      "Processing row 4825:  88%|████████▊ | 4825/5455 [1:49:23<12:34,  1.20s/it]"
     ]
    },
    {
     "name": "stdout",
     "output_type": "stream",
     "text": [
      "Exception at row 4824\n",
      "'NoneType' object has no attribute 'find'\n"
     ]
    },
    {
     "name": "stderr",
     "output_type": "stream",
     "text": [
      "Processing row 4789:  88%|████████▊ | 4789/5456 [1:49:24<21:31,  1.94s/it]"
     ]
    },
    {
     "name": "stdout",
     "output_type": "stream",
     "text": [
      "Exception at row 4788\n",
      "'NoneType' object has no attribute 'find'\n"
     ]
    },
    {
     "name": "stderr",
     "output_type": "stream",
     "text": [
      "Processing row 4910:  90%|█████████ | 4910/5455 [1:49:26<17:13,  1.90s/it]"
     ]
    },
    {
     "name": "stdout",
     "output_type": "stream",
     "text": [
      "Exception at row 4789\n",
      "'NoneType' object has no attribute 'find'\n",
      "Exception at row 4909\n",
      "'NoneType' object has no attribute 'find'\n"
     ]
    },
    {
     "name": "stderr",
     "output_type": "stream",
     "text": [
      "Processing row 4911:  90%|█████████ | 4911/5455 [1:49:26<13:05,  1.44s/it]"
     ]
    },
    {
     "name": "stdout",
     "output_type": "stream",
     "text": [
      "Exception at row 4910\n",
      "'NoneType' object has no attribute 'find'\n"
     ]
    },
    {
     "name": "stderr",
     "output_type": "stream",
     "text": [
      "Processing row 4827:  88%|████████▊ | 4827/5455 [1:49:26<14:11,  1.36s/it]"
     ]
    },
    {
     "name": "stdout",
     "output_type": "stream",
     "text": [
      "Exception at row 4911\n",
      "'NoneType' object has no attribute 'find'\n"
     ]
    },
    {
     "name": "stderr",
     "output_type": "stream",
     "text": [
      "Processing row 4828:  89%|████████▊ | 4828/5455 [1:49:27<10:45,  1.03s/it]"
     ]
    },
    {
     "name": "stdout",
     "output_type": "stream",
     "text": [
      "Exception at row 4912\n",
      "'NoneType' object has no attribute 'find'\n",
      "Exception at row 4827\n",
      "'NoneType' object has no attribute 'find'\n"
     ]
    },
    {
     "name": "stderr",
     "output_type": "stream",
     "text": [
      "Processing row 4829:  89%|████████▊ | 4829/5455 [1:49:27<08:21,  1.25it/s]"
     ]
    },
    {
     "name": "stdout",
     "output_type": "stream",
     "text": [
      "Exception at row 4828\n",
      "'NoneType' object has no attribute 'find'\n"
     ]
    },
    {
     "name": "stderr",
     "output_type": "stream",
     "text": [
      "Processing row 4830:  89%|████████▊ | 4830/5455 [1:49:28<09:45,  1.07it/s]"
     ]
    },
    {
     "name": "stdout",
     "output_type": "stream",
     "text": [
      "Exception at row 4829\n",
      "'NoneType' object has no attribute 'find'\n"
     ]
    },
    {
     "name": "stderr",
     "output_type": "stream",
     "text": [
      "Processing row 4791:  88%|████████▊ | 4791/5456 [1:49:29<24:18,  2.19s/it]"
     ]
    },
    {
     "name": "stdout",
     "output_type": "stream",
     "text": [
      "Exception at row 4830\n",
      "'NoneType' object has no attribute 'find'\n",
      "Exception at row 4790\n",
      "'NoneType' object has no attribute 'find'\n"
     ]
    },
    {
     "name": "stderr",
     "output_type": "stream",
     "text": [
      "Processing row 4794:  88%|████████▊ | 4794/5456 [1:49:29<12:53,  1.17s/it]"
     ]
    },
    {
     "name": "stdout",
     "output_type": "stream",
     "text": [
      "Exception at row 4791Exception at row 4831\n",
      "\n",
      "'NoneType' object has no attribute 'find'\n",
      "'NoneType' object has no attribute 'find'\n",
      "Exception at row 5437\n",
      "'NoneType' object has no attribute 'find'\n"
     ]
    },
    {
     "name": "stderr",
     "output_type": "stream",
     "text": [
      "Processing row 4917:  90%|█████████ | 4917/5455 [1:49:29<07:07,  1.26it/s]"
     ]
    },
    {
     "name": "stdout",
     "output_type": "stream",
     "text": [
      "Exception at row 4916\n",
      "'NoneType' object has no attribute 'find'\n"
     ]
    },
    {
     "name": "stderr",
     "output_type": "stream",
     "text": [
      "Processing row 4797:  88%|████████▊ | 4795/5456 [1:49:30<10:15,  1.07it/s]"
     ]
    },
    {
     "name": "stdout",
     "output_type": "stream",
     "text": [
      "Exception at row 4794\n",
      "'NoneType' object has no attribute 'find'\n"
     ]
    },
    {
     "name": "stderr",
     "output_type": "stream",
     "text": [
      "Processing row 4798:  88%|████████▊ | 4798/5456 [1:49:30<07:26,  1.47it/s]"
     ]
    },
    {
     "name": "stdout",
     "output_type": "stream",
     "text": [
      "Exception at row 4797\n",
      "'NoneType' object has no attribute 'find'\n"
     ]
    },
    {
     "name": "stderr",
     "output_type": "stream",
     "text": [
      "Processing row 4833:  89%|████████▊ | 4833/5455 [1:49:31<12:05,  1.17s/it]"
     ]
    },
    {
     "name": "stdout",
     "output_type": "stream",
     "text": [
      "Exception at row 4798\n",
      "'NoneType' object has no attribute 'find'\n",
      "Exception at row 4832\n",
      "'NoneType' object has no attribute 'find'\n"
     ]
    },
    {
     "name": "stderr",
     "output_type": "stream",
     "text": [
      "Processing row 4834:  89%|████████▊ | 4834/5455 [1:49:32<09:15,  1.12it/s]"
     ]
    },
    {
     "name": "stdout",
     "output_type": "stream",
     "text": [
      "Exception at row 5438\n",
      "'NoneType' object has no attribute 'find'\n",
      "Exception at row 4833\n",
      "'NoneType' object has no attribute 'find'\n"
     ]
    },
    {
     "name": "stderr",
     "output_type": "stream",
     "text": [
      "Processing row 5441: 100%|█████████▉| 5441/5456 [1:49:32<00:17,  1.16s/it]"
     ]
    },
    {
     "name": "stdout",
     "output_type": "stream",
     "text": [
      "Exception at row 5440\n",
      "'NoneType' object has no attribute 'find'\n"
     ]
    },
    {
     "name": "stderr",
     "output_type": "stream",
     "text": [
      "Processing row 5443: 100%|█████████▉| 5442/5456 [1:49:32<00:12,  1.12it/s]"
     ]
    },
    {
     "name": "stdout",
     "output_type": "stream",
     "text": [
      "Exception at row 5441\n",
      "'NoneType' object has no attribute 'find'\n"
     ]
    },
    {
     "name": "stderr",
     "output_type": "stream",
     "text": [
      "Processing row 4918:  90%|█████████ | 4918/5455 [1:49:33<14:10,  1.58s/it]"
     ]
    },
    {
     "name": "stdout",
     "output_type": "stream",
     "text": [
      "Exception at row 4917\n",
      "'NoneType' object has no attribute 'find'\n"
     ]
    },
    {
     "name": "stderr",
     "output_type": "stream",
     "text": [
      "Processing row 4919:  90%|█████████ | 4919/5455 [1:49:33<10:36,  1.19s/it]"
     ]
    },
    {
     "name": "stdout",
     "output_type": "stream",
     "text": [
      "Exception at row 4918\n",
      "'NoneType' object has no attribute 'find'\n"
     ]
    },
    {
     "name": "stderr",
     "output_type": "stream",
     "text": [
      "Processing row 4920:  90%|█████████ | 4920/5455 [1:49:33<08:32,  1.04it/s]"
     ]
    },
    {
     "name": "stdout",
     "output_type": "stream",
     "text": [
      "Exception at row 4834\n",
      "'NoneType' object has no attribute 'find'\n",
      "Exception at row 4919\n",
      "'NoneType' object has no attribute 'find'\n"
     ]
    },
    {
     "name": "stderr",
     "output_type": "stream",
     "text": [
      "Processing row 4801:  88%|████████▊ | 4801/5456 [1:49:34<10:57,  1.00s/it]"
     ]
    },
    {
     "name": "stdout",
     "output_type": "stream",
     "text": [
      "Exception at row 4835\n",
      "'NoneType' object has no attribute 'find'\n"
     ]
    },
    {
     "name": "stderr",
     "output_type": "stream",
     "text": [
      "Processing row 5444: 100%|█████████▉| 5444/5456 [1:49:34<00:11,  1.04it/s]"
     ]
    },
    {
     "name": "stdout",
     "output_type": "stream",
     "text": [
      "Exception at row 5443\n",
      "'NoneType' object has no attribute 'find'\n"
     ]
    },
    {
     "name": "stderr",
     "output_type": "stream",
     "text": [
      "Processing row 4838:  89%|████████▊ | 4838/5455 [1:49:35<07:53,  1.30it/s]"
     ]
    },
    {
     "name": "stdout",
     "output_type": "stream",
     "text": [
      "Exception at row 4837\n",
      "'NoneType' object has no attribute 'find'\n"
     ]
    },
    {
     "name": "stderr",
     "output_type": "stream",
     "text": [
      "Processing row 4839:  89%|████████▊ | 4839/5455 [1:49:35<06:19,  1.62it/s]"
     ]
    },
    {
     "name": "stdout",
     "output_type": "stream",
     "text": [
      "Exception at row 4838\n",
      "'NoneType' object has no attribute 'find'\n"
     ]
    },
    {
     "name": "stderr",
     "output_type": "stream",
     "text": [
      "Processing row 4921:  90%|█████████ | 4921/5455 [1:49:36<12:03,  1.35s/it]"
     ]
    },
    {
     "name": "stdout",
     "output_type": "stream",
     "text": [
      "Exception at row 4839\n",
      "'NoneType' object has no attribute 'find'\n"
     ]
    },
    {
     "name": "stderr",
     "output_type": "stream",
     "text": [
      "Processing row 4922:  90%|█████████ | 4922/5455 [1:49:36<09:08,  1.03s/it]"
     ]
    },
    {
     "name": "stdout",
     "output_type": "stream",
     "text": [
      "Exception at row 4801\n",
      "'NoneType' object has no attribute 'find'\n",
      "Exception at row 4840\n",
      "'NoneType' object has no attribute 'find'\n",
      "Exception at row 4921\n",
      "'NoneType' object has no attribute 'find'\n"
     ]
    },
    {
     "name": "stderr",
     "output_type": "stream",
     "text": [
      "Processing row 4923:  90%|█████████ | 4923/5455 [1:49:36<07:05,  1.25it/s]"
     ]
    },
    {
     "name": "stdout",
     "output_type": "stream",
     "text": [
      "Exception at row 4802\n",
      "'NoneType' object has no attribute 'find'\n",
      "Exception at row 4922\n",
      "'NoneType' object has no attribute 'find'\n"
     ]
    },
    {
     "name": "stderr",
     "output_type": "stream",
     "text": [
      "Processing row 4925:  90%|█████████ | 4924/5455 [1:49:37<05:39,  1.56it/s]"
     ]
    },
    {
     "name": "stdout",
     "output_type": "stream",
     "text": [
      "Exception at row 4803\n",
      "'NoneType' object has no attribute 'find'\n",
      "Exception at row 4923\n",
      "'NoneType' object has no attribute 'find'\n"
     ]
    },
    {
     "name": "stderr",
     "output_type": "stream",
     "text": [
      "Processing row 4927:  90%|█████████ | 4926/5455 [1:49:37<04:17,  2.05it/s]"
     ]
    },
    {
     "name": "stdout",
     "output_type": "stream",
     "text": [
      "Exception at row 4804\n",
      "'NoneType' object has no attribute 'find'\n",
      "Exception at row 4925\n",
      "'NoneType' object has no attribute 'find'\n"
     ]
    },
    {
     "name": "stderr",
     "output_type": "stream",
     "text": [
      "Processing row 4929:  90%|█████████ | 4928/5455 [1:49:37<03:32,  2.48it/s]"
     ]
    },
    {
     "name": "stdout",
     "output_type": "stream",
     "text": [
      "Exception at row 4927\n",
      "'NoneType' object has no attribute 'find'\n"
     ]
    },
    {
     "name": "stderr",
     "output_type": "stream",
     "text": [
      "Processing row 4930:  90%|█████████ | 4930/5455 [1:49:37<02:48,  3.11it/s]"
     ]
    },
    {
     "name": "stdout",
     "output_type": "stream",
     "text": [
      "Exception at row 4929\n",
      "'NoneType' object has no attribute 'find'\n"
     ]
    },
    {
     "name": "stderr",
     "output_type": "stream",
     "text": [
      "Processing row 5445: 100%|█████████▉| 5445/5456 [1:49:38<00:18,  1.69s/it]"
     ]
    },
    {
     "name": "stdout",
     "output_type": "stream",
     "text": [
      "Exception at row 4930\n",
      "'NoneType' object has no attribute 'find'\n",
      "Exception at row 4842\n",
      "'NoneType' object has no attribute 'find'\n",
      "Exception at row 5444\n",
      "'NoneType' object has no attribute 'find'\n"
     ]
    },
    {
     "name": "stderr",
     "output_type": "stream",
     "text": [
      "Processing row 4807:  88%|████████▊ | 4806/5456 [1:49:38<09:39,  1.12it/s]"
     ]
    },
    {
     "name": "stdout",
     "output_type": "stream",
     "text": [
      "Exception at row 4931\n",
      "'NoneType' object has no attribute 'find'\n",
      "Exception at row 4843\n",
      "Exception at row 5445'NoneType' object has no attribute 'find'\n",
      "'NoneType' object has no attribute 'find'\n",
      "\n"
     ]
    },
    {
     "name": "stderr",
     "output_type": "stream",
     "text": [
      "Processing row 5447: 100%|█████████▉| 5447/5456 [1:49:38<00:08,  1.01it/s]"
     ]
    },
    {
     "name": "stdout",
     "output_type": "stream",
     "text": [
      "Exception at row 4933\n",
      "'NoneType' object has no attribute 'find'\n",
      "Exception at row 5446\n",
      "'NoneType' object has no attribute 'find'\n"
     ]
    },
    {
     "name": "stderr",
     "output_type": "stream",
     "text": [
      "Processing row 5450: 100%|█████████▉| 5448/5456 [1:49:39<00:06,  1.29it/s]"
     ]
    },
    {
     "name": "stdout",
     "output_type": "stream",
     "text": [
      "Exception at row 4934\n",
      "'NoneType' object has no attribute 'find'\n",
      "Exception at row 5447\n",
      "'NoneType' object has no attribute 'find'\n"
     ]
    },
    {
     "name": "stderr",
     "output_type": "stream",
     "text": [
      "Processing row 5451: 100%|█████████▉| 5451/5456 [1:49:39<00:02,  1.76it/s]"
     ]
    },
    {
     "name": "stdout",
     "output_type": "stream",
     "text": [
      "Exception at row 5450\n",
      "'NoneType' object has no attribute 'find'\n"
     ]
    },
    {
     "name": "stderr",
     "output_type": "stream",
     "text": [
      "Processing row 5453: 100%|█████████▉| 5452/5456 [1:49:39<00:01,  2.10it/s]"
     ]
    },
    {
     "name": "stdout",
     "output_type": "stream",
     "text": [
      "Exception at row 5451\n",
      "'NoneType' object has no attribute 'find'\n"
     ]
    },
    {
     "name": "stderr",
     "output_type": "stream",
     "text": [
      "Processing row 5455: 100%|█████████▉| 5454/5456 [1:49:40<00:00,  2.68it/s]"
     ]
    },
    {
     "name": "stdout",
     "output_type": "stream",
     "text": [
      "Exception at row 5453\n",
      "'NoneType' object has no attribute 'find'\n"
     ]
    },
    {
     "name": "stderr",
     "output_type": "stream",
     "text": [
      "Processing row 4846:  89%|████████▉ | 4846/5455 [1:49:40<07:25,  1.37it/s]"
     ]
    },
    {
     "name": "stdout",
     "output_type": "stream",
     "text": [
      "Exception at row 4845\n",
      "'NoneType' object has no attribute 'find'\n"
     ]
    },
    {
     "name": "stderr",
     "output_type": "stream",
     "text": [
      "Processing row 4848:  89%|████████▉ | 4847/5455 [1:49:40<05:58,  1.69it/s]"
     ]
    },
    {
     "name": "stdout",
     "output_type": "stream",
     "text": [
      "Exception at row 4846\n",
      "'NoneType' object has no attribute 'find'\n"
     ]
    },
    {
     "name": "stderr",
     "output_type": "stream",
     "text": [
      "Processing row 4808:  88%|████████▊ | 4808/5456 [1:49:41<10:44,  1.01it/s]"
     ]
    },
    {
     "name": "stdout",
     "output_type": "stream",
     "text": [
      "Exception at row 4807\n",
      "'NoneType' object has no attribute 'find'\n"
     ]
    },
    {
     "name": "stderr",
     "output_type": "stream",
     "text": [
      "Processing row 4809:  88%|████████▊ | 4809/5456 [1:49:41<08:21,  1.29it/s]"
     ]
    },
    {
     "name": "stdout",
     "output_type": "stream",
     "text": [
      "Exception at row 4808\n",
      "'NoneType' object has no attribute 'find'\n"
     ]
    },
    {
     "name": "stderr",
     "output_type": "stream",
     "text": [
      "Processing row 4810:  88%|████████▊ | 4810/5456 [1:49:41<06:41,  1.61it/s]"
     ]
    },
    {
     "name": "stdout",
     "output_type": "stream",
     "text": [
      "Exception at row 4809\n",
      "'NoneType' object has no attribute 'find'\n"
     ]
    },
    {
     "name": "stderr",
     "output_type": "stream",
     "text": [
      "Processing row 4811:  88%|████████▊ | 4811/5456 [1:49:41<05:32,  1.94it/s]"
     ]
    },
    {
     "name": "stdout",
     "output_type": "stream",
     "text": [
      "Exception at row 4810\n",
      "'NoneType' object has no attribute 'find'\n"
     ]
    },
    {
     "name": "stderr",
     "output_type": "stream",
     "text": [
      "Processing row 5455: 100%|██████████| 5456/5456 [1:49:42<00:00,  1.21s/it]"
     ]
    },
    {
     "name": "stdout",
     "output_type": "stream",
     "text": [
      "Exception at row 4811\n",
      "'NoneType' object has no attribute 'find'\n",
      "Exception at row 5455\n",
      "'NoneType' object has no attribute 'find'\n"
     ]
    },
    {
     "name": "stderr",
     "output_type": "stream",
     "text": [
      "\n",
      "Processing row 4849:  89%|████████▉ | 4849/5455 [1:49:42<06:40,  1.51it/s]"
     ]
    },
    {
     "name": "stdout",
     "output_type": "stream",
     "text": [
      "Exception at row 4812\n",
      "'NoneType' object has no attribute 'find'\n"
     ]
    },
    {
     "name": "stderr",
     "output_type": "stream",
     "text": [
      "Processing row 4850:  89%|████████▉ | 4850/5455 [1:49:42<05:28,  1.84it/s]"
     ]
    },
    {
     "name": "stdout",
     "output_type": "stream",
     "text": [
      "Exception at row 4813\n",
      "'NoneType' object has no attribute 'find'\n",
      "Exception at row 4849\n",
      "'NoneType' object has no attribute 'find'\n"
     ]
    },
    {
     "name": "stderr",
     "output_type": "stream",
     "text": [
      "Processing row 4816:  88%|████████▊ | 4815/5456 [1:49:43<03:39,  2.92it/s]"
     ]
    },
    {
     "name": "stdout",
     "output_type": "stream",
     "text": [
      "Exception at row 4814\n",
      "'NoneType' object has no attribute 'find'\n"
     ]
    },
    {
     "name": "stderr",
     "output_type": "stream",
     "text": [
      "Processing row 4937:  91%|█████████ | 4937/5455 [1:49:45<10:05,  1.17s/it]"
     ]
    },
    {
     "name": "stdout",
     "output_type": "stream",
     "text": [
      "Exception at row 4936\n",
      "'NoneType' object has no attribute 'find'\n"
     ]
    },
    {
     "name": "stderr",
     "output_type": "stream",
     "text": [
      "Processing row 4851:  89%|████████▉ | 4851/5455 [1:49:46<13:50,  1.38s/it]"
     ]
    },
    {
     "name": "stdout",
     "output_type": "stream",
     "text": [
      "Exception at row 4937\n",
      "'NoneType' object has no attribute 'find'\n",
      "Exception at row 4850\n",
      "'NoneType' object has no attribute 'find'\n"
     ]
    },
    {
     "name": "stderr",
     "output_type": "stream",
     "text": [
      "Processing row 4818:  88%|████████▊ | 4817/5456 [1:49:46<08:06,  1.31it/s]"
     ]
    },
    {
     "name": "stdout",
     "output_type": "stream",
     "text": [
      "Exception at row 4851\n",
      "'NoneType' object has no attribute 'find'\n",
      "Exception at row 4816\n",
      "'NoneType' object has no attribute 'find'\n"
     ]
    },
    {
     "name": "stderr",
     "output_type": "stream",
     "text": [
      "Processing row 4819:  88%|████████▊ | 4819/5456 [1:49:46<06:06,  1.74it/s]"
     ]
    },
    {
     "name": "stdout",
     "output_type": "stream",
     "text": [
      "Exception at row 4852\n",
      "'NoneType' object has no attribute 'find'\n",
      "Exception at row 4818\n",
      "'NoneType' object has no attribute 'find'\n"
     ]
    },
    {
     "name": "stderr",
     "output_type": "stream",
     "text": [
      "Processing row 4820:  88%|████████▊ | 4820/5456 [1:49:47<05:05,  2.08it/s]"
     ]
    },
    {
     "name": "stdout",
     "output_type": "stream",
     "text": [
      "Exception at row 4853\n",
      "'NoneType' object has no attribute 'find'\n",
      "Exception at row 4819\n",
      "'NoneType' object has no attribute 'find'\n"
     ]
    },
    {
     "name": "stderr",
     "output_type": "stream",
     "text": [
      "Processing row 4821:  88%|████████▊ | 4821/5456 [1:49:47<04:26,  2.38it/s]"
     ]
    },
    {
     "name": "stdout",
     "output_type": "stream",
     "text": [
      "Exception at row 4854\n",
      "'NoneType' object has no attribute 'find'\n",
      "Exception at row 4820\n",
      "'NoneType' object has no attribute 'find'\n"
     ]
    },
    {
     "name": "stderr",
     "output_type": "stream",
     "text": [
      "Processing row 4822:  88%|████████▊ | 4822/5456 [1:49:47<03:59,  2.65it/s]"
     ]
    },
    {
     "name": "stdout",
     "output_type": "stream",
     "text": [
      "Exception at row 4855\n",
      "'NoneType' object has no attribute 'find'\n",
      "Exception at row 4821\n",
      "'NoneType' object has no attribute 'find'\n"
     ]
    },
    {
     "name": "stderr",
     "output_type": "stream",
     "text": [
      "Processing row 4823:  88%|████████▊ | 4823/5456 [1:49:47<03:37,  2.91it/s]"
     ]
    },
    {
     "name": "stdout",
     "output_type": "stream",
     "text": [
      "Exception at row 4856\n",
      "'NoneType' object has no attribute 'find'\n",
      "Exception at row 4822\n",
      "'NoneType' object has no attribute 'find'\n"
     ]
    },
    {
     "name": "stderr",
     "output_type": "stream",
     "text": [
      "Processing row 4824:  88%|████████▊ | 4824/5456 [1:49:48<03:20,  3.15it/s]"
     ]
    },
    {
     "name": "stdout",
     "output_type": "stream",
     "text": [
      "Exception at row 4857\n",
      "'NoneType' object has no attribute 'find'\n",
      "Exception at row 4823\n",
      "'NoneType' object has no attribute 'find'\n"
     ]
    },
    {
     "name": "stderr",
     "output_type": "stream",
     "text": [
      "Processing row 4826:  88%|████████▊ | 4825/5456 [1:49:48<03:14,  3.25it/s]"
     ]
    },
    {
     "name": "stdout",
     "output_type": "stream",
     "text": [
      "Exception at row 4938\n",
      "'NoneType' object has no attribute 'find'\n",
      "Exception at row 4858Exception at row 4824\n",
      "'NoneType' object has no attribute 'find'\n",
      "\n",
      "'NoneType' object has no attribute 'find'\n"
     ]
    },
    {
     "name": "stderr",
     "output_type": "stream",
     "text": [
      "Processing row 4827:  88%|████████▊ | 4827/5456 [1:49:48<02:41,  3.89it/s]"
     ]
    },
    {
     "name": "stdout",
     "output_type": "stream",
     "text": [
      "Exception at row 4939\n",
      "'NoneType' object has no attribute 'find'\n",
      "Exception at row 4859\n",
      "'NoneType' object has no attribute 'find'\n",
      "Exception at row 4826\n",
      "'NoneType' object has no attribute 'find'\n"
     ]
    },
    {
     "name": "stderr",
     "output_type": "stream",
     "text": [
      "Processing row 4828:  88%|████████▊ | 4828/5456 [1:49:49<02:42,  3.85it/s]"
     ]
    },
    {
     "name": "stdout",
     "output_type": "stream",
     "text": [
      "Exception at row 4940\n",
      "'NoneType' object has no attribute 'find'\n",
      "Exception at row 4860\n",
      "'NoneType' object has no attribute 'find'\n",
      "Exception at row 4827\n",
      "'NoneType' object has no attribute 'find'\n"
     ]
    },
    {
     "name": "stderr",
     "output_type": "stream",
     "text": [
      "Processing row 4829:  89%|████████▊ | 4829/5456 [1:49:49<02:44,  3.81it/s]"
     ]
    },
    {
     "name": "stdout",
     "output_type": "stream",
     "text": [
      "Exception at row 4941\n",
      "'NoneType' object has no attribute 'find'\n",
      "Exception at row 4861\n",
      "'NoneType' object has no attribute 'find'\n",
      "Exception at row 4828\n",
      "'NoneType' object has no attribute 'find'\n"
     ]
    },
    {
     "name": "stderr",
     "output_type": "stream",
     "text": [
      "Processing row 4830:  89%|████████▊ | 4830/5456 [1:49:49<02:44,  3.81it/s]"
     ]
    },
    {
     "name": "stdout",
     "output_type": "stream",
     "text": [
      "Exception at row 4942\n",
      "'NoneType' object has no attribute 'find'\n",
      "Exception at row 4862\n",
      "'NoneType' object has no attribute 'find'\n",
      "Exception at row 4829\n",
      "'NoneType' object has no attribute 'find'\n"
     ]
    },
    {
     "name": "stderr",
     "output_type": "stream",
     "text": [
      "Processing row 4945:  91%|█████████ | 4945/5455 [1:49:49<03:28,  2.45it/s]"
     ]
    },
    {
     "name": "stdout",
     "output_type": "stream",
     "text": [
      "Exception at row 4944\n",
      "'NoneType' object has no attribute 'find'\n"
     ]
    },
    {
     "name": "stderr",
     "output_type": "stream",
     "text": [
      "Processing row 4946:  91%|█████████ | 4946/5455 [1:49:50<03:05,  2.75it/s]"
     ]
    },
    {
     "name": "stdout",
     "output_type": "stream",
     "text": [
      "Exception at row 4945\n",
      "'NoneType' object has no attribute 'find'\n"
     ]
    },
    {
     "name": "stderr",
     "output_type": "stream",
     "text": [
      "Processing row 4948:  91%|█████████ | 4947/5455 [1:49:50<02:49,  3.00it/s]"
     ]
    },
    {
     "name": "stdout",
     "output_type": "stream",
     "text": [
      "Exception at row 4946\n",
      "'NoneType' object has no attribute 'find'\n"
     ]
    },
    {
     "name": "stderr",
     "output_type": "stream",
     "text": [
      "Processing row 4949:  91%|█████████ | 4949/5455 [1:49:50<02:17,  3.67it/s]"
     ]
    },
    {
     "name": "stdout",
     "output_type": "stream",
     "text": [
      "Exception at row 4948\n",
      "'NoneType' object has no attribute 'find'\n"
     ]
    },
    {
     "name": "stderr",
     "output_type": "stream",
     "text": [
      "Processing row 4951:  91%|█████████ | 4950/5455 [1:49:50<02:15,  3.73it/s]"
     ]
    },
    {
     "name": "stdout",
     "output_type": "stream",
     "text": [
      "Exception at row 4949\n",
      "'NoneType' object has no attribute 'find'\n"
     ]
    },
    {
     "name": "stderr",
     "output_type": "stream",
     "text": [
      "Processing row 4864:  89%|████████▉ | 4864/5455 [1:49:51<06:20,  1.55it/s]"
     ]
    },
    {
     "name": "stdout",
     "output_type": "stream",
     "text": [
      "Exception at row 4951\n",
      "'NoneType' object has no attribute 'find'\n"
     ]
    },
    {
     "name": "stderr",
     "output_type": "stream",
     "text": [
      "Processing row 4955:  91%|█████████ | 4953/5455 [1:49:51<02:02,  4.11it/s]"
     ]
    },
    {
     "name": "stdout",
     "output_type": "stream",
     "text": [
      "Exception at row 4864\n",
      "'NoneType' object has no attribute 'find'\n",
      "Exception at row 4952\n",
      "'NoneType' object has no attribute 'find'\n"
     ]
    },
    {
     "name": "stderr",
     "output_type": "stream",
     "text": [
      "Processing row 4956:  91%|█████████ | 4956/5455 [1:49:51<01:38,  5.05it/s]"
     ]
    },
    {
     "name": "stdout",
     "output_type": "stream",
     "text": [
      "Exception at row 4865\n",
      "'NoneType' object has no attribute 'find'\n",
      "Exception at row 4955\n",
      "'NoneType' object has no attribute 'find'\n"
     ]
    },
    {
     "name": "stderr",
     "output_type": "stream",
     "text": [
      "Processing row 4958:  91%|█████████ | 4957/5455 [1:49:51<01:53,  4.41it/s]"
     ]
    },
    {
     "name": "stdout",
     "output_type": "stream",
     "text": [
      "Exception at row 4830\n",
      "'NoneType' object has no attribute 'find'\n",
      "Exception at row 4956\n",
      "'NoneType' object has no attribute 'find'\n"
     ]
    },
    {
     "name": "stderr",
     "output_type": "stream",
     "text": [
      "Processing row 4959:  91%|█████████ | 4959/5455 [1:49:52<01:38,  5.06it/s]"
     ]
    },
    {
     "name": "stdout",
     "output_type": "stream",
     "text": [
      "Exception at row 4832\n",
      "'NoneType' object has no attribute 'find'\n",
      "Exception at row 4958\n",
      "'NoneType' object has no attribute 'find'\n"
     ]
    },
    {
     "name": "stderr",
     "output_type": "stream",
     "text": [
      "Processing row 4960:  91%|█████████ | 4960/5455 [1:49:52<01:47,  4.60it/s]"
     ]
    },
    {
     "name": "stdout",
     "output_type": "stream",
     "text": [
      "Exception at row 4866\n",
      "'NoneType' object has no attribute 'find'\n",
      "Exception at row 4833\n",
      "'NoneType' object has no attribute 'find'\n",
      "Exception at row 4959\n",
      "'NoneType' object has no attribute 'find'\n"
     ]
    },
    {
     "name": "stderr",
     "output_type": "stream",
     "text": [
      "Processing row 4961:  91%|█████████ | 4961/5455 [1:49:52<01:53,  4.34it/s]"
     ]
    },
    {
     "name": "stdout",
     "output_type": "stream",
     "text": [
      "Exception at row 4867\n",
      "'NoneType' object has no attribute 'find'\n",
      "Exception at row 4834\n",
      "'NoneType' object has no attribute 'find'\n",
      "Exception at row 4960\n",
      "'NoneType' object has no attribute 'find'\n"
     ]
    },
    {
     "name": "stderr",
     "output_type": "stream",
     "text": [
      "Processing row 4962:  91%|█████████ | 4962/5455 [1:49:52<01:57,  4.18it/s]"
     ]
    },
    {
     "name": "stdout",
     "output_type": "stream",
     "text": [
      "Exception at row 4835\n",
      "'NoneType' object has no attribute 'find'\n",
      "Exception at row 4961\n",
      "'NoneType' object has no attribute 'find'\n"
     ]
    },
    {
     "name": "stderr",
     "output_type": "stream",
     "text": [
      "Processing row 4837:  89%|████████▊ | 4837/5456 [1:49:53<03:37,  2.85it/s]"
     ]
    },
    {
     "name": "stdout",
     "output_type": "stream",
     "text": [
      "Exception at row 4836\n",
      "'NoneType' object has no attribute 'find'\n"
     ]
    },
    {
     "name": "stderr",
     "output_type": "stream",
     "text": [
      "Processing row 4838:  89%|████████▊ | 4838/5456 [1:49:53<03:19,  3.10it/s]"
     ]
    },
    {
     "name": "stdout",
     "output_type": "stream",
     "text": [
      "Exception at row 4837\n",
      "'NoneType' object has no attribute 'find'\n"
     ]
    },
    {
     "name": "stderr",
     "output_type": "stream",
     "text": [
      "Processing row 4839:  89%|████████▊ | 4839/5456 [1:49:53<03:07,  3.29it/s]"
     ]
    },
    {
     "name": "stdout",
     "output_type": "stream",
     "text": [
      "Exception at row 4838\n",
      "'NoneType' object has no attribute 'find'\n"
     ]
    },
    {
     "name": "stderr",
     "output_type": "stream",
     "text": [
      "Processing row 4869:  89%|████████▉ | 4869/5455 [1:49:53<07:17,  1.34it/s]"
     ]
    },
    {
     "name": "stdout",
     "output_type": "stream",
     "text": [
      "Exception at row 4839\n",
      "'NoneType' object has no attribute 'find'\n"
     ]
    },
    {
     "name": "stderr",
     "output_type": "stream",
     "text": [
      "Processing row 4870:  89%|████████▉ | 4870/5455 [1:49:54<05:53,  1.65it/s]"
     ]
    },
    {
     "name": "stdout",
     "output_type": "stream",
     "text": [
      "Exception at row 4840\n",
      "'NoneType' object has no attribute 'find'\n",
      "Exception at row 4869\n",
      "'NoneType' object has no attribute 'find'\n"
     ]
    },
    {
     "name": "stderr",
     "output_type": "stream",
     "text": [
      "Processing row 4872:  89%|████████▉ | 4871/5455 [1:49:54<04:54,  1.98it/s]"
     ]
    },
    {
     "name": "stdout",
     "output_type": "stream",
     "text": [
      "Exception at row 4841\n",
      "'NoneType' object has no attribute 'find'\n",
      "Exception at row 4870\n",
      "'NoneType' object has no attribute 'find'\n"
     ]
    },
    {
     "name": "stderr",
     "output_type": "stream",
     "text": [
      "Processing row 4873:  89%|████████▉ | 4873/5455 [1:49:54<03:48,  2.55it/s]"
     ]
    },
    {
     "name": "stdout",
     "output_type": "stream",
     "text": [
      "Exception at row 4872\n",
      "'NoneType' object has no attribute 'find'\n"
     ]
    },
    {
     "name": "stderr",
     "output_type": "stream",
     "text": [
      "Processing row 4874:  89%|████████▉ | 4874/5455 [1:49:55<03:24,  2.84it/s]"
     ]
    },
    {
     "name": "stdout",
     "output_type": "stream",
     "text": [
      "Exception at row 4873\n",
      "'NoneType' object has no attribute 'find'\n"
     ]
    },
    {
     "name": "stderr",
     "output_type": "stream",
     "text": [
      "Processing row 4963:  91%|█████████ | 4963/5455 [1:49:55<07:22,  1.11it/s]"
     ]
    },
    {
     "name": "stdout",
     "output_type": "stream",
     "text": [
      "Exception at row 4874\n",
      "'NoneType' object has no attribute 'find'\n"
     ]
    },
    {
     "name": "stderr",
     "output_type": "stream",
     "text": [
      "Processing row 4964:  91%|█████████ | 4964/5455 [1:49:55<05:47,  1.41it/s]"
     ]
    },
    {
     "name": "stdout",
     "output_type": "stream",
     "text": [
      "Exception at row 4875\n",
      "'NoneType' object has no attribute 'find'\n",
      "Exception at row 4963\n",
      "'NoneType' object has no attribute 'find'\n"
     ]
    },
    {
     "name": "stderr",
     "output_type": "stream",
     "text": [
      "Processing row 4877:  89%|████████▉ | 4877/5455 [1:49:55<03:02,  3.17it/s]"
     ]
    },
    {
     "name": "stdout",
     "output_type": "stream",
     "text": [
      "Exception at row 4964\n",
      "'NoneType' object has no attribute 'find'\n",
      "Exception at row 4876\n",
      "'NoneType' object has no attribute 'find'\n"
     ]
    },
    {
     "name": "stderr",
     "output_type": "stream",
     "text": [
      "Processing row 4878:  89%|████████▉ | 4878/5455 [1:49:56<03:23,  2.83it/s]"
     ]
    },
    {
     "name": "stdout",
     "output_type": "stream",
     "text": [
      "Exception at row 4965\n",
      "'NoneType' object has no attribute 'find'\n",
      "Exception at row 4877\n",
      "'NoneType' object has no attribute 'find'\n"
     ]
    },
    {
     "name": "stderr",
     "output_type": "stream",
     "text": [
      "Processing row 4967:  91%|█████████ | 4967/5455 [1:49:56<03:48,  2.14it/s]"
     ]
    },
    {
     "name": "stdout",
     "output_type": "stream",
     "text": [
      "Exception at row 4966\n",
      "'NoneType' object has no attribute 'find'\n"
     ]
    },
    {
     "name": "stderr",
     "output_type": "stream",
     "text": [
      "Processing row 4843:  89%|████████▉ | 4843/5456 [1:49:56<09:29,  1.08it/s]"
     ]
    },
    {
     "name": "stdout",
     "output_type": "stream",
     "text": [
      "Exception at row 4842\n",
      "'NoneType' object has no attribute 'find'\n"
     ]
    },
    {
     "name": "stderr",
     "output_type": "stream",
     "text": [
      "Processing row 4844:  89%|████████▉ | 4844/5456 [1:49:57<07:26,  1.37it/s]"
     ]
    },
    {
     "name": "stdout",
     "output_type": "stream",
     "text": [
      "Exception at row 4843\n",
      "'NoneType' object has no attribute 'find'\n"
     ]
    },
    {
     "name": "stderr",
     "output_type": "stream",
     "text": [
      "Processing row 4879:  89%|████████▉ | 4879/5455 [1:49:57<06:31,  1.47it/s]"
     ]
    },
    {
     "name": "stdout",
     "output_type": "stream",
     "text": [
      "Exception at row 4878\n",
      "'NoneType' object has no attribute 'find'\n"
     ]
    },
    {
     "name": "stderr",
     "output_type": "stream",
     "text": [
      "Processing row 4880:  89%|████████▉ | 4880/5455 [1:49:58<05:18,  1.80it/s]"
     ]
    },
    {
     "name": "stdout",
     "output_type": "stream",
     "text": [
      "Exception at row 4879\n",
      "'NoneType' object has no attribute 'find'\n"
     ]
    },
    {
     "name": "stderr",
     "output_type": "stream",
     "text": [
      "Processing row 4881:  89%|████████▉ | 4881/5455 [1:49:58<04:28,  2.13it/s]"
     ]
    },
    {
     "name": "stdout",
     "output_type": "stream",
     "text": [
      "Exception at row 4880\n",
      "'NoneType' object has no attribute 'find'\n"
     ]
    },
    {
     "name": "stderr",
     "output_type": "stream",
     "text": [
      "Processing row 4882:  89%|████████▉ | 4882/5455 [1:49:58<03:53,  2.46it/s]"
     ]
    },
    {
     "name": "stdout",
     "output_type": "stream",
     "text": [
      "Exception at row 4881\n",
      "'NoneType' object has no attribute 'find'\n"
     ]
    },
    {
     "name": "stderr",
     "output_type": "stream",
     "text": [
      "Processing row 4883:  90%|████████▉ | 4883/5455 [1:49:58<03:28,  2.75it/s]"
     ]
    },
    {
     "name": "stdout",
     "output_type": "stream",
     "text": [
      "Exception at row 4882\n",
      "'NoneType' object has no attribute 'find'\n"
     ]
    },
    {
     "name": "stderr",
     "output_type": "stream",
     "text": [
      "Processing row 4884:  90%|████████▉ | 4884/5455 [1:49:59<03:10,  2.99it/s]"
     ]
    },
    {
     "name": "stdout",
     "output_type": "stream",
     "text": [
      "Exception at row 4883\n",
      "'NoneType' object has no attribute 'find'\n"
     ]
    },
    {
     "name": "stderr",
     "output_type": "stream",
     "text": [
      "Processing row 4885:  90%|████████▉ | 4885/5455 [1:49:59<02:58,  3.19it/s]"
     ]
    },
    {
     "name": "stdout",
     "output_type": "stream",
     "text": [
      "Exception at row 4884\n",
      "'NoneType' object has no attribute 'find'\n"
     ]
    },
    {
     "name": "stderr",
     "output_type": "stream",
     "text": [
      "Processing row 4846:  89%|████████▉ | 4845/5456 [1:49:59<13:25,  1.32s/it]"
     ]
    },
    {
     "name": "stdout",
     "output_type": "stream",
     "text": [
      "Exception at row 4885\n",
      "'NoneType' object has no attribute 'find'\n"
     ]
    },
    {
     "name": "stderr",
     "output_type": "stream",
     "text": [
      "Processing row 4847:  89%|████████▉ | 4847/5456 [1:50:00<09:45,  1.04it/s]"
     ]
    },
    {
     "name": "stdout",
     "output_type": "stream",
     "text": [
      "Exception at row 4886\n",
      "'NoneType' object has no attribute 'find'\n",
      "Exception at row 4846\n",
      "'NoneType' object has no attribute 'find'\n"
     ]
    },
    {
     "name": "stderr",
     "output_type": "stream",
     "text": [
      "Processing row 4848:  89%|████████▉ | 4848/5456 [1:50:00<07:38,  1.33it/s]"
     ]
    },
    {
     "name": "stdout",
     "output_type": "stream",
     "text": [
      "Exception at row 4847\n",
      "'NoneType' object has no attribute 'find'\n"
     ]
    },
    {
     "name": "stderr",
     "output_type": "stream",
     "text": [
      "Processing row 4849:  89%|████████▉ | 4849/5456 [1:50:00<06:08,  1.65it/s]"
     ]
    },
    {
     "name": "stdout",
     "output_type": "stream",
     "text": [
      "Exception at row 4848\n",
      "'NoneType' object has no attribute 'find'\n"
     ]
    },
    {
     "name": "stderr",
     "output_type": "stream",
     "text": [
      "Processing row 4851:  89%|████████▉ | 4850/5456 [1:50:00<05:06,  1.98it/s]"
     ]
    },
    {
     "name": "stdout",
     "output_type": "stream",
     "text": [
      "Exception at row 4849\n",
      "'NoneType' object has no attribute 'find'\n"
     ]
    },
    {
     "name": "stderr",
     "output_type": "stream",
     "text": [
      "Processing row 4969:  91%|█████████ | 4969/5455 [1:50:01<11:00,  1.36s/it]"
     ]
    },
    {
     "name": "stdout",
     "output_type": "stream",
     "text": [
      "Exception at row 4851\n",
      "'NoneType' object has no attribute 'find'\n",
      "Exception at row 4968\n",
      "'NoneType' object has no attribute 'find'\n"
     ]
    },
    {
     "name": "stderr",
     "output_type": "stream",
     "text": [
      "Processing row 4970:  91%|█████████ | 4970/5455 [1:50:01<08:18,  1.03s/it]"
     ]
    },
    {
     "name": "stdout",
     "output_type": "stream",
     "text": [
      "Exception at row 4853\n",
      "'NoneType' object has no attribute 'find'\n",
      "Exception at row 4969\n",
      "'NoneType' object has no attribute 'find'\n"
     ]
    },
    {
     "name": "stderr",
     "output_type": "stream",
     "text": [
      "Processing row 4971:  91%|█████████ | 4971/5455 [1:50:01<06:37,  1.22it/s]"
     ]
    },
    {
     "name": "stdout",
     "output_type": "stream",
     "text": [
      "Exception at row 4854\n",
      "'NoneType' object has no attribute 'find'\n",
      "Exception at row 4970\n",
      "'NoneType' object has no attribute 'find'\n"
     ]
    },
    {
     "name": "stderr",
     "output_type": "stream",
     "text": [
      "Processing row 4972:  91%|█████████ | 4972/5455 [1:50:02<05:20,  1.51it/s]"
     ]
    },
    {
     "name": "stdout",
     "output_type": "stream",
     "text": [
      "Exception at row 4856\n",
      "'NoneType' object has no attribute 'find'\n",
      "Exception at row 4971\n",
      "'NoneType' object has no attribute 'find'\n"
     ]
    },
    {
     "name": "stderr",
     "output_type": "stream",
     "text": [
      "Processing row 4973:  91%|█████████ | 4973/5455 [1:50:02<04:21,  1.84it/s]"
     ]
    },
    {
     "name": "stdout",
     "output_type": "stream",
     "text": [
      "Exception at row 4857\n",
      "'NoneType' object has no attribute 'find'\n",
      "Exception at row 4972\n",
      "'NoneType' object has no attribute 'find'\n"
     ]
    },
    {
     "name": "stderr",
     "output_type": "stream",
     "text": [
      "Processing row 4974:  91%|█████████ | 4974/5455 [1:50:02<03:42,  2.16it/s]"
     ]
    },
    {
     "name": "stdout",
     "output_type": "stream",
     "text": [
      "Exception at row 4858\n",
      "'NoneType' object has no attribute 'find'\n",
      "Exception at row 4973\n",
      "'NoneType' object has no attribute 'find'\n"
     ]
    },
    {
     "name": "stderr",
     "output_type": "stream",
     "text": [
      "Processing row 4976:  91%|█████████ | 4975/5455 [1:50:03<03:12,  2.49it/s]"
     ]
    },
    {
     "name": "stdout",
     "output_type": "stream",
     "text": [
      "Exception at row 4859\n",
      "'NoneType' object has no attribute 'find'\n",
      "Exception at row 4974\n",
      "'NoneType' object has no attribute 'find'\n"
     ]
    },
    {
     "name": "stderr",
     "output_type": "stream",
     "text": [
      "Processing row 4977:  91%|█████████ | 4977/5455 [1:50:03<02:34,  3.09it/s]"
     ]
    },
    {
     "name": "stdout",
     "output_type": "stream",
     "text": [
      "Exception at row 4860\n",
      "'NoneType' object has no attribute 'find'\n",
      "Exception at row 4976\n",
      "'NoneType' object has no attribute 'find'\n"
     ]
    },
    {
     "name": "stderr",
     "output_type": "stream",
     "text": [
      "Processing row 4978:  91%|█████████▏| 4978/5455 [1:50:03<02:26,  3.26it/s]"
     ]
    },
    {
     "name": "stdout",
     "output_type": "stream",
     "text": [
      "Exception at row 4862\n",
      "'NoneType' object has no attribute 'find'\n",
      "Exception at row 4977\n",
      "'NoneType' object has no attribute 'find'\n"
     ]
    },
    {
     "name": "stderr",
     "output_type": "stream",
     "text": [
      "Processing row 4865:  89%|████████▉ | 4864/5456 [1:50:03<02:36,  3.78it/s]"
     ]
    },
    {
     "name": "stdout",
     "output_type": "stream",
     "text": [
      "Exception at row 4978\n",
      "'NoneType' object has no attribute 'find'\n",
      "Exception at row 4863\n",
      "'NoneType' object has no attribute 'find'\n"
     ]
    },
    {
     "name": "stderr",
     "output_type": "stream",
     "text": [
      "Processing row 4866:  89%|████████▉ | 4866/5456 [1:50:04<02:11,  4.48it/s]"
     ]
    },
    {
     "name": "stdout",
     "output_type": "stream",
     "text": [
      "Exception at row 4979\n",
      "'NoneType' object has no attribute 'find'\n",
      "Exception at row 4865\n",
      "'NoneType' object has no attribute 'find'\n"
     ]
    },
    {
     "name": "stderr",
     "output_type": "stream",
     "text": [
      "Processing row 4867:  89%|████████▉ | 4867/5456 [1:50:04<02:18,  4.26it/s]"
     ]
    },
    {
     "name": "stdout",
     "output_type": "stream",
     "text": [
      "Exception at row 4980\n",
      "'NoneType' object has no attribute 'find'\n",
      "Exception at row 4866\n",
      "'NoneType' object has no attribute 'find'\n"
     ]
    },
    {
     "name": "stderr",
     "output_type": "stream",
     "text": [
      "Processing row 4868:  89%|████████▉ | 4868/5456 [1:50:04<02:22,  4.13it/s]"
     ]
    },
    {
     "name": "stdout",
     "output_type": "stream",
     "text": [
      "Exception at row 4981\n",
      "'NoneType' object has no attribute 'find'\n",
      "Exception at row 4867\n",
      "'NoneType' object has no attribute 'find'\n"
     ]
    },
    {
     "name": "stderr",
     "output_type": "stream",
     "text": [
      "Processing row 4869:  89%|████████▉ | 4869/5456 [1:50:04<02:30,  3.91it/s]"
     ]
    },
    {
     "name": "stdout",
     "output_type": "stream",
     "text": [
      "Exception at row 4983\n",
      "'NoneType' object has no attribute 'find'\n",
      "Exception at row 4868\n",
      "'NoneType' object has no attribute 'find'\n"
     ]
    },
    {
     "name": "stderr",
     "output_type": "stream",
     "text": [
      "Processing row 4870:  89%|████████▉ | 4870/5456 [1:50:05<02:30,  3.90it/s]"
     ]
    },
    {
     "name": "stdout",
     "output_type": "stream",
     "text": [
      "Exception at row 4984\n",
      "'NoneType' object has no attribute 'find'\n",
      "Exception at row 4869\n",
      "'NoneType' object has no attribute 'find'\n"
     ]
    },
    {
     "name": "stderr",
     "output_type": "stream",
     "text": [
      "Processing row 4871:  89%|████████▉ | 4871/5456 [1:50:05<02:30,  3.89it/s]"
     ]
    },
    {
     "name": "stdout",
     "output_type": "stream",
     "text": [
      "Exception at row 4986\n",
      "'NoneType' object has no attribute 'find'\n",
      "Exception at row 4870\n",
      "'NoneType' object has no attribute 'find'\n"
     ]
    },
    {
     "name": "stderr",
     "output_type": "stream",
     "text": [
      "Processing row 4873:  89%|████████▉ | 4872/5456 [1:50:05<02:29,  3.89it/s]"
     ]
    },
    {
     "name": "stdout",
     "output_type": "stream",
     "text": [
      "Exception at row 4988\n",
      "'NoneType' object has no attribute 'find'\n",
      "Exception at row 4871\n",
      "'NoneType' object has no attribute 'find'\n"
     ]
    },
    {
     "name": "stderr",
     "output_type": "stream",
     "text": [
      "Processing row 4874:  89%|████████▉ | 4874/5456 [1:50:06<02:07,  4.57it/s]"
     ]
    },
    {
     "name": "stdout",
     "output_type": "stream",
     "text": [
      "Exception at row 4989\n",
      "'NoneType' object has no attribute 'find'\n",
      "Exception at row 4873\n",
      "'NoneType' object has no attribute 'find'\n"
     ]
    },
    {
     "name": "stderr",
     "output_type": "stream",
     "text": [
      "Processing row 4875:  89%|████████▉ | 4875/5456 [1:50:06<02:15,  4.30it/s]"
     ]
    },
    {
     "name": "stdout",
     "output_type": "stream",
     "text": [
      "Exception at row 4990\n",
      "'NoneType' object has no attribute 'find'\n",
      "Exception at row 4874\n",
      "'NoneType' object has no attribute 'find'\n"
     ]
    },
    {
     "name": "stderr",
     "output_type": "stream",
     "text": [
      "Processing row 4888:  90%|████████▉ | 4889/5455 [1:50:06<19:01,  2.02s/it]"
     ]
    },
    {
     "name": "stdout",
     "output_type": "stream",
     "text": [
      "Exception at row 4991\n",
      "'NoneType' object has no attribute 'find'\n",
      "Exception at row 4875\n",
      "'NoneType' object has no attribute 'find'\n",
      "Exception at row 4888\n",
      "'NoneType' object has no attribute 'find'\n"
     ]
    },
    {
     "name": "stderr",
     "output_type": "stream",
     "text": [
      "Processing row 4890:  90%|████████▉ | 4890/5455 [1:50:06<14:01,  1.49s/it]"
     ]
    },
    {
     "name": "stdout",
     "output_type": "stream",
     "text": [
      "Exception at row 4992\n",
      "'NoneType' object has no attribute 'find'\n",
      "Exception at row 4876\n",
      "'NoneType' object has no attribute 'find'\n",
      "Exception at row 4889\n",
      "'NoneType' object has no attribute 'find'\n"
     ]
    },
    {
     "name": "stderr",
     "output_type": "stream",
     "text": [
      "Processing row 4891:  90%|████████▉ | 4891/5455 [1:50:07<10:32,  1.12s/it]"
     ]
    },
    {
     "name": "stdout",
     "output_type": "stream",
     "text": [
      "Exception at row 4993\n",
      "'NoneType' object has no attribute 'find'\n",
      "Exception at row 4879\n",
      "'NoneType' object has no attribute 'find'\n",
      "Exception at row 4890\n",
      "'NoneType' object has no attribute 'find'\n"
     ]
    },
    {
     "name": "stderr",
     "output_type": "stream",
     "text": [
      "Processing row 4892:  90%|████████▉ | 4892/5455 [1:50:07<08:09,  1.15it/s]"
     ]
    },
    {
     "name": "stdout",
     "output_type": "stream",
     "text": [
      "Exception at row 4996\n",
      "'NoneType' object has no attribute 'find'\n",
      "Exception at row 4880\n",
      "'NoneType' object has no attribute 'find'\n",
      "Exception at row 4891\n",
      "'NoneType' object has no attribute 'find'\n"
     ]
    },
    {
     "name": "stderr",
     "output_type": "stream",
     "text": [
      "Processing row 4893:  90%|████████▉ | 4893/5455 [1:50:07<06:26,  1.45it/s]"
     ]
    },
    {
     "name": "stdout",
     "output_type": "stream",
     "text": [
      "Exception at row 4997\n",
      "'NoneType' object has no attribute 'find'\n",
      "Exception at row 4881\n",
      "'NoneType' object has no attribute 'find'\n",
      "Exception at row 4892\n",
      "'NoneType' object has no attribute 'find'\n"
     ]
    },
    {
     "name": "stderr",
     "output_type": "stream",
     "text": [
      "Processing row 4894:  90%|████████▉ | 4894/5455 [1:50:07<05:16,  1.77it/s]"
     ]
    },
    {
     "name": "stdout",
     "output_type": "stream",
     "text": [
      "Exception at row 4998\n",
      "'NoneType' object has no attribute 'find'\n",
      "Exception at row 4882\n",
      "'NoneType' object has no attribute 'find'\n",
      "Exception at row 4893\n",
      "'NoneType' object has no attribute 'find'\n"
     ]
    },
    {
     "name": "stderr",
     "output_type": "stream",
     "text": [
      "Processing row 4889:  90%|████████▉ | 4884/5456 [1:50:08<02:28,  3.84it/s]"
     ]
    },
    {
     "name": "stdout",
     "output_type": "stream",
     "text": [
      "Exception at row 5001\n",
      "'NoneType' object has no attribute 'find'\n",
      "Exception at row 4883\n",
      "'NoneType' object has no attribute 'find'\n",
      "Exception at row 4894\n",
      "'NoneType' object has no attribute 'find'\n"
     ]
    },
    {
     "name": "stderr",
     "output_type": "stream",
     "text": [
      "Processing row 4890:  90%|████████▉ | 4890/5456 [1:50:08<01:51,  5.09it/s]"
     ]
    },
    {
     "name": "stdout",
     "output_type": "stream",
     "text": [
      "Exception at row 5002\n",
      "'NoneType' object has no attribute 'find'\n",
      "Exception at row 4895\n",
      "'NoneType' object has no attribute 'find'\n",
      "Exception at row 4889\n",
      "'NoneType' object has no attribute 'find'\n"
     ]
    },
    {
     "name": "stderr",
     "output_type": "stream",
     "text": [
      "Processing row 4891:  90%|████████▉ | 4891/5456 [1:50:08<02:05,  4.52it/s]"
     ]
    },
    {
     "name": "stdout",
     "output_type": "stream",
     "text": [
      "Exception at row 5004\n",
      "'NoneType' object has no attribute 'find'\n",
      "Exception at row 4896\n",
      "'NoneType' object has no attribute 'find'\n",
      "Exception at row 4890\n",
      "'NoneType' object has no attribute 'find'\n"
     ]
    },
    {
     "name": "stderr",
     "output_type": "stream",
     "text": [
      "Processing row 4892:  90%|████████▉ | 4892/5456 [1:50:09<02:11,  4.28it/s]"
     ]
    },
    {
     "name": "stdout",
     "output_type": "stream",
     "text": [
      "Exception at row 5007\n",
      "'NoneType' object has no attribute 'find'\n",
      "Exception at row 4897\n",
      "'NoneType' object has no attribute 'find'\n",
      "Exception at row 4891\n",
      "'NoneType' object has no attribute 'find'\n"
     ]
    },
    {
     "name": "stderr",
     "output_type": "stream",
     "text": [
      "Processing row 4893:  90%|████████▉ | 4893/5456 [1:50:09<02:18,  4.06it/s]"
     ]
    },
    {
     "name": "stdout",
     "output_type": "stream",
     "text": [
      "Exception at row 5008\n",
      "'NoneType' object has no attribute 'find'\n",
      "Exception at row 4898\n",
      "'NoneType' object has no attribute 'find'\n",
      "Exception at row 4892\n",
      "'NoneType' object has no attribute 'find'\n"
     ]
    },
    {
     "name": "stderr",
     "output_type": "stream",
     "text": [
      "Processing row 4894:  90%|████████▉ | 4894/5456 [1:50:09<02:24,  3.88it/s]"
     ]
    },
    {
     "name": "stdout",
     "output_type": "stream",
     "text": [
      "Exception at row 5009\n",
      "'NoneType' object has no attribute 'find'\n",
      "Exception at row 4900\n",
      "'NoneType' object has no attribute 'find'\n",
      "Exception at row 4893\n",
      "'NoneType' object has no attribute 'find'\n"
     ]
    },
    {
     "name": "stderr",
     "output_type": "stream",
     "text": [
      "Processing row 4895:  90%|████████▉ | 4895/5456 [1:50:09<02:25,  3.85it/s]"
     ]
    },
    {
     "name": "stdout",
     "output_type": "stream",
     "text": [
      "Exception at row 5010\n",
      "'NoneType' object has no attribute 'find'\n",
      "Exception at row 4901\n",
      "'NoneType' object has no attribute 'find'\n",
      "Exception at row 4894\n",
      "'NoneType' object has no attribute 'find'\n"
     ]
    },
    {
     "name": "stderr",
     "output_type": "stream",
     "text": [
      "Processing row 4896:  90%|████████▉ | 4896/5456 [1:50:10<02:26,  3.81it/s]"
     ]
    },
    {
     "name": "stdout",
     "output_type": "stream",
     "text": [
      "Exception at row 5012\n",
      "'NoneType' object has no attribute 'find'\n",
      "Exception at row 4902\n",
      "'NoneType' object has no attribute 'find'\n",
      "Exception at row 4895\n",
      "'NoneType' object has no attribute 'find'\n"
     ]
    },
    {
     "name": "stderr",
     "output_type": "stream",
     "text": [
      "Processing row 4897:  90%|████████▉ | 4897/5456 [1:50:10<02:28,  3.77it/s]"
     ]
    },
    {
     "name": "stdout",
     "output_type": "stream",
     "text": [
      "Exception at row 5013\n",
      "'NoneType' object has no attribute 'find'\n",
      "Exception at row 4903\n",
      "'NoneType' object has no attribute 'find'\n",
      "Exception at row 4896\n",
      "'NoneType' object has no attribute 'find'\n"
     ]
    },
    {
     "name": "stderr",
     "output_type": "stream",
     "text": [
      "Processing row 4898:  90%|████████▉ | 4898/5456 [1:50:10<02:29,  3.73it/s]"
     ]
    },
    {
     "name": "stdout",
     "output_type": "stream",
     "text": [
      "Exception at row 5014\n",
      "'NoneType' object has no attribute 'find'\n",
      "Exception at row 4904\n",
      "'NoneType' object has no attribute 'find'\n",
      "Exception at row 4897\n",
      "'NoneType' object has no attribute 'find'\n"
     ]
    },
    {
     "name": "stderr",
     "output_type": "stream",
     "text": [
      "Processing row 4906:  90%|████████▉ | 4906/5455 [1:50:10<02:30,  3.65it/s]"
     ]
    },
    {
     "name": "stdout",
     "output_type": "stream",
     "text": [
      "Exception at row 5015\n",
      "'NoneType' object has no attribute 'find'\n",
      "Exception at row 4905\n",
      "'NoneType' object has no attribute 'find'\n"
     ]
    },
    {
     "name": "stderr",
     "output_type": "stream",
     "text": [
      "Processing row 4907:  90%|████████▉ | 4907/5455 [1:50:11<02:28,  3.68it/s]"
     ]
    },
    {
     "name": "stdout",
     "output_type": "stream",
     "text": [
      "Exception at row 5016\n",
      "'NoneType' object has no attribute 'find'\n",
      "Exception at row 4906\n",
      "'NoneType' object has no attribute 'find'\n"
     ]
    },
    {
     "name": "stderr",
     "output_type": "stream",
     "text": [
      "Processing row 4908:  90%|████████▉ | 4908/5455 [1:50:11<02:26,  3.73it/s]"
     ]
    },
    {
     "name": "stdout",
     "output_type": "stream",
     "text": [
      "Exception at row 5017\n",
      "'NoneType' object has no attribute 'find'\n",
      "Exception at row 4907\n",
      "'NoneType' object has no attribute 'find'\n"
     ]
    },
    {
     "name": "stderr",
     "output_type": "stream",
     "text": [
      "Processing row 4909:  90%|████████▉ | 4909/5455 [1:50:11<02:25,  3.76it/s]"
     ]
    },
    {
     "name": "stdout",
     "output_type": "stream",
     "text": [
      "Exception at row 4898\n",
      "'NoneType' object has no attribute 'find'\n",
      "Exception at row 5018\n",
      "'NoneType' object has no attribute 'find'\n",
      "Exception at row 4908\n",
      "'NoneType' object has no attribute 'find'\n"
     ]
    },
    {
     "name": "stderr",
     "output_type": "stream",
     "text": [
      "Processing row 4910:  90%|█████████ | 4910/5455 [1:50:12<02:24,  3.77it/s]"
     ]
    },
    {
     "name": "stdout",
     "output_type": "stream",
     "text": [
      "Exception at row 4900\n",
      "'NoneType' object has no attribute 'find'\n",
      "Exception at row 4909\n",
      "'NoneType' object has no attribute 'find'\n"
     ]
    },
    {
     "name": "stderr",
     "output_type": "stream",
     "text": [
      "Processing row 4911:  90%|█████████ | 4911/5455 [1:50:12<02:23,  3.78it/s]"
     ]
    },
    {
     "name": "stdout",
     "output_type": "stream",
     "text": [
      "Exception at row 4901\n",
      "'NoneType' object has no attribute 'find'\n",
      "Exception at row 5019\n",
      "'NoneType' object has no attribute 'find'\n",
      "Exception at row 4910\n",
      "'NoneType' object has no attribute 'find'\n"
     ]
    },
    {
     "name": "stderr",
     "output_type": "stream",
     "text": [
      "Processing row 4912:  90%|█████████ | 4912/5455 [1:50:12<02:23,  3.79it/s]"
     ]
    },
    {
     "name": "stdout",
     "output_type": "stream",
     "text": [
      "Exception at row 4903\n",
      "'NoneType' object has no attribute 'find'\n",
      "Exception at row 5020\n",
      "'NoneType' object has no attribute 'find'\n",
      "Exception at row 4911\n",
      "'NoneType' object has no attribute 'find'\n"
     ]
    },
    {
     "name": "stderr",
     "output_type": "stream",
     "text": [
      "Processing row 5022:  92%|█████████▏| 5022/5455 [1:50:12<02:19,  3.11it/s]"
     ]
    },
    {
     "name": "stdout",
     "output_type": "stream",
     "text": [
      "Exception at row 4904\n",
      "'NoneType' object has no attribute 'find'\n",
      "Exception at row 5021\n",
      "'NoneType' object has no attribute 'find'\n"
     ]
    },
    {
     "name": "stderr",
     "output_type": "stream",
     "text": [
      "Processing row 4907:  90%|████████▉ | 4907/5456 [1:50:12<02:04,  4.42it/s]"
     ]
    },
    {
     "name": "stdout",
     "output_type": "stream",
     "text": [
      "Exception at row 4912\n",
      "'NoneType' object has no attribute 'find'\n",
      "Exception at row 4906\n",
      "'NoneType' object has no attribute 'find'\n"
     ]
    },
    {
     "name": "stderr",
     "output_type": "stream",
     "text": [
      "Processing row 4908:  90%|████████▉ | 4908/5456 [1:50:13<02:09,  4.25it/s]"
     ]
    },
    {
     "name": "stdout",
     "output_type": "stream",
     "text": [
      "Exception at row 5022\n",
      "'NoneType' object has no attribute 'find'\n",
      "Exception at row 4913\n",
      "'NoneType' object has no attribute 'find'\n",
      "Exception at row 4907\n",
      "'NoneType' object has no attribute 'find'\n"
     ]
    },
    {
     "name": "stderr",
     "output_type": "stream",
     "text": [
      "Processing row 4909:  90%|████████▉ | 4909/5456 [1:50:13<02:12,  4.12it/s]"
     ]
    },
    {
     "name": "stdout",
     "output_type": "stream",
     "text": [
      "Exception at row 5023\n",
      "'NoneType' object has no attribute 'find'\n",
      "Exception at row 4914\n",
      "'NoneType' object has no attribute 'find'\n",
      "Exception at row 4908\n",
      "'NoneType' object has no attribute 'find'\n"
     ]
    },
    {
     "name": "stderr",
     "output_type": "stream",
     "text": [
      "Processing row 4910:  90%|████████▉ | 4910/5456 [1:50:13<02:16,  4.01it/s]"
     ]
    },
    {
     "name": "stdout",
     "output_type": "stream",
     "text": [
      "Exception at row 5026\n",
      "'NoneType' object has no attribute 'find'\n",
      "Exception at row 4915\n",
      "'NoneType' object has no attribute 'find'\n",
      "Exception at row 4909\n",
      "'NoneType' object has no attribute 'find'\n"
     ]
    },
    {
     "name": "stderr",
     "output_type": "stream",
     "text": [
      "Processing row 4913:  90%|█████████ | 4911/5456 [1:50:13<02:18,  3.94it/s]"
     ]
    },
    {
     "name": "stdout",
     "output_type": "stream",
     "text": [
      "Exception at row 5027\n",
      "'NoneType' object has no attribute 'find'\n",
      "Exception at row 4916\n",
      "'NoneType' object has no attribute 'find'\n",
      "Exception at row 4910\n",
      "'NoneType' object has no attribute 'find'\n"
     ]
    },
    {
     "name": "stderr",
     "output_type": "stream",
     "text": [
      "Processing row 4914:  90%|█████████ | 4914/5456 [1:50:14<01:50,  4.90it/s]"
     ]
    },
    {
     "name": "stdout",
     "output_type": "stream",
     "text": [
      "Exception at row 5028\n",
      "'NoneType' object has no attribute 'find'\n",
      "Exception at row 4917\n",
      "'NoneType' object has no attribute 'find'\n",
      "Exception at row 4913\n",
      "'NoneType' object has no attribute 'find'\n"
     ]
    },
    {
     "name": "stderr",
     "output_type": "stream",
     "text": [
      "Processing row 4916:  90%|█████████ | 4915/5456 [1:50:14<01:58,  4.56it/s]"
     ]
    },
    {
     "name": "stdout",
     "output_type": "stream",
     "text": [
      "Exception at row 5029\n",
      "'NoneType' object has no attribute 'find'\n",
      "Exception at row 4918\n",
      "'NoneType' object has no attribute 'find'\n",
      "Exception at row 4914\n",
      "'NoneType' object has no attribute 'find'\n"
     ]
    },
    {
     "name": "stderr",
     "output_type": "stream",
     "text": [
      "Processing row 4919:  90%|█████████ | 4917/5456 [1:50:14<01:43,  5.20it/s]"
     ]
    },
    {
     "name": "stdout",
     "output_type": "stream",
     "text": [
      "Exception at row 5031\n",
      "'NoneType' object has no attribute 'find'\n",
      "Exception at row 4919\n",
      "'NoneType' object has no attribute 'find'\n",
      "Exception at row 4916\n",
      "'NoneType' object has no attribute 'find'\n"
     ]
    },
    {
     "name": "stderr",
     "output_type": "stream",
     "text": [
      "Processing row 4921:  90%|█████████ | 4921/5455 [1:50:14<02:20,  3.81it/s]"
     ]
    },
    {
     "name": "stdout",
     "output_type": "stream",
     "text": [
      "Exception at row 5033\n",
      "'NoneType' object has no attribute 'find'\n",
      "Exception at row 4920\n",
      "'NoneType' object has no attribute 'find'\n"
     ]
    },
    {
     "name": "stderr",
     "output_type": "stream",
     "text": [
      "Processing row 4921:  90%|█████████ | 4920/5456 [1:50:15<01:41,  5.27it/s]"
     ]
    },
    {
     "name": "stdout",
     "output_type": "stream",
     "text": [
      "Exception at row 5036\n",
      "'NoneType' object has no attribute 'find'\n",
      "Exception at row 4921\n",
      "'NoneType' object has no attribute 'find'\n",
      "Exception at row 4919\n",
      "'NoneType' object has no attribute 'find'\n"
     ]
    },
    {
     "name": "stderr",
     "output_type": "stream",
     "text": [
      "Processing row 4922:  90%|█████████ | 4922/5456 [1:50:15<01:31,  5.83it/s]"
     ]
    },
    {
     "name": "stdout",
     "output_type": "stream",
     "text": [
      "Exception at row 5037\n",
      "'NoneType' object has no attribute 'find'\n",
      "Exception at row 4922\n",
      "'NoneType' object has no attribute 'find'\n",
      "Exception at row 4921\n",
      "'NoneType' object has no attribute 'find'\n"
     ]
    },
    {
     "name": "stderr",
     "output_type": "stream",
     "text": [
      "Processing row 4923:  90%|█████████ | 4923/5456 [1:50:15<01:45,  5.03it/s]"
     ]
    },
    {
     "name": "stdout",
     "output_type": "stream",
     "text": [
      "Exception at row 5038\n",
      "'NoneType' object has no attribute 'find'\n",
      "Exception at row 4923\n",
      "'NoneType' object has no attribute 'find'\n",
      "Exception at row 4922\n",
      "'NoneType' object has no attribute 'find'\n"
     ]
    },
    {
     "name": "stderr",
     "output_type": "stream",
     "text": [
      "Processing row 4925:  90%|█████████ | 4924/5456 [1:50:16<01:55,  4.60it/s]"
     ]
    },
    {
     "name": "stdout",
     "output_type": "stream",
     "text": [
      "Exception at row 5039\n",
      "'NoneType' object has no attribute 'find'\n",
      "Exception at row 4924\n",
      "'NoneType' object has no attribute 'find'\n",
      "Exception at row 4923\n",
      "'NoneType' object has no attribute 'find'\n"
     ]
    },
    {
     "name": "stderr",
     "output_type": "stream",
     "text": [
      "Processing row 4926:  90%|█████████ | 4926/5456 [1:50:16<01:41,  5.22it/s]"
     ]
    },
    {
     "name": "stdout",
     "output_type": "stream",
     "text": [
      "Exception at row 5040\n",
      "'NoneType' object has no attribute 'find'\n",
      "Exception at row 4925\n",
      "'NoneType' object has no attribute 'find'\n",
      "Exception at row 4925\n",
      "'NoneType' object has no attribute 'find'\n"
     ]
    },
    {
     "name": "stderr",
     "output_type": "stream",
     "text": [
      "Processing row 4927:  90%|█████████ | 4927/5455 [1:50:16<02:18,  3.82it/s]"
     ]
    },
    {
     "name": "stdout",
     "output_type": "stream",
     "text": [
      "Exception at row 5041\n",
      "'NoneType' object has no attribute 'find'\n",
      "Exception at row 4926\n",
      "'NoneType' object has no attribute 'find'\n"
     ]
    },
    {
     "name": "stderr",
     "output_type": "stream",
     "text": [
      "Processing row 4928:  90%|█████████ | 4928/5455 [1:50:16<02:17,  3.83it/s]"
     ]
    },
    {
     "name": "stdout",
     "output_type": "stream",
     "text": [
      "Exception at row 5045\n",
      "'NoneType' object has no attribute 'find'\n",
      "Exception at row 4927\n",
      "'NoneType' object has no attribute 'find'\n"
     ]
    },
    {
     "name": "stderr",
     "output_type": "stream",
     "text": [
      "Processing row 4929:  90%|█████████ | 4929/5455 [1:50:17<02:17,  3.83it/s]"
     ]
    },
    {
     "name": "stdout",
     "output_type": "stream",
     "text": [
      "Exception at row 5046\n",
      "'NoneType' object has no attribute 'find'\n",
      "Exception at row 4926\n",
      "'NoneType' object has no attribute 'find'\n",
      "Exception at row 4928\n",
      "'NoneType' object has no attribute 'find'\n"
     ]
    },
    {
     "name": "stderr",
     "output_type": "stream",
     "text": [
      "Processing row 4930:  90%|█████████ | 4930/5455 [1:50:17<02:17,  3.82it/s]"
     ]
    },
    {
     "name": "stdout",
     "output_type": "stream",
     "text": [
      "Exception at row 5047\n",
      "'NoneType' object has no attribute 'find'\n",
      "Exception at row 4927\n",
      "'NoneType' object has no attribute 'find'\n",
      "Exception at row 4929\n",
      "'NoneType' object has no attribute 'find'\n"
     ]
    },
    {
     "name": "stderr",
     "output_type": "stream",
     "text": [
      "Processing row 5050:  93%|█████████▎| 5049/5455 [1:50:17<02:04,  3.26it/s]"
     ]
    },
    {
     "name": "stdout",
     "output_type": "stream",
     "text": [
      "Exception at row 4928\n",
      "'NoneType' object has no attribute 'find'\n",
      "Exception at row 5048\n",
      "'NoneType' object has no attribute 'find'\n"
     ]
    },
    {
     "name": "stderr",
     "output_type": "stream",
     "text": [
      "Processing row 4930:  90%|█████████ | 4930/5456 [1:50:17<02:30,  3.49it/s]"
     ]
    },
    {
     "name": "stdout",
     "output_type": "stream",
     "text": [
      "Exception at row 4929\n",
      "'NoneType' object has no attribute 'find'\n"
     ]
    },
    {
     "name": "stderr",
     "output_type": "stream",
     "text": [
      "Processing row 4932:  90%|█████████ | 4931/5456 [1:50:18<02:26,  3.59it/s]"
     ]
    },
    {
     "name": "stdout",
     "output_type": "stream",
     "text": [
      "Exception at row 4930\n",
      "'NoneType' object has no attribute 'find'\n"
     ]
    },
    {
     "name": "stderr",
     "output_type": "stream",
     "text": [
      "Processing row 5051:  93%|█████████▎| 5051/5455 [1:50:18<02:06,  3.20it/s]"
     ]
    },
    {
     "name": "stdout",
     "output_type": "stream",
     "text": [
      "Exception at row 4932\n",
      "'NoneType' object has no attribute 'find'\n",
      "Exception at row 5050\n",
      "'NoneType' object has no attribute 'find'\n"
     ]
    },
    {
     "name": "stderr",
     "output_type": "stream",
     "text": [
      "Processing row 5054:  93%|█████████▎| 5052/5455 [1:50:18<01:59,  3.37it/s]"
     ]
    },
    {
     "name": "stdout",
     "output_type": "stream",
     "text": [
      "Exception at row 4933\n",
      "'NoneType' object has no attribute 'find'\n",
      "Exception at row 5051\n",
      "'NoneType' object has no attribute 'find'\n"
     ]
    },
    {
     "name": "stderr",
     "output_type": "stream",
     "text": [
      "Processing row 5056:  93%|█████████▎| 5055/5455 [1:50:18<01:33,  4.27it/s]"
     ]
    },
    {
     "name": "stdout",
     "output_type": "stream",
     "text": [
      "Exception at row 4935\n",
      "'NoneType' object has no attribute 'find'\n",
      "Exception at row 5054\n",
      "'NoneType' object has no attribute 'find'\n"
     ]
    },
    {
     "name": "stderr",
     "output_type": "stream",
     "text": [
      "Processing row 4931:  90%|█████████ | 4931/5455 [1:50:19<06:27,  1.35it/s]"
     ]
    },
    {
     "name": "stdout",
     "output_type": "stream",
     "text": [
      "Exception at row 4936\n",
      "'NoneType' object has no attribute 'find'\n",
      "Exception at row 4930\n",
      "'NoneType' object has no attribute 'find'\n"
     ]
    },
    {
     "name": "stderr",
     "output_type": "stream",
     "text": [
      "Processing row 5057:  93%|█████████▎| 5057/5455 [1:50:19<01:44,  3.80it/s]"
     ]
    },
    {
     "name": "stdout",
     "output_type": "stream",
     "text": [
      "Exception at row 4937\n",
      "'NoneType' object has no attribute 'find'\n",
      "Exception at row 4931\n",
      "'NoneType' object has no attribute 'find'\n",
      "Exception at row 5056\n",
      "'NoneType' object has no attribute 'find'\n"
     ]
    },
    {
     "name": "stderr",
     "output_type": "stream",
     "text": [
      "Processing row 5058:  93%|█████████▎| 5058/5455 [1:50:19<01:44,  3.80it/s]"
     ]
    },
    {
     "name": "stdout",
     "output_type": "stream",
     "text": [
      "Exception at row 4938\n",
      "'NoneType' object has no attribute 'find'\n",
      "Exception at row 4932\n",
      "'NoneType' object has no attribute 'find'\n",
      "Exception at row 5057\n",
      "'NoneType' object has no attribute 'find'\n"
     ]
    },
    {
     "name": "stderr",
     "output_type": "stream",
     "text": [
      "Processing row 4941:  91%|█████████ | 4941/5456 [1:50:19<01:53,  4.52it/s]"
     ]
    },
    {
     "name": "stdout",
     "output_type": "stream",
     "text": [
      "Exception at row 4940\n",
      "'NoneType' object has no attribute 'find'\n"
     ]
    },
    {
     "name": "stderr",
     "output_type": "stream",
     "text": [
      "Processing row 4942:  91%|█████████ | 4942/5456 [1:50:20<02:00,  4.28it/s]"
     ]
    },
    {
     "name": "stdout",
     "output_type": "stream",
     "text": [
      "Exception at row 4941\n",
      "'NoneType' object has no attribute 'find'\n"
     ]
    },
    {
     "name": "stderr",
     "output_type": "stream",
     "text": [
      "Processing row 5059:  93%|█████████▎| 5059/5455 [1:50:20<02:54,  2.27it/s]"
     ]
    },
    {
     "name": "stdout",
     "output_type": "stream",
     "text": [
      "Exception at row 5058\n",
      "'NoneType' object has no attribute 'find'\n"
     ]
    },
    {
     "name": "stderr",
     "output_type": "stream",
     "text": [
      "Processing row 5060:  93%|█████████▎| 5060/5455 [1:50:20<02:37,  2.51it/s]"
     ]
    },
    {
     "name": "stdout",
     "output_type": "stream",
     "text": [
      "Exception at row 5059\n",
      "'NoneType' object has no attribute 'find'\n"
     ]
    },
    {
     "name": "stderr",
     "output_type": "stream",
     "text": [
      "Processing row 5061:  93%|█████████▎| 5061/5455 [1:50:21<02:24,  2.72it/s]"
     ]
    },
    {
     "name": "stdout",
     "output_type": "stream",
     "text": [
      "Exception at row 5060\n",
      "'NoneType' object has no attribute 'find'\n"
     ]
    },
    {
     "name": "stderr",
     "output_type": "stream",
     "text": [
      "Processing row 5062:  93%|█████████▎| 5062/5455 [1:50:21<02:16,  2.89it/s]"
     ]
    },
    {
     "name": "stdout",
     "output_type": "stream",
     "text": [
      "Exception at row 5061\n",
      "'NoneType' object has no attribute 'find'\n"
     ]
    },
    {
     "name": "stderr",
     "output_type": "stream",
     "text": [
      "Processing row 5064:  93%|█████████▎| 5063/5455 [1:50:21<02:09,  3.02it/s]"
     ]
    },
    {
     "name": "stdout",
     "output_type": "stream",
     "text": [
      "Exception at row 5062\n",
      "'NoneType' object has no attribute 'find'\n"
     ]
    },
    {
     "name": "stderr",
     "output_type": "stream",
     "text": [
      "Processing row 5066:  93%|█████████▎| 5065/5455 [1:50:22<01:56,  3.35it/s]"
     ]
    },
    {
     "name": "stdout",
     "output_type": "stream",
     "text": [
      "Exception at row 4942\n",
      "could not convert string to float: '7.99 - $24.99'\n",
      "Exception at row 5064\n",
      "'NoneType' object has no attribute 'find'\n"
     ]
    },
    {
     "name": "stderr",
     "output_type": "stream",
     "text": [
      "Processing row 4934:  90%|█████████ | 4934/5455 [1:50:22<11:09,  1.28s/it]"
     ]
    },
    {
     "name": "stdout",
     "output_type": "stream",
     "text": [
      "Exception at row 5066\n",
      "'NoneType' object has no attribute 'find'\n",
      "Exception at row 4933\n",
      "'NoneType' object has no attribute 'find'\n"
     ]
    },
    {
     "name": "stderr",
     "output_type": "stream",
     "text": [
      "Processing row 4935:  90%|█████████ | 4935/5455 [1:50:23<08:33,  1.01it/s]"
     ]
    },
    {
     "name": "stdout",
     "output_type": "stream",
     "text": [
      "Exception at row 5067\n",
      "'NoneType' object has no attribute 'find'\n",
      "Exception at row 4934\n",
      "'NoneType' object has no attribute 'find'\n"
     ]
    },
    {
     "name": "stderr",
     "output_type": "stream",
     "text": [
      "Processing row 4944:  91%|█████████ | 4944/5456 [1:50:23<07:52,  1.08it/s]"
     ]
    },
    {
     "name": "stdout",
     "output_type": "stream",
     "text": [
      "Exception at row 5068\n",
      "'NoneType' object has no attribute 'find'\n",
      "Exception at row 4935\n",
      "'NoneType' object has no attribute 'find'\n"
     ]
    },
    {
     "name": "stderr",
     "output_type": "stream",
     "text": [
      "Processing row 4947:  91%|█████████ | 4945/5456 [1:50:23<06:14,  1.36it/s]"
     ]
    },
    {
     "name": "stdout",
     "output_type": "stream",
     "text": [
      "Exception at row 5069\n",
      "'NoneType' object has no attribute 'find'\n",
      "Exception at row 4936\n",
      "'NoneType' object has no attribute 'find'\n",
      "Exception at row 4944\n",
      "'NoneType' object has no attribute 'find'\n"
     ]
    },
    {
     "name": "stderr",
     "output_type": "stream",
     "text": [
      "Processing row 4948:  91%|█████████ | 4948/5456 [1:50:24<04:35,  1.84it/s]"
     ]
    },
    {
     "name": "stdout",
     "output_type": "stream",
     "text": [
      "Exception at row 5070\n",
      "'NoneType' object has no attribute 'find'\n",
      "Exception at row 4937\n",
      "'NoneType' object has no attribute 'find'\n",
      "Exception at row 4947\n",
      "'NoneType' object has no attribute 'find'\n"
     ]
    },
    {
     "name": "stderr",
     "output_type": "stream",
     "text": [
      "Processing row 4949:  91%|█████████ | 4949/5456 [1:50:24<03:58,  2.13it/s]"
     ]
    },
    {
     "name": "stdout",
     "output_type": "stream",
     "text": [
      "Exception at row 5071\n",
      "'NoneType' object has no attribute 'find'\n",
      "Exception at row 4938\n",
      "'NoneType' object has no attribute 'find'\n",
      "Exception at row 4948\n",
      "'NoneType' object has no attribute 'find'\n"
     ]
    },
    {
     "name": "stderr",
     "output_type": "stream",
     "text": [
      "Processing row 4950:  91%|█████████ | 4950/5456 [1:50:24<03:30,  2.40it/s]"
     ]
    },
    {
     "name": "stdout",
     "output_type": "stream",
     "text": [
      "Exception at row 5072\n",
      "'NoneType' object has no attribute 'find'\n",
      "Exception at row 4939\n",
      "'NoneType' object has no attribute 'find'\n",
      "Exception at row 4949\n",
      "'NoneType' object has no attribute 'find'\n"
     ]
    },
    {
     "name": "stderr",
     "output_type": "stream",
     "text": [
      "Processing row 4951:  91%|█████████ | 4951/5456 [1:50:25<03:12,  2.62it/s]"
     ]
    },
    {
     "name": "stdout",
     "output_type": "stream",
     "text": [
      "Exception at row 4940\n",
      "'NoneType' object has no attribute 'find'\n",
      "Exception at row 5078\n",
      "'NoneType' object has no attribute 'find'\n",
      "Exception at row 4950\n",
      "'NoneType' object has no attribute 'find'\n"
     ]
    },
    {
     "name": "stderr",
     "output_type": "stream",
     "text": [
      "Processing row 5082:  93%|█████████▎| 5081/5455 [1:50:25<01:18,  4.75it/s]"
     ]
    },
    {
     "name": "stdout",
     "output_type": "stream",
     "text": [
      "Exception at row 4941\n",
      "'NoneType' object has no attribute 'find'\n",
      "Exception at row 5080\n",
      "'NoneType' object has no attribute 'find'\n",
      "Exception at row 4951\n",
      "'NoneType' object has no attribute 'find'\n"
     ]
    },
    {
     "name": "stderr",
     "output_type": "stream",
     "text": [
      "Processing row 5083:  93%|█████████▎| 5083/5455 [1:50:25<01:13,  5.04it/s]"
     ]
    },
    {
     "name": "stdout",
     "output_type": "stream",
     "text": [
      "Exception at row 4942\n",
      "'NoneType' object has no attribute 'find'\n",
      "Exception at row 4952\n",
      "'NoneType' object has no attribute 'find'\n",
      "Exception at row 5082\n",
      "'NoneType' object has no attribute 'find'\n"
     ]
    },
    {
     "name": "stderr",
     "output_type": "stream",
     "text": [
      "Processing row 5085:  93%|█████████▎| 5084/5455 [1:50:25<01:26,  4.29it/s]"
     ]
    },
    {
     "name": "stdout",
     "output_type": "stream",
     "text": [
      "Exception at row 4943\n",
      "'NoneType' object has no attribute 'find'\n",
      "Exception at row 4953\n",
      "'NoneType' object has no attribute 'find'\n",
      "Exception at row 5083\n",
      "'NoneType' object has no attribute 'find'\n"
     ]
    },
    {
     "name": "stderr",
     "output_type": "stream",
     "text": [
      "Processing row 5086:  93%|█████████▎| 5086/5455 [1:50:26<01:17,  4.74it/s]"
     ]
    },
    {
     "name": "stdout",
     "output_type": "stream",
     "text": [
      "Exception at row 4944\n",
      "'NoneType' object has no attribute 'find'\n",
      "Exception at row 4955\n",
      "'NoneType' object has no attribute 'find'\n",
      "Exception at row 5085\n",
      "'NoneType' object has no attribute 'find'\n"
     ]
    },
    {
     "name": "stderr",
     "output_type": "stream",
     "text": [
      "Processing row 5088:  93%|█████████▎| 5087/5455 [1:50:26<01:28,  4.15it/s]"
     ]
    },
    {
     "name": "stdout",
     "output_type": "stream",
     "text": [
      "Exception at row 4945\n",
      "'NoneType' object has no attribute 'find'\n",
      "Exception at row 4956\n",
      "'NoneType' object has no attribute 'find'\n",
      "Exception at row 5086\n",
      "'NoneType' object has no attribute 'find'\n"
     ]
    },
    {
     "name": "stderr",
     "output_type": "stream",
     "text": [
      "Processing row 4958:  91%|█████████ | 4958/5456 [1:50:26<02:28,  3.36it/s]"
     ]
    },
    {
     "name": "stdout",
     "output_type": "stream",
     "text": [
      "Exception at row 4957\n",
      "'NoneType' object has no attribute 'find'\n"
     ]
    },
    {
     "name": "stderr",
     "output_type": "stream",
     "text": [
      "Processing row 5089:  93%|█████████▎| 5089/5455 [1:50:27<01:42,  3.56it/s]"
     ]
    },
    {
     "name": "stdout",
     "output_type": "stream",
     "text": [
      "Exception at row 4958\n",
      "'NoneType' object has no attribute 'find'\n",
      "Exception at row 4946\n",
      "'NoneType' object has no attribute 'find'\n",
      "Exception at row 5088\n",
      "'NoneType' object has no attribute 'find'\n"
     ]
    },
    {
     "name": "stderr",
     "output_type": "stream",
     "text": [
      "Processing row 4948:  91%|█████████ | 4948/5455 [1:50:27<03:16,  2.58it/s]"
     ]
    },
    {
     "name": "stdout",
     "output_type": "stream",
     "text": [
      "Exception at row 4959\n",
      "'NoneType' object has no attribute 'find'\n",
      "Exception at row 4947\n",
      "'NoneType' object has no attribute 'find'\n"
     ]
    },
    {
     "name": "stderr",
     "output_type": "stream",
     "text": [
      "Processing row 5090:  93%|█████████▎| 5090/5455 [1:50:27<02:20,  2.60it/s]"
     ]
    },
    {
     "name": "stdout",
     "output_type": "stream",
     "text": [
      "Exception at row 4960\n",
      "'NoneType' object has no attribute 'find'\n",
      "Exception at row 4948\n",
      "'NoneType' object has no attribute 'find'\n",
      "Exception at row 5089\n",
      "'NoneType' object has no attribute 'find'\n"
     ]
    },
    {
     "name": "stderr",
     "output_type": "stream",
     "text": [
      "Processing row 5093:  93%|█████████▎| 5091/5455 [1:50:28<02:10,  2.78it/s]"
     ]
    },
    {
     "name": "stdout",
     "output_type": "stream",
     "text": [
      "Exception at row 4949\n",
      "'NoneType' object has no attribute 'find'\n",
      "Exception at row 4966\n",
      "'NoneType' object has no attribute 'find'\n",
      "Exception at row 5090\n",
      "'NoneType' object has no attribute 'find'\n"
     ]
    },
    {
     "name": "stderr",
     "output_type": "stream",
     "text": [
      "Processing row 4970:  91%|█████████ | 4968/5456 [1:50:28<02:01,  4.01it/s]"
     ]
    },
    {
     "name": "stdout",
     "output_type": "stream",
     "text": [
      "Exception at row 4950\n",
      "'NoneType' object has no attribute 'find'\n",
      "Exception at row 4967\n",
      "'NoneType' object has no attribute 'find'\n"
     ]
    },
    {
     "name": "stderr",
     "output_type": "stream",
     "text": [
      "Processing row 4972:  91%|█████████ | 4971/5456 [1:50:28<01:39,  4.85it/s]"
     ]
    },
    {
     "name": "stdout",
     "output_type": "stream",
     "text": [
      "Exception at row 4951\n",
      "'NoneType' object has no attribute 'find'\n",
      "Exception at row 4970\n",
      "'NoneType' object has no attribute 'find'\n"
     ]
    },
    {
     "name": "stderr",
     "output_type": "stream",
     "text": [
      "Processing row 4975:  91%|█████████ | 4973/5456 [1:50:29<01:31,  5.29it/s]"
     ]
    },
    {
     "name": "stdout",
     "output_type": "stream",
     "text": [
      "Exception at row 4952\n",
      "'NoneType' object has no attribute 'find'\n",
      "Exception at row 4972\n",
      "'NoneType' object has no attribute 'find'\n"
     ]
    },
    {
     "name": "stderr",
     "output_type": "stream",
     "text": [
      "Processing row 4976:  91%|█████████ | 4976/5456 [1:50:29<01:19,  6.06it/s]"
     ]
    },
    {
     "name": "stdout",
     "output_type": "stream",
     "text": [
      "Exception at row 4953\n",
      "'NoneType' object has no attribute 'find'\n",
      "Exception at row 4975\n",
      "'NoneType' object has no attribute 'find'\n"
     ]
    },
    {
     "name": "stderr",
     "output_type": "stream",
     "text": [
      "Processing row 4977:  91%|█████████ | 4977/5456 [1:50:29<01:36,  4.96it/s]"
     ]
    },
    {
     "name": "stdout",
     "output_type": "stream",
     "text": [
      "Exception at row 5093\n",
      "'NoneType' object has no attribute 'find'\n",
      "Exception at row 4954\n",
      "'NoneType' object has no attribute 'find'\n",
      "Exception at row 4976\n",
      "'NoneType' object has no attribute 'find'\n"
     ]
    },
    {
     "name": "stderr",
     "output_type": "stream",
     "text": [
      "Processing row 5095:  93%|█████████▎| 5095/5455 [1:50:30<02:21,  2.55it/s]"
     ]
    },
    {
     "name": "stdout",
     "output_type": "stream",
     "text": [
      "Exception at row 4955\n",
      "'NoneType' object has no attribute 'find'\n",
      "Exception at row 4977\n",
      "'NoneType' object has no attribute 'find'\n",
      "Exception at row 5094\n",
      "'NoneType' object has no attribute 'find'\n"
     ]
    },
    {
     "name": "stderr",
     "output_type": "stream",
     "text": [
      "Processing row 5096:  93%|█████████▎| 5096/5455 [1:50:30<02:09,  2.77it/s]"
     ]
    },
    {
     "name": "stdout",
     "output_type": "stream",
     "text": [
      "Exception at row 4956\n",
      "'NoneType' object has no attribute 'find'\n",
      "Exception at row 4978\n",
      "'NoneType' object has no attribute 'find'\n",
      "Exception at row 5095\n",
      "'NoneType' object has no attribute 'find'\n"
     ]
    },
    {
     "name": "stderr",
     "output_type": "stream",
     "text": [
      "Processing row 5097:  93%|█████████▎| 5097/5455 [1:50:30<02:01,  2.94it/s]"
     ]
    },
    {
     "name": "stdout",
     "output_type": "stream",
     "text": [
      "Exception at row 4957\n",
      "'NoneType' object has no attribute 'find'\n",
      "Exception at row 4979\n",
      "'NoneType' object has no attribute 'find'\n",
      "Exception at row 5096\n",
      "'NoneType' object has no attribute 'find'\n"
     ]
    },
    {
     "name": "stderr",
     "output_type": "stream",
     "text": [
      "Processing row 5098:  93%|█████████▎| 5098/5455 [1:50:30<01:57,  3.04it/s]"
     ]
    },
    {
     "name": "stdout",
     "output_type": "stream",
     "text": [
      "Exception at row 4958\n",
      "'NoneType' object has no attribute 'find'\n",
      "Exception at row 5097\n",
      "'NoneType' object has no attribute 'find'\n"
     ]
    },
    {
     "name": "stderr",
     "output_type": "stream",
     "text": [
      "Processing row 5099:  93%|█████████▎| 5099/5455 [1:50:31<01:54,  3.12it/s]"
     ]
    },
    {
     "name": "stdout",
     "output_type": "stream",
     "text": [
      "Exception at row 4959\n",
      "'NoneType' object has no attribute 'find'\n",
      "Exception at row 4981\n",
      "'NoneType' object has no attribute 'find'\n",
      "Exception at row 5098\n",
      "'NoneType' object has no attribute 'find'\n"
     ]
    },
    {
     "name": "stderr",
     "output_type": "stream",
     "text": [
      "Processing row 5100:  93%|█████████▎| 5100/5455 [1:50:31<01:51,  3.18it/s]"
     ]
    },
    {
     "name": "stdout",
     "output_type": "stream",
     "text": [
      "Exception at row 4960\n",
      "'NoneType' object has no attribute 'find'\n",
      "Exception at row 4983\n",
      "'NoneType' object has no attribute 'find'\n",
      "Exception at row 5099\n",
      "'NoneType' object has no attribute 'find'\n"
     ]
    },
    {
     "name": "stderr",
     "output_type": "stream",
     "text": [
      "Processing row 5102:  94%|█████████▎| 5101/5455 [1:50:31<01:49,  3.24it/s]"
     ]
    },
    {
     "name": "stdout",
     "output_type": "stream",
     "text": [
      "Exception at row 4961\n",
      "'NoneType' object has no attribute 'find'\n",
      "Exception at row 4985\n",
      "'NoneType' object has no attribute 'find'\n",
      "Exception at row 5100\n",
      "'NoneType' object has no attribute 'find'\n"
     ]
    },
    {
     "name": "stderr",
     "output_type": "stream",
     "text": [
      "Processing row 5104:  94%|█████████▎| 5103/5455 [1:50:32<01:32,  3.79it/s]"
     ]
    },
    {
     "name": "stdout",
     "output_type": "stream",
     "text": [
      "Exception at row 4962\n",
      "'NoneType' object has no attribute 'find'\n",
      "Exception at row 4986\n",
      "'NoneType' object has no attribute 'find'\n",
      "Exception at row 5102\n",
      "'NoneType' object has no attribute 'find'\n"
     ]
    },
    {
     "name": "stderr",
     "output_type": "stream",
     "text": [
      "Processing row 5105:  94%|█████████▎| 5105/5455 [1:50:32<01:19,  4.38it/s]"
     ]
    },
    {
     "name": "stdout",
     "output_type": "stream",
     "text": [
      "Exception at row 4963\n",
      "'NoneType' object has no attribute 'find'\n",
      "Exception at row 4987\n",
      "'NoneType' object has no attribute 'find'\n",
      "Exception at row 5104\n",
      "'NoneType' object has no attribute 'find'\n"
     ]
    },
    {
     "name": "stderr",
     "output_type": "stream",
     "text": [
      "Processing row 5107:  94%|█████████▎| 5106/5455 [1:50:32<01:27,  3.97it/s]"
     ]
    },
    {
     "name": "stdout",
     "output_type": "stream",
     "text": [
      "Exception at row 4964\n",
      "'NoneType' object has no attribute 'find'\n",
      "Exception at row 4988\n",
      "'NoneType' object has no attribute 'find'\n",
      "Exception at row 5105\n",
      "'NoneType' object has no attribute 'find'\n"
     ]
    },
    {
     "name": "stderr",
     "output_type": "stream",
     "text": [
      "Processing row 5110:  94%|█████████▎| 5108/5455 [1:50:33<01:16,  4.53it/s]"
     ]
    },
    {
     "name": "stdout",
     "output_type": "stream",
     "text": [
      "Exception at row 4989\n",
      "'NoneType' object has no attribute 'find'\n",
      "Exception at row 5107\n",
      "'NoneType' object has no attribute 'find'\n"
     ]
    },
    {
     "name": "stderr",
     "output_type": "stream",
     "text": [
      "Processing row 4993:  91%|█████████▏| 4991/5456 [1:50:33<02:14,  3.45it/s]"
     ]
    },
    {
     "name": "stdout",
     "output_type": "stream",
     "text": [
      "Exception at row 4990Exception at row 5110\n",
      "\n",
      "'NoneType' object has no attribute 'find'\n",
      "'NoneType' object has no attribute 'find'\n"
     ]
    },
    {
     "name": "stderr",
     "output_type": "stream",
     "text": [
      "Processing row 4994:  92%|█████████▏| 4994/5456 [1:50:33<01:48,  4.27it/s]"
     ]
    },
    {
     "name": "stdout",
     "output_type": "stream",
     "text": [
      "Exception at row 5111\n",
      "'NoneType' object has no attribute 'find'\n",
      "Exception at row 4993\n",
      "'NoneType' object has no attribute 'find'\n"
     ]
    },
    {
     "name": "stderr",
     "output_type": "stream",
     "text": [
      "Processing row 4996:  92%|█████████▏| 4995/5456 [1:50:33<01:59,  3.87it/s]"
     ]
    },
    {
     "name": "stdout",
     "output_type": "stream",
     "text": [
      "Exception at row 4994\n",
      "'NoneType' object has no attribute 'find'\n"
     ]
    },
    {
     "name": "stderr",
     "output_type": "stream",
     "text": [
      "Processing row 5114:  94%|█████████▎| 5114/5455 [1:50:34<01:26,  3.93it/s]"
     ]
    },
    {
     "name": "stdout",
     "output_type": "stream",
     "text": [
      "Exception at row 4996\n",
      "'NoneType' object has no attribute 'find'\n",
      "Exception at row 5113\n",
      "'NoneType' object has no attribute 'find'\n"
     ]
    },
    {
     "name": "stderr",
     "output_type": "stream",
     "text": [
      "Processing row 4998:  92%|█████████▏| 4998/5456 [1:50:34<01:56,  3.94it/s]"
     ]
    },
    {
     "name": "stdout",
     "output_type": "stream",
     "text": [
      "Exception at row 4997\n",
      "'NoneType' object has no attribute 'find'\n"
     ]
    },
    {
     "name": "stderr",
     "output_type": "stream",
     "text": [
      "Processing row 4966:  91%|█████████ | 4966/5455 [1:50:34<07:05,  1.15it/s]"
     ]
    },
    {
     "name": "stdout",
     "output_type": "stream",
     "text": [
      "Exception at row 4965\n",
      "'NoneType' object has no attribute 'find'\n"
     ]
    },
    {
     "name": "stderr",
     "output_type": "stream",
     "text": [
      "Processing row 4967:  91%|█████████ | 4967/5455 [1:50:35<05:41,  1.43it/s]"
     ]
    },
    {
     "name": "stdout",
     "output_type": "stream",
     "text": [
      "Exception at row 4998\n",
      "'NoneType' object has no attribute 'find'\n",
      "Exception at row 4966\n",
      "'NoneType' object has no attribute 'find'\n"
     ]
    },
    {
     "name": "stderr",
     "output_type": "stream",
     "text": [
      "Processing row 4968:  91%|█████████ | 4968/5455 [1:50:35<04:42,  1.73it/s]"
     ]
    },
    {
     "name": "stdout",
     "output_type": "stream",
     "text": [
      "Exception at row 4999\n",
      "'NoneType' object has no attribute 'find'\n",
      "Exception at row 4967\n",
      "'NoneType' object has no attribute 'find'\n"
     ]
    },
    {
     "name": "stderr",
     "output_type": "stream",
     "text": [
      "Processing row 5002:  92%|█████████▏| 5002/5456 [1:50:35<02:06,  3.60it/s]"
     ]
    },
    {
     "name": "stdout",
     "output_type": "stream",
     "text": [
      "Exception at row 5115\n",
      "'NoneType' object has no attribute 'find'\n",
      "Exception at row 4968\n",
      "'NoneType' object has no attribute 'find'\n",
      "Exception at row 5001\n",
      "'NoneType' object has no attribute 'find'\n"
     ]
    },
    {
     "name": "stderr",
     "output_type": "stream",
     "text": [
      "Processing row 5004:  92%|█████████▏| 5003/5456 [1:50:36<02:08,  3.52it/s]"
     ]
    },
    {
     "name": "stdout",
     "output_type": "stream",
     "text": [
      "Exception at row 5116\n",
      "'NoneType' object has no attribute 'find'\n",
      "Exception at row 4969\n",
      "'NoneType' object has no attribute 'find'\n",
      "Exception at row 5002\n",
      "'NoneType' object has no attribute 'find'\n"
     ]
    },
    {
     "name": "stderr",
     "output_type": "stream",
     "text": [
      "Processing row 5006:  92%|█████████▏| 5005/5456 [1:50:36<01:51,  4.04it/s]"
     ]
    },
    {
     "name": "stdout",
     "output_type": "stream",
     "text": [
      "Exception at row 5117\n",
      "'NoneType' object has no attribute 'find'\n",
      "Exception at row 4970\n",
      "'NoneType' object has no attribute 'find'\n",
      "Exception at row 5004\n",
      "'NoneType' object has no attribute 'find'\n"
     ]
    },
    {
     "name": "stderr",
     "output_type": "stream",
     "text": [
      "Processing row 5007:  92%|█████████▏| 5007/5456 [1:50:36<01:38,  4.54it/s]"
     ]
    },
    {
     "name": "stdout",
     "output_type": "stream",
     "text": [
      "Exception at row 5118\n",
      "'NoneType' object has no attribute 'find'\n",
      "Exception at row 4971\n",
      "'NoneType' object has no attribute 'find'\n",
      "Exception at row 5006\n",
      "'NoneType' object has no attribute 'find'\n"
     ]
    },
    {
     "name": "stderr",
     "output_type": "stream",
     "text": [
      "Processing row 5010:  92%|█████████▏| 5008/5456 [1:50:36<01:51,  4.02it/s]"
     ]
    },
    {
     "name": "stdout",
     "output_type": "stream",
     "text": [
      "Exception at row 5121\n",
      "'NoneType' object has no attribute 'find'\n",
      "Exception at row 4972\n",
      "'NoneType' object has no attribute 'find'\n",
      "Exception at row 5007\n",
      "'NoneType' object has no attribute 'find'\n"
     ]
    },
    {
     "name": "stderr",
     "output_type": "stream",
     "text": [
      "Processing row 4974:  91%|█████████ | 4974/5455 [1:50:37<02:46,  2.88it/s]"
     ]
    },
    {
     "name": "stdout",
     "output_type": "stream",
     "text": [
      "Exception at row 5122\n",
      "'NoneType' object has no attribute 'find'\n",
      "Exception at row 5010\n",
      "'NoneType' object has no attribute 'find'\n",
      "Exception at row 4973\n",
      "'NoneType' object has no attribute 'find'\n"
     ]
    },
    {
     "name": "stderr",
     "output_type": "stream",
     "text": [
      "Processing row 5012:  92%|█████████▏| 5012/5456 [1:50:37<01:47,  4.13it/s]"
     ]
    },
    {
     "name": "stdout",
     "output_type": "stream",
     "text": [
      "Exception at row 5123\n",
      "'NoneType' object has no attribute 'find'\n",
      "Exception at row 4974\n",
      "'NoneType' object has no attribute 'find'\n",
      "Exception at row 5011\n",
      "'NoneType' object has no attribute 'find'\n"
     ]
    },
    {
     "name": "stderr",
     "output_type": "stream",
     "text": [
      "Processing row 5013:  92%|█████████▏| 5013/5456 [1:50:37<01:55,  3.83it/s]"
     ]
    },
    {
     "name": "stdout",
     "output_type": "stream",
     "text": [
      "Exception at row 5125\n",
      "'NoneType' object has no attribute 'find'\n",
      "Exception at row 4975\n",
      "'NoneType' object has no attribute 'find'\n",
      "Exception at row 5012\n",
      "'NoneType' object has no attribute 'find'\n"
     ]
    },
    {
     "name": "stderr",
     "output_type": "stream",
     "text": [
      "Processing row 5014:  92%|█████████▏| 5014/5456 [1:50:38<02:01,  3.64it/s]"
     ]
    },
    {
     "name": "stdout",
     "output_type": "stream",
     "text": [
      "Exception at row 5126\n",
      "'NoneType' object has no attribute 'find'\n",
      "Exception at row 4976\n",
      "'NoneType' object has no attribute 'find'\n",
      "Exception at row 5013\n",
      "'NoneType' object has no attribute 'find'\n"
     ]
    },
    {
     "name": "stderr",
     "output_type": "stream",
     "text": [
      "Processing row 4978:  91%|█████████▏| 4978/5455 [1:50:38<02:30,  3.17it/s]"
     ]
    },
    {
     "name": "stdout",
     "output_type": "stream",
     "text": [
      "Exception at row 5128\n",
      "'NoneType' object has no attribute 'find'\n",
      "Exception at row 4977\n",
      "'NoneType' object has no attribute 'find'\n"
     ]
    },
    {
     "name": "stderr",
     "output_type": "stream",
     "text": [
      "Processing row 4979:  91%|█████████▏| 4979/5455 [1:50:38<02:29,  3.19it/s]"
     ]
    },
    {
     "name": "stdout",
     "output_type": "stream",
     "text": [
      "Exception at row 5129\n",
      "'NoneType' object has no attribute 'find'\n",
      "Exception at row 4978\n",
      "'NoneType' object has no attribute 'find'\n"
     ]
    },
    {
     "name": "stderr",
     "output_type": "stream",
     "text": [
      "Processing row 4981:  91%|█████████▏| 4980/5455 [1:50:39<02:28,  3.20it/s]"
     ]
    },
    {
     "name": "stdout",
     "output_type": "stream",
     "text": [
      "Exception at row 5130\n",
      "'NoneType' object has no attribute 'find'\n",
      "Exception at row 4979\n",
      "'NoneType' object has no attribute 'find'\n"
     ]
    },
    {
     "name": "stderr",
     "output_type": "stream",
     "text": [
      "Processing row 4982:  91%|█████████▏| 4982/5455 [1:50:39<02:04,  3.80it/s]"
     ]
    },
    {
     "name": "stdout",
     "output_type": "stream",
     "text": [
      "Exception at row 5131\n",
      "'NoneType' object has no attribute 'find'\n",
      "Exception at row 4981\n",
      "'NoneType' object has no attribute 'find'\n"
     ]
    },
    {
     "name": "stderr",
     "output_type": "stream",
     "text": [
      "Processing row 5133:  94%|█████████▍| 5133/5455 [1:50:39<01:31,  3.54it/s]"
     ]
    },
    {
     "name": "stdout",
     "output_type": "stream",
     "text": [
      "Exception at row 5132\n",
      "'NoneType' object has no attribute 'find'\n"
     ]
    },
    {
     "name": "stderr",
     "output_type": "stream",
     "text": [
      "Processing row 5017:  92%|█████████▏| 5015/5456 [1:50:39<05:13,  1.41it/s]"
     ]
    },
    {
     "name": "stdout",
     "output_type": "stream",
     "text": [
      "Exception at row 5133\n",
      "'NoneType' object has no attribute 'find'\n",
      "Exception at row 4982\n",
      "'NoneType' object has no attribute 'find'\n"
     ]
    },
    {
     "name": "stderr",
     "output_type": "stream",
     "text": [
      "Processing row 5018:  92%|█████████▏| 5018/5456 [1:50:40<03:50,  1.90it/s]"
     ]
    },
    {
     "name": "stdout",
     "output_type": "stream",
     "text": [
      "Exception at row 5134\n",
      "'NoneType' object has no attribute 'find'\n",
      "Exception at row 4983\n",
      "'NoneType' object has no attribute 'find'\n",
      "Exception at row 5017\n",
      "'NoneType' object has no attribute 'find'\n"
     ]
    },
    {
     "name": "stderr",
     "output_type": "stream",
     "text": [
      "Processing row 4985:  91%|█████████▏| 4985/5455 [1:50:40<02:27,  3.19it/s]"
     ]
    },
    {
     "name": "stdout",
     "output_type": "stream",
     "text": [
      "Exception at row 5135\n",
      "'NoneType' object has no attribute 'find'\n",
      "Exception at row 5018\n",
      "'NoneType' object has no attribute 'find'\n",
      "Exception at row 4984\n",
      "'NoneType' object has no attribute 'find'\n"
     ]
    },
    {
     "name": "stderr",
     "output_type": "stream",
     "text": [
      "Processing row 4986:  91%|█████████▏| 4986/5455 [1:50:40<02:24,  3.26it/s]"
     ]
    },
    {
     "name": "stdout",
     "output_type": "stream",
     "text": [
      "Exception at row 5019\n",
      "'NoneType' object has no attribute 'find'\n",
      "Exception at row 4985\n",
      "'NoneType' object has no attribute 'find'\n"
     ]
    },
    {
     "name": "stderr",
     "output_type": "stream",
     "text": [
      "Processing row 4987:  91%|█████████▏| 4987/5455 [1:50:41<02:18,  3.38it/s]"
     ]
    },
    {
     "name": "stdout",
     "output_type": "stream",
     "text": [
      "Exception at row 5021\n",
      "'NoneType' object has no attribute 'find'\n",
      "Exception at row 4986\n",
      "'NoneType' object has no attribute 'find'\n"
     ]
    },
    {
     "name": "stderr",
     "output_type": "stream",
     "text": [
      "Processing row 4988:  91%|█████████▏| 4988/5455 [1:50:41<02:15,  3.46it/s]"
     ]
    },
    {
     "name": "stdout",
     "output_type": "stream",
     "text": [
      "Exception at row 5022\n",
      "'NoneType' object has no attribute 'find'\n",
      "Exception at row 4987\n",
      "'NoneType' object has no attribute 'find'\n"
     ]
    },
    {
     "name": "stderr",
     "output_type": "stream",
     "text": [
      "Processing row 4989:  91%|█████████▏| 4989/5455 [1:50:41<02:11,  3.54it/s]"
     ]
    },
    {
     "name": "stdout",
     "output_type": "stream",
     "text": [
      "Exception at row 5025\n",
      "'NoneType' object has no attribute 'find'\n",
      "Exception at row 4988\n",
      "'NoneType' object has no attribute 'find'\n"
     ]
    },
    {
     "name": "stderr",
     "output_type": "stream",
     "text": [
      "Processing row 5028:  92%|█████████▏| 5027/5456 [1:50:41<01:48,  3.96it/s]"
     ]
    },
    {
     "name": "stdout",
     "output_type": "stream",
     "text": [
      "Exception at row 5026\n",
      "'NoneType' object has no attribute 'find'\n",
      "Exception at row 4989\n",
      "'NoneType' object has no attribute 'find'\n"
     ]
    },
    {
     "name": "stderr",
     "output_type": "stream",
     "text": [
      "Processing row 5029:  92%|█████████▏| 5029/5456 [1:50:42<01:34,  4.52it/s]"
     ]
    },
    {
     "name": "stdout",
     "output_type": "stream",
     "text": [
      "Exception at row 4990\n",
      "'NoneType' object has no attribute 'find'\n",
      "Exception at row 5028\n",
      "'NoneType' object has no attribute 'find'\n"
     ]
    },
    {
     "name": "stderr",
     "output_type": "stream",
     "text": [
      "Processing row 5030:  92%|█████████▏| 5030/5456 [1:50:42<01:39,  4.26it/s]"
     ]
    },
    {
     "name": "stdout",
     "output_type": "stream",
     "text": [
      "Exception at row 4991\n",
      "'NoneType' object has no attribute 'find'\n",
      "Exception at row 5029\n",
      "'NoneType' object has no attribute 'find'\n"
     ]
    },
    {
     "name": "stderr",
     "output_type": "stream",
     "text": [
      "Processing row 5137:  94%|█████████▍| 5137/5455 [1:50:42<04:38,  1.14it/s]"
     ]
    },
    {
     "name": "stdout",
     "output_type": "stream",
     "text": [
      "Exception at row 4992Exception at row 5030\n",
      "'NoneType' object has no attribute 'find'\n",
      "\n",
      "'NoneType' object has no attribute 'find'\n"
     ]
    },
    {
     "name": "stderr",
     "output_type": "stream",
     "text": [
      "Processing row 5138:  94%|█████████▍| 5138/5455 [1:50:43<03:40,  1.43it/s]"
     ]
    },
    {
     "name": "stdout",
     "output_type": "stream",
     "text": [
      "Exception at row 4993\n",
      "'NoneType' object has no attribute 'find'\n",
      "Exception at row 5137\n",
      "'NoneType' object has no attribute 'find'\n"
     ]
    },
    {
     "name": "stderr",
     "output_type": "stream",
     "text": [
      "Processing row 5139:  94%|█████████▍| 5139/5455 [1:50:43<03:00,  1.75it/s]"
     ]
    },
    {
     "name": "stdout",
     "output_type": "stream",
     "text": [
      "Exception at row 4994\n",
      "'NoneType' object has no attribute 'find'\n",
      "Exception at row 5138\n",
      "'NoneType' object has no attribute 'find'\n"
     ]
    },
    {
     "name": "stderr",
     "output_type": "stream",
     "text": [
      "Processing row 5140:  94%|█████████▍| 5140/5455 [1:50:43<02:30,  2.09it/s]"
     ]
    },
    {
     "name": "stdout",
     "output_type": "stream",
     "text": [
      "Exception at row 5139\n",
      "'NoneType' object has no attribute 'find'\n"
     ]
    },
    {
     "name": "stderr",
     "output_type": "stream",
     "text": [
      "Processing row 5033:  92%|█████████▏| 5033/5456 [1:50:45<05:02,  1.40it/s]"
     ]
    },
    {
     "name": "stdout",
     "output_type": "stream",
     "text": [
      "Exception at row 5032\n",
      "'NoneType' object has no attribute 'find'\n"
     ]
    },
    {
     "name": "stderr",
     "output_type": "stream",
     "text": [
      "Processing row 4996:  92%|█████████▏| 4996/5455 [1:50:45<07:21,  1.04it/s]"
     ]
    },
    {
     "name": "stdout",
     "output_type": "stream",
     "text": [
      "Exception at row 5033\n",
      "'NoneType' object has no attribute 'find'\n",
      "Exception at row 4995\n",
      "'NoneType' object has no attribute 'find'\n"
     ]
    },
    {
     "name": "stderr",
     "output_type": "stream",
     "text": [
      "Processing row 4999:  92%|█████████▏| 4997/5455 [1:50:46<05:46,  1.32it/s]"
     ]
    },
    {
     "name": "stdout",
     "output_type": "stream",
     "text": [
      "Exception at row 5140\n",
      "'NoneType' object has no attribute 'find'\n",
      "Exception at row 4996\n",
      "'NoneType' object has no attribute 'find'\n"
     ]
    },
    {
     "name": "stderr",
     "output_type": "stream",
     "text": [
      "Processing row 5000:  92%|█████████▏| 5000/5455 [1:50:46<04:12,  1.80it/s]"
     ]
    },
    {
     "name": "stdout",
     "output_type": "stream",
     "text": [
      "Exception at row 5141\n",
      "'NoneType' object has no attribute 'find'\n",
      "Exception at row 4999\n",
      "'NoneType' object has no attribute 'find'\n"
     ]
    },
    {
     "name": "stderr",
     "output_type": "stream",
     "text": [
      "Processing row 5001:  92%|█████████▏| 5001/5455 [1:50:46<03:32,  2.13it/s]"
     ]
    },
    {
     "name": "stdout",
     "output_type": "stream",
     "text": [
      "Exception at row 5142\n",
      "'NoneType' object has no attribute 'find'\n",
      "Exception at row 5000\n",
      "'NoneType' object has no attribute 'find'\n"
     ]
    },
    {
     "name": "stderr",
     "output_type": "stream",
     "text": [
      "Processing row 5002:  92%|█████████▏| 5002/5455 [1:50:46<03:04,  2.46it/s]"
     ]
    },
    {
     "name": "stdout",
     "output_type": "stream",
     "text": [
      "Exception at row 5143\n",
      "'NoneType' object has no attribute 'find'\n",
      "Exception at row 5001\n",
      "'NoneType' object has no attribute 'find'\n"
     ]
    },
    {
     "name": "stderr",
     "output_type": "stream",
     "text": [
      "Processing row 5005:  92%|█████████▏| 5003/5455 [1:50:47<02:43,  2.77it/s]"
     ]
    },
    {
     "name": "stdout",
     "output_type": "stream",
     "text": [
      "Exception at row 5144\n",
      "'NoneType' object has no attribute 'find'\n",
      "Exception at row 5002\n",
      "'NoneType' object has no attribute 'find'\n"
     ]
    },
    {
     "name": "stderr",
     "output_type": "stream",
     "text": [
      "Processing row 5008:  92%|█████████▏| 5006/5455 [1:50:47<02:05,  3.57it/s]"
     ]
    },
    {
     "name": "stdout",
     "output_type": "stream",
     "text": [
      "Exception at row 5145\n",
      "'NoneType' object has no attribute 'find'\n",
      "Exception at row 5005\n",
      "'NoneType' object has no attribute 'find'\n"
     ]
    },
    {
     "name": "stderr",
     "output_type": "stream",
     "text": [
      "Processing row 5009:  92%|█████████▏| 5009/5455 [1:50:47<01:39,  4.49it/s]"
     ]
    },
    {
     "name": "stdout",
     "output_type": "stream",
     "text": [
      "Exception at row 5008\n",
      "'NoneType' object has no attribute 'find'\n"
     ]
    },
    {
     "name": "stderr",
     "output_type": "stream",
     "text": [
      "Processing row 5010:  92%|█████████▏| 5010/5455 [1:50:47<01:44,  4.26it/s]"
     ]
    },
    {
     "name": "stdout",
     "output_type": "stream",
     "text": [
      "Exception at row 5009\n",
      "'NoneType' object has no attribute 'find'\n"
     ]
    },
    {
     "name": "stderr",
     "output_type": "stream",
     "text": [
      "Processing row 5035:  92%|█████████▏| 5035/5456 [1:50:48<08:15,  1.18s/it]"
     ]
    },
    {
     "name": "stdout",
     "output_type": "stream",
     "text": [
      "Exception at row 5010\n",
      "'NoneType' object has no attribute 'find'\n",
      "Exception at row 5034\n",
      "'NoneType' object has no attribute 'find'\n"
     ]
    },
    {
     "name": "stderr",
     "output_type": "stream",
     "text": [
      "Processing row 5036:  92%|█████████▏| 5036/5456 [1:50:48<06:20,  1.10it/s]"
     ]
    },
    {
     "name": "stdout",
     "output_type": "stream",
     "text": [
      "Exception at row 5011\n",
      "'NoneType' object has no attribute 'find'\n",
      "Exception at row 5035\n",
      "'NoneType' object has no attribute 'find'\n"
     ]
    },
    {
     "name": "stderr",
     "output_type": "stream",
     "text": [
      "Processing row 5041:  92%|█████████▏| 5037/5456 [1:50:48<04:59,  1.40it/s]"
     ]
    },
    {
     "name": "stdout",
     "output_type": "stream",
     "text": [
      "Exception at row 5012\n",
      "'NoneType' object has no attribute 'find'\n",
      "Exception at row 5036\n",
      "'NoneType' object has no attribute 'find'\n"
     ]
    },
    {
     "name": "stderr",
     "output_type": "stream",
     "text": [
      "Processing row 5042:  92%|█████████▏| 5042/5456 [1:50:49<03:33,  1.94it/s]"
     ]
    },
    {
     "name": "stdout",
     "output_type": "stream",
     "text": [
      "Exception at row 5147\n",
      "'NoneType' object has no attribute 'find'\n",
      "Exception at row 5014\n",
      "'NoneType' object has no attribute 'find'\n",
      "Exception at row 5041\n",
      "'NoneType' object has no attribute 'find'\n"
     ]
    },
    {
     "name": "stderr",
     "output_type": "stream",
     "text": [
      "Processing row 5043:  92%|█████████▏| 5043/5456 [1:50:49<03:03,  2.25it/s]"
     ]
    },
    {
     "name": "stdout",
     "output_type": "stream",
     "text": [
      "Exception at row 5148\n",
      "'NoneType' object has no attribute 'find'\n",
      "Exception at row 5015\n",
      "'NoneType' object has no attribute 'find'\n",
      "Exception at row 5042\n",
      "'NoneType' object has no attribute 'find'\n"
     ]
    },
    {
     "name": "stderr",
     "output_type": "stream",
     "text": [
      "Processing row 5047:  92%|█████████▏| 5044/5456 [1:50:49<02:40,  2.56it/s]"
     ]
    },
    {
     "name": "stdout",
     "output_type": "stream",
     "text": [
      "Exception at row 5149\n",
      "'NoneType' object has no attribute 'find'\n",
      "Exception at row 5016\n",
      "'NoneType' object has no attribute 'find'\n",
      "Exception at row 5043\n",
      "'NoneType' object has no attribute 'find'\n"
     ]
    },
    {
     "name": "stderr",
     "output_type": "stream",
     "text": [
      "Processing row 5018:  92%|█████████▏| 5018/5455 [1:50:49<01:54,  3.81it/s]"
     ]
    },
    {
     "name": "stdout",
     "output_type": "stream",
     "text": [
      "Exception at row 5150\n",
      "'NoneType' object has no attribute 'find'\n",
      "Exception at row 5047\n",
      "'NoneType' object has no attribute 'find'\n",
      "Exception at row 5017\n",
      "'NoneType' object has no attribute 'find'\n"
     ]
    },
    {
     "name": "stderr",
     "output_type": "stream",
     "text": [
      "Processing row 5020:  92%|█████████▏| 5019/5455 [1:50:50<01:56,  3.73it/s]"
     ]
    },
    {
     "name": "stdout",
     "output_type": "stream",
     "text": [
      "Exception at row 5151\n",
      "'NoneType' object has no attribute 'find'\n",
      "Exception at row 5018\n",
      "'NoneType' object has no attribute 'find'Exception at row 5048\n",
      "\n",
      "'NoneType' object has no attribute 'find'\n"
     ]
    },
    {
     "name": "stderr",
     "output_type": "stream",
     "text": [
      "Processing row 5021:  92%|█████████▏| 5021/5455 [1:50:50<01:40,  4.33it/s]"
     ]
    },
    {
     "name": "stdout",
     "output_type": "stream",
     "text": [
      "Exception at row 5152\n",
      "'NoneType' object has no attribute 'find'\n",
      "Exception at row 5050\n",
      "'NoneType' object has no attribute 'find'\n",
      "Exception at row 5020\n",
      "'NoneType' object has no attribute 'find'\n"
     ]
    },
    {
     "name": "stderr",
     "output_type": "stream",
     "text": [
      "Processing row 5022:  92%|█████████▏| 5022/5455 [1:50:50<01:45,  4.11it/s]"
     ]
    },
    {
     "name": "stdout",
     "output_type": "stream",
     "text": [
      "Exception at row 5153\n",
      "'NoneType' object has no attribute 'find'\n",
      "Exception at row 5052\n",
      "'NoneType' object has no attribute 'find'\n",
      "Exception at row 5021\n",
      "'NoneType' object has no attribute 'find'\n"
     ]
    },
    {
     "name": "stderr",
     "output_type": "stream",
     "text": [
      "Processing row 5023:  92%|█████████▏| 5023/5455 [1:50:51<01:48,  3.98it/s]"
     ]
    },
    {
     "name": "stdout",
     "output_type": "stream",
     "text": [
      "Exception at row 5154\n",
      "'NoneType' object has no attribute 'find'\n",
      "Exception at row 5053\n",
      "'NoneType' object has no attribute 'find'\n",
      "Exception at row 5022\n",
      "'NoneType' object has no attribute 'find'\n"
     ]
    },
    {
     "name": "stderr",
     "output_type": "stream",
     "text": [
      "Processing row 5024:  92%|█████████▏| 5024/5455 [1:50:51<01:49,  3.94it/s]"
     ]
    },
    {
     "name": "stdout",
     "output_type": "stream",
     "text": [
      "Exception at row 5155\n",
      "'NoneType' object has no attribute 'find'\n",
      "Exception at row 5054\n",
      "'NoneType' object has no attribute 'find'\n",
      "Exception at row 5023\n",
      "'NoneType' object has no attribute 'find'\n"
     ]
    },
    {
     "name": "stderr",
     "output_type": "stream",
     "text": [
      "Processing row 5025:  92%|█████████▏| 5025/5455 [1:50:51<01:51,  3.86it/s]"
     ]
    },
    {
     "name": "stdout",
     "output_type": "stream",
     "text": [
      "Exception at row 5156\n",
      "'NoneType' object has no attribute 'find'\n",
      "Exception at row 5055\n",
      "'NoneType' object has no attribute 'find'\n",
      "Exception at row 5024\n",
      "'NoneType' object has no attribute 'find'\n"
     ]
    },
    {
     "name": "stderr",
     "output_type": "stream",
     "text": [
      "Processing row 5026:  92%|█████████▏| 5026/5455 [1:50:51<01:51,  3.84it/s]"
     ]
    },
    {
     "name": "stdout",
     "output_type": "stream",
     "text": [
      "Exception at row 5157\n",
      "'NoneType' object has no attribute 'find'\n",
      "Exception at row 5057\n",
      "'NoneType' object has no attribute 'find'\n",
      "Exception at row 5025\n",
      "'NoneType' object has no attribute 'find'\n"
     ]
    },
    {
     "name": "stderr",
     "output_type": "stream",
     "text": [
      "Processing row 5061:  93%|█████████▎| 5060/5456 [1:50:52<01:15,  5.25it/s]"
     ]
    },
    {
     "name": "stdout",
     "output_type": "stream",
     "text": [
      "Exception at row 5158\n",
      "'NoneType' object has no attribute 'find'\n",
      "Exception at row 5059\n",
      "'NoneType' object has no attribute 'find'\n"
     ]
    },
    {
     "name": "stderr",
     "output_type": "stream",
     "text": [
      "Processing row 5065:  93%|█████████▎| 5062/5456 [1:50:52<01:08,  5.79it/s]"
     ]
    },
    {
     "name": "stdout",
     "output_type": "stream",
     "text": [
      "Exception at row 5159\n",
      "'NoneType' object has no attribute 'find'\n",
      "Exception at row 5061\n",
      "'NoneType' object has no attribute 'find'\n"
     ]
    },
    {
     "name": "stderr",
     "output_type": "stream",
     "text": [
      "Processing row 5066:  93%|█████████▎| 5066/5456 [1:50:52<00:55,  7.09it/s]"
     ]
    },
    {
     "name": "stdout",
     "output_type": "stream",
     "text": [
      "Exception at row 5160\n",
      "'NoneType' object has no attribute 'find'\n",
      "Exception at row 5065\n",
      "'NoneType' object has no attribute 'find'\n"
     ]
    },
    {
     "name": "stderr",
     "output_type": "stream",
     "text": [
      "Processing row 5161:  95%|█████████▍| 5162/5455 [1:50:53<01:43,  2.83it/s]"
     ]
    },
    {
     "name": "stdout",
     "output_type": "stream",
     "text": [
      "Exception at row 5066\n",
      "'NoneType' object has no attribute 'find'\n",
      "Exception at row 5161\n",
      "'NoneType' object has no attribute 'find'\n"
     ]
    },
    {
     "name": "stderr",
     "output_type": "stream",
     "text": [
      "Processing row 5163:  95%|█████████▍| 5163/5455 [1:50:53<01:34,  3.08it/s]"
     ]
    },
    {
     "name": "stdout",
     "output_type": "stream",
     "text": [
      "Exception at row 5067\n",
      "'NoneType' object has no attribute 'find'\n",
      "Exception at row 5162\n",
      "'NoneType' object has no attribute 'find'\n"
     ]
    },
    {
     "name": "stderr",
     "output_type": "stream",
     "text": [
      "Processing row 5164:  95%|█████████▍| 5164/5455 [1:50:53<01:28,  3.28it/s]"
     ]
    },
    {
     "name": "stdout",
     "output_type": "stream",
     "text": [
      "Exception at row 5068\n",
      "'NoneType' object has no attribute 'find'\n",
      "Exception at row 5163\n",
      "'NoneType' object has no attribute 'find'\n"
     ]
    },
    {
     "name": "stderr",
     "output_type": "stream",
     "text": [
      "Processing row 5165:  95%|█████████▍| 5165/5455 [1:50:53<01:24,  3.41it/s]"
     ]
    },
    {
     "name": "stdout",
     "output_type": "stream",
     "text": [
      "Exception at row 5069\n",
      "'NoneType' object has no attribute 'find'\n",
      "Exception at row 5164\n",
      "'NoneType' object has no attribute 'find'\n"
     ]
    },
    {
     "name": "stderr",
     "output_type": "stream",
     "text": [
      "Processing row 5166:  95%|█████████▍| 5166/5455 [1:50:54<01:22,  3.52it/s]"
     ]
    },
    {
     "name": "stdout",
     "output_type": "stream",
     "text": [
      "Exception at row 5070\n",
      "'NoneType' object has no attribute 'find'\n",
      "Exception at row 5165\n",
      "'NoneType' object has no attribute 'find'\n"
     ]
    },
    {
     "name": "stderr",
     "output_type": "stream",
     "text": [
      "Processing row 5027:  92%|█████████▏| 5027/5455 [1:50:54<06:31,  1.09it/s]"
     ]
    },
    {
     "name": "stdout",
     "output_type": "stream",
     "text": [
      "Exception at row 5074\n",
      "'NoneType' object has no attribute 'find'\n"
     ]
    },
    {
     "name": "stderr",
     "output_type": "stream",
     "text": [
      "Processing row 5167:  95%|█████████▍| 5167/5455 [1:50:54<01:23,  3.45it/s]"
     ]
    },
    {
     "name": "stdout",
     "output_type": "stream",
     "text": [
      "Exception at row 5166\n",
      "'NoneType' object has no attribute 'find'\n"
     ]
    },
    {
     "name": "stderr",
     "output_type": "stream",
     "text": [
      "Processing row 5168:  95%|█████████▍| 5168/5455 [1:50:54<01:21,  3.54it/s]"
     ]
    },
    {
     "name": "stdout",
     "output_type": "stream",
     "text": [
      "Exception at row 5075\n",
      "'NoneType' object has no attribute 'find'\n",
      "Exception at row 5027\n",
      "'NoneType' object has no attribute 'find'\n",
      "Exception at row 5167\n",
      "'NoneType' object has no attribute 'find'\n"
     ]
    },
    {
     "name": "stderr",
     "output_type": "stream",
     "text": [
      "Processing row 5030:  92%|█████████▏| 5030/5455 [1:50:54<04:06,  1.72it/s]"
     ]
    },
    {
     "name": "stdout",
     "output_type": "stream",
     "text": [
      "Exception at row 5076\n",
      "'NoneType' object has no attribute 'find'\n",
      "Exception at row 5029\n",
      "'NoneType' object has no attribute 'find'\n"
     ]
    },
    {
     "name": "stderr",
     "output_type": "stream",
     "text": [
      "Processing row 5078:  93%|█████████▎| 5078/5456 [1:50:55<01:45,  3.57it/s]"
     ]
    },
    {
     "name": "stdout",
     "output_type": "stream",
     "text": [
      "Exception at row 5077\n",
      "'NoneType' object has no attribute 'find'\n"
     ]
    },
    {
     "name": "stderr",
     "output_type": "stream",
     "text": [
      "Processing row 5079:  93%|█████████▎| 5079/5456 [1:50:55<01:43,  3.63it/s]"
     ]
    },
    {
     "name": "stdout",
     "output_type": "stream",
     "text": [
      "Exception at row 5078\n",
      "'NoneType' object has no attribute 'find'\n"
     ]
    },
    {
     "name": "stderr",
     "output_type": "stream",
     "text": [
      "Processing row 5080:  93%|█████████▎| 5080/5456 [1:50:55<01:42,  3.69it/s]"
     ]
    },
    {
     "name": "stdout",
     "output_type": "stream",
     "text": [
      "Exception at row 5079\n",
      "'NoneType' object has no attribute 'find'\n"
     ]
    },
    {
     "name": "stderr",
     "output_type": "stream",
     "text": [
      "Processing row 5169:  95%|█████████▍| 5169/5455 [1:50:56<03:03,  1.56it/s]"
     ]
    },
    {
     "name": "stdout",
     "output_type": "stream",
     "text": [
      "Exception at row 5080\n",
      "'NoneType' object has no attribute 'find'\n"
     ]
    },
    {
     "name": "stderr",
     "output_type": "stream",
     "text": [
      "Processing row 5170:  95%|█████████▍| 5170/5455 [1:50:56<02:30,  1.89it/s]"
     ]
    },
    {
     "name": "stdout",
     "output_type": "stream",
     "text": [
      "Exception at row 5081\n",
      "'NoneType' object has no attribute 'find'\n",
      "Exception at row 5169\n",
      "'NoneType' object has no attribute 'find'\n"
     ]
    },
    {
     "name": "stderr",
     "output_type": "stream",
     "text": [
      "Processing row 5171:  95%|█████████▍| 5171/5455 [1:50:56<02:07,  2.22it/s]"
     ]
    },
    {
     "name": "stdout",
     "output_type": "stream",
     "text": [
      "Exception at row 5082\n",
      "'NoneType' object has no attribute 'find'\n",
      "Exception at row 5170\n",
      "'NoneType' object has no attribute 'find'\n"
     ]
    },
    {
     "name": "stderr",
     "output_type": "stream",
     "text": [
      "Processing row 5172:  95%|█████████▍| 5172/5455 [1:50:56<01:52,  2.51it/s]"
     ]
    },
    {
     "name": "stdout",
     "output_type": "stream",
     "text": [
      "Exception at row 5083\n",
      "'NoneType' object has no attribute 'find'\n",
      "Exception at row 5171\n",
      "'NoneType' object has no attribute 'find'\n"
     ]
    },
    {
     "name": "stderr",
     "output_type": "stream",
     "text": [
      "Processing row 5033:  92%|█████████▏| 5032/5455 [1:50:57<05:19,  1.32it/s]"
     ]
    },
    {
     "name": "stdout",
     "output_type": "stream",
     "text": [
      "Exception at row 5031\n",
      "'NoneType' object has no attribute 'find'\n"
     ]
    },
    {
     "name": "stderr",
     "output_type": "stream",
     "text": [
      "Processing row 5038:  92%|█████████▏| 5034/5455 [1:50:57<03:59,  1.76it/s]"
     ]
    },
    {
     "name": "stdout",
     "output_type": "stream",
     "text": [
      "Exception at row 5033\n",
      "'NoneType' object has no attribute 'find'\n"
     ]
    },
    {
     "name": "stderr",
     "output_type": "stream",
     "text": [
      "Processing row 5042:  92%|█████████▏| 5039/5455 [1:50:57<02:51,  2.42it/s]"
     ]
    },
    {
     "name": "stdout",
     "output_type": "stream",
     "text": [
      "Exception at row 5038\n",
      "'NoneType' object has no attribute 'find'\n"
     ]
    },
    {
     "name": "stderr",
     "output_type": "stream",
     "text": [
      "Processing row 5174:  95%|█████████▍| 5174/5455 [1:50:59<03:27,  1.35it/s]"
     ]
    },
    {
     "name": "stdout",
     "output_type": "stream",
     "text": [
      "Exception at row 5173\n",
      "'NoneType' object has no attribute 'find'\n"
     ]
    },
    {
     "name": "stderr",
     "output_type": "stream",
     "text": [
      "Processing row 5175:  95%|█████████▍| 5175/5455 [1:50:59<02:47,  1.67it/s]"
     ]
    },
    {
     "name": "stdout",
     "output_type": "stream",
     "text": [
      "Exception at row 5174\n",
      "'NoneType' object has no attribute 'find'\n"
     ]
    },
    {
     "name": "stderr",
     "output_type": "stream",
     "text": [
      "Processing row 5043:  92%|█████████▏| 5043/5455 [1:51:00<03:15,  2.11it/s]"
     ]
    },
    {
     "name": "stdout",
     "output_type": "stream",
     "text": [
      "Exception at row 5175\n",
      "'NoneType' object has no attribute 'find'\n"
     ]
    },
    {
     "name": "stderr",
     "output_type": "stream",
     "text": [
      "Processing row 5044:  92%|█████████▏| 5044/5455 [1:51:00<02:49,  2.43it/s]"
     ]
    },
    {
     "name": "stdout",
     "output_type": "stream",
     "text": [
      "Exception at row 5176\n",
      "'NoneType' object has no attribute 'find'\n",
      "Exception at row 5043\n",
      "'NoneType' object has no attribute 'find'\n"
     ]
    },
    {
     "name": "stderr",
     "output_type": "stream",
     "text": [
      "Processing row 5045:  92%|█████████▏| 5045/5455 [1:51:00<02:29,  2.73it/s]"
     ]
    },
    {
     "name": "stdout",
     "output_type": "stream",
     "text": [
      "Exception at row 5177\n",
      "'NoneType' object has no attribute 'find'\n",
      "Exception at row 5044\n",
      "'NoneType' object has no attribute 'find'\n"
     ]
    },
    {
     "name": "stderr",
     "output_type": "stream",
     "text": [
      "Processing row 5179:  95%|█████████▍| 5179/5455 [1:51:00<01:38,  2.81it/s]"
     ]
    },
    {
     "name": "stdout",
     "output_type": "stream",
     "text": [
      "Exception at row 5178\n",
      "'NoneType' object has no attribute 'find'\n"
     ]
    },
    {
     "name": "stderr",
     "output_type": "stream",
     "text": [
      "Processing row 5180:  95%|█████████▍| 5180/5455 [1:51:01<01:30,  3.05it/s]"
     ]
    },
    {
     "name": "stdout",
     "output_type": "stream",
     "text": [
      "Exception at row 5179\n",
      "'NoneType' object has no attribute 'find'\n"
     ]
    },
    {
     "name": "stderr",
     "output_type": "stream",
     "text": [
      "Processing row 5181:  95%|█████████▍| 5181/5455 [1:51:01<01:23,  3.27it/s]"
     ]
    },
    {
     "name": "stdout",
     "output_type": "stream",
     "text": [
      "Exception at row 5180\n",
      "'NoneType' object has no attribute 'find'\n"
     ]
    },
    {
     "name": "stderr",
     "output_type": "stream",
     "text": [
      "Processing row 5182:  95%|█████████▍| 5182/5455 [1:51:01<01:19,  3.43it/s]"
     ]
    },
    {
     "name": "stdout",
     "output_type": "stream",
     "text": [
      "Exception at row 5181\n",
      "'NoneType' object has no attribute 'find'\n"
     ]
    },
    {
     "name": "stderr",
     "output_type": "stream",
     "text": [
      "Processing row 5183:  95%|█████████▌| 5183/5455 [1:51:01<01:17,  3.53it/s]"
     ]
    },
    {
     "name": "stdout",
     "output_type": "stream",
     "text": [
      "Exception at row 5085\n",
      "'NoneType' object has no attribute 'find'\n",
      "Exception at row 5182\n",
      "'NoneType' object has no attribute 'find'\n"
     ]
    },
    {
     "name": "stderr",
     "output_type": "stream",
     "text": [
      "Processing row 5087:  93%|█████████▎| 5087/5456 [1:51:02<04:32,  1.35it/s]"
     ]
    },
    {
     "name": "stdout",
     "output_type": "stream",
     "text": [
      "Exception at row 5086\n",
      "'NoneType' object has no attribute 'find'\n"
     ]
    },
    {
     "name": "stderr",
     "output_type": "stream",
     "text": [
      "Processing row 5184:  95%|█████████▌| 5184/5455 [1:51:02<01:40,  2.70it/s]"
     ]
    },
    {
     "name": "stdout",
     "output_type": "stream",
     "text": [
      "Exception at row 5087\n",
      "'NoneType' object has no attribute 'find'\n",
      "Exception at row 5183\n",
      "'NoneType' object has no attribute 'find'\n"
     ]
    },
    {
     "name": "stderr",
     "output_type": "stream",
     "text": [
      "Processing row 5185:  95%|█████████▌| 5185/5455 [1:51:02<01:34,  2.86it/s]"
     ]
    },
    {
     "name": "stdout",
     "output_type": "stream",
     "text": [
      "Exception at row 5088\n",
      "'NoneType' object has no attribute 'find'\n",
      "Exception at row 5045Exception at row 5184\n",
      "'NoneType' object has no attribute 'find'\n",
      "\n",
      "'NoneType' object has no attribute 'find'\n"
     ]
    },
    {
     "name": "stderr",
     "output_type": "stream",
     "text": [
      "Processing row 5186:  95%|█████████▌| 5186/5455 [1:51:03<01:29,  2.99it/s]"
     ]
    },
    {
     "name": "stdout",
     "output_type": "stream",
     "text": [
      "Exception at row 5046\n",
      "'NoneType' object has no attribute 'find'\n",
      "Exception at row 5090\n",
      "'NoneType' object has no attribute 'find'\n",
      "Exception at row 5185\n",
      "'NoneType' object has no attribute 'find'\n"
     ]
    },
    {
     "name": "stderr",
     "output_type": "stream",
     "text": [
      "Processing row 5187:  95%|█████████▌| 5187/5455 [1:51:03<01:25,  3.12it/s]"
     ]
    },
    {
     "name": "stdout",
     "output_type": "stream",
     "text": [
      "Exception at row 5186\n",
      "'NoneType' object has no attribute 'find'\n"
     ]
    },
    {
     "name": "stderr",
     "output_type": "stream",
     "text": [
      "Processing row 5188:  95%|█████████▌| 5188/5455 [1:51:03<01:20,  3.32it/s]"
     ]
    },
    {
     "name": "stdout",
     "output_type": "stream",
     "text": [
      "Exception at row 5187\n",
      "'NoneType' object has no attribute 'find'\n"
     ]
    },
    {
     "name": "stderr",
     "output_type": "stream",
     "text": [
      "Processing row 5189:  95%|█████████▌| 5189/5455 [1:51:03<01:16,  3.47it/s]"
     ]
    },
    {
     "name": "stdout",
     "output_type": "stream",
     "text": [
      "Exception at row 5188\n",
      "'NoneType' object has no attribute 'find'\n"
     ]
    },
    {
     "name": "stderr",
     "output_type": "stream",
     "text": [
      "Processing row 5048:  93%|█████████▎| 5048/5455 [1:51:04<06:26,  1.05it/s]"
     ]
    },
    {
     "name": "stdout",
     "output_type": "stream",
     "text": [
      "Exception at row 5091\n",
      "'NoneType' object has no attribute 'find'\n",
      "Exception at row 5047\n",
      "'NoneType' object has no attribute 'find'\n"
     ]
    },
    {
     "name": "stderr",
     "output_type": "stream",
     "text": [
      "Processing row 5094:  93%|█████████▎| 5094/5456 [1:51:04<03:05,  1.95it/s]"
     ]
    },
    {
     "name": "stdout",
     "output_type": "stream",
     "text": [
      "Exception at row 5093\n",
      "'NoneType' object has no attribute 'find'\n"
     ]
    },
    {
     "name": "stderr",
     "output_type": "stream",
     "text": [
      "Processing row 5096:  93%|█████████▎| 5095/5456 [1:51:07<07:00,  1.16s/it]"
     ]
    },
    {
     "name": "stdout",
     "output_type": "stream",
     "text": [
      "Exception at row 5094\n",
      "'NoneType' object has no attribute 'find'\n"
     ]
    },
    {
     "name": "stderr",
     "output_type": "stream",
     "text": [
      "Processing row 5097:  93%|█████████▎| 5097/5456 [1:51:07<05:08,  1.16it/s]"
     ]
    },
    {
     "name": "stdout",
     "output_type": "stream",
     "text": [
      "Exception at row 5096\n",
      "'NoneType' object has no attribute 'find'\n"
     ]
    },
    {
     "name": "stderr",
     "output_type": "stream",
     "text": [
      "Processing row 5099:  93%|█████████▎| 5098/5456 [1:51:07<04:03,  1.47it/s]"
     ]
    },
    {
     "name": "stdout",
     "output_type": "stream",
     "text": [
      "Exception at row 5097\n",
      "'NoneType' object has no attribute 'find'\n"
     ]
    },
    {
     "name": "stderr",
     "output_type": "stream",
     "text": [
      "Processing row 5101:  93%|█████████▎| 5100/5456 [1:51:10<05:29,  1.08it/s]"
     ]
    },
    {
     "name": "stdout",
     "output_type": "stream",
     "text": [
      "Exception at row 5099\n",
      "'NoneType' object has no attribute 'find'\n"
     ]
    },
    {
     "name": "stderr",
     "output_type": "stream",
     "text": [
      "Processing row 5102:  94%|█████████▎| 5102/5456 [1:51:11<04:02,  1.46it/s]"
     ]
    },
    {
     "name": "stdout",
     "output_type": "stream",
     "text": [
      "Exception at row 5101\n",
      "'NoneType' object has no attribute 'find'\n"
     ]
    },
    {
     "name": "stderr",
     "output_type": "stream",
     "text": [
      "Processing row 5103:  94%|█████████▎| 5103/5456 [1:51:11<03:17,  1.79it/s]"
     ]
    },
    {
     "name": "stdout",
     "output_type": "stream",
     "text": [
      "Exception at row 5102\n",
      "'NoneType' object has no attribute 'find'\n"
     ]
    },
    {
     "name": "stderr",
     "output_type": "stream",
     "text": [
      "Processing row 5051:  93%|█████████▎| 5049/5455 [1:51:12<19:46,  2.92s/it]"
     ]
    },
    {
     "name": "stdout",
     "output_type": "stream",
     "text": [
      "Exception at row 5190\n",
      "'NoneType' object has no attribute 'find'\n",
      "Exception at row 5048\n",
      "'NoneType' object has no attribute 'find'\n"
     ]
    },
    {
     "name": "stderr",
     "output_type": "stream",
     "text": [
      "Processing row 5052:  93%|█████████▎| 5052/5455 [1:51:12<13:54,  2.07s/it]"
     ]
    },
    {
     "name": "stdout",
     "output_type": "stream",
     "text": [
      "Exception at row 5191\n",
      "'NoneType' object has no attribute 'find'\n",
      "Exception at row 5051\n",
      "'NoneType' object has no attribute 'find'\n"
     ]
    },
    {
     "name": "stderr",
     "output_type": "stream",
     "text": [
      "Processing row 5105:  94%|█████████▎| 5104/5456 [1:51:13<06:15,  1.07s/it]"
     ]
    },
    {
     "name": "stdout",
     "output_type": "stream",
     "text": [
      "Exception at row 5103\n",
      "'NoneType' object has no attribute 'find'\n"
     ]
    },
    {
     "name": "stderr",
     "output_type": "stream",
     "text": [
      "Processing row 5107:  94%|█████████▎| 5106/5456 [1:51:13<04:35,  1.27it/s]"
     ]
    },
    {
     "name": "stdout",
     "output_type": "stream",
     "text": [
      "Exception at row 5105\n",
      "'NoneType' object has no attribute 'find'\n"
     ]
    },
    {
     "name": "stderr",
     "output_type": "stream",
     "text": [
      "Processing row 5108:  94%|█████████▎| 5108/5456 [1:51:14<03:25,  1.69it/s]"
     ]
    },
    {
     "name": "stdout",
     "output_type": "stream",
     "text": [
      "Exception at row 5107\n",
      "'NoneType' object has no attribute 'find'\n"
     ]
    },
    {
     "name": "stderr",
     "output_type": "stream",
     "text": [
      "Processing row 5193:  95%|█████████▌| 5193/5455 [1:51:14<08:33,  1.96s/it]"
     ]
    },
    {
     "name": "stdout",
     "output_type": "stream",
     "text": [
      "Exception at row 5108\n",
      "'NoneType' object has no attribute 'find'\n",
      "Exception at row 5192\n",
      "'NoneType' object has no attribute 'find'\n"
     ]
    },
    {
     "name": "stderr",
     "output_type": "stream",
     "text": [
      "Processing row 5055:  93%|█████████▎| 5055/5455 [1:51:14<10:20,  1.55s/it]"
     ]
    },
    {
     "name": "stdout",
     "output_type": "stream",
     "text": [
      "Exception at row 5054\n",
      "'NoneType' object has no attribute 'find'\n"
     ]
    },
    {
     "name": "stderr",
     "output_type": "stream",
     "text": [
      "Processing row 5056:  93%|█████████▎| 5056/5455 [1:51:15<07:44,  1.16s/it]"
     ]
    },
    {
     "name": "stdout",
     "output_type": "stream",
     "text": [
      "Exception at row 5055\n",
      "'NoneType' object has no attribute 'find'\n"
     ]
    },
    {
     "name": "stderr",
     "output_type": "stream",
     "text": [
      "Processing row 5057:  93%|█████████▎| 5057/5455 [1:51:15<05:54,  1.12it/s]"
     ]
    },
    {
     "name": "stdout",
     "output_type": "stream",
     "text": [
      "Exception at row 5056\n",
      "'NoneType' object has no attribute 'find'\n"
     ]
    },
    {
     "name": "stderr",
     "output_type": "stream",
     "text": [
      "Processing row 5058:  93%|█████████▎| 5058/5455 [1:51:15<04:38,  1.42it/s]"
     ]
    },
    {
     "name": "stdout",
     "output_type": "stream",
     "text": [
      "Exception at row 5057\n",
      "'NoneType' object has no attribute 'find'\n"
     ]
    },
    {
     "name": "stderr",
     "output_type": "stream",
     "text": [
      "Processing row 5059:  93%|█████████▎| 5059/5455 [1:51:15<03:45,  1.76it/s]"
     ]
    },
    {
     "name": "stdout",
     "output_type": "stream",
     "text": [
      "Exception at row 5058\n",
      "'NoneType' object has no attribute 'find'\n"
     ]
    },
    {
     "name": "stderr",
     "output_type": "stream",
     "text": [
      "Processing row 5110:  94%|█████████▎| 5110/5456 [1:51:17<06:38,  1.15s/it]"
     ]
    },
    {
     "name": "stdout",
     "output_type": "stream",
     "text": [
      "Exception at row 5109\n",
      "'NoneType' object has no attribute 'find'\n"
     ]
    },
    {
     "name": "stderr",
     "output_type": "stream",
     "text": [
      "Processing row 5061:  93%|█████████▎| 5060/5455 [1:51:18<07:02,  1.07s/it]"
     ]
    },
    {
     "name": "stdout",
     "output_type": "stream",
     "text": [
      "Exception at row 5059\n",
      "'NoneType' object has no attribute 'find'\n"
     ]
    },
    {
     "name": "stderr",
     "output_type": "stream",
     "text": [
      "Processing row 5062:  93%|█████████▎| 5062/5455 [1:51:18<05:09,  1.27it/s]"
     ]
    },
    {
     "name": "stdout",
     "output_type": "stream",
     "text": [
      "Exception at row 5061\n",
      "'NoneType' object has no attribute 'find'\n"
     ]
    },
    {
     "name": "stderr",
     "output_type": "stream",
     "text": [
      "Processing row 5064:  93%|█████████▎| 5063/5455 [1:51:18<04:07,  1.58it/s]"
     ]
    },
    {
     "name": "stdout",
     "output_type": "stream",
     "text": [
      "Exception at row 5062\n",
      "'NoneType' object has no attribute 'find'\n"
     ]
    },
    {
     "name": "stderr",
     "output_type": "stream",
     "text": [
      "Processing row 5111:  94%|█████████▎| 5111/5456 [1:51:19<08:37,  1.50s/it]"
     ]
    },
    {
     "name": "stdout",
     "output_type": "stream",
     "text": [
      "Exception at row 5110\n",
      "'NoneType' object has no attribute 'find'\n"
     ]
    },
    {
     "name": "stderr",
     "output_type": "stream",
     "text": [
      "Processing row 5112:  94%|█████████▎| 5112/5456 [1:51:19<06:28,  1.13s/it]"
     ]
    },
    {
     "name": "stdout",
     "output_type": "stream",
     "text": [
      "Exception at row 5111\n",
      "'NoneType' object has no attribute 'find'\n"
     ]
    },
    {
     "name": "stderr",
     "output_type": "stream",
     "text": [
      "Processing row 5113:  94%|█████████▎| 5113/5456 [1:51:20<04:57,  1.15it/s]"
     ]
    },
    {
     "name": "stdout",
     "output_type": "stream",
     "text": [
      "Exception at row 5112\n",
      "'NoneType' object has no attribute 'find'\n"
     ]
    },
    {
     "name": "stderr",
     "output_type": "stream",
     "text": [
      "Processing row 5194:  95%|█████████▌| 5194/5455 [1:51:22<15:45,  3.62s/it]"
     ]
    },
    {
     "name": "stdout",
     "output_type": "stream",
     "text": [
      "Exception at row 5193\n",
      "'NoneType' object has no attribute 'find'\n"
     ]
    },
    {
     "name": "stderr",
     "output_type": "stream",
     "text": [
      "Processing row 5114:  94%|█████████▎| 5114/5456 [1:51:22<07:46,  1.36s/it]"
     ]
    },
    {
     "name": "stdout",
     "output_type": "stream",
     "text": [
      "Exception at row 5113\n",
      "'NoneType' object has no attribute 'find'\n"
     ]
    },
    {
     "name": "stderr",
     "output_type": "stream",
     "text": [
      "Processing row 5115:  94%|█████████▍| 5115/5456 [1:51:22<05:51,  1.03s/it]"
     ]
    },
    {
     "name": "stdout",
     "output_type": "stream",
     "text": [
      "Exception at row 5114\n",
      "'NoneType' object has no attribute 'find'\n"
     ]
    },
    {
     "name": "stderr",
     "output_type": "stream",
     "text": [
      "Processing row 5068:  93%|█████████▎| 5068/5455 [1:51:23<05:02,  1.28it/s]"
     ]
    },
    {
     "name": "stdout",
     "output_type": "stream",
     "text": [
      "Exception at row 5067\n",
      "'NoneType' object has no attribute 'find'\n"
     ]
    },
    {
     "name": "stderr",
     "output_type": "stream",
     "text": [
      "Processing row 5196:  95%|█████████▌| 5196/5455 [1:51:23<09:19,  2.16s/it]"
     ]
    },
    {
     "name": "stdout",
     "output_type": "stream",
     "text": [
      "Exception at row 5195\n",
      "'NoneType' object has no attribute 'find'\n"
     ]
    },
    {
     "name": "stderr",
     "output_type": "stream",
     "text": [
      "Processing row 5116:  94%|█████████▍| 5116/5456 [1:51:25<08:26,  1.49s/it]"
     ]
    },
    {
     "name": "stdout",
     "output_type": "stream",
     "text": [
      "Exception at row 5115\n",
      "'NoneType' object has no attribute 'find'\n"
     ]
    },
    {
     "name": "stderr",
     "output_type": "stream",
     "text": [
      "Processing row 5069:  93%|█████████▎| 5069/5455 [1:51:25<08:09,  1.27s/it]"
     ]
    },
    {
     "name": "stdout",
     "output_type": "stream",
     "text": [
      "Exception at row 5116\n",
      "'NoneType' object has no attribute 'find'\n",
      "Exception at row 5068\n",
      "'NoneType' object has no attribute 'find'\n"
     ]
    },
    {
     "name": "stderr",
     "output_type": "stream",
     "text": [
      "Processing row 5070:  93%|█████████▎| 5070/5455 [1:51:27<08:27,  1.32s/it]"
     ]
    },
    {
     "name": "stdout",
     "output_type": "stream",
     "text": [
      "Exception at row 5197\n",
      "'NoneType' object has no attribute 'find'\n"
     ]
    },
    {
     "name": "stderr",
     "output_type": "stream",
     "text": [
      "Processing row 5199:  95%|█████████▌| 5199/5455 [1:51:28<07:05,  1.66s/it]"
     ]
    },
    {
     "name": "stdout",
     "output_type": "stream",
     "text": [
      "Exception at row 5198\n",
      "'NoneType' object has no attribute 'find'\n"
     ]
    },
    {
     "name": "stderr",
     "output_type": "stream",
     "text": [
      "Processing row 5119:  94%|█████████▍| 5118/5456 [1:51:29<10:19,  1.83s/it]"
     ]
    },
    {
     "name": "stdout",
     "output_type": "stream",
     "text": [
      "Exception at row 5199\n",
      "'NoneType' object has no attribute 'find'\n",
      "Exception at row 5117\n",
      "Exception at row 5070'NoneType' object has no attribute 'find'\n",
      "\n",
      "'NoneType' object has no attribute 'find'\n"
     ]
    },
    {
     "name": "stderr",
     "output_type": "stream",
     "text": [
      "Processing row 5072:  93%|█████████▎| 5072/5455 [1:51:29<07:09,  1.12s/it]"
     ]
    },
    {
     "name": "stdout",
     "output_type": "stream",
     "text": [
      "Exception at row 5071\n",
      "'NoneType' object has no attribute 'find'\n"
     ]
    },
    {
     "name": "stderr",
     "output_type": "stream",
     "text": [
      "Processing row 5121:  94%|█████████▍| 5120/5456 [1:51:32<09:58,  1.78s/it]"
     ]
    },
    {
     "name": "stdout",
     "output_type": "stream",
     "text": [
      "Exception at row 5201\n",
      "'NoneType' object has no attribute 'find'\n"
     ]
    },
    {
     "name": "stderr",
     "output_type": "stream",
     "text": [
      "Processing row 5073:  93%|█████████▎| 5073/5455 [1:51:32<11:46,  1.85s/it]"
     ]
    },
    {
     "name": "stdout",
     "output_type": "stream",
     "text": [
      "Exception at row 5072\n",
      "'NoneType' object has no attribute 'find'\n"
     ]
    },
    {
     "name": "stderr",
     "output_type": "stream",
     "text": [
      "Processing row 5122:  94%|█████████▍| 5122/5456 [1:51:33<08:12,  1.47s/it]"
     ]
    },
    {
     "name": "stdout",
     "output_type": "stream",
     "text": [
      "Exception at row 5121\n",
      "'NoneType' object has no attribute 'find'\n"
     ]
    },
    {
     "name": "stderr",
     "output_type": "stream",
     "text": [
      "Processing row 5075:  93%|█████████▎| 5074/5455 [1:51:34<10:59,  1.73s/it]"
     ]
    },
    {
     "name": "stdout",
     "output_type": "stream",
     "text": [
      "Exception at row 5073\n",
      "'NoneType' object has no attribute 'find'\n"
     ]
    },
    {
     "name": "stderr",
     "output_type": "stream",
     "text": [
      "Processing row 5203:  95%|█████████▌| 5203/5455 [1:51:34<07:25,  1.77s/it]"
     ]
    },
    {
     "name": "stdout",
     "output_type": "stream",
     "text": [
      "Exception at row 5202\n",
      "'NoneType' object has no attribute 'find'\n"
     ]
    },
    {
     "name": "stderr",
     "output_type": "stream",
     "text": [
      "Processing row 5204:  95%|█████████▌| 5204/5455 [1:51:37<08:21,  2.00s/it]"
     ]
    },
    {
     "name": "stdout",
     "output_type": "stream",
     "text": [
      "Exception at row 5203\n",
      "'NoneType' object has no attribute 'find'\n"
     ]
    },
    {
     "name": "stderr",
     "output_type": "stream",
     "text": [
      "Processing row 5124:  94%|█████████▍| 5123/5456 [1:51:37<11:44,  2.12s/it]"
     ]
    },
    {
     "name": "stdout",
     "output_type": "stream",
     "text": [
      "Exception at row 5122\n",
      "'NoneType' object has no attribute 'find'\n"
     ]
    },
    {
     "name": "stderr",
     "output_type": "stream",
     "text": [
      "Processing row 5077:  93%|█████████▎| 5076/5455 [1:51:37<10:53,  1.72s/it]"
     ]
    },
    {
     "name": "stdout",
     "output_type": "stream",
     "text": [
      "Exception at row 5075\n",
      "'NoneType' object has no attribute 'find'\n"
     ]
    },
    {
     "name": "stderr",
     "output_type": "stream",
     "text": [
      "Processing row 5079:  93%|█████████▎| 5078/5455 [1:51:39<08:45,  1.39s/it]"
     ]
    },
    {
     "name": "stdout",
     "output_type": "stream",
     "text": [
      "Exception at row 5077\n",
      "'NoneType' object has no attribute 'find'\n"
     ]
    },
    {
     "name": "stderr",
     "output_type": "stream",
     "text": [
      "Processing row 5205:  95%|█████████▌| 5205/5455 [1:51:40<09:18,  2.24s/it]"
     ]
    },
    {
     "name": "stdout",
     "output_type": "stream",
     "text": [
      "Exception at row 5204\n",
      "'NoneType' object has no attribute 'find'\n"
     ]
    },
    {
     "name": "stderr",
     "output_type": "stream",
     "text": [
      "Processing row 5082:  93%|█████████▎| 5080/5455 [1:51:40<07:32,  1.21s/it]"
     ]
    },
    {
     "name": "stdout",
     "output_type": "stream",
     "text": [
      "Exception at row 5124\n",
      "'NoneType' object has no attribute 'find'\n",
      "Exception at row 5079\n",
      "'NoneType' object has no attribute 'find'\n"
     ]
    },
    {
     "name": "stderr",
     "output_type": "stream",
     "text": [
      "Processing row 5206:  95%|█████████▌| 5206/5455 [1:51:42<09:42,  2.34s/it]"
     ]
    },
    {
     "name": "stdout",
     "output_type": "stream",
     "text": [
      "Exception at row 5082\n",
      "'NoneType' object has no attribute 'find'\n",
      "Exception at row 5205\n",
      "'NoneType' object has no attribute 'find'\n"
     ]
    },
    {
     "name": "stderr",
     "output_type": "stream",
     "text": [
      "Processing row 5207:  95%|█████████▌| 5207/5455 [1:51:42<07:06,  1.72s/it]"
     ]
    },
    {
     "name": "stdout",
     "output_type": "stream",
     "text": [
      "Exception at row 5206\n",
      "'NoneType' object has no attribute 'find'\n"
     ]
    },
    {
     "name": "stderr",
     "output_type": "stream",
     "text": [
      "Processing row 5087:  93%|█████████▎| 5086/5455 [1:51:43<05:18,  1.16it/s]"
     ]
    },
    {
     "name": "stdout",
     "output_type": "stream",
     "text": [
      "Exception at row 5085\n",
      "'NoneType' object has no attribute 'find'\n"
     ]
    },
    {
     "name": "stderr",
     "output_type": "stream",
     "text": [
      "Processing row 5208:  95%|█████████▌| 5208/5455 [1:51:44<06:45,  1.64s/it]"
     ]
    },
    {
     "name": "stdout",
     "output_type": "stream",
     "text": [
      "Exception at row 5126\n",
      "'NoneType' object has no attribute 'find'\n"
     ]
    },
    {
     "name": "stderr",
     "output_type": "stream",
     "text": [
      "Processing row 5209:  95%|█████████▌| 5209/5455 [1:51:45<06:28,  1.58s/it]"
     ]
    },
    {
     "name": "stdout",
     "output_type": "stream",
     "text": [
      "Exception at row 5208\n",
      "'NoneType' object has no attribute 'find'\n"
     ]
    },
    {
     "name": "stderr",
     "output_type": "stream",
     "text": [
      "Processing row 5130:  94%|█████████▍| 5128/5456 [1:51:47<12:25,  2.27s/it]"
     ]
    },
    {
     "name": "stdout",
     "output_type": "stream",
     "text": [
      "Exception at row 5127\n",
      "'NoneType' object has no attribute 'find'\n"
     ]
    },
    {
     "name": "stderr",
     "output_type": "stream",
     "text": [
      "Processing row 5210:  96%|█████████▌| 5210/5455 [1:51:48<08:00,  1.96s/it]"
     ]
    },
    {
     "name": "stdout",
     "output_type": "stream",
     "text": [
      "Exception at row 5209\n",
      "'NoneType' object has no attribute 'find'\n",
      "Exception at row 5087\n",
      "'NoneType' object has no attribute 'find'\n"
     ]
    },
    {
     "name": "stderr",
     "output_type": "stream",
     "text": [
      "Processing row 5131:  94%|█████████▍| 5131/5456 [1:51:49<09:48,  1.81s/it]"
     ]
    },
    {
     "name": "stdout",
     "output_type": "stream",
     "text": [
      "Exception at row 5130\n",
      "'NoneType' object has no attribute 'find'\n"
     ]
    },
    {
     "name": "stderr",
     "output_type": "stream",
     "text": [
      "Processing row 5090:  93%|█████████▎| 5089/5455 [1:51:51<10:01,  1.64s/it]"
     ]
    },
    {
     "name": "stdout",
     "output_type": "stream",
     "text": [
      "Exception at row 5210\n",
      "'NoneType' object has no attribute 'find'\n"
     ]
    },
    {
     "name": "stderr",
     "output_type": "stream",
     "text": [
      "Processing row 5132:  94%|█████████▍| 5132/5456 [1:51:51<10:47,  2.00s/it]"
     ]
    },
    {
     "name": "stdout",
     "output_type": "stream",
     "text": [
      "Exception at row 5131\n",
      "'NoneType' object has no attribute 'find'\n"
     ]
    },
    {
     "name": "stderr",
     "output_type": "stream",
     "text": [
      "Processing row 5091:  93%|█████████▎| 5091/5455 [1:51:52<08:16,  1.36s/it]"
     ]
    },
    {
     "name": "stdout",
     "output_type": "stream",
     "text": [
      "Exception at row 5090\n",
      "'NoneType' object has no attribute 'find'\n"
     ]
    },
    {
     "name": "stderr",
     "output_type": "stream",
     "text": [
      "Processing row 5212:  96%|█████████▌| 5212/5455 [1:51:53<08:36,  2.12s/it]"
     ]
    },
    {
     "name": "stdout",
     "output_type": "stream",
     "text": [
      "Exception at row 5211\n",
      "'NoneType' object has no attribute 'find'\n"
     ]
    },
    {
     "name": "stderr",
     "output_type": "stream",
     "text": [
      "Processing row 5133:  94%|█████████▍| 5133/5456 [1:51:54<11:45,  2.19s/it]"
     ]
    },
    {
     "name": "stdout",
     "output_type": "stream",
     "text": [
      "Exception at row 5132\n",
      "'NoneType' object has no attribute 'find'\n"
     ]
    },
    {
     "name": "stderr",
     "output_type": "stream",
     "text": [
      "Processing row 5136:  94%|█████████▍| 5134/5456 [1:51:56<11:42,  2.18s/it]"
     ]
    },
    {
     "name": "stdout",
     "output_type": "stream",
     "text": [
      "Exception at row 5133\n",
      "'NoneType' object has no attribute 'find'\n",
      "Exception at row 5091\n",
      "'NoneType' object has no attribute 'find'\n",
      "Exception at row 5213\n",
      "'NoneType' object has no attribute 'find'\n"
     ]
    },
    {
     "name": "stderr",
     "output_type": "stream",
     "text": [
      "Processing row 5138:  94%|█████████▍| 5137/5456 [1:51:58<08:58,  1.69s/it]"
     ]
    },
    {
     "name": "stdout",
     "output_type": "stream",
     "text": [
      "Exception at row 5136\n",
      "'NoneType' object has no attribute 'find'\n"
     ]
    },
    {
     "name": "stderr",
     "output_type": "stream",
     "text": [
      "Processing row 5093:  93%|█████████▎| 5093/5455 [1:51:59<15:21,  2.55s/it]"
     ]
    },
    {
     "name": "stdout",
     "output_type": "stream",
     "text": [
      "Exception at row 5092\n",
      "'NoneType' object has no attribute 'find'\n"
     ]
    },
    {
     "name": "stderr",
     "output_type": "stream",
     "text": [
      "Processing row 5094:  93%|█████████▎| 5094/5455 [1:52:02<14:47,  2.46s/it]"
     ]
    },
    {
     "name": "stdout",
     "output_type": "stream",
     "text": [
      "Exception at row 5093\n",
      "'NoneType' object has no attribute 'find'\n"
     ]
    },
    {
     "name": "stderr",
     "output_type": "stream",
     "text": [
      "Processing row 5142:  94%|█████████▍| 5140/5456 [1:52:04<09:53,  1.88s/it]"
     ]
    },
    {
     "name": "stdout",
     "output_type": "stream",
     "text": [
      "Exception at row 5216\n",
      "'NoneType' object has no attribute 'find'\n"
     ]
    },
    {
     "name": "stderr",
     "output_type": "stream",
     "text": [
      "Processing row 5096:  93%|█████████▎| 5096/5455 [1:52:06<14:16,  2.38s/it]"
     ]
    },
    {
     "name": "stdout",
     "output_type": "stream",
     "text": [
      "Exception at row 5095\n",
      "'NoneType' object has no attribute 'find'\n"
     ]
    },
    {
     "name": "stderr",
     "output_type": "stream",
     "text": [
      "Processing row 5219:  96%|█████████▌| 5219/5455 [1:52:07<08:26,  2.15s/it]"
     ]
    },
    {
     "name": "stdout",
     "output_type": "stream",
     "text": [
      "Exception at row 5218\n",
      "'NoneType' object has no attribute 'find'\n"
     ]
    },
    {
     "name": "stderr",
     "output_type": "stream",
     "text": [
      "Processing row 5220:  96%|█████████▌| 5220/5455 [1:52:09<07:33,  1.93s/it]"
     ]
    },
    {
     "name": "stdout",
     "output_type": "stream",
     "text": [
      "Exception at row 5219\n",
      "'NoneType' object has no attribute 'find'\n"
     ]
    },
    {
     "name": "stderr",
     "output_type": "stream",
     "text": [
      "Processing row 5221:  96%|█████████▌| 5221/5455 [1:52:11<08:04,  2.07s/it]"
     ]
    },
    {
     "name": "stdout",
     "output_type": "stream",
     "text": [
      "Exception at row 5220\n",
      "'NoneType' object has no attribute 'find'\n"
     ]
    },
    {
     "name": "stderr",
     "output_type": "stream",
     "text": [
      "Processing row 5148:  94%|█████████▍| 5148/5456 [1:52:12<07:34,  1.48s/it]"
     ]
    },
    {
     "name": "stdout",
     "output_type": "stream",
     "text": [
      "Exception at row 5147\n",
      "'NoneType' object has no attribute 'find'\n"
     ]
    },
    {
     "name": "stderr",
     "output_type": "stream",
     "text": [
      "Processing row 5222:  96%|█████████▌| 5222/5455 [1:52:13<08:11,  2.11s/it]"
     ]
    },
    {
     "name": "stdout",
     "output_type": "stream",
     "text": [
      "Exception at row 5221\n",
      "'NoneType' object has no attribute 'find'\n"
     ]
    },
    {
     "name": "stderr",
     "output_type": "stream",
     "text": [
      "Processing row 5151:  94%|█████████▍| 5149/5456 [1:52:14<07:30,  1.47s/it]"
     ]
    },
    {
     "name": "stdout",
     "output_type": "stream",
     "text": [
      "Exception at row 5148\n",
      "'NoneType' object has no attribute 'find'\n"
     ]
    },
    {
     "name": "stderr",
     "output_type": "stream",
     "text": [
      "Processing row 5100:  93%|█████████▎| 5100/5455 [1:52:16<14:20,  2.42s/it]"
     ]
    },
    {
     "name": "stdout",
     "output_type": "stream",
     "text": [
      "Exception at row 5099\n",
      "'NoneType' object has no attribute 'find'\n"
     ]
    },
    {
     "name": "stderr",
     "output_type": "stream",
     "text": [
      "Processing row 5102:  94%|█████████▎| 5101/5455 [1:52:17<12:52,  2.18s/it]"
     ]
    },
    {
     "name": "stdout",
     "output_type": "stream",
     "text": [
      "Exception at row 5222\n",
      "'NoneType' object has no attribute 'find'\n",
      "Exception at row 5100\n",
      "'NoneType' object has no attribute 'find'\n"
     ]
    },
    {
     "name": "stderr",
     "output_type": "stream",
     "text": [
      "Processing row 5153:  94%|█████████▍| 5152/5456 [1:52:18<07:30,  1.48s/it]"
     ]
    },
    {
     "name": "stdout",
     "output_type": "stream",
     "text": [
      "Exception at row 5151\n",
      "'NoneType' object has no attribute 'find'\n"
     ]
    },
    {
     "name": "stderr",
     "output_type": "stream",
     "text": [
      "Processing row 5154:  94%|█████████▍| 5154/5456 [1:52:21<07:14,  1.44s/it]"
     ]
    },
    {
     "name": "stdout",
     "output_type": "stream",
     "text": [
      "Exception at row 5223\n",
      "'NoneType' object has no attribute 'find'\n",
      "Exception at row 5153\n",
      "'NoneType' object has no attribute 'find'\n"
     ]
    },
    {
     "name": "stderr",
     "output_type": "stream",
     "text": [
      "Processing row 5105:  94%|█████████▎| 5105/5455 [1:52:24<13:18,  2.28s/it]"
     ]
    },
    {
     "name": "stdout",
     "output_type": "stream",
     "text": [
      "Exception at row 5104\n",
      "'NoneType' object has no attribute 'find'\n"
     ]
    },
    {
     "name": "stderr",
     "output_type": "stream",
     "text": [
      "Processing row 5226:  96%|█████████▌| 5226/5455 [1:52:25<09:56,  2.60s/it]"
     ]
    },
    {
     "name": "stdout",
     "output_type": "stream",
     "text": [
      "Exception at row 5225\n",
      "'NoneType' object has no attribute 'find'\n"
     ]
    },
    {
     "name": "stderr",
     "output_type": "stream",
     "text": [
      "Processing row 5227:  96%|█████████▌| 5227/5455 [1:52:27<08:37,  2.27s/it]"
     ]
    },
    {
     "name": "stdout",
     "output_type": "stream",
     "text": [
      "Exception at row 5226\n",
      "'NoneType' object has no attribute 'find'\n"
     ]
    },
    {
     "name": "stderr",
     "output_type": "stream",
     "text": [
      "Processing row 5107:  94%|█████████▎| 5107/5455 [1:52:29<13:53,  2.40s/it]"
     ]
    },
    {
     "name": "stdout",
     "output_type": "stream",
     "text": [
      "Exception at row 5154\n",
      "'NoneType' object has no attribute 'find'\n",
      "Exception at row 5106\n",
      "'NoneType' object has no attribute 'find'\n"
     ]
    },
    {
     "name": "stderr",
     "output_type": "stream",
     "text": [
      "Processing row 5228:  96%|█████████▌| 5228/5455 [1:52:29<08:44,  2.31s/it]"
     ]
    },
    {
     "name": "stdout",
     "output_type": "stream",
     "text": [
      "Exception at row 5227\n",
      "'NoneType' object has no attribute 'find'\n"
     ]
    },
    {
     "name": "stderr",
     "output_type": "stream",
     "text": [
      "Processing row 5109:  94%|█████████▎| 5109/5455 [1:52:31<10:31,  1.82s/it]"
     ]
    },
    {
     "name": "stdout",
     "output_type": "stream",
     "text": [
      "Exception at row 5108\n",
      "'NoneType' object has no attribute 'find'\n"
     ]
    },
    {
     "name": "stderr",
     "output_type": "stream",
     "text": [
      "Processing row 5229:  96%|█████████▌| 5229/5455 [1:52:32<09:06,  2.42s/it]"
     ]
    },
    {
     "name": "stdout",
     "output_type": "stream",
     "text": [
      "Exception at row 5228\n",
      "'NoneType' object has no attribute 'find'\n"
     ]
    },
    {
     "name": "stderr",
     "output_type": "stream",
     "text": [
      "Processing row 5156:  95%|█████████▍| 5156/5456 [1:52:32<17:17,  3.46s/it]"
     ]
    },
    {
     "name": "stdout",
     "output_type": "stream",
     "text": [
      "Exception at row 5155\n",
      "'NoneType' object has no attribute 'find'\n"
     ]
    },
    {
     "name": "stderr",
     "output_type": "stream",
     "text": [
      "Processing row 5230:  96%|█████████▌| 5230/5455 [1:52:34<08:13,  2.19s/it]"
     ]
    },
    {
     "name": "stdout",
     "output_type": "stream",
     "text": [
      "Exception at row 5229\n",
      "'NoneType' object has no attribute 'find'\n"
     ]
    },
    {
     "name": "stderr",
     "output_type": "stream",
     "text": [
      "Processing row 5112:  94%|█████████▎| 5111/5455 [1:52:34<09:21,  1.63s/it]"
     ]
    },
    {
     "name": "stdout",
     "output_type": "stream",
     "text": [
      "Exception at row 5110\n",
      "'NoneType' object has no attribute 'find'\n"
     ]
    },
    {
     "name": "stderr",
     "output_type": "stream",
     "text": [
      "Processing row 5231:  96%|█████████▌| 5231/5455 [1:52:36<08:30,  2.28s/it]"
     ]
    },
    {
     "name": "stdout",
     "output_type": "stream",
     "text": [
      "Exception at row 5230\n",
      "'NoneType' object has no attribute 'find'\n"
     ]
    },
    {
     "name": "stderr",
     "output_type": "stream",
     "text": [
      "Processing row 5113:  94%|█████████▎| 5113/5455 [1:52:36<08:23,  1.47s/it]"
     ]
    },
    {
     "name": "stdout",
     "output_type": "stream",
     "text": [
      "Exception at row 5112\n",
      "'NoneType' object has no attribute 'find'\n"
     ]
    },
    {
     "name": "stderr",
     "output_type": "stream",
     "text": [
      "Processing row 5232:  96%|█████████▌| 5232/5455 [1:52:40<09:50,  2.65s/it]"
     ]
    },
    {
     "name": "stdout",
     "output_type": "stream",
     "text": [
      "Exception at row 5231\n",
      "'NoneType' object has no attribute 'find'\n"
     ]
    },
    {
     "name": "stderr",
     "output_type": "stream",
     "text": [
      "Processing row 5159:  95%|█████████▍| 5159/5456 [1:52:41<16:13,  3.28s/it]"
     ]
    },
    {
     "name": "stdout",
     "output_type": "stream",
     "text": [
      "Exception at row 5158\n",
      "'NoneType' object has no attribute 'find'\n"
     ]
    },
    {
     "name": "stderr",
     "output_type": "stream",
     "text": [
      "Processing row 5160:  95%|█████████▍| 5160/5456 [1:52:45<16:13,  3.29s/it]"
     ]
    },
    {
     "name": "stdout",
     "output_type": "stream",
     "text": [
      "Exception at row 5159\n",
      "'NoneType' object has no attribute 'find'\n"
     ]
    },
    {
     "name": "stderr",
     "output_type": "stream",
     "text": [
      "Processing row 5117:  94%|█████████▍| 5117/5455 [1:52:46<10:46,  1.91s/it]"
     ]
    },
    {
     "name": "stdout",
     "output_type": "stream",
     "text": [
      "Exception at row 5116\n",
      "'NoneType' object has no attribute 'find'\n"
     ]
    },
    {
     "name": "stderr",
     "output_type": "stream",
     "text": [
      "Processing row 5236:  96%|█████████▌| 5236/5455 [1:52:47<07:36,  2.08s/it]"
     ]
    },
    {
     "name": "stdout",
     "output_type": "stream",
     "text": [
      "Exception at row 5235\n",
      "'NoneType' object has no attribute 'find'\n"
     ]
    },
    {
     "name": "stderr",
     "output_type": "stream",
     "text": [
      "Processing row 5161:  95%|█████████▍| 5161/5456 [1:52:48<16:31,  3.36s/it]"
     ]
    },
    {
     "name": "stdout",
     "output_type": "stream",
     "text": [
      "Exception at row 5160\n",
      "'NoneType' object has no attribute 'find'\n"
     ]
    },
    {
     "name": "stderr",
     "output_type": "stream",
     "text": [
      "Processing row 5162:  95%|█████████▍| 5162/5456 [1:52:50<13:40,  2.79s/it]"
     ]
    },
    {
     "name": "stdout",
     "output_type": "stream",
     "text": [
      "Exception at row 5161\n",
      "'NoneType' object has no attribute 'find'\n"
     ]
    },
    {
     "name": "stderr",
     "output_type": "stream",
     "text": [
      "Processing row 5163:  95%|█████████▍| 5163/5456 [1:52:52<13:26,  2.75s/it]"
     ]
    },
    {
     "name": "stdout",
     "output_type": "stream",
     "text": [
      "Exception at row 5162\n",
      "'NoneType' object has no attribute 'find'\n"
     ]
    },
    {
     "name": "stderr",
     "output_type": "stream",
     "text": [
      "Processing row 5120:  94%|█████████▍| 5120/5455 [1:52:53<13:02,  2.34s/it]"
     ]
    },
    {
     "name": "stdout",
     "output_type": "stream",
     "text": [
      "Exception at row 5119\n",
      "'NoneType' object has no attribute 'find'\n"
     ]
    },
    {
     "name": "stderr",
     "output_type": "stream",
     "text": [
      "Processing row 5164:  95%|█████████▍| 5164/5456 [1:52:54<11:32,  2.37s/it]"
     ]
    },
    {
     "name": "stdout",
     "output_type": "stream",
     "text": [
      "Exception at row 5163\n",
      "'NoneType' object has no attribute 'find'\n"
     ]
    },
    {
     "name": "stderr",
     "output_type": "stream",
     "text": [
      "Processing row 5239:  96%|█████████▌| 5239/5455 [1:52:54<08:42,  2.42s/it]"
     ]
    },
    {
     "name": "stdout",
     "output_type": "stream",
     "text": [
      "Exception at row 5238\n",
      "'NoneType' object has no attribute 'find'\n"
     ]
    },
    {
     "name": "stderr",
     "output_type": "stream",
     "text": [
      "Processing row 5121:  94%|█████████▍| 5121/5455 [1:52:56<13:29,  2.42s/it]"
     ]
    },
    {
     "name": "stdout",
     "output_type": "stream",
     "text": [
      "Exception at row 5120\n",
      "'NoneType' object has no attribute 'find'\n"
     ]
    },
    {
     "name": "stderr",
     "output_type": "stream",
     "text": [
      "Processing row 5165:  95%|█████████▍| 5165/5456 [1:52:57<12:30,  2.58s/it]"
     ]
    },
    {
     "name": "stdout",
     "output_type": "stream",
     "text": [
      "Exception at row 5239\n",
      "'NoneType' object has no attribute 'find'\n",
      "Exception at row 5164\n",
      "'NoneType' object has no attribute 'find'\n"
     ]
    },
    {
     "name": "stderr",
     "output_type": "stream",
     "text": [
      "Processing row 5122:  94%|█████████▍| 5122/5455 [1:52:59<14:13,  2.56s/it]"
     ]
    },
    {
     "name": "stdout",
     "output_type": "stream",
     "text": [
      "Exception at row 5121\n",
      "'NoneType' object has no attribute 'find'\n"
     ]
    },
    {
     "name": "stderr",
     "output_type": "stream",
     "text": [
      "Processing row 5166:  95%|█████████▍| 5166/5456 [1:53:00<12:29,  2.58s/it]"
     ]
    },
    {
     "name": "stdout",
     "output_type": "stream",
     "text": [
      "Exception at row 5165\n",
      "'NoneType' object has no attribute 'find'\n"
     ]
    },
    {
     "name": "stderr",
     "output_type": "stream",
     "text": [
      "Processing row 5123:  94%|█████████▍| 5123/5455 [1:53:02<15:50,  2.86s/it]"
     ]
    },
    {
     "name": "stdout",
     "output_type": "stream",
     "text": [
      "Exception at row 5122\n",
      "'NoneType' object has no attribute 'find'\n"
     ]
    },
    {
     "name": "stderr",
     "output_type": "stream",
     "text": [
      "Processing row 5167:  95%|█████████▍| 5167/5456 [1:53:02<12:50,  2.67s/it]"
     ]
    },
    {
     "name": "stdout",
     "output_type": "stream",
     "text": [
      "Exception at row 5166\n",
      "'NoneType' object has no attribute 'find'\n"
     ]
    },
    {
     "name": "stderr",
     "output_type": "stream",
     "text": [
      "Processing row 5168:  95%|█████████▍| 5168/5456 [1:53:05<12:08,  2.53s/it]"
     ]
    },
    {
     "name": "stdout",
     "output_type": "stream",
     "text": [
      "Exception at row 5167\n",
      "'NoneType' object has no attribute 'find'\n"
     ]
    },
    {
     "name": "stderr",
     "output_type": "stream",
     "text": [
      "Processing row 5126:  94%|█████████▍| 5126/5455 [1:53:06<11:14,  2.05s/it]"
     ]
    },
    {
     "name": "stdout",
     "output_type": "stream",
     "text": [
      "Exception at row 5125\n",
      "'NoneType' object has no attribute 'find'\n"
     ]
    },
    {
     "name": "stderr",
     "output_type": "stream",
     "text": [
      "Processing row 5242:  96%|█████████▌| 5242/5455 [1:53:07<12:38,  3.56s/it]"
     ]
    },
    {
     "name": "stdout",
     "output_type": "stream",
     "text": [
      "Exception at row 5168\n",
      "'NoneType' object has no attribute 'find'\n",
      "Exception at row 5241\n",
      "'NoneType' object has no attribute 'find'\n"
     ]
    },
    {
     "name": "stderr",
     "output_type": "stream",
     "text": [
      "Processing row 5243:  96%|█████████▌| 5243/5455 [1:53:09<10:16,  2.91s/it]"
     ]
    },
    {
     "name": "stdout",
     "output_type": "stream",
     "text": [
      "Exception at row 5242\n",
      "'NoneType' object has no attribute 'find'\n"
     ]
    },
    {
     "name": "stderr",
     "output_type": "stream",
     "text": [
      "Processing row 5170:  95%|█████████▍| 5170/5456 [1:53:10<12:55,  2.71s/it]"
     ]
    },
    {
     "name": "stdout",
     "output_type": "stream",
     "text": [
      "Exception at row 5127\n",
      "'NoneType' object has no attribute 'find'\n",
      "Exception at row 5169\n",
      "'NoneType' object has no attribute 'find'\n"
     ]
    },
    {
     "name": "stderr",
     "output_type": "stream",
     "text": [
      "Processing row 5129:  94%|█████████▍| 5129/5455 [1:53:12<10:22,  1.91s/it]"
     ]
    },
    {
     "name": "stdout",
     "output_type": "stream",
     "text": [
      "Exception at row 5128\n",
      "'NoneType' object has no attribute 'find'\n"
     ]
    },
    {
     "name": "stderr",
     "output_type": "stream",
     "text": [
      "Processing row 5245:  96%|█████████▌| 5245/5455 [1:53:12<07:56,  2.27s/it]"
     ]
    },
    {
     "name": "stdout",
     "output_type": "stream",
     "text": [
      "Exception at row 5244\n",
      "'NoneType' object has no attribute 'find'\n"
     ]
    },
    {
     "name": "stderr",
     "output_type": "stream",
     "text": [
      "Processing row 5171:  95%|█████████▍| 5171/5456 [1:53:13<12:25,  2.61s/it]"
     ]
    },
    {
     "name": "stdout",
     "output_type": "stream",
     "text": [
      "Exception at row 5170\n",
      "'NoneType' object has no attribute 'find'\n"
     ]
    },
    {
     "name": "stderr",
     "output_type": "stream",
     "text": [
      "Processing row 5174:  95%|█████████▍| 5172/5456 [1:53:14<10:47,  2.28s/it]"
     ]
    },
    {
     "name": "stdout",
     "output_type": "stream",
     "text": [
      "Exception at row 5171\n",
      "'NoneType' object has no attribute 'find'\n"
     ]
    },
    {
     "name": "stderr",
     "output_type": "stream",
     "text": [
      "Processing row 5246:  96%|█████████▌| 5246/5455 [1:53:16<09:56,  2.86s/it]"
     ]
    },
    {
     "name": "stdout",
     "output_type": "stream",
     "text": [
      "Exception at row 5245\n",
      "'NoneType' object has no attribute 'find'\n"
     ]
    },
    {
     "name": "stderr",
     "output_type": "stream",
     "text": [
      "Processing row 5175:  95%|█████████▍| 5175/5456 [1:53:17<08:52,  1.90s/it]"
     ]
    },
    {
     "name": "stdout",
     "output_type": "stream",
     "text": [
      "Exception at row 5133\n",
      "'NoneType' object has no attribute 'find'\n",
      "Exception at row 5174\n",
      "'NoneType' object has no attribute 'find'\n"
     ]
    },
    {
     "name": "stderr",
     "output_type": "stream",
     "text": [
      "Processing row 5176:  95%|█████████▍| 5176/5456 [1:53:20<09:31,  2.04s/it]"
     ]
    },
    {
     "name": "stdout",
     "output_type": "stream",
     "text": [
      "Exception at row 5134\n",
      "'NoneType' object has no attribute 'find'\n"
     ]
    },
    {
     "name": "stderr",
     "output_type": "stream",
     "text": [
      "Processing row 5136:  94%|█████████▍| 5136/5455 [1:53:22<10:45,  2.02s/it]"
     ]
    },
    {
     "name": "stdout",
     "output_type": "stream",
     "text": [
      "Exception at row 5135\n",
      "'NoneType' object has no attribute 'find'\n"
     ]
    },
    {
     "name": "stderr",
     "output_type": "stream",
     "text": [
      "Processing row 5137:  94%|█████████▍| 5137/5455 [1:53:24<10:41,  2.02s/it]"
     ]
    },
    {
     "name": "stdout",
     "output_type": "stream",
     "text": [
      "Exception at row 5136\n",
      "'NoneType' object has no attribute 'find'\n"
     ]
    },
    {
     "name": "stderr",
     "output_type": "stream",
     "text": [
      "Processing row 5177:  95%|█████████▍| 5177/5456 [1:53:25<13:58,  3.01s/it]"
     ]
    },
    {
     "name": "stdout",
     "output_type": "stream",
     "text": [
      "Exception at row 5176\n",
      "'NoneType' object has no attribute 'find'\n"
     ]
    },
    {
     "name": "stderr",
     "output_type": "stream",
     "text": [
      "Processing row 5139:  94%|█████████▍| 5138/5455 [1:53:28<12:52,  2.44s/it]"
     ]
    },
    {
     "name": "stdout",
     "output_type": "stream",
     "text": [
      "Exception at row 5137\n",
      "'NoneType' object has no attribute 'find'\n"
     ]
    },
    {
     "name": "stderr",
     "output_type": "stream",
     "text": [
      "Processing row 5251:  96%|█████████▋| 5251/5455 [1:53:28<07:19,  2.15s/it]"
     ]
    },
    {
     "name": "stdout",
     "output_type": "stream",
     "text": [
      "Exception at row 5177\n",
      "'NoneType' object has no attribute 'find'\n"
     ]
    },
    {
     "name": "stderr",
     "output_type": "stream",
     "text": [
      "Processing row 5141:  94%|█████████▍| 5141/5455 [1:53:31<09:35,  1.83s/it]"
     ]
    },
    {
     "name": "stdout",
     "output_type": "stream",
     "text": [
      "Exception at row 5140\n",
      "'NoneType' object has no attribute 'find'\n"
     ]
    },
    {
     "name": "stderr",
     "output_type": "stream",
     "text": [
      "Processing row 5143:  94%|█████████▍| 5142/5455 [1:53:32<09:00,  1.73s/it]"
     ]
    },
    {
     "name": "stdout",
     "output_type": "stream",
     "text": [
      "Exception at row 5141\n",
      "'NoneType' object has no attribute 'find'\n"
     ]
    },
    {
     "name": "stderr",
     "output_type": "stream",
     "text": [
      "Processing row 5253:  96%|█████████▋| 5253/5455 [1:53:33<08:26,  2.51s/it]"
     ]
    },
    {
     "name": "stdout",
     "output_type": "stream",
     "text": [
      "Exception at row 5252\n",
      "'NoneType' object has no attribute 'find'\n"
     ]
    },
    {
     "name": "stderr",
     "output_type": "stream",
     "text": [
      "Processing row 5185:  95%|█████████▌| 5185/5456 [1:53:35<07:41,  1.70s/it]"
     ]
    },
    {
     "name": "stdout",
     "output_type": "stream",
     "text": [
      "Exception at row 5184\n",
      "'NoneType' object has no attribute 'find'\n"
     ]
    },
    {
     "name": "stderr",
     "output_type": "stream",
     "text": [
      "Processing row 5254:  96%|█████████▋| 5254/5455 [1:53:37<09:23,  2.81s/it]"
     ]
    },
    {
     "name": "stdout",
     "output_type": "stream",
     "text": [
      "Exception at row 5253\n",
      "'NoneType' object has no attribute 'find'\n"
     ]
    },
    {
     "name": "stderr",
     "output_type": "stream",
     "text": [
      "Processing row 5255:  96%|█████████▋| 5255/5455 [1:53:38<07:27,  2.24s/it]"
     ]
    },
    {
     "name": "stdout",
     "output_type": "stream",
     "text": [
      "Exception at row 5145\n",
      "'NoneType' object has no attribute 'find'\n"
     ]
    },
    {
     "name": "stderr",
     "output_type": "stream",
     "text": [
      "Processing row 5186:  95%|█████████▌| 5186/5456 [1:53:38<10:03,  2.23s/it]"
     ]
    },
    {
     "name": "stdout",
     "output_type": "stream",
     "text": [
      "Exception at row 5185\n",
      "'NoneType' object has no attribute 'find'\n"
     ]
    },
    {
     "name": "stderr",
     "output_type": "stream",
     "text": [
      "Processing row 5147:  94%|█████████▍| 5147/5455 [1:53:39<07:50,  1.53s/it]"
     ]
    },
    {
     "name": "stdout",
     "output_type": "stream",
     "text": [
      "Exception at row 5146\n",
      "'NoneType' object has no attribute 'find'\n"
     ]
    },
    {
     "name": "stderr",
     "output_type": "stream",
     "text": [
      "Processing row 5256:  96%|█████████▋| 5256/5455 [1:53:40<06:56,  2.09s/it]"
     ]
    },
    {
     "name": "stdout",
     "output_type": "stream",
     "text": [
      "Exception at row 5255\n",
      "'NoneType' object has no attribute 'find'\n"
     ]
    },
    {
     "name": "stderr",
     "output_type": "stream",
     "text": [
      "Processing row 5187:  95%|█████████▌| 5187/5456 [1:53:41<10:21,  2.31s/it]"
     ]
    },
    {
     "name": "stdout",
     "output_type": "stream",
     "text": [
      "Exception at row 5186\n",
      "'NoneType' object has no attribute 'find'\n"
     ]
    },
    {
     "name": "stderr",
     "output_type": "stream",
     "text": [
      "Processing row 5149:  94%|█████████▍| 5149/5455 [1:53:41<07:12,  1.41s/it]"
     ]
    },
    {
     "name": "stdout",
     "output_type": "stream",
     "text": [
      "Exception at row 5148\n",
      "'NoneType' object has no attribute 'find'\n"
     ]
    },
    {
     "name": "stderr",
     "output_type": "stream",
     "text": [
      "Processing row 5257:  96%|█████████▋| 5257/5455 [1:53:41<06:42,  2.03s/it]"
     ]
    },
    {
     "name": "stdout",
     "output_type": "stream",
     "text": [
      "Exception at row 5256\n",
      "'NoneType' object has no attribute 'find'\n"
     ]
    },
    {
     "name": "stderr",
     "output_type": "stream",
     "text": [
      "Processing row 5150:  94%|█████████▍| 5150/5455 [1:53:43<07:00,  1.38s/it]"
     ]
    },
    {
     "name": "stdout",
     "output_type": "stream",
     "text": [
      "Exception at row 5187\n",
      "'NoneType' object has no attribute 'find'\n"
     ]
    },
    {
     "name": "stderr",
     "output_type": "stream",
     "text": [
      "Processing row 5258:  96%|█████████▋| 5258/5455 [1:53:44<07:06,  2.17s/it]"
     ]
    },
    {
     "name": "stdout",
     "output_type": "stream",
     "text": [
      "Exception at row 5188\n",
      "'NoneType' object has no attribute 'find'\n"
     ]
    },
    {
     "name": "stderr",
     "output_type": "stream",
     "text": [
      "Processing row 5259:  96%|█████████▋| 5259/5455 [1:53:45<06:01,  1.84s/it]"
     ]
    },
    {
     "name": "stdout",
     "output_type": "stream",
     "text": [
      "Exception at row 5258\n",
      "'NoneType' object has no attribute 'find'\n"
     ]
    },
    {
     "name": "stderr",
     "output_type": "stream",
     "text": [
      "Processing row 5190:  95%|█████████▌| 5190/5456 [1:53:46<08:51,  2.00s/it]"
     ]
    },
    {
     "name": "stdout",
     "output_type": "stream",
     "text": [
      "Exception at row 5189\n",
      "'NoneType' object has no attribute 'find'\n"
     ]
    },
    {
     "name": "stderr",
     "output_type": "stream",
     "text": [
      "Processing row 5260:  96%|█████████▋| 5260/5455 [1:53:48<06:37,  2.04s/it]"
     ]
    },
    {
     "name": "stdout",
     "output_type": "stream",
     "text": [
      "Exception at row 5259\n",
      "'NoneType' object has no attribute 'find'\n"
     ]
    },
    {
     "name": "stderr",
     "output_type": "stream",
     "text": [
      "Processing row 5191:  95%|█████████▌| 5191/5456 [1:53:48<08:55,  2.02s/it]"
     ]
    },
    {
     "name": "stdout",
     "output_type": "stream",
     "text": [
      "Exception at row 5190\n",
      "'NoneType' object has no attribute 'find'\n"
     ]
    },
    {
     "name": "stderr",
     "output_type": "stream",
     "text": [
      "Processing row 5155:  95%|█████████▍| 5155/5455 [1:53:49<06:52,  1.38s/it]"
     ]
    },
    {
     "name": "stdout",
     "output_type": "stream",
     "text": [
      "Exception at row 5154\n",
      "'NoneType' object has no attribute 'find'\n"
     ]
    },
    {
     "name": "stderr",
     "output_type": "stream",
     "text": [
      "Processing row 5192:  95%|█████████▌| 5192/5456 [1:53:50<08:04,  1.84s/it]"
     ]
    },
    {
     "name": "stdout",
     "output_type": "stream",
     "text": [
      "Exception at row 5191\n",
      "'NoneType' object has no attribute 'find'\n"
     ]
    },
    {
     "name": "stderr",
     "output_type": "stream",
     "text": [
      "Processing row 5156:  95%|█████████▍| 5156/5455 [1:53:50<06:53,  1.38s/it]"
     ]
    },
    {
     "name": "stdout",
     "output_type": "stream",
     "text": [
      "Exception at row 5155\n",
      "'NoneType' object has no attribute 'find'\n"
     ]
    },
    {
     "name": "stderr",
     "output_type": "stream",
     "text": [
      "Processing row 5157:  95%|█████████▍| 5157/5455 [1:53:51<06:06,  1.23s/it]"
     ]
    },
    {
     "name": "stdout",
     "output_type": "stream",
     "text": [
      "Exception at row 5156\n",
      "'NoneType' object has no attribute 'find'\n"
     ]
    },
    {
     "name": "stderr",
     "output_type": "stream",
     "text": [
      "Processing row 5194:  95%|█████████▌| 5193/5456 [1:53:52<08:34,  1.95s/it]"
     ]
    },
    {
     "name": "stdout",
     "output_type": "stream",
     "text": [
      "Exception at row 5192\n",
      "could not convert string to float: '77.39 - $122.21'\n"
     ]
    },
    {
     "name": "stderr",
     "output_type": "stream",
     "text": [
      "Processing row 5158:  95%|█████████▍| 5158/5455 [1:53:52<06:03,  1.22s/it]"
     ]
    },
    {
     "name": "stdout",
     "output_type": "stream",
     "text": [
      "Exception at row 5157\n",
      "'NoneType' object has no attribute 'find'\n"
     ]
    },
    {
     "name": "stderr",
     "output_type": "stream",
     "text": [
      "Processing row 5195:  95%|█████████▌| 5195/5456 [1:53:53<06:42,  1.54s/it]"
     ]
    },
    {
     "name": "stdout",
     "output_type": "stream",
     "text": [
      "Exception at row 5262\n",
      "'NoneType' object has no attribute 'find'\n"
     ]
    },
    {
     "name": "stderr",
     "output_type": "stream",
     "text": [
      "Processing row 5196:  95%|█████████▌| 5196/5456 [1:53:54<05:43,  1.32s/it]"
     ]
    },
    {
     "name": "stdout",
     "output_type": "stream",
     "text": [
      "Exception at row 5195\n",
      "'NoneType' object has no attribute 'find'\n"
     ]
    },
    {
     "name": "stderr",
     "output_type": "stream",
     "text": [
      "Processing row 5159:  95%|█████████▍| 5159/5455 [1:53:54<06:55,  1.40s/it]"
     ]
    },
    {
     "name": "stdout",
     "output_type": "stream",
     "text": [
      "Exception at row 5158\n",
      "'NoneType' object has no attribute 'find'\n"
     ]
    },
    {
     "name": "stderr",
     "output_type": "stream",
     "text": [
      "Processing row 5160:  95%|█████████▍| 5160/5455 [1:53:55<06:36,  1.34s/it]"
     ]
    },
    {
     "name": "stdout",
     "output_type": "stream",
     "text": [
      "Exception at row 5159\n",
      "'NoneType' object has no attribute 'find'\n"
     ]
    },
    {
     "name": "stderr",
     "output_type": "stream",
     "text": [
      "Processing row 5197:  95%|█████████▌| 5197/5456 [1:53:57<07:44,  1.79s/it]"
     ]
    },
    {
     "name": "stdout",
     "output_type": "stream",
     "text": [
      "Exception at row 5160\n",
      "'NoneType' object has no attribute 'find'\n",
      "Exception at row 5196\n",
      "'NoneType' object has no attribute 'find'\n",
      "Exception at row 5264\n",
      "'NoneType' object has no attribute 'find'\n"
     ]
    },
    {
     "name": "stderr",
     "output_type": "stream",
     "text": [
      "Processing row 5162:  95%|█████████▍| 5162/5455 [1:53:58<06:48,  1.39s/it]"
     ]
    },
    {
     "name": "stdout",
     "output_type": "stream",
     "text": [
      "Exception at row 5161\n",
      "'NoneType' object has no attribute 'find'\n"
     ]
    },
    {
     "name": "stderr",
     "output_type": "stream",
     "text": [
      "Processing row 5164:  95%|█████████▍| 5164/5455 [1:54:01<07:06,  1.46s/it]"
     ]
    },
    {
     "name": "stdout",
     "output_type": "stream",
     "text": [
      "Exception at row 5197\n",
      "'NoneType' object has no attribute 'find'\n"
     ]
    },
    {
     "name": "stderr",
     "output_type": "stream",
     "text": [
      "Processing row 5201:  95%|█████████▌| 5201/5456 [1:54:03<08:34,  2.02s/it]"
     ]
    },
    {
     "name": "stdout",
     "output_type": "stream",
     "text": [
      "Exception at row 5200\n",
      "'NoneType' object has no attribute 'find'\n"
     ]
    },
    {
     "name": "stderr",
     "output_type": "stream",
     "text": [
      "Processing row 5165:  95%|█████████▍| 5165/5455 [1:54:04<08:17,  1.71s/it]"
     ]
    },
    {
     "name": "stdout",
     "output_type": "stream",
     "text": [
      "Exception at row 5268\n",
      "'NoneType' object has no attribute 'find'\n",
      "Exception at row 5164\n",
      "'NoneType' object has no attribute 'find'\n"
     ]
    },
    {
     "name": "stderr",
     "output_type": "stream",
     "text": [
      "Processing row 5167:  95%|█████████▍| 5166/5455 [1:54:05<07:46,  1.61s/it]"
     ]
    },
    {
     "name": "stdout",
     "output_type": "stream",
     "text": [
      "Exception at row 5165\n",
      "'NoneType' object has no attribute 'find'\n"
     ]
    },
    {
     "name": "stderr",
     "output_type": "stream",
     "text": [
      "Processing row 5202:  95%|█████████▌| 5202/5456 [1:54:06<09:16,  2.19s/it]"
     ]
    },
    {
     "name": "stdout",
     "output_type": "stream",
     "text": [
      "Exception at row 5201\n",
      "'NoneType' object has no attribute 'find'\n"
     ]
    },
    {
     "name": "stderr",
     "output_type": "stream",
     "text": [
      "Processing row 5203:  95%|█████████▌| 5203/5456 [1:54:07<08:18,  1.97s/it]"
     ]
    },
    {
     "name": "stdout",
     "output_type": "stream",
     "text": [
      "Exception at row 5202\n",
      "'NoneType' object has no attribute 'find'\n"
     ]
    },
    {
     "name": "stderr",
     "output_type": "stream",
     "text": [
      "Processing row 5272:  97%|█████████▋| 5272/5455 [1:54:07<04:21,  1.43s/it]"
     ]
    },
    {
     "name": "stdout",
     "output_type": "stream",
     "text": [
      "Exception at row 5271\n",
      "'NoneType' object has no attribute 'find'\n"
     ]
    },
    {
     "name": "stderr",
     "output_type": "stream",
     "text": [
      "Processing row 5206:  95%|█████████▌| 5204/5456 [1:54:09<08:06,  1.93s/it]"
     ]
    },
    {
     "name": "stdout",
     "output_type": "stream",
     "text": [
      "Exception at row 5203\n",
      "'NoneType' object has no attribute 'find'\n"
     ]
    },
    {
     "name": "stderr",
     "output_type": "stream",
     "text": [
      "Processing row 5274:  97%|█████████▋| 5274/5455 [1:54:10<04:18,  1.43s/it]"
     ]
    },
    {
     "name": "stdout",
     "output_type": "stream",
     "text": [
      "Exception at row 5273\n",
      "'NoneType' object has no attribute 'find'\n"
     ]
    },
    {
     "name": "stderr",
     "output_type": "stream",
     "text": [
      "Processing row 5171:  95%|█████████▍| 5171/5455 [1:54:11<05:55,  1.25s/it]"
     ]
    },
    {
     "name": "stdout",
     "output_type": "stream",
     "text": [
      "Exception at row 5170\n",
      "'NoneType' object has no attribute 'find'\n"
     ]
    },
    {
     "name": "stderr",
     "output_type": "stream",
     "text": [
      "Processing row 5208:  95%|█████████▌| 5208/5456 [1:54:12<07:02,  1.70s/it]"
     ]
    },
    {
     "name": "stdout",
     "output_type": "stream",
     "text": [
      "Exception at row 5207\n",
      "'NoneType' object has no attribute 'find'\n"
     ]
    },
    {
     "name": "stderr",
     "output_type": "stream",
     "text": [
      "Processing row 5173:  95%|█████████▍| 5173/5455 [1:54:13<04:56,  1.05s/it]"
     ]
    },
    {
     "name": "stdout",
     "output_type": "stream",
     "text": [
      "Exception at row 5172\n",
      "'NoneType' object has no attribute 'find'\n"
     ]
    },
    {
     "name": "stderr",
     "output_type": "stream",
     "text": [
      "Processing row 5210:  95%|█████████▌| 5210/5456 [1:54:15<06:39,  1.62s/it]"
     ]
    },
    {
     "name": "stdout",
     "output_type": "stream",
     "text": [
      "Exception at row 5209\n",
      "'NoneType' object has no attribute 'find'\n"
     ]
    },
    {
     "name": "stderr",
     "output_type": "stream",
     "text": [
      "Processing row 5277:  97%|█████████▋| 5277/5455 [1:54:15<04:47,  1.61s/it]"
     ]
    },
    {
     "name": "stdout",
     "output_type": "stream",
     "text": [
      "Exception at row 5276\n",
      "'NoneType' object has no attribute 'find'\n"
     ]
    },
    {
     "name": "stderr",
     "output_type": "stream",
     "text": [
      "Processing row 5213:  96%|█████████▌| 5211/5456 [1:54:16<06:38,  1.63s/it]"
     ]
    },
    {
     "name": "stdout",
     "output_type": "stream",
     "text": [
      "Exception at row 5174\n",
      "'NoneType' object has no attribute 'find'\n",
      "Exception at row 5210\n",
      "'NoneType' object has no attribute 'find'\n"
     ]
    },
    {
     "name": "stderr",
     "output_type": "stream",
     "text": [
      "Processing row 5215:  96%|█████████▌| 5214/5456 [1:54:18<05:08,  1.27s/it]"
     ]
    },
    {
     "name": "stdout",
     "output_type": "stream",
     "text": [
      "Exception at row 5277\n",
      "'NoneType' object has no attribute 'find'\n"
     ]
    },
    {
     "name": "stderr",
     "output_type": "stream",
     "text": [
      "Processing row 5216:  96%|█████████▌| 5216/5456 [1:54:20<04:38,  1.16s/it]"
     ]
    },
    {
     "name": "stdout",
     "output_type": "stream",
     "text": [
      "Exception at row 5215\n",
      "'NoneType' object has no attribute 'find'\n"
     ]
    },
    {
     "name": "stderr",
     "output_type": "stream",
     "text": [
      "Processing row 5280:  97%|█████████▋| 5280/5455 [1:54:20<04:26,  1.52s/it]"
     ]
    },
    {
     "name": "stdout",
     "output_type": "stream",
     "text": [
      "Exception at row 5279\n",
      "'NoneType' object has no attribute 'find'\n"
     ]
    },
    {
     "name": "stderr",
     "output_type": "stream",
     "text": [
      "Processing row 5177:  95%|█████████▍| 5177/5455 [1:54:20<07:57,  1.72s/it]"
     ]
    },
    {
     "name": "stdout",
     "output_type": "stream",
     "text": [
      "Exception at row 5176\n",
      "'NoneType' object has no attribute 'find'\n"
     ]
    },
    {
     "name": "stderr",
     "output_type": "stream",
     "text": [
      "Processing row 5281:  97%|█████████▋| 5281/5455 [1:54:21<04:15,  1.47s/it]"
     ]
    },
    {
     "name": "stdout",
     "output_type": "stream",
     "text": [
      "Exception at row 5280\n",
      "'NoneType' object has no attribute 'find'\n"
     ]
    },
    {
     "name": "stderr",
     "output_type": "stream",
     "text": [
      "Processing row 5282:  97%|█████████▋| 5282/5455 [1:54:22<03:56,  1.37s/it]"
     ]
    },
    {
     "name": "stdout",
     "output_type": "stream",
     "text": [
      "Exception at row 5281\n",
      "'NoneType' object has no attribute 'find'\n"
     ]
    },
    {
     "name": "stderr",
     "output_type": "stream",
     "text": [
      "Processing row 5225:  96%|█████████▌| 5224/5456 [1:54:23<02:58,  1.30it/s]"
     ]
    },
    {
     "name": "stdout",
     "output_type": "stream",
     "text": [
      "Exception at row 5223\n",
      "'NoneType' object has no attribute 'find'\n"
     ]
    },
    {
     "name": "stderr",
     "output_type": "stream",
     "text": [
      "Processing row 5283:  97%|█████████▋| 5283/5455 [1:54:24<03:51,  1.34s/it]"
     ]
    },
    {
     "name": "stdout",
     "output_type": "stream",
     "text": [
      "Exception at row 5282\n",
      "'NoneType' object has no attribute 'find'\n"
     ]
    },
    {
     "name": "stderr",
     "output_type": "stream",
     "text": [
      "Processing row 5227:  96%|█████████▌| 5226/5456 [1:54:24<02:36,  1.47it/s]"
     ]
    },
    {
     "name": "stdout",
     "output_type": "stream",
     "text": [
      "Exception at row 5225\n",
      "'NoneType' object has no attribute 'find'\n"
     ]
    },
    {
     "name": "stderr",
     "output_type": "stream",
     "text": [
      "Processing row 5181:  95%|█████████▍| 5181/5455 [1:54:25<06:00,  1.32s/it]"
     ]
    },
    {
     "name": "stdout",
     "output_type": "stream",
     "text": [
      "Exception at row 5180\n",
      "'NoneType' object has no attribute 'find'\n"
     ]
    },
    {
     "name": "stderr",
     "output_type": "stream",
     "text": [
      "Processing row 5229:  96%|█████████▌| 5228/5456 [1:54:26<02:34,  1.48it/s]"
     ]
    },
    {
     "name": "stdout",
     "output_type": "stream",
     "text": [
      "Exception at row 5227\n",
      "'NoneType' object has no attribute 'find'\n"
     ]
    },
    {
     "name": "stderr",
     "output_type": "stream",
     "text": [
      "Processing row 5182:  95%|█████████▍| 5182/5455 [1:54:26<05:51,  1.29s/it]"
     ]
    },
    {
     "name": "stdout",
     "output_type": "stream",
     "text": [
      "Exception at row 5181\n",
      "'NoneType' object has no attribute 'find'\n"
     ]
    },
    {
     "name": "stderr",
     "output_type": "stream",
     "text": [
      "Processing row 5284:  97%|█████████▋| 5284/5455 [1:54:26<05:01,  1.76s/it]"
     ]
    },
    {
     "name": "stdout",
     "output_type": "stream",
     "text": [
      "Exception at row 5283\n",
      "'NoneType' object has no attribute 'find'\n"
     ]
    },
    {
     "name": "stderr",
     "output_type": "stream",
     "text": [
      "Processing row 5230:  96%|█████████▌| 5230/5456 [1:54:27<02:47,  1.35it/s]"
     ]
    },
    {
     "name": "stdout",
     "output_type": "stream",
     "text": [
      "Exception at row 5229\n",
      "'NoneType' object has no attribute 'find'\n"
     ]
    },
    {
     "name": "stderr",
     "output_type": "stream",
     "text": [
      "Processing row 5285:  97%|█████████▋| 5285/5455 [1:54:28<04:49,  1.70s/it]"
     ]
    },
    {
     "name": "stdout",
     "output_type": "stream",
     "text": [
      "Exception at row 5284\n",
      "'NoneType' object has no attribute 'find'\n"
     ]
    },
    {
     "name": "stderr",
     "output_type": "stream",
     "text": [
      "Processing row 5231:  96%|█████████▌| 5231/5456 [1:54:29<03:48,  1.01s/it]"
     ]
    },
    {
     "name": "stdout",
     "output_type": "stream",
     "text": [
      "Exception at row 5230\n",
      "'NoneType' object has no attribute 'find'\n"
     ]
    },
    {
     "name": "stderr",
     "output_type": "stream",
     "text": [
      "Processing row 5286:  97%|█████████▋| 5286/5455 [1:54:29<04:34,  1.62s/it]"
     ]
    },
    {
     "name": "stdout",
     "output_type": "stream",
     "text": [
      "Exception at row 5183\n",
      "'NoneType' object has no attribute 'find'\n",
      "Exception at row 5285\n",
      "'NoneType' object has no attribute 'find'\n"
     ]
    },
    {
     "name": "stderr",
     "output_type": "stream",
     "text": [
      "Processing row 5185:  95%|█████████▌| 5185/5455 [1:54:30<06:05,  1.35s/it]"
     ]
    },
    {
     "name": "stdout",
     "output_type": "stream",
     "text": [
      "Exception at row 5184\n",
      "'NoneType' object has no attribute 'find'\n"
     ]
    },
    {
     "name": "stderr",
     "output_type": "stream",
     "text": [
      "Processing row 5232:  96%|█████████▌| 5232/5456 [1:54:31<05:10,  1.39s/it]"
     ]
    },
    {
     "name": "stdout",
     "output_type": "stream",
     "text": [
      "Exception at row 5231\n",
      "'NoneType' object has no attribute 'find'\n"
     ]
    },
    {
     "name": "stderr",
     "output_type": "stream",
     "text": [
      "Processing row 5288:  97%|█████████▋| 5288/5455 [1:54:32<03:56,  1.42s/it]"
     ]
    },
    {
     "name": "stdout",
     "output_type": "stream",
     "text": [
      "Exception at row 5185\n",
      "'NoneType' object has no attribute 'find'\n"
     ]
    },
    {
     "name": "stderr",
     "output_type": "stream",
     "text": [
      "Processing row 5190:  95%|█████████▌| 5190/5455 [1:54:34<04:10,  1.06it/s]"
     ]
    },
    {
     "name": "stdout",
     "output_type": "stream",
     "text": [
      "Exception at row 5189\n",
      "'NoneType' object has no attribute 'find'\n"
     ]
    },
    {
     "name": "stderr",
     "output_type": "stream",
     "text": [
      "Processing row 5234:  96%|█████████▌| 5234/5456 [1:54:34<05:30,  1.49s/it]"
     ]
    },
    {
     "name": "stdout",
     "output_type": "stream",
     "text": [
      "Exception at row 5288\n",
      "'NoneType' object has no attribute 'find'\n",
      "Exception at row 5233\n",
      "'NoneType' object has no attribute 'find'\n"
     ]
    },
    {
     "name": "stderr",
     "output_type": "stream",
     "text": [
      "Processing row 5235:  96%|█████████▌| 5235/5456 [1:54:36<05:15,  1.43s/it]"
     ]
    },
    {
     "name": "stdout",
     "output_type": "stream",
     "text": [
      "Exception at row 5234\n",
      "'NoneType' object has no attribute 'find'\n"
     ]
    },
    {
     "name": "stderr",
     "output_type": "stream",
     "text": [
      "Processing row 5191:  95%|█████████▌| 5191/5455 [1:54:36<06:15,  1.42s/it]"
     ]
    },
    {
     "name": "stdout",
     "output_type": "stream",
     "text": [
      "Exception at row 5190\n",
      "'NoneType' object has no attribute 'find'\n"
     ]
    },
    {
     "name": "stderr",
     "output_type": "stream",
     "text": [
      "Processing row 5236:  96%|█████████▌| 5236/5456 [1:54:38<06:08,  1.67s/it]"
     ]
    },
    {
     "name": "stdout",
     "output_type": "stream",
     "text": [
      "Exception at row 5235\n",
      "'NoneType' object has no attribute 'find'\n"
     ]
    },
    {
     "name": "stderr",
     "output_type": "stream",
     "text": [
      "Processing row 5292:  97%|█████████▋| 5292/5455 [1:54:39<04:19,  1.59s/it]"
     ]
    },
    {
     "name": "stdout",
     "output_type": "stream",
     "text": [
      "Exception at row 5291\n",
      "'NoneType' object has no attribute 'find'\n"
     ]
    },
    {
     "name": "stderr",
     "output_type": "stream",
     "text": [
      "Processing row 5192:  95%|█████████▌| 5192/5455 [1:54:39<08:20,  1.90s/it]"
     ]
    },
    {
     "name": "stdout",
     "output_type": "stream",
     "text": [
      "Exception at row 5191\n",
      "'NoneType' object has no attribute 'find'\n"
     ]
    },
    {
     "name": "stderr",
     "output_type": "stream",
     "text": [
      "Processing row 5237:  96%|█████████▌| 5237/5456 [1:54:42<08:18,  2.28s/it]"
     ]
    },
    {
     "name": "stdout",
     "output_type": "stream",
     "text": [
      "Exception at row 5236\n",
      "'NoneType' object has no attribute 'find'\n"
     ]
    },
    {
     "name": "stderr",
     "output_type": "stream",
     "text": [
      "Processing row 5193:  95%|█████████▌| 5193/5455 [1:54:42<09:16,  2.12s/it]"
     ]
    },
    {
     "name": "stdout",
     "output_type": "stream",
     "text": [
      "Exception at row 5192\n",
      "'NoneType' object has no attribute 'find'\n"
     ]
    },
    {
     "name": "stderr",
     "output_type": "stream",
     "text": [
      "Processing row 5194:  95%|█████████▌| 5194/5455 [1:54:43<08:09,  1.88s/it]"
     ]
    },
    {
     "name": "stdout",
     "output_type": "stream",
     "text": [
      "Exception at row 5237\n",
      "'NoneType' object has no attribute 'find'\n"
     ]
    },
    {
     "name": "stderr",
     "output_type": "stream",
     "text": [
      "Processing row 5195:  95%|█████████▌| 5195/5455 [1:54:45<08:04,  1.86s/it]"
     ]
    },
    {
     "name": "stdout",
     "output_type": "stream",
     "text": [
      "Exception at row 5194\n",
      "'NoneType' object has no attribute 'find'\n"
     ]
    },
    {
     "name": "stderr",
     "output_type": "stream",
     "text": [
      "Processing row 5239:  96%|█████████▌| 5239/5456 [1:54:46<08:15,  2.28s/it]"
     ]
    },
    {
     "name": "stdout",
     "output_type": "stream",
     "text": [
      "Exception at row 5238\n",
      "'NoneType' object has no attribute 'find'\n"
     ]
    },
    {
     "name": "stderr",
     "output_type": "stream",
     "text": [
      "Processing row 5196:  95%|█████████▌| 5196/5455 [1:54:47<08:32,  1.98s/it]"
     ]
    },
    {
     "name": "stdout",
     "output_type": "stream",
     "text": [
      "Exception at row 5195\n",
      "'NoneType' object has no attribute 'find'\n"
     ]
    },
    {
     "name": "stderr",
     "output_type": "stream",
     "text": [
      "Processing row 5197:  95%|█████████▌| 5197/5455 [1:54:49<08:16,  1.92s/it]"
     ]
    },
    {
     "name": "stdout",
     "output_type": "stream",
     "text": [
      "Exception at row 5239\n",
      "'NoneType' object has no attribute 'find'\n",
      "Exception at row 5196\n",
      "'NoneType' object has no attribute 'find'\n"
     ]
    },
    {
     "name": "stderr",
     "output_type": "stream",
     "text": [
      "Processing row 5298:  97%|█████████▋| 5298/5455 [1:54:50<05:05,  1.95s/it]"
     ]
    },
    {
     "name": "stdout",
     "output_type": "stream",
     "text": [
      "Exception at row 5297\n",
      "'NoneType' object has no attribute 'find'\n"
     ]
    },
    {
     "name": "stderr",
     "output_type": "stream",
     "text": [
      "Processing row 5243:  96%|█████████▌| 5242/5456 [1:54:51<07:12,  2.02s/it]"
     ]
    },
    {
     "name": "stdout",
     "output_type": "stream",
     "text": [
      "Exception at row 5241\n",
      "'NoneType' object has no attribute 'find'\n"
     ]
    },
    {
     "name": "stderr",
     "output_type": "stream",
     "text": [
      "Processing row 5244:  96%|█████████▌| 5244/5456 [1:54:52<05:46,  1.63s/it]"
     ]
    },
    {
     "name": "stdout",
     "output_type": "stream",
     "text": [
      "Exception at row 5243\n",
      "'NoneType' object has no attribute 'find'\n"
     ]
    },
    {
     "name": "stderr",
     "output_type": "stream",
     "text": [
      "Processing row 5200:  95%|█████████▌| 5200/5455 [1:54:54<07:47,  1.83s/it]"
     ]
    },
    {
     "name": "stdout",
     "output_type": "stream",
     "text": [
      "Exception at row 5199\n",
      "'NoneType' object has no attribute 'find'\n"
     ]
    },
    {
     "name": "stderr",
     "output_type": "stream",
     "text": [
      "Processing row 5245:  96%|█████████▌| 5245/5456 [1:54:55<06:44,  1.92s/it]"
     ]
    },
    {
     "name": "stdout",
     "output_type": "stream",
     "text": [
      "Exception at row 5244\n",
      "'NoneType' object has no attribute 'find'\n"
     ]
    },
    {
     "name": "stderr",
     "output_type": "stream",
     "text": [
      "Processing row 5246:  96%|█████████▌| 5246/5456 [1:54:56<06:14,  1.78s/it]"
     ]
    },
    {
     "name": "stdout",
     "output_type": "stream",
     "text": [
      "Exception at row 5245\n",
      "'NoneType' object has no attribute 'find'\n"
     ]
    },
    {
     "name": "stderr",
     "output_type": "stream",
     "text": [
      "Processing row 5201:  95%|█████████▌| 5201/5455 [1:54:57<09:06,  2.15s/it]"
     ]
    },
    {
     "name": "stdout",
     "output_type": "stream",
     "text": [
      "Exception at row 5200\n",
      "'NoneType' object has no attribute 'find'\n"
     ]
    },
    {
     "name": "stderr",
     "output_type": "stream",
     "text": [
      "Processing row 5301:  97%|█████████▋| 5301/5455 [1:54:58<07:11,  2.80s/it]"
     ]
    },
    {
     "name": "stdout",
     "output_type": "stream",
     "text": [
      "Exception at row 5300\n",
      "'NoneType' object has no attribute 'find'\n"
     ]
    },
    {
     "name": "stderr",
     "output_type": "stream",
     "text": [
      "Processing row 5302:  97%|█████████▋| 5302/5455 [1:55:02<07:43,  3.03s/it]"
     ]
    },
    {
     "name": "stdout",
     "output_type": "stream",
     "text": [
      "Exception at row 5301\n",
      "'NoneType' object has no attribute 'find'\n"
     ]
    },
    {
     "name": "stderr",
     "output_type": "stream",
     "text": [
      "Processing row 5202:  95%|█████████▌| 5202/5455 [1:55:02<13:00,  3.09s/it]"
     ]
    },
    {
     "name": "stdout",
     "output_type": "stream",
     "text": [
      "Exception at row 5247\n",
      "'NoneType' object has no attribute 'find'\n",
      "Exception at row 5201\n",
      "'NoneType' object has no attribute 'find'\n"
     ]
    },
    {
     "name": "stderr",
     "output_type": "stream",
     "text": [
      "Processing row 5303:  97%|█████████▋| 5303/5455 [1:55:04<06:41,  2.64s/it]"
     ]
    },
    {
     "name": "stdout",
     "output_type": "stream",
     "text": [
      "Exception at row 5302\n",
      "'NoneType' object has no attribute 'find'\n"
     ]
    },
    {
     "name": "stderr",
     "output_type": "stream",
     "text": [
      "Processing row 5203:  95%|█████████▌| 5203/5455 [1:55:06<13:53,  3.31s/it]"
     ]
    },
    {
     "name": "stdout",
     "output_type": "stream",
     "text": [
      "Exception at row 5202\n",
      "'NoneType' object has no attribute 'find'\n"
     ]
    },
    {
     "name": "stderr",
     "output_type": "stream",
     "text": [
      "Processing row 5251:  96%|█████████▌| 5250/5456 [1:55:07<08:30,  2.48s/it]"
     ]
    },
    {
     "name": "stdout",
     "output_type": "stream",
     "text": [
      "Exception at row 5249\n",
      "'NoneType' object has no attribute 'find'\n"
     ]
    },
    {
     "name": "stderr",
     "output_type": "stream",
     "text": [
      "Processing row 5253:  96%|█████████▋| 5252/5456 [1:55:10<07:07,  2.09s/it]"
     ]
    },
    {
     "name": "stdout",
     "output_type": "stream",
     "text": [
      "Exception at row 5251\n",
      "'NoneType' object has no attribute 'find'\n"
     ]
    },
    {
     "name": "stderr",
     "output_type": "stream",
     "text": [
      "Processing row 5204:  95%|█████████▌| 5204/5455 [1:55:12<17:29,  4.18s/it]"
     ]
    },
    {
     "name": "stdout",
     "output_type": "stream",
     "text": [
      "Exception at row 5203\n",
      "'NoneType' object has no attribute 'find'\n"
     ]
    },
    {
     "name": "stderr",
     "output_type": "stream",
     "text": [
      "Processing row 5254:  96%|█████████▋| 5254/5456 [1:55:13<06:26,  1.91s/it]"
     ]
    },
    {
     "name": "stdout",
     "output_type": "stream",
     "text": [
      "Exception at row 5253\n",
      "'NoneType' object has no attribute 'find'\n"
     ]
    },
    {
     "name": "stderr",
     "output_type": "stream",
     "text": [
      "Processing row 5308:  97%|█████████▋| 5308/5455 [1:55:14<05:16,  2.15s/it]"
     ]
    },
    {
     "name": "stdout",
     "output_type": "stream",
     "text": [
      "Exception at row 5307\n",
      "'NoneType' object has no attribute 'find'\n"
     ]
    },
    {
     "name": "stderr",
     "output_type": "stream",
     "text": [
      "Processing row 5255:  96%|█████████▋| 5255/5456 [1:55:17<08:24,  2.51s/it]"
     ]
    },
    {
     "name": "stdout",
     "output_type": "stream",
     "text": [
      "Exception at row 5254\n",
      "'NoneType' object has no attribute 'find'\n"
     ]
    },
    {
     "name": "stderr",
     "output_type": "stream",
     "text": [
      "Processing row 5256:  96%|█████████▋| 5256/5456 [1:55:20<08:45,  2.63s/it]"
     ]
    },
    {
     "name": "stdout",
     "output_type": "stream",
     "text": [
      "Exception at row 5255\n",
      "'NoneType' object has no attribute 'find'\n"
     ]
    },
    {
     "name": "stderr",
     "output_type": "stream",
     "text": [
      "Processing row 5208:  95%|█████████▌| 5208/5455 [1:55:20<10:44,  2.61s/it]"
     ]
    },
    {
     "name": "stdout",
     "output_type": "stream",
     "text": [
      "Exception at row 5207\n",
      "'NoneType' object has no attribute 'find'\n"
     ]
    },
    {
     "name": "stderr",
     "output_type": "stream",
     "text": [
      "Processing row 5257:  96%|█████████▋| 5257/5456 [1:55:22<08:34,  2.59s/it]"
     ]
    },
    {
     "name": "stdout",
     "output_type": "stream",
     "text": [
      "Exception at row 5256\n",
      "could not convert string to float: '7.99 - $24.99'\n"
     ]
    },
    {
     "name": "stderr",
     "output_type": "stream",
     "text": [
      "Processing row 5209:  95%|█████████▌| 5209/5455 [1:55:23<10:09,  2.48s/it]"
     ]
    },
    {
     "name": "stdout",
     "output_type": "stream",
     "text": [
      "Exception at row 5208\n",
      "'NoneType' object has no attribute 'find'\n"
     ]
    },
    {
     "name": "stderr",
     "output_type": "stream",
     "text": [
      "Processing row 5210:  96%|█████████▌| 5210/5455 [1:55:24<08:57,  2.19s/it]"
     ]
    },
    {
     "name": "stdout",
     "output_type": "stream",
     "text": [
      "Exception at row 5257\n",
      "'NoneType' object has no attribute 'find'\n"
     ]
    },
    {
     "name": "stderr",
     "output_type": "stream",
     "text": [
      "Processing row 5211:  96%|█████████▌| 5211/5455 [1:55:25<07:58,  1.96s/it]"
     ]
    },
    {
     "name": "stdout",
     "output_type": "stream",
     "text": [
      "Exception at row 5210\n",
      "'NoneType' object has no attribute 'find'\n"
     ]
    },
    {
     "name": "stderr",
     "output_type": "stream",
     "text": [
      "Processing row 5312:  97%|█████████▋| 5312/5455 [1:55:26<07:15,  3.05s/it]"
     ]
    },
    {
     "name": "stdout",
     "output_type": "stream",
     "text": [
      "Exception at row 5311\n",
      "'NoneType' object has no attribute 'find'\n"
     ]
    },
    {
     "name": "stderr",
     "output_type": "stream",
     "text": [
      "Processing row 5212:  96%|█████████▌| 5212/5455 [1:55:29<09:32,  2.36s/it]"
     ]
    },
    {
     "name": "stdout",
     "output_type": "stream",
     "text": [
      "Exception at row 5211\n",
      "'NoneType' object has no attribute 'find'\n"
     ]
    },
    {
     "name": "stderr",
     "output_type": "stream",
     "text": [
      "Processing row 5313:  97%|█████████▋| 5313/5455 [1:55:29<07:04,  2.99s/it]"
     ]
    },
    {
     "name": "stdout",
     "output_type": "stream",
     "text": [
      "Exception at row 5312\n",
      "'NoneType' object has no attribute 'find'\n"
     ]
    },
    {
     "name": "stderr",
     "output_type": "stream",
     "text": [
      "Processing row 5261:  96%|█████████▋| 5260/5456 [1:55:30<08:49,  2.70s/it]"
     ]
    },
    {
     "name": "stdout",
     "output_type": "stream",
     "text": [
      "Exception at row 5259\n",
      "'NoneType' object has no attribute 'find'\n"
     ]
    },
    {
     "name": "stderr",
     "output_type": "stream",
     "text": [
      "Processing row 5315:  97%|█████████▋| 5314/5455 [1:55:31<06:28,  2.75s/it]"
     ]
    },
    {
     "name": "stdout",
     "output_type": "stream",
     "text": [
      "Exception at row 5313\n",
      "'NoneType' object has no attribute 'find'\n"
     ]
    },
    {
     "name": "stderr",
     "output_type": "stream",
     "text": [
      "Processing row 5262:  96%|█████████▋| 5262/5456 [1:55:32<07:15,  2.25s/it]"
     ]
    },
    {
     "name": "stdout",
     "output_type": "stream",
     "text": [
      "Exception at row 5261\n",
      "'NoneType' object has no attribute 'find'\n"
     ]
    },
    {
     "name": "stderr",
     "output_type": "stream",
     "text": [
      "Processing row 5316:  97%|█████████▋| 5316/5455 [1:55:33<05:07,  2.21s/it]"
     ]
    },
    {
     "name": "stdout",
     "output_type": "stream",
     "text": [
      "Exception at row 5315\n",
      "'NoneType' object has no attribute 'find'\n"
     ]
    },
    {
     "name": "stderr",
     "output_type": "stream",
     "text": [
      "Processing row 5213:  96%|█████████▌| 5213/5455 [1:55:33<12:24,  3.07s/it]"
     ]
    },
    {
     "name": "stdout",
     "output_type": "stream",
     "text": [
      "Exception at row 5212\n",
      "'NoneType' object has no attribute 'find'\n"
     ]
    },
    {
     "name": "stderr",
     "output_type": "stream",
     "text": [
      "Processing row 5317:  97%|█████████▋| 5317/5455 [1:55:35<04:33,  1.98s/it]"
     ]
    },
    {
     "name": "stdout",
     "output_type": "stream",
     "text": [
      "Exception at row 5316\n",
      "'NoneType' object has no attribute 'find'\n"
     ]
    },
    {
     "name": "stderr",
     "output_type": "stream",
     "text": [
      "Processing row 5318:  97%|█████████▋| 5318/5455 [1:55:36<04:17,  1.88s/it]"
     ]
    },
    {
     "name": "stdout",
     "output_type": "stream",
     "text": [
      "Exception at row 5317Exception at row 5213\n",
      "'NoneType' object has no attribute 'find'\n",
      "\n",
      "'NoneType' object has no attribute 'find'\n"
     ]
    },
    {
     "name": "stderr",
     "output_type": "stream",
     "text": [
      "Processing row 5263:  96%|█████████▋| 5263/5456 [1:55:37<09:48,  3.05s/it]"
     ]
    },
    {
     "name": "stdout",
     "output_type": "stream",
     "text": [
      "Exception at row 5262\n",
      "'NoneType' object has no attribute 'find'\n"
     ]
    },
    {
     "name": "stderr",
     "output_type": "stream",
     "text": [
      "Processing row 5319:  98%|█████████▊| 5319/5455 [1:55:39<04:29,  1.98s/it]"
     ]
    },
    {
     "name": "stdout",
     "output_type": "stream",
     "text": [
      "Exception at row 5318\n",
      "'NoneType' object has no attribute 'find'\n"
     ]
    },
    {
     "name": "stderr",
     "output_type": "stream",
     "text": [
      "Processing row 5264:  96%|█████████▋| 5264/5456 [1:55:39<08:36,  2.69s/it]"
     ]
    },
    {
     "name": "stdout",
     "output_type": "stream",
     "text": [
      "Exception at row 5263\n",
      "'NoneType' object has no attribute 'find'\n"
     ]
    },
    {
     "name": "stderr",
     "output_type": "stream",
     "text": [
      "Processing row 5320:  98%|█████████▊| 5320/5455 [1:55:41<04:29,  2.00s/it]"
     ]
    },
    {
     "name": "stdout",
     "output_type": "stream",
     "text": [
      "Exception at row 5319\n",
      "'NoneType' object has no attribute 'find'\n"
     ]
    },
    {
     "name": "stderr",
     "output_type": "stream",
     "text": [
      "Processing row 5265:  96%|█████████▋| 5265/5456 [1:55:41<07:57,  2.50s/it]"
     ]
    },
    {
     "name": "stdout",
     "output_type": "stream",
     "text": [
      "Exception at row 5264\n",
      "'NoneType' object has no attribute 'find'\n"
     ]
    },
    {
     "name": "stderr",
     "output_type": "stream",
     "text": [
      "Processing row 5216:  96%|█████████▌| 5216/5455 [1:55:42<12:21,  3.10s/it]"
     ]
    },
    {
     "name": "stdout",
     "output_type": "stream",
     "text": [
      "Exception at row 5215\n",
      "'NoneType' object has no attribute 'find'\n"
     ]
    },
    {
     "name": "stderr",
     "output_type": "stream",
     "text": [
      "Processing row 5217:  96%|█████████▌| 5217/5455 [1:55:46<13:06,  3.31s/it]"
     ]
    },
    {
     "name": "stdout",
     "output_type": "stream",
     "text": [
      "Exception at row 5216\n",
      "'NoneType' object has no attribute 'find'\n"
     ]
    },
    {
     "name": "stderr",
     "output_type": "stream",
     "text": [
      "Processing row 5323:  98%|█████████▊| 5322/5455 [1:55:47<05:36,  2.53s/it]"
     ]
    },
    {
     "name": "stdout",
     "output_type": "stream",
     "text": [
      "Exception at row 5321\n",
      "'NoneType' object has no attribute 'find'\n"
     ]
    },
    {
     "name": "stderr",
     "output_type": "stream",
     "text": [
      "Processing row 5218:  96%|█████████▌| 5218/5455 [1:55:48<11:14,  2.85s/it]"
     ]
    },
    {
     "name": "stdout",
     "output_type": "stream",
     "text": [
      "Exception at row 5217\n",
      "'NoneType' object has no attribute 'find'\n"
     ]
    },
    {
     "name": "stderr",
     "output_type": "stream",
     "text": [
      "Processing row 5324:  98%|█████████▊| 5324/5455 [1:55:49<04:31,  2.07s/it]"
     ]
    },
    {
     "name": "stdout",
     "output_type": "stream",
     "text": [
      "Exception at row 5323\n",
      "'NoneType' object has no attribute 'find'\n"
     ]
    },
    {
     "name": "stderr",
     "output_type": "stream",
     "text": [
      "Processing row 5270:  97%|█████████▋| 5270/5456 [1:55:50<06:04,  1.96s/it]"
     ]
    },
    {
     "name": "stdout",
     "output_type": "stream",
     "text": [
      "Exception at row 5269\n",
      "'NoneType' object has no attribute 'find'\n"
     ]
    },
    {
     "name": "stderr",
     "output_type": "stream",
     "text": [
      "Processing row 5219:  96%|█████████▌| 5219/5455 [1:55:52<12:34,  3.20s/it]"
     ]
    },
    {
     "name": "stdout",
     "output_type": "stream",
     "text": [
      "Exception at row 5218\n",
      "'NoneType' object has no attribute 'find'\n"
     ]
    },
    {
     "name": "stderr",
     "output_type": "stream",
     "text": [
      "Processing row 5271:  97%|█████████▋| 5271/5456 [1:55:53<06:27,  2.09s/it]"
     ]
    },
    {
     "name": "stdout",
     "output_type": "stream",
     "text": [
      "Exception at row 5270\n",
      "'NoneType' object has no attribute 'find'\n"
     ]
    },
    {
     "name": "stderr",
     "output_type": "stream",
     "text": [
      "Processing row 5327:  98%|█████████▊| 5326/5455 [1:55:53<04:37,  2.15s/it]"
     ]
    },
    {
     "name": "stdout",
     "output_type": "stream",
     "text": [
      "Exception at row 5325\n",
      "'NoneType' object has no attribute 'find'\n"
     ]
    },
    {
     "name": "stderr",
     "output_type": "stream",
     "text": [
      "Processing row 5220:  96%|█████████▌| 5220/5455 [1:55:55<12:30,  3.20s/it]"
     ]
    },
    {
     "name": "stdout",
     "output_type": "stream",
     "text": [
      "Exception at row 5219\n",
      "'NoneType' object has no attribute 'find'\n",
      "Exception at row 5271\n",
      "'NoneType' object has no attribute 'find'\n"
     ]
    },
    {
     "name": "stderr",
     "output_type": "stream",
     "text": [
      "Processing row 5273:  97%|█████████▋| 5273/5456 [1:55:57<06:11,  2.03s/it]"
     ]
    },
    {
     "name": "stdout",
     "output_type": "stream",
     "text": [
      "Exception at row 5327\n",
      "'NoneType' object has no attribute 'find'\n",
      "Exception at row 5272\n",
      "'NoneType' object has no attribute 'find'\n"
     ]
    },
    {
     "name": "stderr",
     "output_type": "stream",
     "text": [
      "Processing row 5222:  96%|█████████▌| 5222/5455 [1:55:58<09:02,  2.33s/it]"
     ]
    },
    {
     "name": "stdout",
     "output_type": "stream",
     "text": [
      "Exception at row 5328\n",
      "'NoneType' object has no attribute 'find'\n"
     ]
    },
    {
     "name": "stderr",
     "output_type": "stream",
     "text": [
      "Processing row 5274:  97%|█████████▋| 5274/5456 [1:55:59<06:06,  2.02s/it]"
     ]
    },
    {
     "name": "stdout",
     "output_type": "stream",
     "text": [
      "Exception at row 5273\n",
      "'NoneType' object has no attribute 'find'\n"
     ]
    },
    {
     "name": "stderr",
     "output_type": "stream",
     "text": [
      "Processing row 5223:  96%|█████████▌| 5223/5455 [1:56:00<08:14,  2.13s/it]"
     ]
    },
    {
     "name": "stdout",
     "output_type": "stream",
     "text": [
      "Exception at row 5329\n",
      "'NoneType' object has no attribute 'find'\n"
     ]
    },
    {
     "name": "stderr",
     "output_type": "stream",
     "text": [
      "Processing row 5224:  96%|█████████▌| 5224/5455 [1:56:01<07:28,  1.94s/it]"
     ]
    },
    {
     "name": "stdout",
     "output_type": "stream",
     "text": [
      "Exception at row 5274\n",
      "'NoneType' object has no attribute 'find'\n"
     ]
    },
    {
     "name": "stderr",
     "output_type": "stream",
     "text": [
      "Processing row 5332:  98%|█████████▊| 5332/5455 [1:56:02<03:18,  1.61s/it]"
     ]
    },
    {
     "name": "stdout",
     "output_type": "stream",
     "text": [
      "Exception at row 5331\n",
      "'NoneType' object has no attribute 'find'\n"
     ]
    },
    {
     "name": "stderr",
     "output_type": "stream",
     "text": [
      "Processing row 5276:  97%|█████████▋| 5276/5456 [1:56:04<06:47,  2.27s/it]"
     ]
    },
    {
     "name": "stdout",
     "output_type": "stream",
     "text": [
      "Exception at row 5275\n",
      "'NoneType' object has no attribute 'find'\n"
     ]
    },
    {
     "name": "stderr",
     "output_type": "stream",
     "text": [
      "Processing row 5226:  96%|█████████▌| 5226/5455 [1:56:05<07:18,  1.92s/it]"
     ]
    },
    {
     "name": "stdout",
     "output_type": "stream",
     "text": [
      "Exception at row 5225\n",
      "'NoneType' object has no attribute 'find'\n"
     ]
    },
    {
     "name": "stderr",
     "output_type": "stream",
     "text": [
      "Processing row 5277:  97%|█████████▋| 5277/5456 [1:56:05<06:14,  2.09s/it]"
     ]
    },
    {
     "name": "stdout",
     "output_type": "stream",
     "text": [
      "Exception at row 5276\n",
      "'NoneType' object has no attribute 'find'\n"
     ]
    },
    {
     "name": "stderr",
     "output_type": "stream",
     "text": [
      "Processing row 5227:  96%|█████████▌| 5227/5455 [1:56:09<09:28,  2.49s/it]"
     ]
    },
    {
     "name": "stdout",
     "output_type": "stream",
     "text": [
      "Exception at row 5226\n",
      "'NoneType' object has no attribute 'find'\n"
     ]
    },
    {
     "name": "stderr",
     "output_type": "stream",
     "text": [
      "Processing row 5336:  98%|█████████▊| 5335/5455 [1:56:14<05:21,  2.68s/it]"
     ]
    },
    {
     "name": "stdout",
     "output_type": "stream",
     "text": [
      "Exception at row 5334\n",
      "'NoneType' object has no attribute 'find'\n"
     ]
    },
    {
     "name": "stderr",
     "output_type": "stream",
     "text": [
      "Processing row 5229:  96%|█████████▌| 5229/5455 [1:56:14<10:11,  2.71s/it]"
     ]
    },
    {
     "name": "stdout",
     "output_type": "stream",
     "text": [
      "Exception at row 5228\n",
      "'NoneType' object has no attribute 'find'\n"
     ]
    },
    {
     "name": "stderr",
     "output_type": "stream",
     "text": [
      "Processing row 5283:  97%|█████████▋| 5283/5456 [1:56:16<05:28,  1.90s/it]"
     ]
    },
    {
     "name": "stdout",
     "output_type": "stream",
     "text": [
      "Exception at row 5282\n",
      "'NoneType' object has no attribute 'find'\n"
     ]
    },
    {
     "name": "stderr",
     "output_type": "stream",
     "text": [
      "Processing row 5337:  98%|█████████▊| 5337/5455 [1:56:17<04:37,  2.35s/it]"
     ]
    },
    {
     "name": "stdout",
     "output_type": "stream",
     "text": [
      "Exception at row 5336\n",
      "'NoneType' object has no attribute 'find'\n"
     ]
    },
    {
     "name": "stderr",
     "output_type": "stream",
     "text": [
      "Processing row 5230:  96%|█████████▌| 5230/5455 [1:56:17<10:27,  2.79s/it]"
     ]
    },
    {
     "name": "stdout",
     "output_type": "stream",
     "text": [
      "Exception at row 5229\n",
      "'NoneType' object has no attribute 'find'\n"
     ]
    },
    {
     "name": "stderr",
     "output_type": "stream",
     "text": [
      "Processing row 5338:  98%|█████████▊| 5338/5455 [1:56:18<04:03,  2.08s/it]"
     ]
    },
    {
     "name": "stdout",
     "output_type": "stream",
     "text": [
      "Exception at row 5337\n",
      "'NoneType' object has no attribute 'find'\n"
     ]
    },
    {
     "name": "stderr",
     "output_type": "stream",
     "text": [
      "Processing row 5284:  97%|█████████▋| 5284/5456 [1:56:19<06:40,  2.33s/it]"
     ]
    },
    {
     "name": "stdout",
     "output_type": "stream",
     "text": [
      "Exception at row 5283\n",
      "'NoneType' object has no attribute 'find'\n"
     ]
    },
    {
     "name": "stderr",
     "output_type": "stream",
     "text": [
      "Processing row 5233:  96%|█████████▌| 5233/5455 [1:56:24<08:44,  2.36s/it]"
     ]
    },
    {
     "name": "stdout",
     "output_type": "stream",
     "text": [
      "Exception at row 5232\n",
      "'NoneType' object has no attribute 'find'\n"
     ]
    },
    {
     "name": "stderr",
     "output_type": "stream",
     "text": [
      "Processing row 5340:  98%|█████████▊| 5340/5455 [1:56:24<04:48,  2.51s/it]"
     ]
    },
    {
     "name": "stdout",
     "output_type": "stream",
     "text": [
      "Exception at row 5339\n",
      "'NoneType' object has no attribute 'find'\n"
     ]
    },
    {
     "name": "stderr",
     "output_type": "stream",
     "text": [
      "Processing row 5288:  97%|█████████▋| 5287/5456 [1:56:25<05:40,  2.02s/it]"
     ]
    },
    {
     "name": "stdout",
     "output_type": "stream",
     "text": [
      "Exception at row 5286\n",
      "'NoneType' object has no attribute 'find'\n"
     ]
    },
    {
     "name": "stderr",
     "output_type": "stream",
     "text": [
      "Processing row 5234:  96%|█████████▌| 5234/5455 [1:56:25<07:41,  2.09s/it]"
     ]
    },
    {
     "name": "stdout",
     "output_type": "stream",
     "text": [
      "Exception at row 5233\n",
      "'NoneType' object has no attribute 'find'\n"
     ]
    },
    {
     "name": "stderr",
     "output_type": "stream",
     "text": [
      "Processing row 5290:  97%|█████████▋| 5290/5456 [1:56:29<05:28,  1.98s/it]"
     ]
    },
    {
     "name": "stdout",
     "output_type": "stream",
     "text": [
      "Exception at row 5289\n",
      "'NoneType' object has no attribute 'find'\n"
     ]
    },
    {
     "name": "stderr",
     "output_type": "stream",
     "text": [
      "Processing row 5237:  96%|█████████▌| 5236/5455 [1:56:30<08:02,  2.20s/it]"
     ]
    },
    {
     "name": "stdout",
     "output_type": "stream",
     "text": [
      "Exception at row 5235\n",
      "'NoneType' object has no attribute 'find'\n"
     ]
    },
    {
     "name": "stderr",
     "output_type": "stream",
     "text": [
      "Processing row 5291:  97%|█████████▋| 5291/5456 [1:56:32<05:34,  2.03s/it]"
     ]
    },
    {
     "name": "stdout",
     "output_type": "stream",
     "text": [
      "Exception at row 5290\n",
      "'NoneType' object has no attribute 'find'\n"
     ]
    },
    {
     "name": "stderr",
     "output_type": "stream",
     "text": [
      "Processing row 5341:  98%|█████████▊| 5341/5455 [1:56:32<07:43,  4.07s/it]"
     ]
    },
    {
     "name": "stdout",
     "output_type": "stream",
     "text": [
      "Exception at row 5340\n",
      "'NoneType' object has no attribute 'find'\n"
     ]
    },
    {
     "name": "stderr",
     "output_type": "stream",
     "text": [
      "Processing row 5238:  96%|█████████▌| 5238/5455 [1:56:32<07:00,  1.94s/it]"
     ]
    },
    {
     "name": "stdout",
     "output_type": "stream",
     "text": [
      "Exception at row 5237\n",
      "'NoneType' object has no attribute 'find'\n"
     ]
    },
    {
     "name": "stderr",
     "output_type": "stream",
     "text": [
      "Processing row 5342:  98%|█████████▊| 5342/5455 [1:56:34<06:23,  3.39s/it]"
     ]
    },
    {
     "name": "stdout",
     "output_type": "stream",
     "text": [
      "Exception at row 5238\n",
      "'NoneType' object has no attribute 'find'\n"
     ]
    },
    {
     "name": "stderr",
     "output_type": "stream",
     "text": [
      "Processing row 5294:  97%|█████████▋| 5293/5456 [1:56:36<05:38,  2.08s/it]"
     ]
    },
    {
     "name": "stdout",
     "output_type": "stream",
     "text": [
      "Exception at row 5292\n",
      "'NoneType' object has no attribute 'find'\n"
     ]
    },
    {
     "name": "stderr",
     "output_type": "stream",
     "text": [
      "Processing row 5296:  97%|█████████▋| 5295/5456 [1:56:38<04:47,  1.79s/it]"
     ]
    },
    {
     "name": "stdout",
     "output_type": "stream",
     "text": [
      "Exception at row 5294\n",
      "'NoneType' object has no attribute 'find'\n"
     ]
    },
    {
     "name": "stderr",
     "output_type": "stream",
     "text": [
      "Processing row 5344:  98%|█████████▊| 5344/5455 [1:56:38<05:00,  2.70s/it]"
     ]
    },
    {
     "name": "stdout",
     "output_type": "stream",
     "text": [
      "Exception at row 5343\n",
      "'NoneType' object has no attribute 'find'\n"
     ]
    },
    {
     "name": "stderr",
     "output_type": "stream",
     "text": [
      "Processing row 5345:  98%|█████████▊| 5345/5455 [1:56:39<04:10,  2.28s/it]"
     ]
    },
    {
     "name": "stdout",
     "output_type": "stream",
     "text": [
      "Exception at row 5344\n",
      "'NoneType' object has no attribute 'find'\n"
     ]
    },
    {
     "name": "stderr",
     "output_type": "stream",
     "text": [
      "Processing row 5297:  97%|█████████▋| 5297/5456 [1:56:40<04:04,  1.54s/it]"
     ]
    },
    {
     "name": "stdout",
     "output_type": "stream",
     "text": [
      "Exception at row 5296\n",
      "'NoneType' object has no attribute 'find'\n"
     ]
    },
    {
     "name": "stderr",
     "output_type": "stream",
     "text": [
      "Processing row 5347:  98%|█████████▊| 5346/5455 [1:56:41<03:35,  1.98s/it]"
     ]
    },
    {
     "name": "stdout",
     "output_type": "stream",
     "text": [
      "Exception at row 5345\n",
      "'NoneType' object has no attribute 'find'\n"
     ]
    },
    {
     "name": "stderr",
     "output_type": "stream",
     "text": [
      "Processing row 5240:  96%|█████████▌| 5240/5455 [1:56:41<12:40,  3.54s/it]"
     ]
    },
    {
     "name": "stdout",
     "output_type": "stream",
     "text": [
      "Exception at row 5239\n",
      "'NoneType' object has no attribute 'find'\n"
     ]
    },
    {
     "name": "stderr",
     "output_type": "stream",
     "text": [
      "Processing row 5349:  98%|█████████▊| 5348/5455 [1:56:44<03:16,  1.84s/it]"
     ]
    },
    {
     "name": "stdout",
     "output_type": "stream",
     "text": [
      "Exception at row 5347\n",
      "'NoneType' object has no attribute 'find'\n"
     ]
    },
    {
     "name": "stderr",
     "output_type": "stream",
     "text": [
      "Processing row 5241:  96%|█████████▌| 5241/5455 [1:56:44<11:45,  3.30s/it]"
     ]
    },
    {
     "name": "stdout",
     "output_type": "stream",
     "text": [
      "Exception at row 5240\n",
      "'NoneType' object has no attribute 'find'\n"
     ]
    },
    {
     "name": "stderr",
     "output_type": "stream",
     "text": [
      "Processing row 5350:  98%|█████████▊| 5350/5455 [1:56:45<02:35,  1.48s/it]"
     ]
    },
    {
     "name": "stdout",
     "output_type": "stream",
     "text": [
      "Exception at row 5349\n",
      "'NoneType' object has no attribute 'find'\n"
     ]
    },
    {
     "name": "stderr",
     "output_type": "stream",
     "text": [
      "Processing row 5351:  98%|█████████▊| 5351/5455 [1:56:47<03:03,  1.76s/it]"
     ]
    },
    {
     "name": "stdout",
     "output_type": "stream",
     "text": [
      "Exception at row 5350\n",
      "'NoneType' object has no attribute 'find'\n"
     ]
    },
    {
     "name": "stderr",
     "output_type": "stream",
     "text": [
      "Processing row 5302:  97%|█████████▋| 5302/5456 [1:56:51<05:45,  2.25s/it]"
     ]
    },
    {
     "name": "stdout",
     "output_type": "stream",
     "text": [
      "Exception at row 5301\n",
      "'NoneType' object has no attribute 'find'\n"
     ]
    },
    {
     "name": "stderr",
     "output_type": "stream",
     "text": [
      "Processing row 5352:  98%|█████████▊| 5352/5455 [1:56:51<04:12,  2.45s/it]"
     ]
    },
    {
     "name": "stdout",
     "output_type": "stream",
     "text": [
      "Exception at row 5351\n",
      "'NoneType' object has no attribute 'find'\n"
     ]
    },
    {
     "name": "stderr",
     "output_type": "stream",
     "text": [
      "Processing row 5248:  96%|█████████▌| 5248/5455 [1:56:54<05:38,  1.63s/it]"
     ]
    },
    {
     "name": "stdout",
     "output_type": "stream",
     "text": [
      "Exception at row 5302\n",
      "'NoneType' object has no attribute 'find'\n"
     ]
    },
    {
     "name": "stderr",
     "output_type": "stream",
     "text": [
      "Processing row 5353:  98%|█████████▊| 5353/5455 [1:56:55<04:42,  2.77s/it]"
     ]
    },
    {
     "name": "stdout",
     "output_type": "stream",
     "text": [
      "Exception at row 5352\n",
      "'NoneType' object has no attribute 'find'\n"
     ]
    },
    {
     "name": "stderr",
     "output_type": "stream",
     "text": [
      "Processing row 5250:  96%|█████████▌| 5250/5455 [1:56:58<05:48,  1.70s/it]"
     ]
    },
    {
     "name": "stdout",
     "output_type": "stream",
     "text": [
      "Exception at row 5303\n",
      "'NoneType' object has no attribute 'find'\n",
      "Exception at row 5249\n",
      "'NoneType' object has no attribute 'find'\n"
     ]
    },
    {
     "name": "stderr",
     "output_type": "stream",
     "text": [
      "Processing row 5360:  98%|█████████▊| 5354/5455 [1:56:58<04:56,  2.93s/it]"
     ]
    },
    {
     "name": "stdout",
     "output_type": "stream",
     "text": [
      "Exception at row 5353\n",
      "'NoneType' object has no attribute 'find'\n"
     ]
    },
    {
     "name": "stderr",
     "output_type": "stream",
     "text": [
      "Processing row 5251:  96%|█████████▋| 5251/5455 [1:57:00<06:32,  1.92s/it]"
     ]
    },
    {
     "name": "stdout",
     "output_type": "stream",
     "text": [
      "Exception at row 5250\n",
      "'NoneType' object has no attribute 'find'\n"
     ]
    },
    {
     "name": "stderr",
     "output_type": "stream",
     "text": [
      "Processing row 5252:  96%|█████████▋| 5252/5455 [1:57:02<06:12,  1.84s/it]"
     ]
    },
    {
     "name": "stdout",
     "output_type": "stream",
     "text": [
      "Exception at row 5251\n",
      "'NoneType' object has no attribute 'find'\n"
     ]
    },
    {
     "name": "stderr",
     "output_type": "stream",
     "text": [
      "Processing row 5254:  96%|█████████▋| 5254/5455 [1:57:05<05:41,  1.70s/it]"
     ]
    },
    {
     "name": "stdout",
     "output_type": "stream",
     "text": [
      "Exception at row 5253\n",
      "'NoneType' object has no attribute 'find'\n"
     ]
    },
    {
     "name": "stderr",
     "output_type": "stream",
     "text": [
      "Processing row 5362:  98%|█████████▊| 5362/5455 [1:57:06<04:45,  3.07s/it]"
     ]
    },
    {
     "name": "stdout",
     "output_type": "stream",
     "text": [
      "Exception at row 5361\n",
      "'NoneType' object has no attribute 'find'\n"
     ]
    },
    {
     "name": "stderr",
     "output_type": "stream",
     "text": [
      "Processing row 5306:  97%|█████████▋| 5306/5456 [1:57:07<09:09,  3.66s/it]"
     ]
    },
    {
     "name": "stdout",
     "output_type": "stream",
     "text": [
      "Exception at row 5305\n",
      "'NoneType' object has no attribute 'find'\n"
     ]
    },
    {
     "name": "stderr",
     "output_type": "stream",
     "text": [
      "Processing row 5255:  96%|█████████▋| 5255/5455 [1:57:07<06:32,  1.96s/it]"
     ]
    },
    {
     "name": "stdout",
     "output_type": "stream",
     "text": [
      "Exception at row 5362\n",
      "'NoneType' object has no attribute 'find'\n"
     ]
    },
    {
     "name": "stderr",
     "output_type": "stream",
     "text": [
      "Processing row 5307:  97%|█████████▋| 5307/5456 [1:57:08<07:17,  2.94s/it]"
     ]
    },
    {
     "name": "stdout",
     "output_type": "stream",
     "text": [
      "Exception at row 5306\n",
      "'NoneType' object has no attribute 'find'\n"
     ]
    },
    {
     "name": "stderr",
     "output_type": "stream",
     "text": [
      "Processing row 5364:  98%|█████████▊| 5364/5455 [1:57:09<03:28,  2.29s/it]"
     ]
    },
    {
     "name": "stdout",
     "output_type": "stream",
     "text": [
      "Exception at row 5363\n",
      "'NoneType' object has no attribute 'find'\n"
     ]
    },
    {
     "name": "stderr",
     "output_type": "stream",
     "text": [
      "Processing row 5257:  96%|█████████▋| 5257/5455 [1:57:11<05:52,  1.78s/it]"
     ]
    },
    {
     "name": "stdout",
     "output_type": "stream",
     "text": [
      "Exception at row 5256\n",
      "'NoneType' object has no attribute 'find'\n"
     ]
    },
    {
     "name": "stderr",
     "output_type": "stream",
     "text": [
      "Processing row 5308:  97%|█████████▋| 5308/5456 [1:57:11<07:22,  2.99s/it]"
     ]
    },
    {
     "name": "stdout",
     "output_type": "stream",
     "text": [
      "Exception at row 5307\n",
      "'NoneType' object has no attribute 'find'\n"
     ]
    },
    {
     "name": "stderr",
     "output_type": "stream",
     "text": [
      "Processing row 5365:  98%|█████████▊| 5365/5455 [1:57:12<04:04,  2.72s/it]"
     ]
    },
    {
     "name": "stdout",
     "output_type": "stream",
     "text": [
      "Exception at row 5257\n",
      "'NoneType' object has no attribute 'find'\n",
      "Exception at row 5364\n",
      "'NoneType' object has no attribute 'find'\n"
     ]
    },
    {
     "name": "stderr",
     "output_type": "stream",
     "text": [
      "Processing row 5309:  97%|█████████▋| 5309/5456 [1:57:13<06:52,  2.80s/it]"
     ]
    },
    {
     "name": "stdout",
     "output_type": "stream",
     "text": [
      "Exception at row 5308\n",
      "'NoneType' object has no attribute 'find'\n"
     ]
    },
    {
     "name": "stderr",
     "output_type": "stream",
     "text": [
      "Processing row 5368:  98%|█████████▊| 5366/5455 [1:57:14<03:28,  2.34s/it]"
     ]
    },
    {
     "name": "stdout",
     "output_type": "stream",
     "text": [
      "Exception at row 5365\n",
      "'NoneType' object has no attribute 'find'\n"
     ]
    },
    {
     "name": "stderr",
     "output_type": "stream",
     "text": [
      "Processing row 5259:  96%|█████████▋| 5259/5455 [1:57:16<07:43,  2.37s/it]"
     ]
    },
    {
     "name": "stdout",
     "output_type": "stream",
     "text": [
      "Exception at row 5258\n",
      "'NoneType' object has no attribute 'find'\n"
     ]
    },
    {
     "name": "stderr",
     "output_type": "stream",
     "text": [
      "Processing row 5369:  98%|█████████▊| 5369/5455 [1:57:17<02:48,  1.96s/it]"
     ]
    },
    {
     "name": "stdout",
     "output_type": "stream",
     "text": [
      "Exception at row 5368\n",
      "'NoneType' object has no attribute 'find'\n"
     ]
    },
    {
     "name": "stderr",
     "output_type": "stream",
     "text": [
      "Processing row 5260:  96%|█████████▋| 5260/5455 [1:57:18<06:52,  2.11s/it]"
     ]
    },
    {
     "name": "stdout",
     "output_type": "stream",
     "text": [
      "Exception at row 5259\n",
      "'NoneType' object has no attribute 'find'\n"
     ]
    },
    {
     "name": "stderr",
     "output_type": "stream",
     "text": [
      "Processing row 5311:  97%|█████████▋| 5311/5456 [1:57:18<06:34,  2.72s/it]"
     ]
    },
    {
     "name": "stdout",
     "output_type": "stream",
     "text": [
      "Exception at row 5310\n",
      "'NoneType' object has no attribute 'find'\n"
     ]
    },
    {
     "name": "stderr",
     "output_type": "stream",
     "text": [
      "Processing row 5371:  98%|█████████▊| 5370/5455 [1:57:21<03:30,  2.47s/it]"
     ]
    },
    {
     "name": "stdout",
     "output_type": "stream",
     "text": [
      "Exception at row 5369\n",
      "'NoneType' object has no attribute 'find'\n"
     ]
    },
    {
     "name": "stderr",
     "output_type": "stream",
     "text": [
      "Processing row 5312:  97%|█████████▋| 5312/5456 [1:57:21<06:30,  2.71s/it]"
     ]
    },
    {
     "name": "stdout",
     "output_type": "stream",
     "text": [
      "Exception at row 5311\n",
      "'NoneType' object has no attribute 'find'\n"
     ]
    },
    {
     "name": "stderr",
     "output_type": "stream",
     "text": [
      "Processing row 5261:  96%|█████████▋| 5261/5455 [1:57:22<08:48,  2.73s/it]"
     ]
    },
    {
     "name": "stdout",
     "output_type": "stream",
     "text": [
      "Exception at row 5260\n",
      "'NoneType' object has no attribute 'find'\n"
     ]
    },
    {
     "name": "stderr",
     "output_type": "stream",
     "text": [
      "Processing row 5262:  96%|█████████▋| 5262/5455 [1:57:23<07:29,  2.33s/it]"
     ]
    },
    {
     "name": "stdout",
     "output_type": "stream",
     "text": [
      "Exception at row 5371\n",
      "'NoneType' object has no attribute 'find'\n",
      "Exception at row 5261\n",
      "'NoneType' object has no attribute 'find'\n"
     ]
    },
    {
     "name": "stderr",
     "output_type": "stream",
     "text": [
      "Processing row 5374:  98%|█████████▊| 5373/5455 [1:57:25<02:42,  1.98s/it]"
     ]
    },
    {
     "name": "stdout",
     "output_type": "stream",
     "text": [
      "Exception at row 5372\n",
      "'NoneType' object has no attribute 'find'\n"
     ]
    },
    {
     "name": "stderr",
     "output_type": "stream",
     "text": [
      "Processing row 5314:  97%|█████████▋| 5314/5456 [1:57:26<06:01,  2.54s/it]"
     ]
    },
    {
     "name": "stdout",
     "output_type": "stream",
     "text": [
      "Exception at row 5313\n",
      "'NoneType' object has no attribute 'find'\n"
     ]
    },
    {
     "name": "stderr",
     "output_type": "stream",
     "text": [
      "Processing row 5315:  97%|█████████▋| 5315/5456 [1:57:28<05:50,  2.48s/it]"
     ]
    },
    {
     "name": "stdout",
     "output_type": "stream",
     "text": [
      "Exception at row 5314\n",
      "'NoneType' object has no attribute 'find'\n"
     ]
    },
    {
     "name": "stderr",
     "output_type": "stream",
     "text": [
      "Processing row 5266:  97%|█████████▋| 5266/5455 [1:57:30<06:22,  2.02s/it]"
     ]
    },
    {
     "name": "stdout",
     "output_type": "stream",
     "text": [
      "Exception at row 5265\n",
      "'NoneType' object has no attribute 'find'\n"
     ]
    },
    {
     "name": "stderr",
     "output_type": "stream",
     "text": [
      "Processing row 5377:  99%|█████████▊| 5377/5455 [1:57:31<02:16,  1.75s/it]"
     ]
    },
    {
     "name": "stdout",
     "output_type": "stream",
     "text": [
      "Exception at row 5376\n",
      "'NoneType' object has no attribute 'find'\n"
     ]
    },
    {
     "name": "stderr",
     "output_type": "stream",
     "text": [
      "Processing row 5316:  97%|█████████▋| 5316/5456 [1:57:32<06:38,  2.85s/it]"
     ]
    },
    {
     "name": "stdout",
     "output_type": "stream",
     "text": [
      "Exception at row 5315\n",
      "'NoneType' object has no attribute 'find'\n"
     ]
    },
    {
     "name": "stderr",
     "output_type": "stream",
     "text": [
      "Processing row 5268:  97%|█████████▋| 5268/5455 [1:57:34<06:23,  2.05s/it]"
     ]
    },
    {
     "name": "stdout",
     "output_type": "stream",
     "text": [
      "Exception at row 5267\n",
      "'NoneType' object has no attribute 'find'\n"
     ]
    },
    {
     "name": "stderr",
     "output_type": "stream",
     "text": [
      "Processing row 5378:  99%|█████████▊| 5378/5455 [1:57:35<03:01,  2.36s/it]"
     ]
    },
    {
     "name": "stdout",
     "output_type": "stream",
     "text": [
      "Exception at row 5377\n",
      "'NoneType' object has no attribute 'find'\n"
     ]
    },
    {
     "name": "stderr",
     "output_type": "stream",
     "text": [
      "Processing row 5318:  97%|█████████▋| 5318/5456 [1:57:38<07:03,  3.07s/it]"
     ]
    },
    {
     "name": "stdout",
     "output_type": "stream",
     "text": [
      "Exception at row 5378\n",
      "'NoneType' object has no attribute 'find'\n"
     ]
    },
    {
     "name": "stderr",
     "output_type": "stream",
     "text": [
      "Processing row 5319:  97%|█████████▋| 5319/5456 [1:57:40<06:16,  2.75s/it]"
     ]
    },
    {
     "name": "stdout",
     "output_type": "stream",
     "text": [
      "Exception at row 5318\n",
      "'NoneType' object has no attribute 'find'\n"
     ]
    },
    {
     "name": "stderr",
     "output_type": "stream",
     "text": [
      "Processing row 5385:  99%|█████████▊| 5380/5455 [1:57:41<03:17,  2.63s/it]"
     ]
    },
    {
     "name": "stdout",
     "output_type": "stream",
     "text": [
      "Exception at row 5271\n",
      "'NoneType' object has no attribute 'find'\n"
     ]
    },
    {
     "name": "stderr",
     "output_type": "stream",
     "text": [
      "Processing row 5320:  98%|█████████▊| 5320/5456 [1:57:42<05:48,  2.56s/it]"
     ]
    },
    {
     "name": "stdout",
     "output_type": "stream",
     "text": [
      "Exception at row 5319\n",
      "'NoneType' object has no attribute 'find'\n"
     ]
    },
    {
     "name": "stderr",
     "output_type": "stream",
     "text": [
      "Processing row 5321:  98%|█████████▊| 5321/5456 [1:57:44<05:24,  2.40s/it]"
     ]
    },
    {
     "name": "stdout",
     "output_type": "stream",
     "text": [
      "Exception at row 5320\n",
      "'NoneType' object has no attribute 'find'\n"
     ]
    },
    {
     "name": "stderr",
     "output_type": "stream",
     "text": [
      "Processing row 5322:  98%|█████████▊| 5322/5456 [1:57:47<05:15,  2.35s/it]"
     ]
    },
    {
     "name": "stdout",
     "output_type": "stream",
     "text": [
      "Exception at row 5321\n",
      "'NoneType' object has no attribute 'find'\n"
     ]
    },
    {
     "name": "stderr",
     "output_type": "stream",
     "text": [
      "Processing row 5274:  97%|█████████▋| 5274/5455 [1:57:47<07:10,  2.38s/it]"
     ]
    },
    {
     "name": "stdout",
     "output_type": "stream",
     "text": [
      "Exception at row 5273\n",
      "'NoneType' object has no attribute 'find'\n"
     ]
    },
    {
     "name": "stderr",
     "output_type": "stream",
     "text": [
      "Processing row 5389:  99%|█████████▉| 5388/5455 [1:57:48<02:23,  2.14s/it]"
     ]
    },
    {
     "name": "stdout",
     "output_type": "stream",
     "text": [
      "Exception at row 5387\n",
      "'NoneType' object has no attribute 'find'\n"
     ]
    },
    {
     "name": "stderr",
     "output_type": "stream",
     "text": [
      "Processing row 5390:  99%|█████████▉| 5390/5455 [1:57:51<02:01,  1.86s/it]"
     ]
    },
    {
     "name": "stdout",
     "output_type": "stream",
     "text": [
      "Exception at row 5322\n",
      "'NoneType' object has no attribute 'find'\n",
      "Exception at row 5389\n",
      "'NoneType' object has no attribute 'find'\n"
     ]
    },
    {
     "name": "stderr",
     "output_type": "stream",
     "text": [
      "Processing row 5324:  98%|█████████▊| 5324/5456 [1:57:52<05:25,  2.47s/it]"
     ]
    },
    {
     "name": "stdout",
     "output_type": "stream",
     "text": [
      "Exception at row 5390\n",
      "'NoneType' object has no attribute 'find'\n"
     ]
    },
    {
     "name": "stderr",
     "output_type": "stream",
     "text": [
      "Processing row 5277:  97%|█████████▋| 5277/5455 [1:57:53<05:42,  1.92s/it]"
     ]
    },
    {
     "name": "stdout",
     "output_type": "stream",
     "text": [
      "Exception at row 5276\n",
      "'NoneType' object has no attribute 'find'\n"
     ]
    },
    {
     "name": "stderr",
     "output_type": "stream",
     "text": [
      "Processing row 5325:  98%|█████████▊| 5325/5456 [1:57:54<04:46,  2.19s/it]"
     ]
    },
    {
     "name": "stdout",
     "output_type": "stream",
     "text": [
      "Exception at row 5391\n",
      "'NoneType' object has no attribute 'find'\n",
      "Exception at row 5324\n",
      "'NoneType' object has no attribute 'find'\n"
     ]
    },
    {
     "name": "stderr",
     "output_type": "stream",
     "text": [
      "Processing row 5326:  98%|█████████▊| 5326/5456 [1:57:56<05:04,  2.34s/it]"
     ]
    },
    {
     "name": "stdout",
     "output_type": "stream",
     "text": [
      "Exception at row 5325\n",
      "'NoneType' object has no attribute 'find'\n"
     ]
    },
    {
     "name": "stderr",
     "output_type": "stream",
     "text": [
      "Processing row 5327:  98%|█████████▊| 5327/5456 [1:57:59<05:15,  2.45s/it]"
     ]
    },
    {
     "name": "stdout",
     "output_type": "stream",
     "text": [
      "Exception at row 5326\n",
      "'NoneType' object has no attribute 'find'\n"
     ]
    },
    {
     "name": "stderr",
     "output_type": "stream",
     "text": [
      "Processing row 5394:  99%|█████████▉| 5394/5455 [1:58:00<02:32,  2.50s/it]"
     ]
    },
    {
     "name": "stdout",
     "output_type": "stream",
     "text": [
      "Exception at row 5393\n",
      "'NoneType' object has no attribute 'find'\n"
     ]
    },
    {
     "name": "stderr",
     "output_type": "stream",
     "text": [
      "Processing row 5395:  99%|█████████▉| 5395/5455 [1:58:03<02:43,  2.73s/it]"
     ]
    },
    {
     "name": "stdout",
     "output_type": "stream",
     "text": [
      "Exception at row 5394\n",
      "'NoneType' object has no attribute 'find'\n"
     ]
    },
    {
     "name": "stderr",
     "output_type": "stream",
     "text": [
      "Processing row 5329:  98%|█████████▊| 5329/5456 [1:58:04<05:06,  2.42s/it]"
     ]
    },
    {
     "name": "stdout",
     "output_type": "stream",
     "text": [
      "Exception at row 5328\n",
      "'NoneType' object has no attribute 'find'\n"
     ]
    },
    {
     "name": "stderr",
     "output_type": "stream",
     "text": [
      "Processing row 5281:  97%|█████████▋| 5281/5455 [1:58:05<09:16,  3.20s/it]"
     ]
    },
    {
     "name": "stdout",
     "output_type": "stream",
     "text": [
      "Exception at row 5280\n",
      "'NoneType' object has no attribute 'find'\n"
     ]
    },
    {
     "name": "stderr",
     "output_type": "stream",
     "text": [
      "Processing row 5330:  98%|█████████▊| 5330/5456 [1:58:07<05:24,  2.57s/it]"
     ]
    },
    {
     "name": "stdout",
     "output_type": "stream",
     "text": [
      "Exception at row 5329\n",
      "'NoneType' object has no attribute 'find'\n"
     ]
    },
    {
     "name": "stderr",
     "output_type": "stream",
     "text": [
      "Processing row 5282:  97%|█████████▋| 5282/5455 [1:58:07<08:26,  2.93s/it]"
     ]
    },
    {
     "name": "stdout",
     "output_type": "stream",
     "text": [
      "Exception at row 5281\n",
      "'NoneType' object has no attribute 'find'\n"
     ]
    },
    {
     "name": "stderr",
     "output_type": "stream",
     "text": [
      "Processing row 5284:  97%|█████████▋| 5284/5455 [1:58:11<06:57,  2.44s/it]"
     ]
    },
    {
     "name": "stdout",
     "output_type": "stream",
     "text": [
      "Exception at row 5283\n",
      "'NoneType' object has no attribute 'find'\n"
     ]
    },
    {
     "name": "stderr",
     "output_type": "stream",
     "text": [
      "Processing row 5285:  97%|█████████▋| 5285/5455 [1:58:13<06:41,  2.36s/it]"
     ]
    },
    {
     "name": "stdout",
     "output_type": "stream",
     "text": [
      "Exception at row 5284\n",
      "'NoneType' object has no attribute 'find'\n"
     ]
    },
    {
     "name": "stderr",
     "output_type": "stream",
     "text": [
      "Processing row 5401:  99%|█████████▉| 5400/5455 [1:58:14<02:07,  2.33s/it]"
     ]
    },
    {
     "name": "stdout",
     "output_type": "stream",
     "text": [
      "Exception at row 5332\n",
      "'NoneType' object has no attribute 'find'\n",
      "Exception at row 5399\n",
      "'NoneType' object has no attribute 'find'\n"
     ]
    },
    {
     "name": "stderr",
     "output_type": "stream",
     "text": [
      "Processing row 5286:  97%|█████████▋| 5286/5455 [1:58:15<06:32,  2.32s/it]"
     ]
    },
    {
     "name": "stdout",
     "output_type": "stream",
     "text": [
      "Exception at row 5285\n",
      "'NoneType' object has no attribute 'find'\n"
     ]
    },
    {
     "name": "stderr",
     "output_type": "stream",
     "text": [
      "Processing row 5402:  99%|█████████▉| 5402/5455 [1:58:17<01:51,  2.10s/it]"
     ]
    },
    {
     "name": "stdout",
     "output_type": "stream",
     "text": [
      "Exception at row 5401\n",
      "'NoneType' object has no attribute 'find'\n"
     ]
    },
    {
     "name": "stderr",
     "output_type": "stream",
     "text": [
      "Processing row 5287:  97%|█████████▋| 5287/5455 [1:58:18<06:35,  2.36s/it]"
     ]
    },
    {
     "name": "stdout",
     "output_type": "stream",
     "text": [
      "Exception at row 5286\n",
      "'NoneType' object has no attribute 'find'\n"
     ]
    },
    {
     "name": "stderr",
     "output_type": "stream",
     "text": [
      "Processing row 5335:  98%|█████████▊| 5335/5456 [1:58:19<05:18,  2.63s/it]"
     ]
    },
    {
     "name": "stdout",
     "output_type": "stream",
     "text": [
      "Exception at row 5334\n",
      "'NoneType' object has no attribute 'find'\n"
     ]
    },
    {
     "name": "stderr",
     "output_type": "stream",
     "text": [
      "Processing row 5403:  99%|█████████▉| 5403/5455 [1:58:20<02:04,  2.39s/it]"
     ]
    },
    {
     "name": "stdout",
     "output_type": "stream",
     "text": [
      "Exception at row 5402\n",
      "'NoneType' object has no attribute 'find'\n"
     ]
    },
    {
     "name": "stderr",
     "output_type": "stream",
     "text": [
      "Processing row 5288:  97%|█████████▋| 5288/5455 [1:58:20<06:43,  2.42s/it]"
     ]
    },
    {
     "name": "stdout",
     "output_type": "stream",
     "text": [
      "Exception at row 5287\n",
      "'NoneType' object has no attribute 'find'\n"
     ]
    },
    {
     "name": "stderr",
     "output_type": "stream",
     "text": [
      "Processing row 5404:  99%|█████████▉| 5404/5455 [1:58:21<01:44,  2.05s/it]"
     ]
    },
    {
     "name": "stdout",
     "output_type": "stream",
     "text": [
      "Exception at row 5403\n",
      "'NoneType' object has no attribute 'find'\n"
     ]
    },
    {
     "name": "stderr",
     "output_type": "stream",
     "text": [
      "Processing row 5337:  98%|█████████▊| 5336/5456 [1:58:22<05:30,  2.75s/it]"
     ]
    },
    {
     "name": "stdout",
     "output_type": "stream",
     "text": [
      "Exception at row 5335\n",
      "'NoneType' object has no attribute 'find'\n"
     ]
    },
    {
     "name": "stderr",
     "output_type": "stream",
     "text": [
      "Processing row 5405:  99%|█████████▉| 5405/5455 [1:58:25<02:07,  2.56s/it]"
     ]
    },
    {
     "name": "stdout",
     "output_type": "stream",
     "text": [
      "Exception at row 5404\n",
      "'NoneType' object has no attribute 'find'\n"
     ]
    },
    {
     "name": "stderr",
     "output_type": "stream",
     "text": [
      "Processing row 5291:  97%|█████████▋| 5291/5455 [1:58:25<05:11,  1.90s/it]"
     ]
    },
    {
     "name": "stdout",
     "output_type": "stream",
     "text": [
      "Exception at row 5290\n",
      "'NoneType' object has no attribute 'find'\n"
     ]
    },
    {
     "name": "stderr",
     "output_type": "stream",
     "text": [
      "Processing row 5406:  99%|█████████▉| 5406/5455 [1:58:28<02:16,  2.78s/it]"
     ]
    },
    {
     "name": "stdout",
     "output_type": "stream",
     "text": [
      "Exception at row 5405\n",
      "'NoneType' object has no attribute 'find'\n"
     ]
    },
    {
     "name": "stderr",
     "output_type": "stream",
     "text": [
      "Processing row 5292:  97%|█████████▋| 5292/5455 [1:58:29<06:50,  2.52s/it]"
     ]
    },
    {
     "name": "stdout",
     "output_type": "stream",
     "text": [
      "Exception at row 5291\n",
      "'NoneType' object has no attribute 'find'\n"
     ]
    },
    {
     "name": "stderr",
     "output_type": "stream",
     "text": [
      "Processing row 5341:  98%|█████████▊| 5341/5456 [1:58:30<04:18,  2.24s/it]"
     ]
    },
    {
     "name": "stdout",
     "output_type": "stream",
     "text": [
      "Exception at row 5340\n",
      "'NoneType' object has no attribute 'find'\n"
     ]
    },
    {
     "name": "stderr",
     "output_type": "stream",
     "text": [
      "Processing row 5407:  99%|█████████▉| 5407/5455 [1:58:31<02:17,  2.87s/it]"
     ]
    },
    {
     "name": "stdout",
     "output_type": "stream",
     "text": [
      "Exception at row 5406\n",
      "'NoneType' object has no attribute 'find'\n"
     ]
    },
    {
     "name": "stderr",
     "output_type": "stream",
     "text": [
      "Processing row 5293:  97%|█████████▋| 5293/5455 [1:58:32<06:33,  2.43s/it]"
     ]
    },
    {
     "name": "stdout",
     "output_type": "stream",
     "text": [
      "Exception at row 5292\n",
      "'NoneType' object has no attribute 'find'\n"
     ]
    },
    {
     "name": "stderr",
     "output_type": "stream",
     "text": [
      "Processing row 5343:  98%|█████████▊| 5343/5456 [1:58:33<03:32,  1.88s/it]"
     ]
    },
    {
     "name": "stdout",
     "output_type": "stream",
     "text": [
      "Exception at row 5342\n",
      "'NoneType' object has no attribute 'find'\n"
     ]
    },
    {
     "name": "stderr",
     "output_type": "stream",
     "text": [
      "Processing row 5294:  97%|█████████▋| 5294/5455 [1:58:34<06:28,  2.42s/it]"
     ]
    },
    {
     "name": "stdout",
     "output_type": "stream",
     "text": [
      "Exception at row 5293\n",
      "'NoneType' object has no attribute 'find'\n"
     ]
    },
    {
     "name": "stderr",
     "output_type": "stream",
     "text": [
      "Processing row 5409:  99%|█████████▉| 5408/5455 [1:58:35<02:21,  3.02s/it]"
     ]
    },
    {
     "name": "stdout",
     "output_type": "stream",
     "text": [
      "Exception at row 5407\n",
      "'NoneType' object has no attribute 'find'\n"
     ]
    },
    {
     "name": "stderr",
     "output_type": "stream",
     "text": [
      "Processing row 5295:  97%|█████████▋| 5295/5455 [1:58:37<06:46,  2.54s/it]"
     ]
    },
    {
     "name": "stdout",
     "output_type": "stream",
     "text": [
      "Exception at row 5294\n",
      "could not convert string to float: '7.99 - $24.99'\n"
     ]
    },
    {
     "name": "stderr",
     "output_type": "stream",
     "text": [
      "Processing row 5410:  99%|█████████▉| 5410/5455 [1:58:37<01:52,  2.51s/it]"
     ]
    },
    {
     "name": "stdout",
     "output_type": "stream",
     "text": [
      "Exception at row 5409\n",
      "'NoneType' object has no attribute 'find'\n"
     ]
    },
    {
     "name": "stderr",
     "output_type": "stream",
     "text": [
      "Processing row 5345:  98%|█████████▊| 5345/5456 [1:58:37<03:42,  2.01s/it]"
     ]
    },
    {
     "name": "stdout",
     "output_type": "stream",
     "text": [
      "Exception at row 5344\n",
      "'NoneType' object has no attribute 'find'\n"
     ]
    },
    {
     "name": "stderr",
     "output_type": "stream",
     "text": [
      "Processing row 5296:  97%|█████████▋| 5296/5455 [1:58:38<05:52,  2.22s/it]"
     ]
    },
    {
     "name": "stdout",
     "output_type": "stream",
     "text": [
      "Exception at row 5295\n",
      "'NoneType' object has no attribute 'find'\n"
     ]
    },
    {
     "name": "stderr",
     "output_type": "stream",
     "text": [
      "Processing row 5346:  98%|█████████▊| 5346/5456 [1:58:39<03:16,  1.79s/it]"
     ]
    },
    {
     "name": "stdout",
     "output_type": "stream",
     "text": [
      "Exception at row 5345\n",
      "'NoneType' object has no attribute 'find'\n"
     ]
    },
    {
     "name": "stderr",
     "output_type": "stream",
     "text": [
      "Processing row 5347:  98%|█████████▊| 5347/5456 [1:58:40<03:04,  1.69s/it]"
     ]
    },
    {
     "name": "stdout",
     "output_type": "stream",
     "text": [
      "Exception at row 5346\n",
      "'NoneType' object has no attribute 'find'\n"
     ]
    },
    {
     "name": "stderr",
     "output_type": "stream",
     "text": [
      "Processing row 5412:  99%|█████████▉| 5412/5455 [1:58:41<01:29,  2.09s/it]"
     ]
    },
    {
     "name": "stdout",
     "output_type": "stream",
     "text": [
      "Exception at row 5411\n",
      "'NoneType' object has no attribute 'find'\n"
     ]
    },
    {
     "name": "stderr",
     "output_type": "stream",
     "text": [
      "Processing row 5348:  98%|█████████▊| 5348/5456 [1:58:42<03:17,  1.83s/it]"
     ]
    },
    {
     "name": "stdout",
     "output_type": "stream",
     "text": [
      "Exception at row 5412\n",
      "'NoneType' object has no attribute 'find'\n",
      "Exception at row 5347\n",
      "'NoneType' object has no attribute 'find'\n"
     ]
    },
    {
     "name": "stderr",
     "output_type": "stream",
     "text": [
      "Processing row 5297:  97%|█████████▋| 5297/5455 [1:58:43<07:57,  3.02s/it]"
     ]
    },
    {
     "name": "stdout",
     "output_type": "stream",
     "text": [
      "Exception at row 5296\n",
      "'NoneType' object has no attribute 'find'\n"
     ]
    },
    {
     "name": "stderr",
     "output_type": "stream",
     "text": [
      "Processing row 5298:  97%|█████████▋| 5298/5455 [1:58:44<06:32,  2.50s/it]"
     ]
    },
    {
     "name": "stdout",
     "output_type": "stream",
     "text": [
      "Exception at row 5297\n",
      "'NoneType' object has no attribute 'find'\n"
     ]
    },
    {
     "name": "stderr",
     "output_type": "stream",
     "text": [
      "Processing row 5350:  98%|█████████▊| 5350/5456 [1:58:46<03:08,  1.78s/it]"
     ]
    },
    {
     "name": "stdout",
     "output_type": "stream",
     "text": [
      "Exception at row 5349\n",
      "'NoneType' object has no attribute 'find'\n"
     ]
    },
    {
     "name": "stderr",
     "output_type": "stream",
     "text": [
      "Processing row 5351:  98%|█████████▊| 5351/5456 [1:58:48<03:27,  1.98s/it]"
     ]
    },
    {
     "name": "stdout",
     "output_type": "stream",
     "text": [
      "Exception at row 5350\n",
      "'NoneType' object has no attribute 'find'\n"
     ]
    },
    {
     "name": "stderr",
     "output_type": "stream",
     "text": [
      "Processing row 5352:  98%|█████████▊| 5352/5456 [1:58:51<04:01,  2.32s/it]"
     ]
    },
    {
     "name": "stdout",
     "output_type": "stream",
     "text": [
      "Exception at row 5351\n",
      "'NoneType' object has no attribute 'find'\n"
     ]
    },
    {
     "name": "stderr",
     "output_type": "stream",
     "text": [
      "Processing row 5303:  97%|█████████▋| 5303/5455 [1:58:53<04:58,  1.96s/it]"
     ]
    },
    {
     "name": "stdout",
     "output_type": "stream",
     "text": [
      "Exception at row 5302\n",
      "'NoneType' object has no attribute 'find'\n"
     ]
    },
    {
     "name": "stderr",
     "output_type": "stream",
     "text": [
      "Processing row 5415:  99%|█████████▉| 5415/5455 [1:58:53<01:59,  2.98s/it]"
     ]
    },
    {
     "name": "stdout",
     "output_type": "stream",
     "text": [
      "Exception at row 5414\n",
      "'NoneType' object has no attribute 'find'\n"
     ]
    },
    {
     "name": "stderr",
     "output_type": "stream",
     "text": [
      "Processing row 5354:  98%|█████████▊| 5354/5456 [1:58:55<03:32,  2.08s/it]"
     ]
    },
    {
     "name": "stdout",
     "output_type": "stream",
     "text": [
      "Exception at row 5303\n",
      "'NoneType' object has no attribute 'find'\n",
      "Exception at row 5353\n",
      "'NoneType' object has no attribute 'find'\n"
     ]
    },
    {
     "name": "stderr",
     "output_type": "stream",
     "text": [
      "Processing row 5356:  98%|█████████▊| 5356/5456 [1:58:59<03:24,  2.05s/it]"
     ]
    },
    {
     "name": "stdout",
     "output_type": "stream",
     "text": [
      "Exception at row 5355\n",
      "'NoneType' object has no attribute 'find'\n"
     ]
    },
    {
     "name": "stderr",
     "output_type": "stream",
     "text": [
      "Processing row 5418:  99%|█████████▉| 5418/5455 [1:59:00<01:36,  2.60s/it]"
     ]
    },
    {
     "name": "stdout",
     "output_type": "stream",
     "text": [
      "Exception at row 5417\n",
      "'NoneType' object has no attribute 'find'\n"
     ]
    },
    {
     "name": "stderr",
     "output_type": "stream",
     "text": [
      "Processing row 5419:  99%|█████████▉| 5419/5455 [1:59:03<01:41,  2.82s/it]"
     ]
    },
    {
     "name": "stdout",
     "output_type": "stream",
     "text": [
      "Exception at row 5418\n",
      "'NoneType' object has no attribute 'find'\n"
     ]
    },
    {
     "name": "stderr",
     "output_type": "stream",
     "text": [
      "Processing row 5421:  99%|█████████▉| 5420/5455 [1:59:04<01:21,  2.34s/it]"
     ]
    },
    {
     "name": "stdout",
     "output_type": "stream",
     "text": [
      "Exception at row 5419\n",
      "'NoneType' object has no attribute 'find'\n"
     ]
    },
    {
     "name": "stderr",
     "output_type": "stream",
     "text": [
      "Processing row 5309:  97%|█████████▋| 5309/5455 [1:59:05<04:55,  2.02s/it]"
     ]
    },
    {
     "name": "stdout",
     "output_type": "stream",
     "text": [
      "Exception at row 5308\n",
      "'NoneType' object has no attribute 'find'\n"
     ]
    },
    {
     "name": "stderr",
     "output_type": "stream",
     "text": [
      "Processing row 5422:  99%|█████████▉| 5422/5455 [1:59:07<01:06,  2.03s/it]"
     ]
    },
    {
     "name": "stdout",
     "output_type": "stream",
     "text": [
      "Exception at row 5358\n",
      "'NoneType' object has no attribute 'find'\n"
     ]
    },
    {
     "name": "stderr",
     "output_type": "stream",
     "text": [
      "Processing row 5423:  99%|█████████▉| 5423/5455 [1:59:09<01:06,  2.09s/it]"
     ]
    },
    {
     "name": "stdout",
     "output_type": "stream",
     "text": [
      "Exception at row 5422\n",
      "'NoneType' object has no attribute 'find'\n"
     ]
    },
    {
     "name": "stderr",
     "output_type": "stream",
     "text": [
      "Processing row 5360:  98%|█████████▊| 5360/5456 [1:59:10<04:13,  2.64s/it]"
     ]
    },
    {
     "name": "stdout",
     "output_type": "stream",
     "text": [
      "Exception at row 5359\n",
      "'NoneType' object has no attribute 'find'\n"
     ]
    },
    {
     "name": "stderr",
     "output_type": "stream",
     "text": [
      "Processing row 5424:  99%|█████████▉| 5424/5455 [1:59:12<01:11,  2.31s/it]"
     ]
    },
    {
     "name": "stdout",
     "output_type": "stream",
     "text": [
      "Exception at row 5423\n",
      "'NoneType' object has no attribute 'find'\n"
     ]
    },
    {
     "name": "stderr",
     "output_type": "stream",
     "text": [
      "Processing row 5311:  97%|█████████▋| 5311/5455 [1:59:15<08:48,  3.67s/it]"
     ]
    },
    {
     "name": "stdout",
     "output_type": "stream",
     "text": [
      "Exception at row 5310\n",
      "'NoneType' object has no attribute 'find'\n"
     ]
    },
    {
     "name": "stderr",
     "output_type": "stream",
     "text": [
      "Processing row 5425:  99%|█████████▉| 5425/5455 [1:59:15<01:21,  2.72s/it]"
     ]
    },
    {
     "name": "stdout",
     "output_type": "stream",
     "text": [
      "Exception at row 5424\n",
      "'NoneType' object has no attribute 'find'\n"
     ]
    },
    {
     "name": "stderr",
     "output_type": "stream",
     "text": [
      "Processing row 5426:  99%|█████████▉| 5426/5455 [1:59:17<01:07,  2.34s/it]"
     ]
    },
    {
     "name": "stdout",
     "output_type": "stream",
     "text": [
      "Exception at row 5425\n",
      "'NoneType' object has no attribute 'find'\n"
     ]
    },
    {
     "name": "stderr",
     "output_type": "stream",
     "text": [
      "Processing row 5365:  98%|█████████▊| 5365/5456 [1:59:19<03:16,  2.16s/it]"
     ]
    },
    {
     "name": "stdout",
     "output_type": "stream",
     "text": [
      "Exception at row 5364\n",
      "'NoneType' object has no attribute 'find'\n"
     ]
    },
    {
     "name": "stderr",
     "output_type": "stream",
     "text": [
      "Processing row 5429:  99%|█████████▉| 5427/5455 [1:59:20<01:09,  2.47s/it]"
     ]
    },
    {
     "name": "stdout",
     "output_type": "stream",
     "text": [
      "Exception at row 5426\n",
      "'NoneType' object has no attribute 'find'\n"
     ]
    },
    {
     "name": "stderr",
     "output_type": "stream",
     "text": [
      "Processing row 5313:  97%|█████████▋| 5313/5455 [1:59:20<07:21,  3.11s/it]"
     ]
    },
    {
     "name": "stdout",
     "output_type": "stream",
     "text": [
      "Exception at row 5312\n",
      "'NoneType' object has no attribute 'find'\n"
     ]
    },
    {
     "name": "stderr",
     "output_type": "stream",
     "text": [
      "Processing row 5315:  97%|█████████▋| 5315/5455 [1:59:24<05:56,  2.55s/it]"
     ]
    },
    {
     "name": "stdout",
     "output_type": "stream",
     "text": [
      "Exception at row 5314\n",
      "'NoneType' object has no attribute 'find'\n"
     ]
    },
    {
     "name": "stderr",
     "output_type": "stream",
     "text": [
      "Processing row 5432: 100%|█████████▉| 5432/5455 [1:59:25<00:40,  1.77s/it]"
     ]
    },
    {
     "name": "stdout",
     "output_type": "stream",
     "text": [
      "Exception at row 5431\n",
      "'NoneType' object has no attribute 'find'\n"
     ]
    },
    {
     "name": "stderr",
     "output_type": "stream",
     "text": [
      "Processing row 5369:  98%|█████████▊| 5369/5456 [1:59:27<02:56,  2.03s/it]"
     ]
    },
    {
     "name": "stdout",
     "output_type": "stream",
     "text": [
      "Exception at row 5368\n",
      "'NoneType' object has no attribute 'find'\n"
     ]
    },
    {
     "name": "stderr",
     "output_type": "stream",
     "text": [
      "Processing row 5317:  97%|█████████▋| 5317/5455 [1:59:27<04:40,  2.03s/it]"
     ]
    },
    {
     "name": "stdout",
     "output_type": "stream",
     "text": [
      "Exception at row 5432\n",
      "'NoneType' object has no attribute 'find'\n"
     ]
    },
    {
     "name": "stderr",
     "output_type": "stream",
     "text": [
      "Processing row 5437: 100%|█████████▉| 5436/5455 [1:59:29<00:30,  1.60s/it]"
     ]
    },
    {
     "name": "stdout",
     "output_type": "stream",
     "text": [
      "Exception at row 5435\n",
      "'NoneType' object has no attribute 'find'\n"
     ]
    },
    {
     "name": "stderr",
     "output_type": "stream",
     "text": [
      "Processing row 5438: 100%|█████████▉| 5438/5455 [1:59:31<00:23,  1.38s/it]"
     ]
    },
    {
     "name": "stdout",
     "output_type": "stream",
     "text": [
      "Exception at row 5437\n",
      "'NoneType' object has no attribute 'find'\n"
     ]
    },
    {
     "name": "stderr",
     "output_type": "stream",
     "text": [
      "Processing row 5318:  97%|█████████▋| 5318/5455 [1:59:33<07:00,  3.07s/it]"
     ]
    },
    {
     "name": "stdout",
     "output_type": "stream",
     "text": [
      "Exception at row 5317\n",
      "'NoneType' object has no attribute 'find'\n"
     ]
    },
    {
     "name": "stderr",
     "output_type": "stream",
     "text": [
      "Processing row 5320:  98%|█████████▊| 5320/5455 [1:59:36<05:33,  2.47s/it]"
     ]
    },
    {
     "name": "stdout",
     "output_type": "stream",
     "text": [
      "Exception at row 5319\n",
      "'NoneType' object has no attribute 'find'\n"
     ]
    },
    {
     "name": "stderr",
     "output_type": "stream",
     "text": [
      "Processing row 5442: 100%|█████████▉| 5440/5455 [1:59:37<00:32,  2.14s/it]"
     ]
    },
    {
     "name": "stdout",
     "output_type": "stream",
     "text": [
      "Exception at row 5439\n",
      "'NoneType' object has no attribute 'find'\n"
     ]
    },
    {
     "name": "stderr",
     "output_type": "stream",
     "text": [
      "Processing row 5374:  98%|█████████▊| 5374/5456 [1:59:37<02:59,  2.19s/it]"
     ]
    },
    {
     "name": "stdout",
     "output_type": "stream",
     "text": [
      "Exception at row 5373\n",
      "'NoneType' object has no attribute 'find'\n"
     ]
    },
    {
     "name": "stderr",
     "output_type": "stream",
     "text": [
      "Processing row 5322:  98%|█████████▊| 5322/5455 [1:59:39<04:22,  1.97s/it]"
     ]
    },
    {
     "name": "stdout",
     "output_type": "stream",
     "text": [
      "Exception at row 5374\n",
      "'NoneType' object has no attribute 'find'\n"
     ]
    },
    {
     "name": "stderr",
     "output_type": "stream",
     "text": [
      "Processing row 5443: 100%|█████████▉| 5443/5455 [1:59:40<00:22,  1.86s/it]"
     ]
    },
    {
     "name": "stdout",
     "output_type": "stream",
     "text": [
      "Exception at row 5442\n",
      "'NoneType' object has no attribute 'find'\n"
     ]
    },
    {
     "name": "stderr",
     "output_type": "stream",
     "text": [
      "Processing row 5323:  98%|█████████▊| 5323/5455 [1:59:41<04:20,  1.98s/it]"
     ]
    },
    {
     "name": "stdout",
     "output_type": "stream",
     "text": [
      "Exception at row 5322\n",
      "'NoneType' object has no attribute 'find'\n"
     ]
    },
    {
     "name": "stderr",
     "output_type": "stream",
     "text": [
      "Processing row 5447: 100%|█████████▉| 5445/5455 [1:59:46<00:22,  2.25s/it]"
     ]
    },
    {
     "name": "stdout",
     "output_type": "stream",
     "text": [
      "Exception at row 5444\n",
      "'NoneType' object has no attribute 'find'\n"
     ]
    },
    {
     "name": "stderr",
     "output_type": "stream",
     "text": [
      "Processing row 5325:  98%|█████████▊| 5325/5455 [1:59:46<04:56,  2.28s/it]"
     ]
    },
    {
     "name": "stdout",
     "output_type": "stream",
     "text": [
      "Exception at row 5324\n",
      "'NoneType' object has no attribute 'find'\n"
     ]
    },
    {
     "name": "stderr",
     "output_type": "stream",
     "text": [
      "Processing row 5448: 100%|█████████▉| 5448/5455 [1:59:47<00:12,  1.72s/it]"
     ]
    },
    {
     "name": "stdout",
     "output_type": "stream",
     "text": [
      "Exception at row 5447\n",
      "'NoneType' object has no attribute 'find'\n"
     ]
    },
    {
     "name": "stderr",
     "output_type": "stream",
     "text": [
      "Processing row 5326:  98%|█████████▊| 5326/5455 [1:59:49<05:06,  2.37s/it]"
     ]
    },
    {
     "name": "stdout",
     "output_type": "stream",
     "text": [
      "Exception at row 5325\n",
      "'NoneType' object has no attribute 'find'\n"
     ]
    },
    {
     "name": "stderr",
     "output_type": "stream",
     "text": [
      "Processing row 5449: 100%|█████████▉| 5449/5455 [1:59:49<00:11,  1.88s/it]"
     ]
    },
    {
     "name": "stdout",
     "output_type": "stream",
     "text": [
      "Exception at row 5448\n",
      "'NoneType' object has no attribute 'find'\n"
     ]
    },
    {
     "name": "stderr",
     "output_type": "stream",
     "text": [
      "Processing row 5327:  98%|█████████▊| 5327/5455 [1:59:50<04:28,  2.10s/it]"
     ]
    },
    {
     "name": "stdout",
     "output_type": "stream",
     "text": [
      "Exception at row 5326\n",
      "'NoneType' object has no attribute 'find'\n"
     ]
    },
    {
     "name": "stderr",
     "output_type": "stream",
     "text": [
      "Processing row 5381:  99%|█████████▊| 5381/5456 [1:59:51<02:43,  2.19s/it]"
     ]
    },
    {
     "name": "stdout",
     "output_type": "stream",
     "text": [
      "Exception at row 5380\n",
      "'NoneType' object has no attribute 'find'\n"
     ]
    },
    {
     "name": "stderr",
     "output_type": "stream",
     "text": [
      "Processing row 5450: 100%|█████████▉| 5450/5455 [1:59:52<00:10,  2.04s/it]"
     ]
    },
    {
     "name": "stdout",
     "output_type": "stream",
     "text": [
      "Exception at row 5449\n",
      "'NoneType' object has no attribute 'find'\n"
     ]
    },
    {
     "name": "stderr",
     "output_type": "stream",
     "text": [
      "Processing row 5382:  99%|█████████▊| 5382/5456 [1:59:53<02:47,  2.26s/it]"
     ]
    },
    {
     "name": "stdout",
     "output_type": "stream",
     "text": [
      "Exception at row 5381\n",
      "'NoneType' object has no attribute 'find'\n"
     ]
    },
    {
     "name": "stderr",
     "output_type": "stream",
     "text": [
      "Processing row 5328:  98%|█████████▊| 5328/5455 [1:59:54<05:25,  2.56s/it]"
     ]
    },
    {
     "name": "stdout",
     "output_type": "stream",
     "text": [
      "Exception at row 5327\n",
      "'NoneType' object has no attribute 'find'\n"
     ]
    },
    {
     "name": "stderr",
     "output_type": "stream",
     "text": [
      "Processing row 5383:  99%|█████████▊| 5383/5456 [1:59:56<02:53,  2.38s/it]"
     ]
    },
    {
     "name": "stdout",
     "output_type": "stream",
     "text": [
      "Exception at row 5382\n",
      "'NoneType' object has no attribute 'find'\n"
     ]
    },
    {
     "name": "stderr",
     "output_type": "stream",
     "text": [
      "Processing row 5452: 100%|█████████▉| 5452/5455 [1:59:57<00:07,  2.42s/it]"
     ]
    },
    {
     "name": "stdout",
     "output_type": "stream",
     "text": [
      "Exception at row 5451\n",
      "'NoneType' object has no attribute 'find'\n"
     ]
    },
    {
     "name": "stderr",
     "output_type": "stream",
     "text": [
      "Processing row 5384:  99%|█████████▊| 5384/5456 [1:59:58<02:46,  2.31s/it]"
     ]
    },
    {
     "name": "stdout",
     "output_type": "stream",
     "text": [
      "Exception at row 5383\n",
      "'NoneType' object has no attribute 'find'\n"
     ]
    },
    {
     "name": "stderr",
     "output_type": "stream",
     "text": [
      "Processing row 5384:  99%|█████████▊| 5385/5456 [2:00:00<02:28,  2.10s/it]"
     ]
    },
    {
     "name": "stdout",
     "output_type": "stream",
     "text": [
      "Exception at row 5330\n",
      "'NoneType' object has no attribute 'find'\n",
      "Exception at row 5384\n",
      "'NoneType' object has no attribute 'find'\n"
     ]
    },
    {
     "name": "stderr",
     "output_type": "stream",
     "text": [
      "Processing row 5453: 100%|█████████▉| 5453/5455 [2:00:00<00:04,  2.41s/it]"
     ]
    },
    {
     "name": "stdout",
     "output_type": "stream",
     "text": [
      "Exception at row 5452\n",
      "'NoneType' object has no attribute 'find'\n"
     ]
    },
    {
     "name": "stderr",
     "output_type": "stream",
     "text": [
      "Processing row 5454: 100%|██████████| 5455/5455 [2:00:02<00:00,  1.32s/it]"
     ]
    },
    {
     "name": "stdout",
     "output_type": "stream",
     "text": [
      "Exception at row 5385\n",
      "'NoneType' object has no attribute 'find'\n"
     ]
    },
    {
     "name": "stderr",
     "output_type": "stream",
     "text": [
      "\n",
      "Processing row 5332:  98%|█████████▊| 5332/5455 [2:00:06<06:55,  3.37s/it]"
     ]
    },
    {
     "name": "stdout",
     "output_type": "stream",
     "text": [
      "Exception at row 5331\n",
      "'NoneType' object has no attribute 'find'\n"
     ]
    },
    {
     "name": "stderr",
     "output_type": "stream",
     "text": [
      "Processing row 5333:  98%|█████████▊| 5333/5455 [2:00:09<06:53,  3.39s/it]"
     ]
    },
    {
     "name": "stdout",
     "output_type": "stream",
     "text": [
      "Exception at row 5332\n",
      "'NoneType' object has no attribute 'find'\n"
     ]
    },
    {
     "name": "stderr",
     "output_type": "stream",
     "text": [
      "Processing row 5334:  98%|█████████▊| 5334/5455 [2:00:12<06:40,  3.31s/it]"
     ]
    },
    {
     "name": "stdout",
     "output_type": "stream",
     "text": [
      "Exception at row 5333\n",
      "'NoneType' object has no attribute 'find'\n"
     ]
    },
    {
     "name": "stderr",
     "output_type": "stream",
     "text": [
      "Processing row 5337:  98%|█████████▊| 5335/5455 [2:00:15<06:11,  3.10s/it]"
     ]
    },
    {
     "name": "stdout",
     "output_type": "stream",
     "text": [
      "Exception at row 5388\n",
      "'NoneType' object has no attribute 'find'\n"
     ]
    },
    {
     "name": "stderr",
     "output_type": "stream",
     "text": [
      "Processing row 5339:  98%|█████████▊| 5339/5455 [2:00:22<05:01,  2.60s/it]"
     ]
    },
    {
     "name": "stdout",
     "output_type": "stream",
     "text": [
      "Exception at row 5338\n",
      "'NoneType' object has no attribute 'find'\n"
     ]
    },
    {
     "name": "stderr",
     "output_type": "stream",
     "text": [
      "Processing row 5340:  98%|█████████▊| 5340/5455 [2:00:24<04:27,  2.33s/it]"
     ]
    },
    {
     "name": "stdout",
     "output_type": "stream",
     "text": [
      "Exception at row 5339\n",
      "'NoneType' object has no attribute 'find'\n"
     ]
    },
    {
     "name": "stderr",
     "output_type": "stream",
     "text": [
      "Processing row 5390:  99%|█████████▉| 5390/5456 [2:00:24<06:22,  5.80s/it]"
     ]
    },
    {
     "name": "stdout",
     "output_type": "stream",
     "text": [
      "Exception at row 5389\n",
      "'NoneType' object has no attribute 'find'\n"
     ]
    },
    {
     "name": "stderr",
     "output_type": "stream",
     "text": [
      "Processing row 5341:  98%|█████████▊| 5341/5455 [2:00:26<03:57,  2.09s/it]"
     ]
    },
    {
     "name": "stdout",
     "output_type": "stream",
     "text": [
      "Exception at row 5340\n",
      "'NoneType' object has no attribute 'find'\n"
     ]
    },
    {
     "name": "stderr",
     "output_type": "stream",
     "text": [
      "Processing row 5391:  99%|█████████▉| 5391/5456 [2:00:26<04:59,  4.61s/it]"
     ]
    },
    {
     "name": "stdout",
     "output_type": "stream",
     "text": [
      "Exception at row 5390\n",
      "'NoneType' object has no attribute 'find'\n"
     ]
    },
    {
     "name": "stderr",
     "output_type": "stream",
     "text": [
      "Processing row 5342:  98%|█████████▊| 5342/5455 [2:00:28<04:06,  2.18s/it]"
     ]
    },
    {
     "name": "stdout",
     "output_type": "stream",
     "text": [
      "Exception at row 5341\n",
      "'NoneType' object has no attribute 'find'\n"
     ]
    },
    {
     "name": "stderr",
     "output_type": "stream",
     "text": [
      "Processing row 5392:  99%|█████████▉| 5392/5456 [2:00:29<04:21,  4.08s/it]"
     ]
    },
    {
     "name": "stdout",
     "output_type": "stream",
     "text": [
      "Exception at row 5391\n",
      "'NoneType' object has no attribute 'find'\n"
     ]
    },
    {
     "name": "stderr",
     "output_type": "stream",
     "text": [
      "Processing row 5393:  99%|█████████▉| 5393/5456 [2:00:31<03:41,  3.51s/it]"
     ]
    },
    {
     "name": "stdout",
     "output_type": "stream",
     "text": [
      "Exception at row 5392\n",
      "'NoneType' object has no attribute 'find'\n"
     ]
    },
    {
     "name": "stderr",
     "output_type": "stream",
     "text": [
      "Processing row 5345:  98%|█████████▊| 5345/5455 [2:00:33<03:11,  1.74s/it]"
     ]
    },
    {
     "name": "stdout",
     "output_type": "stream",
     "text": [
      "Exception at row 5344\n",
      "'NoneType' object has no attribute 'find'\n"
     ]
    },
    {
     "name": "stderr",
     "output_type": "stream",
     "text": [
      "Processing row 5395:  99%|█████████▉| 5395/5456 [2:00:36<03:01,  2.97s/it]"
     ]
    },
    {
     "name": "stdout",
     "output_type": "stream",
     "text": [
      "Exception at row 5394\n",
      "'NoneType' object has no attribute 'find'\n"
     ]
    },
    {
     "name": "stderr",
     "output_type": "stream",
     "text": [
      "Processing row 5347:  98%|█████████▊| 5347/5455 [2:00:38<04:17,  2.38s/it]"
     ]
    },
    {
     "name": "stdout",
     "output_type": "stream",
     "text": [
      "Exception at row 5346\n",
      "'NoneType' object has no attribute 'find'\n"
     ]
    },
    {
     "name": "stderr",
     "output_type": "stream",
     "text": [
      "Processing row 5396:  99%|█████████▉| 5396/5456 [2:00:39<02:56,  2.94s/it]"
     ]
    },
    {
     "name": "stdout",
     "output_type": "stream",
     "text": [
      "Exception at row 5395\n",
      "'NoneType' object has no attribute 'find'\n"
     ]
    },
    {
     "name": "stderr",
     "output_type": "stream",
     "text": [
      "Processing row 5348:  98%|█████████▊| 5348/5455 [2:00:41<04:39,  2.61s/it]"
     ]
    },
    {
     "name": "stdout",
     "output_type": "stream",
     "text": [
      "Exception at row 5347\n",
      "'NoneType' object has no attribute 'find'\n"
     ]
    },
    {
     "name": "stderr",
     "output_type": "stream",
     "text": [
      "Processing row 5399:  99%|█████████▉| 5399/5456 [2:00:46<02:15,  2.38s/it]"
     ]
    },
    {
     "name": "stdout",
     "output_type": "stream",
     "text": [
      "Exception at row 5398\n",
      "'NoneType' object has no attribute 'find'\n"
     ]
    },
    {
     "name": "stderr",
     "output_type": "stream",
     "text": [
      "Processing row 5401:  99%|█████████▉| 5400/5456 [2:00:49<02:21,  2.52s/it]"
     ]
    },
    {
     "name": "stdout",
     "output_type": "stream",
     "text": [
      "Exception at row 5399\n",
      "'NoneType' object has no attribute 'find'\n"
     ]
    },
    {
     "name": "stderr",
     "output_type": "stream",
     "text": [
      "Processing row 5351:  98%|█████████▊| 5351/5455 [2:00:50<05:18,  3.07s/it]"
     ]
    },
    {
     "name": "stdout",
     "output_type": "stream",
     "text": [
      "Exception at row 5350\n",
      "'NoneType' object has no attribute 'find'\n"
     ]
    },
    {
     "name": "stderr",
     "output_type": "stream",
     "text": [
      "Processing row 5402:  99%|█████████▉| 5402/5456 [2:00:52<02:05,  2.32s/it]"
     ]
    },
    {
     "name": "stdout",
     "output_type": "stream",
     "text": [
      "Exception at row 5401\n",
      "'NoneType' object has no attribute 'find'\n"
     ]
    },
    {
     "name": "stderr",
     "output_type": "stream",
     "text": [
      "Processing row 5403:  99%|█████████▉| 5403/5456 [2:00:54<02:00,  2.27s/it]"
     ]
    },
    {
     "name": "stdout",
     "output_type": "stream",
     "text": [
      "Exception at row 5402\n",
      "'NoneType' object has no attribute 'find'\n"
     ]
    },
    {
     "name": "stderr",
     "output_type": "stream",
     "text": [
      "Processing row 5354:  98%|█████████▊| 5354/5455 [2:00:57<04:20,  2.58s/it]"
     ]
    },
    {
     "name": "stdout",
     "output_type": "stream",
     "text": [
      "Exception at row 5353\n",
      "'NoneType' object has no attribute 'find'\n"
     ]
    },
    {
     "name": "stderr",
     "output_type": "stream",
     "text": [
      "Processing row 5355:  98%|█████████▊| 5355/5455 [2:00:59<04:06,  2.47s/it]"
     ]
    },
    {
     "name": "stdout",
     "output_type": "stream",
     "text": [
      "Exception at row 5354\n",
      "'NoneType' object has no attribute 'find'\n"
     ]
    },
    {
     "name": "stderr",
     "output_type": "stream",
     "text": [
      "Processing row 5404:  99%|█████████▉| 5404/5456 [2:00:59<02:41,  3.10s/it]"
     ]
    },
    {
     "name": "stdout",
     "output_type": "stream",
     "text": [
      "Exception at row 5403\n",
      "'NoneType' object has no attribute 'find'\n"
     ]
    },
    {
     "name": "stderr",
     "output_type": "stream",
     "text": [
      "Processing row 5356:  98%|█████████▊| 5356/5455 [2:01:02<04:29,  2.72s/it]"
     ]
    },
    {
     "name": "stdout",
     "output_type": "stream",
     "text": [
      "Exception at row 5355\n",
      "'NoneType' object has no attribute 'find'\n"
     ]
    },
    {
     "name": "stderr",
     "output_type": "stream",
     "text": [
      "Processing row 5406:  99%|█████████▉| 5406/5456 [2:01:03<02:04,  2.50s/it]"
     ]
    },
    {
     "name": "stdout",
     "output_type": "stream",
     "text": [
      "Exception at row 5405\n",
      "'NoneType' object has no attribute 'find'\n"
     ]
    },
    {
     "name": "stderr",
     "output_type": "stream",
     "text": [
      "Processing row 5357:  98%|█████████▊| 5357/5455 [2:01:04<04:16,  2.62s/it]"
     ]
    },
    {
     "name": "stdout",
     "output_type": "stream",
     "text": [
      "Exception at row 5356\n",
      "'NoneType' object has no attribute 'find'\n"
     ]
    },
    {
     "name": "stderr",
     "output_type": "stream",
     "text": [
      "Processing row 5358:  98%|█████████▊| 5358/5455 [2:01:07<04:07,  2.55s/it]"
     ]
    },
    {
     "name": "stdout",
     "output_type": "stream",
     "text": [
      "Exception at row 5357\n",
      "'NoneType' object has no attribute 'find'\n"
     ]
    },
    {
     "name": "stderr",
     "output_type": "stream",
     "text": [
      "Processing row 5408:  99%|█████████▉| 5408/5456 [2:01:07<01:50,  2.31s/it]"
     ]
    },
    {
     "name": "stdout",
     "output_type": "stream",
     "text": [
      "Exception at row 5407\n",
      "'NoneType' object has no attribute 'find'\n"
     ]
    },
    {
     "name": "stderr",
     "output_type": "stream",
     "text": [
      "Processing row 5360:  98%|█████████▊| 5359/5455 [2:01:09<03:59,  2.50s/it]"
     ]
    },
    {
     "name": "stdout",
     "output_type": "stream",
     "text": [
      "Exception at row 5358\n",
      "'NoneType' object has no attribute 'find'\n"
     ]
    },
    {
     "name": "stderr",
     "output_type": "stream",
     "text": [
      "Processing row 5361:  98%|█████████▊| 5361/5455 [2:01:11<03:14,  2.07s/it]"
     ]
    },
    {
     "name": "stdout",
     "output_type": "stream",
     "text": [
      "Exception at row 5360\n",
      "'NoneType' object has no attribute 'find'\n"
     ]
    },
    {
     "name": "stderr",
     "output_type": "stream",
     "text": [
      "Processing row 5409:  99%|█████████▉| 5409/5456 [2:01:12<02:17,  2.91s/it]"
     ]
    },
    {
     "name": "stdout",
     "output_type": "stream",
     "text": [
      "Exception at row 5408\n",
      "'NoneType' object has no attribute 'find'\n"
     ]
    },
    {
     "name": "stderr",
     "output_type": "stream",
     "text": [
      "Processing row 5362:  98%|█████████▊| 5362/5455 [2:01:14<03:20,  2.15s/it]"
     ]
    },
    {
     "name": "stdout",
     "output_type": "stream",
     "text": [
      "Exception at row 5361\n",
      "'NoneType' object has no attribute 'find'\n"
     ]
    },
    {
     "name": "stderr",
     "output_type": "stream",
     "text": [
      "Processing row 5364:  98%|█████████▊| 5363/5455 [2:01:17<03:50,  2.51s/it]"
     ]
    },
    {
     "name": "stdout",
     "output_type": "stream",
     "text": [
      "Exception at row 5362\n",
      "'NoneType' object has no attribute 'find'\n"
     ]
    },
    {
     "name": "stderr",
     "output_type": "stream",
     "text": [
      "Processing row 5365:  98%|█████████▊| 5365/5455 [2:01:18<02:55,  1.95s/it]"
     ]
    },
    {
     "name": "stdout",
     "output_type": "stream",
     "text": [
      "Exception at row 5364\n",
      "'NoneType' object has no attribute 'find'\n"
     ]
    },
    {
     "name": "stderr",
     "output_type": "stream",
     "text": [
      "Processing row 5413:  99%|█████████▉| 5413/5456 [2:01:22<01:57,  2.73s/it]"
     ]
    },
    {
     "name": "stdout",
     "output_type": "stream",
     "text": [
      "Exception at row 5412\n",
      "'NoneType' object has no attribute 'find'\n"
     ]
    },
    {
     "name": "stderr",
     "output_type": "stream",
     "text": [
      "Processing row 5367:  98%|█████████▊| 5367/5455 [2:01:22<02:51,  1.95s/it]"
     ]
    },
    {
     "name": "stdout",
     "output_type": "stream",
     "text": [
      "Exception at row 5366\n",
      "'NoneType' object has no attribute 'find'\n"
     ]
    },
    {
     "name": "stderr",
     "output_type": "stream",
     "text": [
      "Processing row 5416:  99%|█████████▉| 5416/5456 [2:01:28<01:39,  2.48s/it]"
     ]
    },
    {
     "name": "stdout",
     "output_type": "stream",
     "text": [
      "Exception at row 5415\n",
      "'NoneType' object has no attribute 'find'\n"
     ]
    },
    {
     "name": "stderr",
     "output_type": "stream",
     "text": [
      "Processing row 5371:  98%|█████████▊| 5371/5455 [2:01:31<02:46,  1.98s/it]"
     ]
    },
    {
     "name": "stdout",
     "output_type": "stream",
     "text": [
      "Exception at row 5370\n",
      "'NoneType' object has no attribute 'find'\n"
     ]
    },
    {
     "name": "stderr",
     "output_type": "stream",
     "text": [
      "Processing row 5417:  99%|█████████▉| 5417/5456 [2:01:31<01:43,  2.66s/it]"
     ]
    },
    {
     "name": "stdout",
     "output_type": "stream",
     "text": [
      "Exception at row 5416\n",
      "'NoneType' object has no attribute 'find'\n"
     ]
    },
    {
     "name": "stderr",
     "output_type": "stream",
     "text": [
      "Processing row 5418:  99%|█████████▉| 5418/5456 [2:01:35<01:53,  2.99s/it]"
     ]
    },
    {
     "name": "stdout",
     "output_type": "stream",
     "text": [
      "Exception at row 5417\n",
      "'NoneType' object has no attribute 'find'\n"
     ]
    },
    {
     "name": "stderr",
     "output_type": "stream",
     "text": [
      "Processing row 5372:  98%|█████████▊| 5372/5455 [2:01:36<03:52,  2.81s/it]"
     ]
    },
    {
     "name": "stdout",
     "output_type": "stream",
     "text": [
      "Exception at row 5371\n",
      "'NoneType' object has no attribute 'find'\n"
     ]
    },
    {
     "name": "stderr",
     "output_type": "stream",
     "text": [
      "Processing row 5373:  98%|█████████▊| 5373/5455 [2:01:37<03:16,  2.39s/it]"
     ]
    },
    {
     "name": "stdout",
     "output_type": "stream",
     "text": [
      "Exception at row 5372\n",
      "'NoneType' object has no attribute 'find'\n"
     ]
    },
    {
     "name": "stderr",
     "output_type": "stream",
     "text": [
      "Processing row 5374:  99%|█████████▊| 5374/5455 [2:01:39<03:02,  2.25s/it]"
     ]
    },
    {
     "name": "stdout",
     "output_type": "stream",
     "text": [
      "Exception at row 5373\n",
      "'NoneType' object has no attribute 'find'\n"
     ]
    },
    {
     "name": "stderr",
     "output_type": "stream",
     "text": [
      "Processing row 5422:  99%|█████████▉| 5422/5456 [2:01:40<00:57,  1.70s/it]"
     ]
    },
    {
     "name": "stdout",
     "output_type": "stream",
     "text": [
      "Exception at row 5421\n",
      "'NoneType' object has no attribute 'find'\n"
     ]
    },
    {
     "name": "stderr",
     "output_type": "stream",
     "text": [
      "Processing row 5376:  99%|█████████▊| 5376/5455 [2:01:41<02:05,  1.58s/it]"
     ]
    },
    {
     "name": "stdout",
     "output_type": "stream",
     "text": [
      "Exception at row 5375\n",
      "'NoneType' object has no attribute 'find'\n"
     ]
    },
    {
     "name": "stderr",
     "output_type": "stream",
     "text": [
      "Processing row 5377:  99%|█████████▊| 5377/5455 [2:01:43<02:23,  1.83s/it]"
     ]
    },
    {
     "name": "stdout",
     "output_type": "stream",
     "text": [
      "Exception at row 5423Exception at row 5376\n",
      "\n",
      "'NoneType' object has no attribute 'find'\n",
      "'NoneType' object has no attribute 'find'\n"
     ]
    },
    {
     "name": "stderr",
     "output_type": "stream",
     "text": [
      "Processing row 5427:  99%|█████████▉| 5427/5456 [2:01:48<00:43,  1.51s/it]"
     ]
    },
    {
     "name": "stdout",
     "output_type": "stream",
     "text": [
      "Exception at row 5426\n",
      "'NoneType' object has no attribute 'find'\n"
     ]
    },
    {
     "name": "stderr",
     "output_type": "stream",
     "text": [
      "Processing row 5379:  99%|█████████▊| 5379/5455 [2:01:48<02:41,  2.13s/it]"
     ]
    },
    {
     "name": "stdout",
     "output_type": "stream",
     "text": [
      "Exception at row 5378\n",
      "'NoneType' object has no attribute 'find'\n"
     ]
    },
    {
     "name": "stderr",
     "output_type": "stream",
     "text": [
      "Processing row 5428:  99%|█████████▉| 5428/5456 [2:01:49<00:36,  1.30s/it]"
     ]
    },
    {
     "name": "stdout",
     "output_type": "stream",
     "text": [
      "Exception at row 5427\n",
      "'NoneType' object has no attribute 'find'\n"
     ]
    },
    {
     "name": "stderr",
     "output_type": "stream",
     "text": [
      "Processing row 5380:  99%|█████████▊| 5380/5455 [2:01:50<02:35,  2.07s/it]"
     ]
    },
    {
     "name": "stdout",
     "output_type": "stream",
     "text": [
      "Exception at row 5379\n",
      "'NoneType' object has no attribute 'find'\n"
     ]
    },
    {
     "name": "stderr",
     "output_type": "stream",
     "text": [
      "Processing row 5381:  99%|█████████▊| 5381/5455 [2:01:52<02:19,  1.89s/it]"
     ]
    },
    {
     "name": "stdout",
     "output_type": "stream",
     "text": [
      "Exception at row 5380\n",
      "'NoneType' object has no attribute 'find'\n"
     ]
    },
    {
     "name": "stderr",
     "output_type": "stream",
     "text": [
      "Processing row 5433: 100%|█████████▉| 5433/5456 [2:01:54<00:28,  1.25s/it]"
     ]
    },
    {
     "name": "stdout",
     "output_type": "stream",
     "text": [
      "Exception at row 5381\n",
      "'NoneType' object has no attribute 'find'\n"
     ]
    },
    {
     "name": "stderr",
     "output_type": "stream",
     "text": [
      "Processing row 5386:  99%|█████████▊| 5386/5455 [2:01:57<01:36,  1.40s/it]"
     ]
    },
    {
     "name": "stdout",
     "output_type": "stream",
     "text": [
      "Exception at row 5385\n",
      "'NoneType' object has no attribute 'find'\n"
     ]
    },
    {
     "name": "stderr",
     "output_type": "stream",
     "text": [
      "Processing row 5387:  99%|█████████▉| 5387/5455 [2:01:59<01:42,  1.51s/it]"
     ]
    },
    {
     "name": "stdout",
     "output_type": "stream",
     "text": [
      "Exception at row 5386\n",
      "'NoneType' object has no attribute 'find'\n"
     ]
    },
    {
     "name": "stderr",
     "output_type": "stream",
     "text": [
      "Processing row 5437: 100%|█████████▉| 5437/5456 [2:02:00<00:25,  1.33s/it]"
     ]
    },
    {
     "name": "stdout",
     "output_type": "stream",
     "text": [
      "Exception at row 5436\n",
      "'NoneType' object has no attribute 'find'\n"
     ]
    },
    {
     "name": "stderr",
     "output_type": "stream",
     "text": [
      "Processing row 5388:  99%|█████████▉| 5388/5455 [2:02:00<01:30,  1.35s/it]"
     ]
    },
    {
     "name": "stdout",
     "output_type": "stream",
     "text": [
      "Exception at row 5387\n",
      "'NoneType' object has no attribute 'find'\n"
     ]
    },
    {
     "name": "stderr",
     "output_type": "stream",
     "text": [
      "Processing row 5438: 100%|█████████▉| 5438/5456 [2:02:00<00:21,  1.17s/it]"
     ]
    },
    {
     "name": "stdout",
     "output_type": "stream",
     "text": [
      "Exception at row 5437\n",
      "'NoneType' object has no attribute 'find'\n"
     ]
    },
    {
     "name": "stderr",
     "output_type": "stream",
     "text": [
      "Processing row 5439: 100%|█████████▉| 5439/5456 [2:02:03<00:24,  1.47s/it]"
     ]
    },
    {
     "name": "stdout",
     "output_type": "stream",
     "text": [
      "Exception at row 5438\n",
      "'NoneType' object has no attribute 'find'\n"
     ]
    },
    {
     "name": "stderr",
     "output_type": "stream",
     "text": [
      "Processing row 5391:  99%|█████████▉| 5391/5455 [2:02:05<01:48,  1.70s/it]"
     ]
    },
    {
     "name": "stdout",
     "output_type": "stream",
     "text": [
      "Exception at row 5390\n",
      "'NoneType' object has no attribute 'find'\n"
     ]
    },
    {
     "name": "stderr",
     "output_type": "stream",
     "text": [
      "Processing row 5392:  99%|█████████▉| 5392/5455 [2:02:07<01:53,  1.81s/it]"
     ]
    },
    {
     "name": "stdout",
     "output_type": "stream",
     "text": [
      "Exception at row 5391\n",
      "'NoneType' object has no attribute 'find'\n"
     ]
    },
    {
     "name": "stderr",
     "output_type": "stream",
     "text": [
      "Processing row 5444: 100%|█████████▉| 5444/5456 [2:02:10<00:18,  1.57s/it]"
     ]
    },
    {
     "name": "stdout",
     "output_type": "stream",
     "text": [
      "Exception at row 5443\n",
      "'NoneType' object has no attribute 'find'\n"
     ]
    },
    {
     "name": "stderr",
     "output_type": "stream",
     "text": [
      "Processing row 5393:  99%|█████████▉| 5393/5455 [2:02:12<02:43,  2.64s/it]"
     ]
    },
    {
     "name": "stdout",
     "output_type": "stream",
     "text": [
      "Exception at row 5392\n",
      "'NoneType' object has no attribute 'find'\n"
     ]
    },
    {
     "name": "stderr",
     "output_type": "stream",
     "text": [
      "Processing row 5446: 100%|█████████▉| 5446/5456 [2:02:12<00:14,  1.50s/it]"
     ]
    },
    {
     "name": "stdout",
     "output_type": "stream",
     "text": [
      "Exception at row 5445\n",
      "'NoneType' object has no attribute 'find'\n"
     ]
    },
    {
     "name": "stderr",
     "output_type": "stream",
     "text": [
      "Processing row 5395:  99%|█████████▉| 5395/5455 [2:02:15<02:08,  2.13s/it]"
     ]
    },
    {
     "name": "stdout",
     "output_type": "stream",
     "text": [
      "Exception at row 5394\n",
      "'NoneType' object has no attribute 'find'\n"
     ]
    },
    {
     "name": "stderr",
     "output_type": "stream",
     "text": [
      "Processing row 5396:  99%|█████████▉| 5396/5455 [2:02:17<02:03,  2.09s/it]"
     ]
    },
    {
     "name": "stdout",
     "output_type": "stream",
     "text": [
      "Exception at row 5395\n",
      "'NoneType' object has no attribute 'find'\n"
     ]
    },
    {
     "name": "stderr",
     "output_type": "stream",
     "text": [
      "Processing row 5400:  99%|█████████▉| 5400/5455 [2:02:20<01:10,  1.29s/it]"
     ]
    },
    {
     "name": "stdout",
     "output_type": "stream",
     "text": [
      "Exception at row 5399\n",
      "'NoneType' object has no attribute 'find'\n"
     ]
    },
    {
     "name": "stderr",
     "output_type": "stream",
     "text": [
      "Processing row 5452: 100%|█████████▉| 5452/5456 [2:02:21<00:06,  1.70s/it]"
     ]
    },
    {
     "name": "stdout",
     "output_type": "stream",
     "text": [
      "Exception at row 5451\n",
      "'NoneType' object has no attribute 'find'\n"
     ]
    },
    {
     "name": "stderr",
     "output_type": "stream",
     "text": [
      "Processing row 5405:  99%|█████████▉| 5405/5455 [2:02:26<01:14,  1.49s/it]"
     ]
    },
    {
     "name": "stdout",
     "output_type": "stream",
     "text": [
      "Exception at row 5454\n",
      "'NoneType' object has no attribute 'find'\n"
     ]
    },
    {
     "name": "stderr",
     "output_type": "stream",
     "text": [
      "Processing row 5455: 100%|██████████| 5456/5456 [2:02:28<00:00,  1.35s/it]\n",
      "Processing row 5408:  99%|█████████▉| 5408/5455 [2:02:32<01:19,  1.69s/it]"
     ]
    },
    {
     "name": "stdout",
     "output_type": "stream",
     "text": [
      "Exception at row 5407\n",
      "'NoneType' object has no attribute 'find'\n"
     ]
    },
    {
     "name": "stderr",
     "output_type": "stream",
     "text": [
      "Processing row 5409:  99%|█████████▉| 5409/5455 [2:02:34<01:18,  1.70s/it]"
     ]
    },
    {
     "name": "stdout",
     "output_type": "stream",
     "text": [
      "Exception at row 5408\n",
      "'NoneType' object has no attribute 'find'\n"
     ]
    },
    {
     "name": "stderr",
     "output_type": "stream",
     "text": [
      "Processing row 5411:  99%|█████████▉| 5411/5455 [2:02:38<01:19,  1.82s/it]"
     ]
    },
    {
     "name": "stdout",
     "output_type": "stream",
     "text": [
      "Exception at row 5410\n",
      "'NoneType' object has no attribute 'find'\n"
     ]
    },
    {
     "name": "stderr",
     "output_type": "stream",
     "text": [
      "Processing row 5413:  99%|█████████▉| 5413/5455 [2:02:41<01:15,  1.81s/it]"
     ]
    },
    {
     "name": "stdout",
     "output_type": "stream",
     "text": [
      "Exception at row 5412\n",
      "'NoneType' object has no attribute 'find'\n"
     ]
    },
    {
     "name": "stderr",
     "output_type": "stream",
     "text": [
      "Processing row 5417:  99%|█████████▉| 5417/5455 [2:02:47<01:10,  1.85s/it]"
     ]
    },
    {
     "name": "stdout",
     "output_type": "stream",
     "text": [
      "Exception at row 5416\n",
      "'NoneType' object has no attribute 'find'\n"
     ]
    },
    {
     "name": "stderr",
     "output_type": "stream",
     "text": [
      "Processing row 5419:  99%|█████████▉| 5419/5455 [2:02:54<01:32,  2.58s/it]"
     ]
    },
    {
     "name": "stdout",
     "output_type": "stream",
     "text": [
      "Exception at row 5418\n",
      "'NoneType' object has no attribute 'find'\n"
     ]
    },
    {
     "name": "stderr",
     "output_type": "stream",
     "text": [
      "Processing row 5421:  99%|█████████▉| 5420/5455 [2:02:57<01:35,  2.73s/it]"
     ]
    },
    {
     "name": "stdout",
     "output_type": "stream",
     "text": [
      "Exception at row 5419\n",
      "'NoneType' object has no attribute 'find'\n"
     ]
    },
    {
     "name": "stderr",
     "output_type": "stream",
     "text": [
      "Processing row 5422:  99%|█████████▉| 5422/5455 [2:02:59<01:13,  2.24s/it]"
     ]
    },
    {
     "name": "stdout",
     "output_type": "stream",
     "text": [
      "Exception at row 5421\n",
      "'NoneType' object has no attribute 'find'\n"
     ]
    },
    {
     "name": "stderr",
     "output_type": "stream",
     "text": [
      "Processing row 5425:  99%|█████████▉| 5424/5455 [2:03:04<01:11,  2.31s/it]"
     ]
    },
    {
     "name": "stdout",
     "output_type": "stream",
     "text": [
      "Exception at row 5423\n",
      "'NoneType' object has no attribute 'find'\n"
     ]
    },
    {
     "name": "stderr",
     "output_type": "stream",
     "text": [
      "Processing row 5427:  99%|█████████▉| 5427/5455 [2:03:08<00:50,  1.81s/it]"
     ]
    },
    {
     "name": "stdout",
     "output_type": "stream",
     "text": [
      "Exception at row 5426\n",
      "'NoneType' object has no attribute 'find'\n"
     ]
    },
    {
     "name": "stderr",
     "output_type": "stream",
     "text": [
      "Processing row 5429: 100%|█████████▉| 5429/5455 [2:03:14<01:09,  2.68s/it]"
     ]
    },
    {
     "name": "stdout",
     "output_type": "stream",
     "text": [
      "Exception at row 5428\n",
      "'NoneType' object has no attribute 'find'\n"
     ]
    },
    {
     "name": "stderr",
     "output_type": "stream",
     "text": [
      "Processing row 5431: 100%|█████████▉| 5431/5455 [2:03:20<01:07,  2.80s/it]"
     ]
    },
    {
     "name": "stdout",
     "output_type": "stream",
     "text": [
      "Exception at row 5430\n",
      "'NoneType' object has no attribute 'find'\n"
     ]
    },
    {
     "name": "stderr",
     "output_type": "stream",
     "text": [
      "Processing row 5432: 100%|█████████▉| 5432/5455 [2:03:23<01:05,  2.86s/it]"
     ]
    },
    {
     "name": "stdout",
     "output_type": "stream",
     "text": [
      "Exception at row 5431\n",
      "'NoneType' object has no attribute 'find'\n"
     ]
    },
    {
     "name": "stderr",
     "output_type": "stream",
     "text": [
      "Processing row 5433: 100%|█████████▉| 5433/5455 [2:03:26<01:04,  2.93s/it]"
     ]
    },
    {
     "name": "stdout",
     "output_type": "stream",
     "text": [
      "Exception at row 5432\n",
      "'NoneType' object has no attribute 'find'\n"
     ]
    },
    {
     "name": "stderr",
     "output_type": "stream",
     "text": [
      "Processing row 5434: 100%|█████████▉| 5434/5455 [2:03:28<00:56,  2.71s/it]"
     ]
    },
    {
     "name": "stdout",
     "output_type": "stream",
     "text": [
      "Exception at row 5433\n",
      "'NoneType' object has no attribute 'find'\n"
     ]
    },
    {
     "name": "stderr",
     "output_type": "stream",
     "text": [
      "Processing row 5435: 100%|█████████▉| 5435/5455 [2:03:31<00:53,  2.66s/it]"
     ]
    },
    {
     "name": "stdout",
     "output_type": "stream",
     "text": [
      "Exception at row 5434\n",
      "'NoneType' object has no attribute 'find'\n"
     ]
    },
    {
     "name": "stderr",
     "output_type": "stream",
     "text": [
      "Processing row 5439: 100%|█████████▉| 5436/5455 [2:03:34<00:55,  2.92s/it]"
     ]
    },
    {
     "name": "stdout",
     "output_type": "stream",
     "text": [
      "Exception at row 5435\n",
      "'NoneType' object has no attribute 'find'\n"
     ]
    },
    {
     "name": "stderr",
     "output_type": "stream",
     "text": [
      "Processing row 5440: 100%|█████████▉| 5440/5455 [2:03:35<00:31,  2.13s/it]"
     ]
    },
    {
     "name": "stdout",
     "output_type": "stream",
     "text": [
      "Exception at row 5439\n",
      "'NoneType' object has no attribute 'find'\n"
     ]
    },
    {
     "name": "stderr",
     "output_type": "stream",
     "text": [
      "Processing row 5441: 100%|█████████▉| 5441/5455 [2:03:36<00:25,  1.80s/it]"
     ]
    },
    {
     "name": "stdout",
     "output_type": "stream",
     "text": [
      "Exception at row 5440\n",
      "'NoneType' object has no attribute 'find'\n"
     ]
    },
    {
     "name": "stderr",
     "output_type": "stream",
     "text": [
      "Processing row 5443: 100%|█████████▉| 5442/5455 [2:03:38<00:20,  1.59s/it]"
     ]
    },
    {
     "name": "stdout",
     "output_type": "stream",
     "text": [
      "Exception at row 5441\n",
      "'NoneType' object has no attribute 'find'\n"
     ]
    },
    {
     "name": "stderr",
     "output_type": "stream",
     "text": [
      "Processing row 5447: 100%|█████████▉| 5445/5455 [2:03:41<00:15,  1.60s/it]"
     ]
    },
    {
     "name": "stdout",
     "output_type": "stream",
     "text": [
      "Exception at row 5444\n",
      "'NoneType' object has no attribute 'find'\n"
     ]
    },
    {
     "name": "stderr",
     "output_type": "stream",
     "text": [
      "Processing row 5448: 100%|█████████▉| 5448/5455 [2:03:43<00:09,  1.29s/it]"
     ]
    },
    {
     "name": "stdout",
     "output_type": "stream",
     "text": [
      "Exception at row 5447\n",
      "'NoneType' object has no attribute 'find'\n"
     ]
    },
    {
     "name": "stderr",
     "output_type": "stream",
     "text": [
      "Processing row 5449: 100%|█████████▉| 5449/5455 [2:03:43<00:07,  1.17s/it]"
     ]
    },
    {
     "name": "stdout",
     "output_type": "stream",
     "text": [
      "Exception at row 5448\n",
      "'NoneType' object has no attribute 'find'\n"
     ]
    },
    {
     "name": "stderr",
     "output_type": "stream",
     "text": [
      "Processing row 5450: 100%|█████████▉| 5450/5455 [2:03:45<00:06,  1.21s/it]"
     ]
    },
    {
     "name": "stdout",
     "output_type": "stream",
     "text": [
      "Exception at row 5449\n",
      "'NoneType' object has no attribute 'find'\n"
     ]
    },
    {
     "name": "stderr",
     "output_type": "stream",
     "text": [
      "Processing row 5451: 100%|█████████▉| 5451/5455 [2:03:47<00:05,  1.49s/it]"
     ]
    },
    {
     "name": "stdout",
     "output_type": "stream",
     "text": [
      "Exception at row 5450\n",
      "'NoneType' object has no attribute 'find'\n"
     ]
    },
    {
     "name": "stderr",
     "output_type": "stream",
     "text": [
      "Processing row 5452: 100%|█████████▉| 5452/5455 [2:03:48<00:03,  1.30s/it]"
     ]
    },
    {
     "name": "stdout",
     "output_type": "stream",
     "text": [
      "Exception at row 5451\n",
      "'NoneType' object has no attribute 'find'\n"
     ]
    },
    {
     "name": "stderr",
     "output_type": "stream",
     "text": [
      "Processing row 5453: 100%|█████████▉| 5453/5455 [2:03:49<00:02,  1.42s/it]"
     ]
    },
    {
     "name": "stdout",
     "output_type": "stream",
     "text": [
      "Exception at row 5452\n",
      "'NoneType' object has no attribute 'find'\n"
     ]
    },
    {
     "name": "stderr",
     "output_type": "stream",
     "text": [
      "Processing row 5454: 100%|█████████▉| 5454/5455 [2:03:51<00:01,  1.57s/it]"
     ]
    },
    {
     "name": "stdout",
     "output_type": "stream",
     "text": [
      "Exception at row 5453\n",
      "'NoneType' object has no attribute 'find'\n"
     ]
    },
    {
     "name": "stderr",
     "output_type": "stream",
     "text": [
      "Processing row 5454: 100%|██████████| 5455/5455 [2:03:52<00:00,  1.36s/it]"
     ]
    },
    {
     "name": "stdout",
     "output_type": "stream",
     "text": [
      "Exception at row 5454\n",
      "'NoneType' object has no attribute 'find'\n"
     ]
    },
    {
     "name": "stderr",
     "output_type": "stream",
     "text": [
      "\n"
     ]
    }
   ],
   "source": [
    "removeBrackets(\"Citizen Gangster (2011)\")"
   ]
  },
  {
   "cell_type": "code",
   "execution_count": null,
   "metadata": {},
   "outputs": [],
   "source": []
  }
 ],
 "metadata": {
  "kernelspec": {
   "display_name": "Python 3",
   "language": "python",
   "name": "python3"
  },
  "language_info": {
   "codemirror_mode": {
    "name": "ipython",
    "version": 3
   },
   "file_extension": ".py",
   "mimetype": "text/x-python",
   "name": "python",
   "nbconvert_exporter": "python",
   "pygments_lexer": "ipython3",
   "version": "3.8.5"
  }
 },
 "nbformat": 4,
 "nbformat_minor": 5
}
